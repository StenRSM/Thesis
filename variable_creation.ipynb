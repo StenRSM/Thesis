{
 "cells": [
  {
   "cell_type": "markdown",
   "metadata": {},
   "source": [
    "## Creation of the variables used in the classification"
   ]
  },
  {
   "cell_type": "code",
   "execution_count": 1,
   "metadata": {},
   "outputs": [],
   "source": [
    "import pandas as pd"
   ]
  },
  {
   "cell_type": "code",
   "execution_count": 2,
   "metadata": {},
   "outputs": [],
   "source": [
    "data_pan15_train = pd.read_csv(r'C:\\Users\\Sten\\Documents\\EUR BIM\\thesis\\data\\data\\raw_data\\PAN_15_training.csv')"
   ]
  },
  {
   "cell_type": "code",
   "execution_count": 3,
   "metadata": {},
   "outputs": [],
   "source": [
    "data_pan15_test = pd.read_csv(r'C:\\Users\\Sten\\Documents\\EUR BIM\\thesis\\data\\data\\raw_data\\PAN_15_test.csv')"
   ]
  },
  {
   "cell_type": "code",
   "execution_count": 2,
   "metadata": {},
   "outputs": [],
   "source": [
    "data_pan17_train = pd.read_csv(r'C:\\Users\\Sten\\Documents\\EUR BIM\\thesis\\data\\data\\raw_data\\PAN_17_training.csv')"
   ]
  },
  {
   "cell_type": "code",
   "execution_count": 3,
   "metadata": {},
   "outputs": [],
   "source": [
    "data_pan17_test = pd.read_csv(r'C:\\Users\\Sten\\Documents\\EUR BIM\\thesis\\data\\data\\raw_data\\PAN_17_test.csv')"
   ]
  },
  {
   "cell_type": "code",
   "execution_count": 6,
   "metadata": {},
   "outputs": [
    {
     "ename": "NameError",
     "evalue": "name 'data_pan17_train' is not defined",
     "output_type": "error",
     "traceback": [
      "\u001b[1;31m---------------------------------------------------------------------------\u001b[0m",
      "\u001b[1;31mNameError\u001b[0m                                 Traceback (most recent call last)",
      "Cell \u001b[1;32mIn[6], line 1\u001b[0m\n\u001b[1;32m----> 1\u001b[0m combined_pan17_train \u001b[38;5;241m=\u001b[39m \u001b[43mdata_pan17_train\u001b[49m\u001b[38;5;241m.\u001b[39mgroupby(\u001b[38;5;124m'\u001b[39m\u001b[38;5;124mauthor\u001b[39m\u001b[38;5;124m'\u001b[39m)\u001b[38;5;241m.\u001b[39magg({\n\u001b[0;32m      2\u001b[0m     \u001b[38;5;124m'\u001b[39m\u001b[38;5;124mtext\u001b[39m\u001b[38;5;124m'\u001b[39m: \u001b[38;5;124m'\u001b[39m\u001b[38;5;124m \u001b[39m\u001b[38;5;124m'\u001b[39m\u001b[38;5;241m.\u001b[39mjoin,\n\u001b[0;32m      3\u001b[0m     \u001b[38;5;124m'\u001b[39m\u001b[38;5;124mgender\u001b[39m\u001b[38;5;124m'\u001b[39m: \u001b[38;5;124m'\u001b[39m\u001b[38;5;124mfirst\u001b[39m\u001b[38;5;124m'\u001b[39m,\n\u001b[0;32m      4\u001b[0m     \u001b[38;5;124m'\u001b[39m\u001b[38;5;124mage\u001b[39m\u001b[38;5;124m'\u001b[39m: \u001b[38;5;124m'\u001b[39m\u001b[38;5;124mfirst\u001b[39m\u001b[38;5;124m'\u001b[39m\n\u001b[0;32m      5\u001b[0m })\u001b[38;5;241m.\u001b[39mreset_index()\n\u001b[0;32m      6\u001b[0m combined_pan17_test \u001b[38;5;241m=\u001b[39m data_pan17_test\u001b[38;5;241m.\u001b[39mgroupby(\u001b[38;5;124m'\u001b[39m\u001b[38;5;124mauthor\u001b[39m\u001b[38;5;124m'\u001b[39m)\u001b[38;5;241m.\u001b[39magg({\n\u001b[0;32m      7\u001b[0m     \u001b[38;5;124m'\u001b[39m\u001b[38;5;124mtext\u001b[39m\u001b[38;5;124m'\u001b[39m: \u001b[38;5;124m'\u001b[39m\u001b[38;5;124m \u001b[39m\u001b[38;5;124m'\u001b[39m\u001b[38;5;241m.\u001b[39mjoin,\n\u001b[0;32m      8\u001b[0m     \u001b[38;5;124m'\u001b[39m\u001b[38;5;124mgender\u001b[39m\u001b[38;5;124m'\u001b[39m: \u001b[38;5;124m'\u001b[39m\u001b[38;5;124mfirst\u001b[39m\u001b[38;5;124m'\u001b[39m,\n\u001b[0;32m      9\u001b[0m     \u001b[38;5;124m'\u001b[39m\u001b[38;5;124mage\u001b[39m\u001b[38;5;124m'\u001b[39m: \u001b[38;5;124m'\u001b[39m\u001b[38;5;124mfirst\u001b[39m\u001b[38;5;124m'\u001b[39m\n\u001b[0;32m     10\u001b[0m })\u001b[38;5;241m.\u001b[39mreset_index()\n",
      "\u001b[1;31mNameError\u001b[0m: name 'data_pan17_train' is not defined"
     ]
    }
   ],
   "source": [
    "combined_pan17_train = data_pan17_train.groupby('author').agg({\n",
    "    'text': ' '.join,\n",
    "    'gender': 'first'\n",
    "}).reset_index()\n",
    "combined_pan17_test = data_pan17_test.groupby('author').agg({\n",
    "    'text': ' '.join,\n",
    "    'gender': 'first'\n",
    "}).reset_index()"
   ]
  },
  {
   "cell_type": "code",
   "execution_count": 7,
   "metadata": {},
   "outputs": [],
   "source": [
    "combined_pan15_train = data_pan15_train.groupby('author').agg({\n",
    "    'text': ' '.join,\n",
    "    'gender': 'first',\n",
    "    'age': 'first'\n",
    "}).reset_index()\n",
    "combined_pan15_test = data_pan15_test.groupby('author').agg({\n",
    "    'text': ' '.join,\n",
    "    'gender': 'first',\n",
    "    'age': 'first'\n",
    "}).reset_index()"
   ]
  },
  {
   "cell_type": "code",
   "execution_count": 8,
   "metadata": {},
   "outputs": [
    {
     "data": {
      "text/html": [
       "<div>\n",
       "<style scoped>\n",
       "    .dataframe tbody tr th:only-of-type {\n",
       "        vertical-align: middle;\n",
       "    }\n",
       "\n",
       "    .dataframe tbody tr th {\n",
       "        vertical-align: top;\n",
       "    }\n",
       "\n",
       "    .dataframe thead th {\n",
       "        text-align: right;\n",
       "    }\n",
       "</style>\n",
       "<table border=\"1\" class=\"dataframe\">\n",
       "  <thead>\n",
       "    <tr style=\"text-align: right;\">\n",
       "      <th></th>\n",
       "      <th>author</th>\n",
       "      <th>text</th>\n",
       "      <th>gender</th>\n",
       "      <th>age</th>\n",
       "    </tr>\n",
       "  </thead>\n",
       "  <tbody>\n",
       "    <tr>\n",
       "      <th>0</th>\n",
       "      <td>02ae95de-7ee3-453a-978d-25d28b3f1a88</td>\n",
       "      <td>Things I want for my business cards but are to...</td>\n",
       "      <td>M</td>\n",
       "      <td>25-34</td>\n",
       "    </tr>\n",
       "    <tr>\n",
       "      <th>1</th>\n",
       "      <td>03f72f70-7a00-4dbb-93b7-6c7f65954fc5</td>\n",
       "      <td>\"If you fight for a cause then fight for a cau...</td>\n",
       "      <td>M</td>\n",
       "      <td>25-34</td>\n",
       "    </tr>\n",
       "    <tr>\n",
       "      <th>2</th>\n",
       "      <td>0aa7bace-924c-40fb-a2e5-3c7012ede244</td>\n",
       "      <td>@username that tweet was mainly for you ;-) ch...</td>\n",
       "      <td>M</td>\n",
       "      <td>35-49</td>\n",
       "    </tr>\n",
       "    <tr>\n",
       "      <th>3</th>\n",
       "      <td>0b66092a-440e-4755-a624-759a580a1c70</td>\n",
       "      <td>@username 'red' and 'blue' and then you wait t...</td>\n",
       "      <td>F</td>\n",
       "      <td>25-34</td>\n",
       "    </tr>\n",
       "    <tr>\n",
       "      <th>4</th>\n",
       "      <td>1094e809-1306-4cd1-8ac1-ebfdf7c872b8</td>\n",
       "      <td>I sit with a boy in english he became my frien...</td>\n",
       "      <td>F</td>\n",
       "      <td>18-24</td>\n",
       "    </tr>\n",
       "    <tr>\n",
       "      <th>...</th>\n",
       "      <td>...</td>\n",
       "      <td>...</td>\n",
       "      <td>...</td>\n",
       "      <td>...</td>\n",
       "    </tr>\n",
       "    <tr>\n",
       "      <th>147</th>\n",
       "      <td>f3af2ca2-dbfb-4447-a4f2-dfdfdda58640</td>\n",
       "      <td>@username what about Robin Ruiter?\\t\\t Thumbin...</td>\n",
       "      <td>M</td>\n",
       "      <td>18-24</td>\n",
       "    </tr>\n",
       "    <tr>\n",
       "      <th>148</th>\n",
       "      <td>f707b0c7-f11f-480c-b859-c38ecfa201e2</td>\n",
       "      <td>Glamour Moddel ???? had to be one lol\\t\\t Did ...</td>\n",
       "      <td>M</td>\n",
       "      <td>18-24</td>\n",
       "    </tr>\n",
       "    <tr>\n",
       "      <th>149</th>\n",
       "      <td>f7ea5331-febf-4ed4-9416-7353c898ad35</td>\n",
       "      <td>Just posted a photo http://t.co/96nT74JE\\t\\t I...</td>\n",
       "      <td>M</td>\n",
       "      <td>25-34</td>\n",
       "    </tr>\n",
       "    <tr>\n",
       "      <th>150</th>\n",
       "      <td>fd7c89ad-deb5-4445-99c5-bf4c698ee371</td>\n",
       "      <td>@username sactan ne haber?\\t\\t Aurora borealis...</td>\n",
       "      <td>F</td>\n",
       "      <td>18-24</td>\n",
       "    </tr>\n",
       "    <tr>\n",
       "      <th>151</th>\n",
       "      <td>fde8eb00-0444-4159-9b65-1ead60c2dc88</td>\n",
       "      <td>Scenario-Based Development Framework  Referenc...</td>\n",
       "      <td>F</td>\n",
       "      <td>25-34</td>\n",
       "    </tr>\n",
       "  </tbody>\n",
       "</table>\n",
       "<p>152 rows × 4 columns</p>\n",
       "</div>"
      ],
      "text/plain": [
       "                                   author  \\\n",
       "0    02ae95de-7ee3-453a-978d-25d28b3f1a88   \n",
       "1    03f72f70-7a00-4dbb-93b7-6c7f65954fc5   \n",
       "2    0aa7bace-924c-40fb-a2e5-3c7012ede244   \n",
       "3    0b66092a-440e-4755-a624-759a580a1c70   \n",
       "4    1094e809-1306-4cd1-8ac1-ebfdf7c872b8   \n",
       "..                                    ...   \n",
       "147  f3af2ca2-dbfb-4447-a4f2-dfdfdda58640   \n",
       "148  f707b0c7-f11f-480c-b859-c38ecfa201e2   \n",
       "149  f7ea5331-febf-4ed4-9416-7353c898ad35   \n",
       "150  fd7c89ad-deb5-4445-99c5-bf4c698ee371   \n",
       "151  fde8eb00-0444-4159-9b65-1ead60c2dc88   \n",
       "\n",
       "                                                  text gender    age  \n",
       "0    Things I want for my business cards but are to...      M  25-34  \n",
       "1    \"If you fight for a cause then fight for a cau...      M  25-34  \n",
       "2    @username that tweet was mainly for you ;-) ch...      M  35-49  \n",
       "3    @username 'red' and 'blue' and then you wait t...      F  25-34  \n",
       "4    I sit with a boy in english he became my frien...      F  18-24  \n",
       "..                                                 ...    ...    ...  \n",
       "147  @username what about Robin Ruiter?\\t\\t Thumbin...      M  18-24  \n",
       "148  Glamour Moddel ???? had to be one lol\\t\\t Did ...      M  18-24  \n",
       "149  Just posted a photo http://t.co/96nT74JE\\t\\t I...      M  25-34  \n",
       "150  @username sactan ne haber?\\t\\t Aurora borealis...      F  18-24  \n",
       "151  Scenario-Based Development Framework  Referenc...      F  25-34  \n",
       "\n",
       "[152 rows x 4 columns]"
      ]
     },
     "execution_count": 8,
     "metadata": {},
     "output_type": "execute_result"
    }
   ],
   "source": [
    "combined_pan15_train"
   ]
  },
  {
   "cell_type": "markdown",
   "metadata": {},
   "source": [
    "## Creating feature functions"
   ]
  },
  {
   "cell_type": "code",
   "execution_count": 9,
   "metadata": {},
   "outputs": [],
   "source": [
    "import re\n",
    "from nltk.probability import FreqDist\n",
    "import numpy as np\n",
    "import nltk\n",
    "from nltk.tokenize import sent_tokenize, word_tokenize\n",
    "import statistics\n",
    "\n",
    "\n",
    "# Character-based features\n",
    "def character_count(text):\n",
    "    return len(text)\n",
    "\n",
    "def alphabetic_ratio(text):\n",
    "    alphabetic = sum(c.isalpha() for c in text)\n",
    "    return alphabetic/len(text)\n",
    "\n",
    "def uppercase_ratio(text):\n",
    "    upper = sum(c.isupper() for c in text)\n",
    "    return upper/len(text)\n",
    "\n",
    "def digit_ratio(text):\n",
    "    digit = sum(c.isdigit() for c in text)\n",
    "    return digit/len(text)\n",
    "\n",
    "def whitespace_ratio(text):\n",
    "    whitespace = sum(c.isspace() for c in text)\n",
    "    return whitespace/len(text)\n",
    "\n",
    "def tab_ratio(text):\n",
    "    tabs = text.count('\\t')\n",
    "    return tabs/len(text)\n",
    "\n",
    "def letter_ratio(text, letter):\n",
    "    text = text.lower()\n",
    "    letter_count = text.count(letter)\n",
    "    return letter_count/len(text)\n",
    "\n",
    "def specialcharacter_ratio(text, character):\n",
    "    spec_count = text.count(character)\n",
    "    return spec_count/len(text)\n",
    "\n",
    "# Word-based features\n",
    "def number_words(text):\n",
    "    words = re.findall(r'\\b\\w+\\b', text)\n",
    "    return len(words)\n",
    "\n",
    "def word_length(text):\n",
    "    words = re.findall(r'\\b\\w+\\b', text)\n",
    "    num_words = len(words)\n",
    "    if num_words == 0:\n",
    "        return 0\n",
    "\n",
    "    total_length = sum(len(word) for word in words)\n",
    "    return total_length/num_words\n",
    "\n",
    "def vocabulary_richness(text):\n",
    "    words = re.findall(r'\\b\\w+\\b', text)\n",
    "    num_words = len(words)\n",
    "    if num_words == 0:\n",
    "        return 0\n",
    "    \n",
    "    num_uniq_words = len(set(words))\n",
    "    return num_uniq_words/num_words\n",
    "\n",
    "def long_words(text):\n",
    "    words = re.findall(r'\\b\\w+\\b', text)\n",
    "    long_words_list = [word for word in words if len(word) > 6]\n",
    "    return len(long_words_list)/len(words)\n",
    "\n",
    "def short_words(text):\n",
    "    words = re.findall(r'\\b\\w+\\b', text)\n",
    "    short_words_list = [word for word in words if 1 <= len(word) <= 3]\n",
    "    return len(short_words_list)/len(words)\n",
    "\n",
    "def legomena(text):\n",
    "    words = re.findall(r'\\b\\w+\\b', text.lower())\n",
    "    freq = FreqDist(words)\n",
    "    legomena = [word for word in freq if freq[word] == 1]\n",
    "    return len(legomena)/len(words)\n",
    "\n",
    "def dislegomena(text):\n",
    "    words = re.findall(r'\\b\\w+\\b', text.lower())\n",
    "    freq = FreqDist(words)\n",
    "    dislegomena = [word for word in freq if freq[word] == 2]\n",
    "    return len(dislegomena)/len(words)\n",
    "\n",
    "def yules_k(text):\n",
    "    words = re.findall(r'\\b\\w+\\b', text.lower())\n",
    "    freq = FreqDist(words)\n",
    "    N = len(words)\n",
    "    Vi = FreqDist(freq.values())\n",
    "    K = 10**4 * ((-N + sum(i**2 * Vi[i] for i in Vi))/N**2)\n",
    "    return K\n",
    "\n",
    "def simpson_d(text):\n",
    "    words = re.findall(r'\\b\\w+\\b', text.lower())\n",
    "    freq = FreqDist(words)\n",
    "    N = len(words)\n",
    "    if N < 2:\n",
    "        return 0\n",
    "    D = sum(fr * (fr - 1) / (N * (N - 1)) for fr in freq.values())\n",
    "    return D\n",
    "\n",
    "def sichel_s(text):\n",
    "    words = re.findall(r'\\b\\w+\\b', text.lower())\n",
    "    freq = FreqDist(words)\n",
    "    dislegomena = [word for word in freq if freq[word] == 2]\n",
    "    S = len(dislegomena)/len(freq.values())\n",
    "    return S\n",
    "\n",
    "def honores_r(text):\n",
    "    words = re.findall(r'\\b\\w+\\b', text.lower())\n",
    "    if not words:\n",
    "        return 0\n",
    "    freq = FreqDist(words)\n",
    "    N = len(words)\n",
    "    V = len(freq.values())\n",
    "    legomena = [word for word in freq if freq[word] == 1]\n",
    "    unique_count_ratio = len(legomena) / V if V > 0 else 0\n",
    "    if unique_count_ratio == 1 or N == 0:\n",
    "        return 0\n",
    "    R = (100*np.log(N)/(1-(len(legomena)/V)))\n",
    "    return R\n",
    "\n",
    "def entropy(text):\n",
    "    words = re.findall(r'\\b\\w+\\b', text.lower())\n",
    "    freq = FreqDist(words)\n",
    "    N = len(words)\n",
    "    E = -sum((fr / N) * np.log(fr/N) for fr in freq.values())\n",
    "    return E\n",
    "\n",
    "# Syntatic features\n",
    "def punctuations_ratio(text, punctuation):\n",
    "    punctuation_list = re.findall(punctuation, text)\n",
    "    return len(punctuation_list)/len(text)\n",
    "\n",
    "# Structural features\n",
    "def lines(text):\n",
    "    return len(text.split('\\n'))\n",
    "\n",
    "def sentences(text):\n",
    "    return len(sent_tokenize(text))\n",
    "\n",
    "def paragraphs(text):\n",
    "    return len([par for par in text.split('\\n\\n') if par.strip()])\n",
    "\n",
    "def sentence_paragraph(text):\n",
    "    pars = [par for par in text.split('\\n\\n') if par.strip()]\n",
    "    return statistics.mean([len(sent_tokenize(par)) for par in pars])\n",
    "\n",
    "def words_paragraph(text):\n",
    "    pars = [par for par in text.split('\\n\\n') if par.strip()]\n",
    "    return statistics.mean([len(re.findall(r'\\b\\w+\\b', par)) for par in pars])\n",
    "\n",
    "def chars_paragraph(text):\n",
    "    pars = [par for par in text.split('\\n\\n') if par.strip()]\n",
    "    return statistics.mean([len(par) for par in pars])\n",
    "\n",
    "def words_sentences(text):\n",
    "    sents = sent_tokenize(text)\n",
    "    return statistics.mean([len(word_tokenize(sentence)) for sentence in sents])\n",
    "\n",
    "def uppercase_start(text):\n",
    "    sents = sent_tokenize(text)\n",
    "    return (sum(1 for sentence in sents if sentence[0].isupper()) / len(sents))\n"
   ]
  },
  {
   "cell_type": "code",
   "execution_count": 10,
   "metadata": {},
   "outputs": [],
   "source": [
    "def extract_features(dataframe, text_column):\n",
    "    features = pd.DataFrame()\n",
    "\n",
    "    # Character-based features\n",
    "    features['total_characters'] = dataframe[text_column].apply(character_count)\n",
    "    features['ratio_alphabetic'] = dataframe[text_column].apply(alphabetic_ratio)\n",
    "    features['ratio_uppercase'] = dataframe[text_column].apply(uppercase_ratio)\n",
    "    features['ratio_digit'] = dataframe[text_column].apply(digit_ratio)\n",
    "    features['ratio_whitespace'] = dataframe[text_column].apply(whitespace_ratio)\n",
    "    features['ratio_tabspace'] = dataframe[text_column].apply(tab_ratio)\n",
    "    letters = ['a', 'b', 'c', 'd', 'e', 'f', 'g', 'h', 'i', 'j', 'k', 'l', 'm', 'n', 'o', 'p', 'q', 'r', 's', 't', 'u', 'v', 'w', 'x', 'y', 'z']\n",
    "    for letter in letters:\n",
    "        features[letter+'_frequency'] = dataframe[text_column].apply(letter_ratio, args=(letter,))\n",
    "    special_characters = ['~', '@', '#', '$', '%', '^', '&', '*', '-', '_', '=', '+', '>', '<', '[', ']', '{', '}', '/', '\\\\', '|']\n",
    "    for character in special_characters:\n",
    "        features[character+'_frequency'] = dataframe[text_column].apply(specialcharacter_ratio, args=(character,))\n",
    "    \n",
    "    # Word-based features\n",
    "    features['total_words'] = dataframe[text_column].apply(number_words)\n",
    "    features['word_length'] = dataframe[text_column].apply(word_length)\n",
    "    features['vocabulary_richness'] = dataframe[text_column].apply(vocabulary_richness)\n",
    "    features['long_words'] = dataframe[text_column].apply(long_words)\n",
    "    features['short_words'] = dataframe[text_column].apply(short_words)\n",
    "    features['hapax_legomena'] = dataframe[text_column].apply(legomena)\n",
    "    features['hapax_dislegomena'] = dataframe[text_column].apply(dislegomena)\n",
    "    features['yules_k'] = dataframe[text_column].apply(yules_k)\n",
    "    features['simpson_d'] = dataframe[text_column].apply(simpson_d)\n",
    "    features['sichel_s'] = dataframe[text_column].apply(sichel_s)\n",
    "    #features['honore_r'] = dataframe[text_column].apply(honores_r)\n",
    "    features['entropy'] =  dataframe[text_column].apply(entropy)\n",
    "    # Brunet W?\n",
    "    # word length frequency distribution\n",
    "\n",
    "    \n",
    "    # Syntactic features\n",
    "    punctuations = [r\"’\", r\",\", r\"\\.\", r\":\", r\";\", r\"\\?\", r\"\\?{2,}\", r\"!\", r\"!{2,}\", r\"\\.{3}\"]\n",
    "    for punctuation in punctuations:\n",
    "        features[punctuation+\"_frequency\"] = dataframe[text_column].apply(punctuations_ratio, args=(punctuation,))\n",
    "\n",
    "    # Structural features\n",
    "    features['number_lines'] = dataframe[text_column].apply(lines)\n",
    "    features['number_sentences'] = dataframe[text_column].apply(sentences)\n",
    "    features['number_paragraphs'] = dataframe[text_column].apply(paragraphs)\n",
    "    features['sentences_per_paragraph'] = dataframe[text_column].apply(sentence_paragraph)\n",
    "    features['word_per_paragraph'] = dataframe[text_column].apply(words_paragraph)\n",
    "    features['character_per_paragraph'] = dataframe[text_column].apply(chars_paragraph)\n",
    "    features['word_per_sentence'] = dataframe[text_column].apply(words_sentences)\n",
    "    features['ratio_sentencestart_uppercase'] = dataframe[text_column].apply(uppercase_start)\n",
    "    #features['gender'] = dataframe['gender']\n",
    "        \n",
    "    return features"
   ]
  },
  {
   "cell_type": "code",
   "execution_count": 48,
   "metadata": {},
   "outputs": [],
   "source": [
    "pan15_train = extract_features(data_pan15_train, 'text')"
   ]
  },
  {
   "cell_type": "code",
   "execution_count": 49,
   "metadata": {},
   "outputs": [],
   "source": [
    "pan15_test = extract_features(data_pan15_test, 'text')"
   ]
  },
  {
   "cell_type": "code",
   "execution_count": 113,
   "metadata": {},
   "outputs": [],
   "source": [
    "pan17_train = extract_features(data_pan17_train, 'text')"
   ]
  },
  {
   "cell_type": "code",
   "execution_count": 115,
   "metadata": {},
   "outputs": [],
   "source": [
    "pan17_test = extract_features(data_pan17_test, 'text')"
   ]
  },
  {
   "cell_type": "code",
   "execution_count": 11,
   "metadata": {},
   "outputs": [],
   "source": [
    "combined_pan15_train_features = extract_features(combined_pan15_train, 'text')\n",
    "combined_pan15_test_features = extract_features(combined_pan15_test, 'text')"
   ]
  },
  {
   "cell_type": "code",
   "execution_count": 9,
   "metadata": {},
   "outputs": [],
   "source": [
    "combined_pan17_train_features = extract_features(combined_pan17_train, 'text')"
   ]
  },
  {
   "cell_type": "code",
   "execution_count": 10,
   "metadata": {},
   "outputs": [],
   "source": [
    "combined_pan17_test_features = extract_features(combined_pan17_test, 'text')"
   ]
  },
  {
   "cell_type": "code",
   "execution_count": 12,
   "metadata": {},
   "outputs": [
    {
     "data": {
      "text/html": [
       "<div>\n",
       "<style scoped>\n",
       "    .dataframe tbody tr th:only-of-type {\n",
       "        vertical-align: middle;\n",
       "    }\n",
       "\n",
       "    .dataframe tbody tr th {\n",
       "        vertical-align: top;\n",
       "    }\n",
       "\n",
       "    .dataframe thead th {\n",
       "        text-align: right;\n",
       "    }\n",
       "</style>\n",
       "<table border=\"1\" class=\"dataframe\">\n",
       "  <thead>\n",
       "    <tr style=\"text-align: right;\">\n",
       "      <th></th>\n",
       "      <th>total_characters</th>\n",
       "      <th>ratio_alphabetic</th>\n",
       "      <th>ratio_uppercase</th>\n",
       "      <th>ratio_digit</th>\n",
       "      <th>ratio_whitespace</th>\n",
       "      <th>ratio_tabspace</th>\n",
       "      <th>a_frequency</th>\n",
       "      <th>b_frequency</th>\n",
       "      <th>c_frequency</th>\n",
       "      <th>d_frequency</th>\n",
       "      <th>...</th>\n",
       "      <th>!{2,}_frequency</th>\n",
       "      <th>\\.{3}_frequency</th>\n",
       "      <th>number_lines</th>\n",
       "      <th>number_sentences</th>\n",
       "      <th>number_paragraphs</th>\n",
       "      <th>sentences_per_paragraph</th>\n",
       "      <th>word_per_paragraph</th>\n",
       "      <th>character_per_paragraph</th>\n",
       "      <th>word_per_sentence</th>\n",
       "      <th>ratio_sentencestart_uppercase</th>\n",
       "    </tr>\n",
       "  </thead>\n",
       "  <tbody>\n",
       "    <tr>\n",
       "      <th>0</th>\n",
       "      <td>12104</td>\n",
       "      <td>0.768341</td>\n",
       "      <td>0.061715</td>\n",
       "      <td>0.013219</td>\n",
       "      <td>0.172753</td>\n",
       "      <td>0.016523</td>\n",
       "      <td>0.066590</td>\n",
       "      <td>0.011484</td>\n",
       "      <td>0.027098</td>\n",
       "      <td>0.027677</td>\n",
       "      <td>...</td>\n",
       "      <td>0.000165</td>\n",
       "      <td>0.000000</td>\n",
       "      <td>13</td>\n",
       "      <td>120</td>\n",
       "      <td>6</td>\n",
       "      <td>20.666667</td>\n",
       "      <td>328.500000</td>\n",
       "      <td>2015.666667</td>\n",
       "      <td>18.758333</td>\n",
       "      <td>0.700000</td>\n",
       "    </tr>\n",
       "    <tr>\n",
       "      <th>1</th>\n",
       "      <td>6745</td>\n",
       "      <td>0.719644</td>\n",
       "      <td>0.045960</td>\n",
       "      <td>0.006672</td>\n",
       "      <td>0.203558</td>\n",
       "      <td>0.029652</td>\n",
       "      <td>0.053225</td>\n",
       "      <td>0.011119</td>\n",
       "      <td>0.017198</td>\n",
       "      <td>0.024314</td>\n",
       "      <td>...</td>\n",
       "      <td>0.000000</td>\n",
       "      <td>0.004596</td>\n",
       "      <td>2</td>\n",
       "      <td>96</td>\n",
       "      <td>1</td>\n",
       "      <td>96.000000</td>\n",
       "      <td>1219.000000</td>\n",
       "      <td>6745.000000</td>\n",
       "      <td>15.885417</td>\n",
       "      <td>0.635417</td>\n",
       "    </tr>\n",
       "    <tr>\n",
       "      <th>2</th>\n",
       "      <td>6561</td>\n",
       "      <td>0.660113</td>\n",
       "      <td>0.057918</td>\n",
       "      <td>0.003048</td>\n",
       "      <td>0.208352</td>\n",
       "      <td>0.030483</td>\n",
       "      <td>0.055327</td>\n",
       "      <td>0.010364</td>\n",
       "      <td>0.015394</td>\n",
       "      <td>0.020881</td>\n",
       "      <td>...</td>\n",
       "      <td>0.000000</td>\n",
       "      <td>0.000000</td>\n",
       "      <td>6</td>\n",
       "      <td>226</td>\n",
       "      <td>1</td>\n",
       "      <td>226.000000</td>\n",
       "      <td>1027.000000</td>\n",
       "      <td>6561.000000</td>\n",
       "      <td>8.088496</td>\n",
       "      <td>0.261062</td>\n",
       "    </tr>\n",
       "    <tr>\n",
       "      <th>3</th>\n",
       "      <td>6924</td>\n",
       "      <td>0.725881</td>\n",
       "      <td>0.161612</td>\n",
       "      <td>0.021375</td>\n",
       "      <td>0.172733</td>\n",
       "      <td>0.028885</td>\n",
       "      <td>0.062103</td>\n",
       "      <td>0.012276</td>\n",
       "      <td>0.027585</td>\n",
       "      <td>0.023252</td>\n",
       "      <td>...</td>\n",
       "      <td>0.000000</td>\n",
       "      <td>0.000578</td>\n",
       "      <td>15</td>\n",
       "      <td>45</td>\n",
       "      <td>4</td>\n",
       "      <td>11.750000</td>\n",
       "      <td>291.000000</td>\n",
       "      <td>1729.500000</td>\n",
       "      <td>29.155556</td>\n",
       "      <td>0.244444</td>\n",
       "    </tr>\n",
       "    <tr>\n",
       "      <th>4</th>\n",
       "      <td>1639</td>\n",
       "      <td>0.731544</td>\n",
       "      <td>0.108603</td>\n",
       "      <td>0.001830</td>\n",
       "      <td>0.214765</td>\n",
       "      <td>0.031727</td>\n",
       "      <td>0.055522</td>\n",
       "      <td>0.007322</td>\n",
       "      <td>0.019524</td>\n",
       "      <td>0.021354</td>\n",
       "      <td>...</td>\n",
       "      <td>0.000610</td>\n",
       "      <td>0.000610</td>\n",
       "      <td>2</td>\n",
       "      <td>25</td>\n",
       "      <td>1</td>\n",
       "      <td>25.000000</td>\n",
       "      <td>312.000000</td>\n",
       "      <td>1639.000000</td>\n",
       "      <td>15.000000</td>\n",
       "      <td>0.600000</td>\n",
       "    </tr>\n",
       "    <tr>\n",
       "      <th>...</th>\n",
       "      <td>...</td>\n",
       "      <td>...</td>\n",
       "      <td>...</td>\n",
       "      <td>...</td>\n",
       "      <td>...</td>\n",
       "      <td>...</td>\n",
       "      <td>...</td>\n",
       "      <td>...</td>\n",
       "      <td>...</td>\n",
       "      <td>...</td>\n",
       "      <td>...</td>\n",
       "      <td>...</td>\n",
       "      <td>...</td>\n",
       "      <td>...</td>\n",
       "      <td>...</td>\n",
       "      <td>...</td>\n",
       "      <td>...</td>\n",
       "      <td>...</td>\n",
       "      <td>...</td>\n",
       "      <td>...</td>\n",
       "      <td>...</td>\n",
       "    </tr>\n",
       "    <tr>\n",
       "      <th>137</th>\n",
       "      <td>4199</td>\n",
       "      <td>0.722553</td>\n",
       "      <td>0.092165</td>\n",
       "      <td>0.012146</td>\n",
       "      <td>0.189807</td>\n",
       "      <td>0.038104</td>\n",
       "      <td>0.071684</td>\n",
       "      <td>0.010479</td>\n",
       "      <td>0.021910</td>\n",
       "      <td>0.020005</td>\n",
       "      <td>...</td>\n",
       "      <td>0.000238</td>\n",
       "      <td>0.005477</td>\n",
       "      <td>1</td>\n",
       "      <td>68</td>\n",
       "      <td>1</td>\n",
       "      <td>68.000000</td>\n",
       "      <td>681.000000</td>\n",
       "      <td>4199.000000</td>\n",
       "      <td>12.573529</td>\n",
       "      <td>0.617647</td>\n",
       "    </tr>\n",
       "    <tr>\n",
       "      <th>138</th>\n",
       "      <td>6482</td>\n",
       "      <td>0.690528</td>\n",
       "      <td>0.072046</td>\n",
       "      <td>0.015273</td>\n",
       "      <td>0.169701</td>\n",
       "      <td>0.024375</td>\n",
       "      <td>0.053379</td>\n",
       "      <td>0.013422</td>\n",
       "      <td>0.020056</td>\n",
       "      <td>0.021907</td>\n",
       "      <td>...</td>\n",
       "      <td>0.001388</td>\n",
       "      <td>0.001543</td>\n",
       "      <td>11</td>\n",
       "      <td>137</td>\n",
       "      <td>1</td>\n",
       "      <td>137.000000</td>\n",
       "      <td>1063.000000</td>\n",
       "      <td>6482.000000</td>\n",
       "      <td>11.335766</td>\n",
       "      <td>0.335766</td>\n",
       "    </tr>\n",
       "    <tr>\n",
       "      <th>139</th>\n",
       "      <td>2749</td>\n",
       "      <td>0.719534</td>\n",
       "      <td>0.102219</td>\n",
       "      <td>0.021462</td>\n",
       "      <td>0.153147</td>\n",
       "      <td>0.019644</td>\n",
       "      <td>0.061477</td>\n",
       "      <td>0.010186</td>\n",
       "      <td>0.020007</td>\n",
       "      <td>0.018188</td>\n",
       "      <td>...</td>\n",
       "      <td>0.000364</td>\n",
       "      <td>0.001091</td>\n",
       "      <td>34</td>\n",
       "      <td>40</td>\n",
       "      <td>14</td>\n",
       "      <td>3.214286</td>\n",
       "      <td>29.428571</td>\n",
       "      <td>194.500000</td>\n",
       "      <td>13.875000</td>\n",
       "      <td>0.325000</td>\n",
       "    </tr>\n",
       "    <tr>\n",
       "      <th>140</th>\n",
       "      <td>5281</td>\n",
       "      <td>0.697216</td>\n",
       "      <td>0.100360</td>\n",
       "      <td>0.048854</td>\n",
       "      <td>0.160765</td>\n",
       "      <td>0.017042</td>\n",
       "      <td>0.036167</td>\n",
       "      <td>0.009468</td>\n",
       "      <td>0.016285</td>\n",
       "      <td>0.013255</td>\n",
       "      <td>...</td>\n",
       "      <td>0.000000</td>\n",
       "      <td>0.000000</td>\n",
       "      <td>1</td>\n",
       "      <td>50</td>\n",
       "      <td>1</td>\n",
       "      <td>50.000000</td>\n",
       "      <td>933.000000</td>\n",
       "      <td>5281.000000</td>\n",
       "      <td>21.980000</td>\n",
       "      <td>0.420000</td>\n",
       "    </tr>\n",
       "    <tr>\n",
       "      <th>141</th>\n",
       "      <td>8487</td>\n",
       "      <td>0.692706</td>\n",
       "      <td>0.065276</td>\n",
       "      <td>0.009544</td>\n",
       "      <td>0.163191</td>\n",
       "      <td>0.023565</td>\n",
       "      <td>0.052904</td>\n",
       "      <td>0.008012</td>\n",
       "      <td>0.015200</td>\n",
       "      <td>0.014728</td>\n",
       "      <td>...</td>\n",
       "      <td>0.004242</td>\n",
       "      <td>0.002121</td>\n",
       "      <td>3</td>\n",
       "      <td>205</td>\n",
       "      <td>1</td>\n",
       "      <td>205.000000</td>\n",
       "      <td>1239.000000</td>\n",
       "      <td>8487.000000</td>\n",
       "      <td>10.385366</td>\n",
       "      <td>0.239024</td>\n",
       "    </tr>\n",
       "  </tbody>\n",
       "</table>\n",
       "<p>142 rows × 82 columns</p>\n",
       "</div>"
      ],
      "text/plain": [
       "     total_characters  ratio_alphabetic  ratio_uppercase  ratio_digit  \\\n",
       "0               12104          0.768341         0.061715     0.013219   \n",
       "1                6745          0.719644         0.045960     0.006672   \n",
       "2                6561          0.660113         0.057918     0.003048   \n",
       "3                6924          0.725881         0.161612     0.021375   \n",
       "4                1639          0.731544         0.108603     0.001830   \n",
       "..                ...               ...              ...          ...   \n",
       "137              4199          0.722553         0.092165     0.012146   \n",
       "138              6482          0.690528         0.072046     0.015273   \n",
       "139              2749          0.719534         0.102219     0.021462   \n",
       "140              5281          0.697216         0.100360     0.048854   \n",
       "141              8487          0.692706         0.065276     0.009544   \n",
       "\n",
       "     ratio_whitespace  ratio_tabspace  a_frequency  b_frequency  c_frequency  \\\n",
       "0            0.172753        0.016523     0.066590     0.011484     0.027098   \n",
       "1            0.203558        0.029652     0.053225     0.011119     0.017198   \n",
       "2            0.208352        0.030483     0.055327     0.010364     0.015394   \n",
       "3            0.172733        0.028885     0.062103     0.012276     0.027585   \n",
       "4            0.214765        0.031727     0.055522     0.007322     0.019524   \n",
       "..                ...             ...          ...          ...          ...   \n",
       "137          0.189807        0.038104     0.071684     0.010479     0.021910   \n",
       "138          0.169701        0.024375     0.053379     0.013422     0.020056   \n",
       "139          0.153147        0.019644     0.061477     0.010186     0.020007   \n",
       "140          0.160765        0.017042     0.036167     0.009468     0.016285   \n",
       "141          0.163191        0.023565     0.052904     0.008012     0.015200   \n",
       "\n",
       "     d_frequency  ...  !{2,}_frequency  \\.{3}_frequency  number_lines  \\\n",
       "0       0.027677  ...         0.000165         0.000000            13   \n",
       "1       0.024314  ...         0.000000         0.004596             2   \n",
       "2       0.020881  ...         0.000000         0.000000             6   \n",
       "3       0.023252  ...         0.000000         0.000578            15   \n",
       "4       0.021354  ...         0.000610         0.000610             2   \n",
       "..           ...  ...              ...              ...           ...   \n",
       "137     0.020005  ...         0.000238         0.005477             1   \n",
       "138     0.021907  ...         0.001388         0.001543            11   \n",
       "139     0.018188  ...         0.000364         0.001091            34   \n",
       "140     0.013255  ...         0.000000         0.000000             1   \n",
       "141     0.014728  ...         0.004242         0.002121             3   \n",
       "\n",
       "     number_sentences  number_paragraphs  sentences_per_paragraph  \\\n",
       "0                 120                  6                20.666667   \n",
       "1                  96                  1                96.000000   \n",
       "2                 226                  1               226.000000   \n",
       "3                  45                  4                11.750000   \n",
       "4                  25                  1                25.000000   \n",
       "..                ...                ...                      ...   \n",
       "137                68                  1                68.000000   \n",
       "138               137                  1               137.000000   \n",
       "139                40                 14                 3.214286   \n",
       "140                50                  1                50.000000   \n",
       "141               205                  1               205.000000   \n",
       "\n",
       "     word_per_paragraph  character_per_paragraph  word_per_sentence  \\\n",
       "0            328.500000              2015.666667          18.758333   \n",
       "1           1219.000000              6745.000000          15.885417   \n",
       "2           1027.000000              6561.000000           8.088496   \n",
       "3            291.000000              1729.500000          29.155556   \n",
       "4            312.000000              1639.000000          15.000000   \n",
       "..                  ...                      ...                ...   \n",
       "137          681.000000              4199.000000          12.573529   \n",
       "138         1063.000000              6482.000000          11.335766   \n",
       "139           29.428571               194.500000          13.875000   \n",
       "140          933.000000              5281.000000          21.980000   \n",
       "141         1239.000000              8487.000000          10.385366   \n",
       "\n",
       "     ratio_sentencestart_uppercase  \n",
       "0                         0.700000  \n",
       "1                         0.635417  \n",
       "2                         0.261062  \n",
       "3                         0.244444  \n",
       "4                         0.600000  \n",
       "..                             ...  \n",
       "137                       0.617647  \n",
       "138                       0.335766  \n",
       "139                       0.325000  \n",
       "140                       0.420000  \n",
       "141                       0.239024  \n",
       "\n",
       "[142 rows x 82 columns]"
      ]
     },
     "execution_count": 12,
     "metadata": {},
     "output_type": "execute_result"
    }
   ],
   "source": [
    "combined_pan15_test_features"
   ]
  },
  {
   "cell_type": "code",
   "execution_count": 50,
   "metadata": {},
   "outputs": [],
   "source": [
    "pan15_test.to_csv(r'data\\pan15_features_test.csv', index=False)"
   ]
  },
  {
   "cell_type": "code",
   "execution_count": 51,
   "metadata": {},
   "outputs": [],
   "source": [
    "pan15_train.to_csv(r'data\\pan15_features_training.csv', index=False)"
   ]
  },
  {
   "cell_type": "code",
   "execution_count": 119,
   "metadata": {},
   "outputs": [],
   "source": [
    "pan17_test.to_csv(r'data\\pan17_features_test.csv', index=False)"
   ]
  },
  {
   "cell_type": "code",
   "execution_count": 120,
   "metadata": {},
   "outputs": [],
   "source": [
    "pan17_train.to_csv(r'data\\pan17_features_training.csv', index=False)"
   ]
  },
  {
   "cell_type": "markdown",
   "metadata": {},
   "source": [
    "## Create TF-IDF"
   ]
  },
  {
   "cell_type": "code",
   "execution_count": 13,
   "metadata": {},
   "outputs": [],
   "source": [
    "from sklearn.feature_extraction.text import TfidfVectorizer\n",
    "from sklearn.decomposition import TruncatedSVD\n",
    "from sklearn.pipeline import make_pipeline\n",
    "from sklearn.preprocessing import Normalizer"
   ]
  },
  {
   "cell_type": "code",
   "execution_count": 121,
   "metadata": {},
   "outputs": [],
   "source": [
    "tfidf = TfidfVectorizer(max_features=1000, ngram_range=(1, 2))"
   ]
  },
  {
   "cell_type": "code",
   "execution_count": 94,
   "metadata": {},
   "outputs": [],
   "source": [
    "pan15_train_tfidf_array = tfidf.fit_transform(data_pan15_training['text'])\n",
    "pan15_test_tfidf_array = tfidf.transform(data_pan15_test['text'])"
   ]
  },
  {
   "cell_type": "code",
   "execution_count": 123,
   "metadata": {},
   "outputs": [],
   "source": [
    "pan17_train_tfidf_array = tfidf.fit_transform(data_pan17_train['text'])\n",
    "pan17_test_tfidf_array = tfidf.transform(data_pan17_test['text'])"
   ]
  },
  {
   "cell_type": "code",
   "execution_count": 124,
   "metadata": {},
   "outputs": [],
   "source": [
    "svd = TruncatedSVD(n_components=100, random_state=42)\n",
    "normalizer = Normalizer(copy=False)\n",
    "lsa = make_pipeline(svd, normalizer)"
   ]
  },
  {
   "cell_type": "code",
   "execution_count": 96,
   "metadata": {},
   "outputs": [],
   "source": [
    "pan15_train_lsa = lsa.fit_transform(pan15_train_tfidf_array)\n",
    "pan15_test_lsa = lsa.transform(pan15_test_tfidf_array)"
   ]
  },
  {
   "cell_type": "code",
   "execution_count": 125,
   "metadata": {},
   "outputs": [],
   "source": [
    "pan17_train_lsa = lsa.fit_transform(pan17_train_tfidf_array)\n",
    "pan17_test_lsa = lsa.transform(pan17_test_tfidf_array)"
   ]
  },
  {
   "cell_type": "code",
   "execution_count": 78,
   "metadata": {},
   "outputs": [],
   "source": [
    "feature_names = tfidf.get_feature_names_out()\n",
    "pan15_train_tfidf = pd.DataFrame(pan15_train_tfidf_array.toarray(), columns=feature_names)\n",
    "pan15_test_tfidf = pd.DataFrame(pan15_test_tfidf_array.toarray(), columns=feature_names)"
   ]
  },
  {
   "cell_type": "code",
   "execution_count": 79,
   "metadata": {},
   "outputs": [],
   "source": [
    "pan15_train_tfidf.to_csv(r'data\\pan15_tfidf_train.csv', index=False)\n",
    "pan15_test_tfidf.to_csv(r'data\\pan15_tfidf_test.csv', index=False)"
   ]
  },
  {
   "cell_type": "markdown",
   "metadata": {},
   "source": [
    "## Classifier"
   ]
  },
  {
   "cell_type": "code",
   "execution_count": 14,
   "metadata": {},
   "outputs": [],
   "source": [
    "from sklearn.linear_model import LogisticRegression\n",
    "from sklearn.ensemble import RandomForestClassifier\n",
    "from sklearn.svm import LinearSVC\n",
    "from sklearn.metrics import accuracy_score\n",
    "from sklearn.pipeline import make_pipeline\n",
    "from sklearn.preprocessing import FunctionTransformer"
   ]
  },
  {
   "cell_type": "code",
   "execution_count": 98,
   "metadata": {},
   "outputs": [
    {
     "data": {
      "text/plain": [
       "14166"
      ]
     },
     "execution_count": 98,
     "metadata": {},
     "output_type": "execute_result"
    }
   ],
   "source": [
    "len(data_pan15_training)"
   ]
  },
  {
   "cell_type": "code",
   "execution_count": 99,
   "metadata": {},
   "outputs": [],
   "source": [
    "X_train = pan15_train_lsa\n",
    "y_train = data_pan15_training['gender']\n",
    "X_test = pan15_test_lsa\n",
    "y_test = data_pan15_test['gender']"
   ]
  },
  {
   "cell_type": "code",
   "execution_count": 126,
   "metadata": {},
   "outputs": [],
   "source": [
    "X_train = pan17_train_lsa\n",
    "y_train = data_pan17_train['gender']\n",
    "X_test = pan17_test_lsa\n",
    "y_test = data_pan17_test['gender']"
   ]
  },
  {
   "cell_type": "code",
   "execution_count": 19,
   "metadata": {},
   "outputs": [],
   "source": [
    "X_train = combined_pan17_train_features\n",
    "y_train = combined_pan17_train['gender']\n",
    "X_test = combined_pan17_test_features\n",
    "y_test = combined_pan17_test['gender']"
   ]
  },
  {
   "cell_type": "code",
   "execution_count": 25,
   "metadata": {},
   "outputs": [],
   "source": [
    "normalizer = Normalizer(copy=False)\n",
    "model = LinearSVC()\n",
    "norm_model = make_pipeline(normalizer, model)"
   ]
  },
  {
   "cell_type": "code",
   "execution_count": 26,
   "metadata": {},
   "outputs": [
    {
     "data": {
      "text/html": [
       "<style>#sk-container-id-3 {color: black;background-color: white;}#sk-container-id-3 pre{padding: 0;}#sk-container-id-3 div.sk-toggleable {background-color: white;}#sk-container-id-3 label.sk-toggleable__label {cursor: pointer;display: block;width: 100%;margin-bottom: 0;padding: 0.3em;box-sizing: border-box;text-align: center;}#sk-container-id-3 label.sk-toggleable__label-arrow:before {content: \"▸\";float: left;margin-right: 0.25em;color: #696969;}#sk-container-id-3 label.sk-toggleable__label-arrow:hover:before {color: black;}#sk-container-id-3 div.sk-estimator:hover label.sk-toggleable__label-arrow:before {color: black;}#sk-container-id-3 div.sk-toggleable__content {max-height: 0;max-width: 0;overflow: hidden;text-align: left;background-color: #f0f8ff;}#sk-container-id-3 div.sk-toggleable__content pre {margin: 0.2em;color: black;border-radius: 0.25em;background-color: #f0f8ff;}#sk-container-id-3 input.sk-toggleable__control:checked~div.sk-toggleable__content {max-height: 200px;max-width: 100%;overflow: auto;}#sk-container-id-3 input.sk-toggleable__control:checked~label.sk-toggleable__label-arrow:before {content: \"▾\";}#sk-container-id-3 div.sk-estimator input.sk-toggleable__control:checked~label.sk-toggleable__label {background-color: #d4ebff;}#sk-container-id-3 div.sk-label input.sk-toggleable__control:checked~label.sk-toggleable__label {background-color: #d4ebff;}#sk-container-id-3 input.sk-hidden--visually {border: 0;clip: rect(1px 1px 1px 1px);clip: rect(1px, 1px, 1px, 1px);height: 1px;margin: -1px;overflow: hidden;padding: 0;position: absolute;width: 1px;}#sk-container-id-3 div.sk-estimator {font-family: monospace;background-color: #f0f8ff;border: 1px dotted black;border-radius: 0.25em;box-sizing: border-box;margin-bottom: 0.5em;}#sk-container-id-3 div.sk-estimator:hover {background-color: #d4ebff;}#sk-container-id-3 div.sk-parallel-item::after {content: \"\";width: 100%;border-bottom: 1px solid gray;flex-grow: 1;}#sk-container-id-3 div.sk-label:hover label.sk-toggleable__label {background-color: #d4ebff;}#sk-container-id-3 div.sk-serial::before {content: \"\";position: absolute;border-left: 1px solid gray;box-sizing: border-box;top: 0;bottom: 0;left: 50%;z-index: 0;}#sk-container-id-3 div.sk-serial {display: flex;flex-direction: column;align-items: center;background-color: white;padding-right: 0.2em;padding-left: 0.2em;position: relative;}#sk-container-id-3 div.sk-item {position: relative;z-index: 1;}#sk-container-id-3 div.sk-parallel {display: flex;align-items: stretch;justify-content: center;background-color: white;position: relative;}#sk-container-id-3 div.sk-item::before, #sk-container-id-3 div.sk-parallel-item::before {content: \"\";position: absolute;border-left: 1px solid gray;box-sizing: border-box;top: 0;bottom: 0;left: 50%;z-index: -1;}#sk-container-id-3 div.sk-parallel-item {display: flex;flex-direction: column;z-index: 1;position: relative;background-color: white;}#sk-container-id-3 div.sk-parallel-item:first-child::after {align-self: flex-end;width: 50%;}#sk-container-id-3 div.sk-parallel-item:last-child::after {align-self: flex-start;width: 50%;}#sk-container-id-3 div.sk-parallel-item:only-child::after {width: 0;}#sk-container-id-3 div.sk-dashed-wrapped {border: 1px dashed gray;margin: 0 0.4em 0.5em 0.4em;box-sizing: border-box;padding-bottom: 0.4em;background-color: white;}#sk-container-id-3 div.sk-label label {font-family: monospace;font-weight: bold;display: inline-block;line-height: 1.2em;}#sk-container-id-3 div.sk-label-container {text-align: center;}#sk-container-id-3 div.sk-container {/* jupyter's `normalize.less` sets `[hidden] { display: none; }` but bootstrap.min.css set `[hidden] { display: none !important; }` so we also need the `!important` here to be able to override the default hidden behavior on the sphinx rendered scikit-learn.org. See: https://github.com/scikit-learn/scikit-learn/issues/21755 */display: inline-block !important;position: relative;}#sk-container-id-3 div.sk-text-repr-fallback {display: none;}</style><div id=\"sk-container-id-3\" class=\"sk-top-container\"><div class=\"sk-text-repr-fallback\"><pre>Pipeline(steps=[(&#x27;normalizer&#x27;, Normalizer(copy=False)),\n",
       "                (&#x27;linearsvc&#x27;, LinearSVC())])</pre><b>In a Jupyter environment, please rerun this cell to show the HTML representation or trust the notebook. <br />On GitHub, the HTML representation is unable to render, please try loading this page with nbviewer.org.</b></div><div class=\"sk-container\" hidden><div class=\"sk-item sk-dashed-wrapped\"><div class=\"sk-label-container\"><div class=\"sk-label sk-toggleable\"><input class=\"sk-toggleable__control sk-hidden--visually\" id=\"sk-estimator-id-5\" type=\"checkbox\" ><label for=\"sk-estimator-id-5\" class=\"sk-toggleable__label sk-toggleable__label-arrow\">Pipeline</label><div class=\"sk-toggleable__content\"><pre>Pipeline(steps=[(&#x27;normalizer&#x27;, Normalizer(copy=False)),\n",
       "                (&#x27;linearsvc&#x27;, LinearSVC())])</pre></div></div></div><div class=\"sk-serial\"><div class=\"sk-item\"><div class=\"sk-estimator sk-toggleable\"><input class=\"sk-toggleable__control sk-hidden--visually\" id=\"sk-estimator-id-6\" type=\"checkbox\" ><label for=\"sk-estimator-id-6\" class=\"sk-toggleable__label sk-toggleable__label-arrow\">Normalizer</label><div class=\"sk-toggleable__content\"><pre>Normalizer(copy=False)</pre></div></div></div><div class=\"sk-item\"><div class=\"sk-estimator sk-toggleable\"><input class=\"sk-toggleable__control sk-hidden--visually\" id=\"sk-estimator-id-7\" type=\"checkbox\" ><label for=\"sk-estimator-id-7\" class=\"sk-toggleable__label sk-toggleable__label-arrow\">LinearSVC</label><div class=\"sk-toggleable__content\"><pre>LinearSVC()</pre></div></div></div></div></div></div></div>"
      ],
      "text/plain": [
       "Pipeline(steps=[('normalizer', Normalizer(copy=False)),\n",
       "                ('linearsvc', LinearSVC())])"
      ]
     },
     "execution_count": 26,
     "metadata": {},
     "output_type": "execute_result"
    }
   ],
   "source": [
    "norm_model.fit(X_train, y_train)"
   ]
  },
  {
   "cell_type": "code",
   "execution_count": 27,
   "metadata": {},
   "outputs": [
    {
     "name": "stderr",
     "output_type": "stream",
     "text": [
      "c:\\Users\\Sten\\AppData\\Local\\R-MINI~1\\envs\\python39\\lib\\site-packages\\sklearn\\base.py:402: UserWarning: X has feature names, but LinearSVC was fitted without feature names\n",
      "  warnings.warn(\n"
     ]
    },
    {
     "data": {
      "text/plain": [
       "0.5470833333333334"
      ]
     },
     "execution_count": 27,
     "metadata": {},
     "output_type": "execute_result"
    }
   ],
   "source": [
    "pred = model.predict(X_test)\n",
    "accuracy_score(y_test, pred)"
   ]
  },
  {
   "cell_type": "markdown",
   "metadata": {},
   "source": [
    "## Classifier 2"
   ]
  },
  {
   "cell_type": "code",
   "execution_count": 87,
   "metadata": {},
   "outputs": [],
   "source": [
    "from sklearn.feature_extraction.text import TfidfVectorizer\n",
    "from sklearn.pipeline import Pipeline, FeatureUnion\n",
    "from sklearn.svm import LinearSVC\n",
    "from sklearn.metrics import accuracy_score\n",
    "from sklearn.base import BaseEstimator, TransformerMixin\n",
    "from scipy.sparse import csr_matrix, hstack\n",
    "from sklearn.preprocessing import StandardScaler\n",
    "from sklearn.linear_model import SGDClassifier\n",
    "from sklearn.model_selection import GridSearchCV"
   ]
  },
  {
   "cell_type": "code",
   "execution_count": 50,
   "metadata": {},
   "outputs": [],
   "source": [
    "class CustomFeatureExtractor(BaseEstimator, TransformerMixin):\n",
    "    def __init__(self, text_column):\n",
    "        self.text_column = text_column\n",
    "    \n",
    "    def fit(self, X, y=None):\n",
    "        return self\n",
    "    \n",
    "    def transform(self, X):\n",
    "        return extract_features(X, self.text_column)"
   ]
  },
  {
   "cell_type": "code",
   "execution_count": 16,
   "metadata": {},
   "outputs": [],
   "source": [
    "char_vectorizer = TfidfVectorizer(analyzer='char', ngram_range=(3, 5), sublinear_tf=True, min_df=2)\n",
    "#char_vectorizer = TfidfVectorizer(analyzer='char', ngram_range=(3, 5), min_df=2)\n",
    "word_vectorizer = TfidfVectorizer(analyzer='word', ngram_range=(1, 2), sublinear_tf=True, min_df=2)\n",
    "#word_vectorizer = TfidfVectorizer(analyzer='word', ngram_range=(1, 2), min_df=2)\n",
    "#stylometric_features = CustomFeatureExtractor(text_column='text')\n",
    "\n",
    "combined_features = FeatureUnion([\n",
    "    #('stylometric', stylometric_features),\n",
    "    ('char', char_vectorizer),\n",
    "    ('word', word_vectorizer)\n",
    "])\n",
    "\n",
    "pipeline = Pipeline([\n",
    "    ('features', combined_features),\n",
    "    ('svm', LinearSVC())\n",
    "])"
   ]
  },
  {
   "cell_type": "code",
   "execution_count": 78,
   "metadata": {},
   "outputs": [],
   "source": [
    "X_train = combined_pan15_train['text']\n",
    "y_train = combined_pan15_train['gender']\n",
    "X_test = combined_pan15_test['text']\n",
    "y_test = combined_pan15_test['gender']"
   ]
  },
  {
   "cell_type": "code",
   "execution_count": 79,
   "metadata": {},
   "outputs": [],
   "source": [
    "output = combined_features.fit_transform(X_train)"
   ]
  },
  {
   "cell_type": "code",
   "execution_count": 80,
   "metadata": {},
   "outputs": [],
   "source": [
    "output_test = combined_features.transform(X_test)"
   ]
  },
  {
   "cell_type": "code",
   "execution_count": 66,
   "metadata": {},
   "outputs": [],
   "source": [
    "X_train = output\n",
    "X_test = output_test"
   ]
  },
  {
   "cell_type": "code",
   "execution_count": 122,
   "metadata": {},
   "outputs": [],
   "source": [
    "scaler = StandardScaler()\n",
    "combined_pan17_train_features_scaled = pd.DataFrame(scaler.fit_transform(combined_pan17_train_features), columns=combined_pan17_train_features.columns)\n",
    "combined_pan17_test_features_scaled = pd.DataFrame(scaler.transform(combined_pan17_test_features), columns=combined_pan17_test_features.columns)"
   ]
  },
  {
   "cell_type": "code",
   "execution_count": 81,
   "metadata": {},
   "outputs": [],
   "source": [
    "scaler = StandardScaler()\n",
    "combined_pan15_train_features_scaled = pd.DataFrame(scaler.fit_transform(combined_pan15_train_features), columns=combined_pan15_train_features.columns)\n",
    "combined_pan15_test_features_scaled = pd.DataFrame(scaler.transform(combined_pan15_test_features), columns=combined_pan15_test_features.columns)"
   ]
  },
  {
   "cell_type": "code",
   "execution_count": 89,
   "metadata": {},
   "outputs": [],
   "source": [
    "X_train = hstack([output, csr_matrix(combined_pan15_train_features_scaled)])\n",
    "X_test = hstack([output_test, csr_matrix(combined_pan15_test_features_scaled)])"
   ]
  },
  {
   "cell_type": "code",
   "execution_count": 74,
   "metadata": {},
   "outputs": [
    {
     "ename": "NameError",
     "evalue": "name 'combined_pan17_train_features_scaled' is not defined",
     "output_type": "error",
     "traceback": [
      "\u001b[1;31m---------------------------------------------------------------------------\u001b[0m",
      "\u001b[1;31mNameError\u001b[0m                                 Traceback (most recent call last)",
      "Cell \u001b[1;32mIn[74], line 1\u001b[0m\n\u001b[1;32m----> 1\u001b[0m X_train \u001b[38;5;241m=\u001b[39m \u001b[43mcombined_pan17_train_features_scaled\u001b[49m\n\u001b[0;32m      2\u001b[0m X_test \u001b[38;5;241m=\u001b[39m combined_pan17_test_features_scaled\n",
      "\u001b[1;31mNameError\u001b[0m: name 'combined_pan17_train_features_scaled' is not defined"
     ]
    }
   ],
   "source": [
    "X_train = combined_pan17_train_features_scaled\n",
    "X_test = combined_pan17_test_features_scaled"
   ]
  },
  {
   "cell_type": "code",
   "execution_count": 75,
   "metadata": {},
   "outputs": [],
   "source": [
    "X_train = combined_pan15_train_features_scaled\n",
    "X_test = combined_pan15_test_features_scaled"
   ]
  },
  {
   "cell_type": "code",
   "execution_count": 98,
   "metadata": {},
   "outputs": [
    {
     "data": {
      "text/html": [
       "<style>#sk-container-id-20 {color: black;background-color: white;}#sk-container-id-20 pre{padding: 0;}#sk-container-id-20 div.sk-toggleable {background-color: white;}#sk-container-id-20 label.sk-toggleable__label {cursor: pointer;display: block;width: 100%;margin-bottom: 0;padding: 0.3em;box-sizing: border-box;text-align: center;}#sk-container-id-20 label.sk-toggleable__label-arrow:before {content: \"▸\";float: left;margin-right: 0.25em;color: #696969;}#sk-container-id-20 label.sk-toggleable__label-arrow:hover:before {color: black;}#sk-container-id-20 div.sk-estimator:hover label.sk-toggleable__label-arrow:before {color: black;}#sk-container-id-20 div.sk-toggleable__content {max-height: 0;max-width: 0;overflow: hidden;text-align: left;background-color: #f0f8ff;}#sk-container-id-20 div.sk-toggleable__content pre {margin: 0.2em;color: black;border-radius: 0.25em;background-color: #f0f8ff;}#sk-container-id-20 input.sk-toggleable__control:checked~div.sk-toggleable__content {max-height: 200px;max-width: 100%;overflow: auto;}#sk-container-id-20 input.sk-toggleable__control:checked~label.sk-toggleable__label-arrow:before {content: \"▾\";}#sk-container-id-20 div.sk-estimator input.sk-toggleable__control:checked~label.sk-toggleable__label {background-color: #d4ebff;}#sk-container-id-20 div.sk-label input.sk-toggleable__control:checked~label.sk-toggleable__label {background-color: #d4ebff;}#sk-container-id-20 input.sk-hidden--visually {border: 0;clip: rect(1px 1px 1px 1px);clip: rect(1px, 1px, 1px, 1px);height: 1px;margin: -1px;overflow: hidden;padding: 0;position: absolute;width: 1px;}#sk-container-id-20 div.sk-estimator {font-family: monospace;background-color: #f0f8ff;border: 1px dotted black;border-radius: 0.25em;box-sizing: border-box;margin-bottom: 0.5em;}#sk-container-id-20 div.sk-estimator:hover {background-color: #d4ebff;}#sk-container-id-20 div.sk-parallel-item::after {content: \"\";width: 100%;border-bottom: 1px solid gray;flex-grow: 1;}#sk-container-id-20 div.sk-label:hover label.sk-toggleable__label {background-color: #d4ebff;}#sk-container-id-20 div.sk-serial::before {content: \"\";position: absolute;border-left: 1px solid gray;box-sizing: border-box;top: 0;bottom: 0;left: 50%;z-index: 0;}#sk-container-id-20 div.sk-serial {display: flex;flex-direction: column;align-items: center;background-color: white;padding-right: 0.2em;padding-left: 0.2em;position: relative;}#sk-container-id-20 div.sk-item {position: relative;z-index: 1;}#sk-container-id-20 div.sk-parallel {display: flex;align-items: stretch;justify-content: center;background-color: white;position: relative;}#sk-container-id-20 div.sk-item::before, #sk-container-id-20 div.sk-parallel-item::before {content: \"\";position: absolute;border-left: 1px solid gray;box-sizing: border-box;top: 0;bottom: 0;left: 50%;z-index: -1;}#sk-container-id-20 div.sk-parallel-item {display: flex;flex-direction: column;z-index: 1;position: relative;background-color: white;}#sk-container-id-20 div.sk-parallel-item:first-child::after {align-self: flex-end;width: 50%;}#sk-container-id-20 div.sk-parallel-item:last-child::after {align-self: flex-start;width: 50%;}#sk-container-id-20 div.sk-parallel-item:only-child::after {width: 0;}#sk-container-id-20 div.sk-dashed-wrapped {border: 1px dashed gray;margin: 0 0.4em 0.5em 0.4em;box-sizing: border-box;padding-bottom: 0.4em;background-color: white;}#sk-container-id-20 div.sk-label label {font-family: monospace;font-weight: bold;display: inline-block;line-height: 1.2em;}#sk-container-id-20 div.sk-label-container {text-align: center;}#sk-container-id-20 div.sk-container {/* jupyter's `normalize.less` sets `[hidden] { display: none; }` but bootstrap.min.css set `[hidden] { display: none !important; }` so we also need the `!important` here to be able to override the default hidden behavior on the sphinx rendered scikit-learn.org. See: https://github.com/scikit-learn/scikit-learn/issues/21755 */display: inline-block !important;position: relative;}#sk-container-id-20 div.sk-text-repr-fallback {display: none;}</style><div id=\"sk-container-id-20\" class=\"sk-top-container\"><div class=\"sk-text-repr-fallback\"><pre>LinearSVC(C=0.01, max_iter=10000)</pre><b>In a Jupyter environment, please rerun this cell to show the HTML representation or trust the notebook. <br />On GitHub, the HTML representation is unable to render, please try loading this page with nbviewer.org.</b></div><div class=\"sk-container\" hidden><div class=\"sk-item\"><div class=\"sk-estimator sk-toggleable\"><input class=\"sk-toggleable__control sk-hidden--visually\" id=\"sk-estimator-id-22\" type=\"checkbox\" checked><label for=\"sk-estimator-id-22\" class=\"sk-toggleable__label sk-toggleable__label-arrow\">LinearSVC</label><div class=\"sk-toggleable__content\"><pre>LinearSVC(C=0.01, max_iter=10000)</pre></div></div></div></div></div>"
      ],
      "text/plain": [
       "LinearSVC(C=0.01, max_iter=10000)"
      ]
     },
     "execution_count": 98,
     "metadata": {},
     "output_type": "execute_result"
    }
   ],
   "source": [
    "model = LinearSVC(max_iter=10000, C= 0.01, class_weight= None, loss= 'squared_hinge', tol= 0.0001)\n",
    "model.fit(X_train, y_train)"
   ]
  },
  {
   "cell_type": "code",
   "execution_count": 100,
   "metadata": {},
   "outputs": [
    {
     "data": {
      "text/plain": [
       "0.7535211267605634"
      ]
     },
     "execution_count": 100,
     "metadata": {},
     "output_type": "execute_result"
    }
   ],
   "source": [
    "y_pred = model.predict(X_test)\n",
    "accuracy_score(y_test, y_pred)"
   ]
  },
  {
   "cell_type": "code",
   "execution_count": 88,
   "metadata": {},
   "outputs": [],
   "source": [
    "param_grid= {\n",
    "    'C': [0.01, 0.1, 1, 10, 100],\n",
    "    'tol': [1e-4, 1e-5],\n",
    "    'loss': ['hinge', 'squared_hinge'],\n",
    "    'class_weight': [None, 'balanced']\n",
    "}\n",
    "model = LinearSVC(max_iter=10000)\n",
    "grid_search = GridSearchCV(model, param_grid, cv=5, scoring='accuracy', verbose=2, n_jobs=-1)"
   ]
  },
  {
   "cell_type": "code",
   "execution_count": 90,
   "metadata": {},
   "outputs": [
    {
     "name": "stdout",
     "output_type": "stream",
     "text": [
      "Fitting 5 folds for each of 40 candidates, totalling 200 fits\n"
     ]
    },
    {
     "data": {
      "text/html": [
       "<style>#sk-container-id-17 {color: black;background-color: white;}#sk-container-id-17 pre{padding: 0;}#sk-container-id-17 div.sk-toggleable {background-color: white;}#sk-container-id-17 label.sk-toggleable__label {cursor: pointer;display: block;width: 100%;margin-bottom: 0;padding: 0.3em;box-sizing: border-box;text-align: center;}#sk-container-id-17 label.sk-toggleable__label-arrow:before {content: \"▸\";float: left;margin-right: 0.25em;color: #696969;}#sk-container-id-17 label.sk-toggleable__label-arrow:hover:before {color: black;}#sk-container-id-17 div.sk-estimator:hover label.sk-toggleable__label-arrow:before {color: black;}#sk-container-id-17 div.sk-toggleable__content {max-height: 0;max-width: 0;overflow: hidden;text-align: left;background-color: #f0f8ff;}#sk-container-id-17 div.sk-toggleable__content pre {margin: 0.2em;color: black;border-radius: 0.25em;background-color: #f0f8ff;}#sk-container-id-17 input.sk-toggleable__control:checked~div.sk-toggleable__content {max-height: 200px;max-width: 100%;overflow: auto;}#sk-container-id-17 input.sk-toggleable__control:checked~label.sk-toggleable__label-arrow:before {content: \"▾\";}#sk-container-id-17 div.sk-estimator input.sk-toggleable__control:checked~label.sk-toggleable__label {background-color: #d4ebff;}#sk-container-id-17 div.sk-label input.sk-toggleable__control:checked~label.sk-toggleable__label {background-color: #d4ebff;}#sk-container-id-17 input.sk-hidden--visually {border: 0;clip: rect(1px 1px 1px 1px);clip: rect(1px, 1px, 1px, 1px);height: 1px;margin: -1px;overflow: hidden;padding: 0;position: absolute;width: 1px;}#sk-container-id-17 div.sk-estimator {font-family: monospace;background-color: #f0f8ff;border: 1px dotted black;border-radius: 0.25em;box-sizing: border-box;margin-bottom: 0.5em;}#sk-container-id-17 div.sk-estimator:hover {background-color: #d4ebff;}#sk-container-id-17 div.sk-parallel-item::after {content: \"\";width: 100%;border-bottom: 1px solid gray;flex-grow: 1;}#sk-container-id-17 div.sk-label:hover label.sk-toggleable__label {background-color: #d4ebff;}#sk-container-id-17 div.sk-serial::before {content: \"\";position: absolute;border-left: 1px solid gray;box-sizing: border-box;top: 0;bottom: 0;left: 50%;z-index: 0;}#sk-container-id-17 div.sk-serial {display: flex;flex-direction: column;align-items: center;background-color: white;padding-right: 0.2em;padding-left: 0.2em;position: relative;}#sk-container-id-17 div.sk-item {position: relative;z-index: 1;}#sk-container-id-17 div.sk-parallel {display: flex;align-items: stretch;justify-content: center;background-color: white;position: relative;}#sk-container-id-17 div.sk-item::before, #sk-container-id-17 div.sk-parallel-item::before {content: \"\";position: absolute;border-left: 1px solid gray;box-sizing: border-box;top: 0;bottom: 0;left: 50%;z-index: -1;}#sk-container-id-17 div.sk-parallel-item {display: flex;flex-direction: column;z-index: 1;position: relative;background-color: white;}#sk-container-id-17 div.sk-parallel-item:first-child::after {align-self: flex-end;width: 50%;}#sk-container-id-17 div.sk-parallel-item:last-child::after {align-self: flex-start;width: 50%;}#sk-container-id-17 div.sk-parallel-item:only-child::after {width: 0;}#sk-container-id-17 div.sk-dashed-wrapped {border: 1px dashed gray;margin: 0 0.4em 0.5em 0.4em;box-sizing: border-box;padding-bottom: 0.4em;background-color: white;}#sk-container-id-17 div.sk-label label {font-family: monospace;font-weight: bold;display: inline-block;line-height: 1.2em;}#sk-container-id-17 div.sk-label-container {text-align: center;}#sk-container-id-17 div.sk-container {/* jupyter's `normalize.less` sets `[hidden] { display: none; }` but bootstrap.min.css set `[hidden] { display: none !important; }` so we also need the `!important` here to be able to override the default hidden behavior on the sphinx rendered scikit-learn.org. See: https://github.com/scikit-learn/scikit-learn/issues/21755 */display: inline-block !important;position: relative;}#sk-container-id-17 div.sk-text-repr-fallback {display: none;}</style><div id=\"sk-container-id-17\" class=\"sk-top-container\"><div class=\"sk-text-repr-fallback\"><pre>GridSearchCV(cv=5, estimator=LinearSVC(max_iter=10000), n_jobs=-1,\n",
       "             param_grid={&#x27;C&#x27;: [0.01, 0.1, 1, 10, 100],\n",
       "                         &#x27;class_weight&#x27;: [None, &#x27;balanced&#x27;],\n",
       "                         &#x27;loss&#x27;: [&#x27;hinge&#x27;, &#x27;squared_hinge&#x27;],\n",
       "                         &#x27;tol&#x27;: [0.0001, 1e-05]},\n",
       "             scoring=&#x27;accuracy&#x27;, verbose=2)</pre><b>In a Jupyter environment, please rerun this cell to show the HTML representation or trust the notebook. <br />On GitHub, the HTML representation is unable to render, please try loading this page with nbviewer.org.</b></div><div class=\"sk-container\" hidden><div class=\"sk-item sk-dashed-wrapped\"><div class=\"sk-label-container\"><div class=\"sk-label sk-toggleable\"><input class=\"sk-toggleable__control sk-hidden--visually\" id=\"sk-estimator-id-17\" type=\"checkbox\" ><label for=\"sk-estimator-id-17\" class=\"sk-toggleable__label sk-toggleable__label-arrow\">GridSearchCV</label><div class=\"sk-toggleable__content\"><pre>GridSearchCV(cv=5, estimator=LinearSVC(max_iter=10000), n_jobs=-1,\n",
       "             param_grid={&#x27;C&#x27;: [0.01, 0.1, 1, 10, 100],\n",
       "                         &#x27;class_weight&#x27;: [None, &#x27;balanced&#x27;],\n",
       "                         &#x27;loss&#x27;: [&#x27;hinge&#x27;, &#x27;squared_hinge&#x27;],\n",
       "                         &#x27;tol&#x27;: [0.0001, 1e-05]},\n",
       "             scoring=&#x27;accuracy&#x27;, verbose=2)</pre></div></div></div><div class=\"sk-parallel\"><div class=\"sk-parallel-item\"><div class=\"sk-item\"><div class=\"sk-label-container\"><div class=\"sk-label sk-toggleable\"><input class=\"sk-toggleable__control sk-hidden--visually\" id=\"sk-estimator-id-18\" type=\"checkbox\" ><label for=\"sk-estimator-id-18\" class=\"sk-toggleable__label sk-toggleable__label-arrow\">estimator: LinearSVC</label><div class=\"sk-toggleable__content\"><pre>LinearSVC(max_iter=10000)</pre></div></div></div><div class=\"sk-serial\"><div class=\"sk-item\"><div class=\"sk-estimator sk-toggleable\"><input class=\"sk-toggleable__control sk-hidden--visually\" id=\"sk-estimator-id-19\" type=\"checkbox\" ><label for=\"sk-estimator-id-19\" class=\"sk-toggleable__label sk-toggleable__label-arrow\">LinearSVC</label><div class=\"sk-toggleable__content\"><pre>LinearSVC(max_iter=10000)</pre></div></div></div></div></div></div></div></div></div></div>"
      ],
      "text/plain": [
       "GridSearchCV(cv=5, estimator=LinearSVC(max_iter=10000), n_jobs=-1,\n",
       "             param_grid={'C': [0.01, 0.1, 1, 10, 100],\n",
       "                         'class_weight': [None, 'balanced'],\n",
       "                         'loss': ['hinge', 'squared_hinge'],\n",
       "                         'tol': [0.0001, 1e-05]},\n",
       "             scoring='accuracy', verbose=2)"
      ]
     },
     "execution_count": 90,
     "metadata": {},
     "output_type": "execute_result"
    }
   ],
   "source": [
    "grid_search.fit(X_train, y_train)"
   ]
  },
  {
   "cell_type": "code",
   "execution_count": 93,
   "metadata": {},
   "outputs": [
    {
     "data": {
      "text/plain": [
       "{'C': 0.01, 'class_weight': None, 'loss': 'squared_hinge', 'tol': 0.0001}"
      ]
     },
     "execution_count": 93,
     "metadata": {},
     "output_type": "execute_result"
    }
   ],
   "source": [
    "grid_search.best_params_"
   ]
  },
  {
   "cell_type": "code",
   "execution_count": 67,
   "metadata": {},
   "outputs": [
    {
     "data": {
      "text/html": [
       "<style>#sk-container-id-5 {color: black;background-color: white;}#sk-container-id-5 pre{padding: 0;}#sk-container-id-5 div.sk-toggleable {background-color: white;}#sk-container-id-5 label.sk-toggleable__label {cursor: pointer;display: block;width: 100%;margin-bottom: 0;padding: 0.3em;box-sizing: border-box;text-align: center;}#sk-container-id-5 label.sk-toggleable__label-arrow:before {content: \"▸\";float: left;margin-right: 0.25em;color: #696969;}#sk-container-id-5 label.sk-toggleable__label-arrow:hover:before {color: black;}#sk-container-id-5 div.sk-estimator:hover label.sk-toggleable__label-arrow:before {color: black;}#sk-container-id-5 div.sk-toggleable__content {max-height: 0;max-width: 0;overflow: hidden;text-align: left;background-color: #f0f8ff;}#sk-container-id-5 div.sk-toggleable__content pre {margin: 0.2em;color: black;border-radius: 0.25em;background-color: #f0f8ff;}#sk-container-id-5 input.sk-toggleable__control:checked~div.sk-toggleable__content {max-height: 200px;max-width: 100%;overflow: auto;}#sk-container-id-5 input.sk-toggleable__control:checked~label.sk-toggleable__label-arrow:before {content: \"▾\";}#sk-container-id-5 div.sk-estimator input.sk-toggleable__control:checked~label.sk-toggleable__label {background-color: #d4ebff;}#sk-container-id-5 div.sk-label input.sk-toggleable__control:checked~label.sk-toggleable__label {background-color: #d4ebff;}#sk-container-id-5 input.sk-hidden--visually {border: 0;clip: rect(1px 1px 1px 1px);clip: rect(1px, 1px, 1px, 1px);height: 1px;margin: -1px;overflow: hidden;padding: 0;position: absolute;width: 1px;}#sk-container-id-5 div.sk-estimator {font-family: monospace;background-color: #f0f8ff;border: 1px dotted black;border-radius: 0.25em;box-sizing: border-box;margin-bottom: 0.5em;}#sk-container-id-5 div.sk-estimator:hover {background-color: #d4ebff;}#sk-container-id-5 div.sk-parallel-item::after {content: \"\";width: 100%;border-bottom: 1px solid gray;flex-grow: 1;}#sk-container-id-5 div.sk-label:hover label.sk-toggleable__label {background-color: #d4ebff;}#sk-container-id-5 div.sk-serial::before {content: \"\";position: absolute;border-left: 1px solid gray;box-sizing: border-box;top: 0;bottom: 0;left: 50%;z-index: 0;}#sk-container-id-5 div.sk-serial {display: flex;flex-direction: column;align-items: center;background-color: white;padding-right: 0.2em;padding-left: 0.2em;position: relative;}#sk-container-id-5 div.sk-item {position: relative;z-index: 1;}#sk-container-id-5 div.sk-parallel {display: flex;align-items: stretch;justify-content: center;background-color: white;position: relative;}#sk-container-id-5 div.sk-item::before, #sk-container-id-5 div.sk-parallel-item::before {content: \"\";position: absolute;border-left: 1px solid gray;box-sizing: border-box;top: 0;bottom: 0;left: 50%;z-index: -1;}#sk-container-id-5 div.sk-parallel-item {display: flex;flex-direction: column;z-index: 1;position: relative;background-color: white;}#sk-container-id-5 div.sk-parallel-item:first-child::after {align-self: flex-end;width: 50%;}#sk-container-id-5 div.sk-parallel-item:last-child::after {align-self: flex-start;width: 50%;}#sk-container-id-5 div.sk-parallel-item:only-child::after {width: 0;}#sk-container-id-5 div.sk-dashed-wrapped {border: 1px dashed gray;margin: 0 0.4em 0.5em 0.4em;box-sizing: border-box;padding-bottom: 0.4em;background-color: white;}#sk-container-id-5 div.sk-label label {font-family: monospace;font-weight: bold;display: inline-block;line-height: 1.2em;}#sk-container-id-5 div.sk-label-container {text-align: center;}#sk-container-id-5 div.sk-container {/* jupyter's `normalize.less` sets `[hidden] { display: none; }` but bootstrap.min.css set `[hidden] { display: none !important; }` so we also need the `!important` here to be able to override the default hidden behavior on the sphinx rendered scikit-learn.org. See: https://github.com/scikit-learn/scikit-learn/issues/21755 */display: inline-block !important;position: relative;}#sk-container-id-5 div.sk-text-repr-fallback {display: none;}</style><div id=\"sk-container-id-5\" class=\"sk-top-container\"><div class=\"sk-text-repr-fallback\"><pre>Pipeline(steps=[(&#x27;features&#x27;,\n",
       "                 FeatureUnion(transformer_list=[(&#x27;char&#x27;,\n",
       "                                                 TfidfVectorizer(analyzer=&#x27;char&#x27;,\n",
       "                                                                 min_df=2,\n",
       "                                                                 ngram_range=(3,\n",
       "                                                                              5),\n",
       "                                                                 sublinear_tf=True)),\n",
       "                                                (&#x27;word&#x27;,\n",
       "                                                 TfidfVectorizer(min_df=2,\n",
       "                                                                 ngram_range=(1,\n",
       "                                                                              2),\n",
       "                                                                 sublinear_tf=True))])),\n",
       "                (&#x27;svm&#x27;, LinearSVC())])</pre><b>In a Jupyter environment, please rerun this cell to show the HTML representation or trust the notebook. <br />On GitHub, the HTML representation is unable to render, please try loading this page with nbviewer.org.</b></div><div class=\"sk-container\" hidden><div class=\"sk-item sk-dashed-wrapped\"><div class=\"sk-label-container\"><div class=\"sk-label sk-toggleable\"><input class=\"sk-toggleable__control sk-hidden--visually\" id=\"sk-estimator-id-13\" type=\"checkbox\" ><label for=\"sk-estimator-id-13\" class=\"sk-toggleable__label sk-toggleable__label-arrow\">Pipeline</label><div class=\"sk-toggleable__content\"><pre>Pipeline(steps=[(&#x27;features&#x27;,\n",
       "                 FeatureUnion(transformer_list=[(&#x27;char&#x27;,\n",
       "                                                 TfidfVectorizer(analyzer=&#x27;char&#x27;,\n",
       "                                                                 min_df=2,\n",
       "                                                                 ngram_range=(3,\n",
       "                                                                              5),\n",
       "                                                                 sublinear_tf=True)),\n",
       "                                                (&#x27;word&#x27;,\n",
       "                                                 TfidfVectorizer(min_df=2,\n",
       "                                                                 ngram_range=(1,\n",
       "                                                                              2),\n",
       "                                                                 sublinear_tf=True))])),\n",
       "                (&#x27;svm&#x27;, LinearSVC())])</pre></div></div></div><div class=\"sk-serial\"><div class=\"sk-item sk-dashed-wrapped\"><div class=\"sk-label-container\"><div class=\"sk-label sk-toggleable\"><input class=\"sk-toggleable__control sk-hidden--visually\" id=\"sk-estimator-id-14\" type=\"checkbox\" ><label for=\"sk-estimator-id-14\" class=\"sk-toggleable__label sk-toggleable__label-arrow\">features: FeatureUnion</label><div class=\"sk-toggleable__content\"><pre>FeatureUnion(transformer_list=[(&#x27;char&#x27;,\n",
       "                                TfidfVectorizer(analyzer=&#x27;char&#x27;, min_df=2,\n",
       "                                                ngram_range=(3, 5),\n",
       "                                                sublinear_tf=True)),\n",
       "                               (&#x27;word&#x27;,\n",
       "                                TfidfVectorizer(min_df=2, ngram_range=(1, 2),\n",
       "                                                sublinear_tf=True))])</pre></div></div></div><div class=\"sk-parallel\"><div class=\"sk-parallel-item\"><div class=\"sk-item\"><div class=\"sk-label-container\"><div class=\"sk-label sk-toggleable\"><label>char</label></div></div><div class=\"sk-serial\"><div class=\"sk-item\"><div class=\"sk-estimator sk-toggleable\"><input class=\"sk-toggleable__control sk-hidden--visually\" id=\"sk-estimator-id-15\" type=\"checkbox\" ><label for=\"sk-estimator-id-15\" class=\"sk-toggleable__label sk-toggleable__label-arrow\">TfidfVectorizer</label><div class=\"sk-toggleable__content\"><pre>TfidfVectorizer(analyzer=&#x27;char&#x27;, min_df=2, ngram_range=(3, 5),\n",
       "                sublinear_tf=True)</pre></div></div></div></div></div></div><div class=\"sk-parallel-item\"><div class=\"sk-item\"><div class=\"sk-label-container\"><div class=\"sk-label sk-toggleable\"><label>word</label></div></div><div class=\"sk-serial\"><div class=\"sk-item\"><div class=\"sk-estimator sk-toggleable\"><input class=\"sk-toggleable__control sk-hidden--visually\" id=\"sk-estimator-id-16\" type=\"checkbox\" ><label for=\"sk-estimator-id-16\" class=\"sk-toggleable__label sk-toggleable__label-arrow\">TfidfVectorizer</label><div class=\"sk-toggleable__content\"><pre>TfidfVectorizer(min_df=2, ngram_range=(1, 2), sublinear_tf=True)</pre></div></div></div></div></div></div></div></div><div class=\"sk-item\"><div class=\"sk-estimator sk-toggleable\"><input class=\"sk-toggleable__control sk-hidden--visually\" id=\"sk-estimator-id-17\" type=\"checkbox\" ><label for=\"sk-estimator-id-17\" class=\"sk-toggleable__label sk-toggleable__label-arrow\">LinearSVC</label><div class=\"sk-toggleable__content\"><pre>LinearSVC()</pre></div></div></div></div></div></div></div>"
      ],
      "text/plain": [
       "Pipeline(steps=[('features',\n",
       "                 FeatureUnion(transformer_list=[('char',\n",
       "                                                 TfidfVectorizer(analyzer='char',\n",
       "                                                                 min_df=2,\n",
       "                                                                 ngram_range=(3,\n",
       "                                                                              5),\n",
       "                                                                 sublinear_tf=True)),\n",
       "                                                ('word',\n",
       "                                                 TfidfVectorizer(min_df=2,\n",
       "                                                                 ngram_range=(1,\n",
       "                                                                              2),\n",
       "                                                                 sublinear_tf=True))])),\n",
       "                ('svm', LinearSVC())])"
      ]
     },
     "execution_count": 67,
     "metadata": {},
     "output_type": "execute_result"
    }
   ],
   "source": [
    "pipeline.fit(X_train, y_train)"
   ]
  },
  {
   "cell_type": "code",
   "execution_count": 68,
   "metadata": {},
   "outputs": [
    {
     "data": {
      "text/plain": [
       "0.8195833333333333"
      ]
     },
     "execution_count": 68,
     "metadata": {},
     "output_type": "execute_result"
    }
   ],
   "source": [
    "y_pred = pipeline.predict(X_test)\n",
    "accuracy_score(y_test, y_pred)"
   ]
  },
  {
   "cell_type": "code",
   "execution_count": 2,
   "metadata": {},
   "outputs": [
    {
     "ename": "NameError",
     "evalue": "name 'data_pan17_train' is not defined",
     "output_type": "error",
     "traceback": [
      "\u001b[1;31m---------------------------------------------------------------------------\u001b[0m",
      "\u001b[1;31mNameError\u001b[0m                                 Traceback (most recent call last)",
      "Cell \u001b[1;32mIn[2], line 1\u001b[0m\n\u001b[1;32m----> 1\u001b[0m combined_pan17_train \u001b[38;5;241m=\u001b[39m \u001b[43mdata_pan17_train\u001b[49m\u001b[38;5;241m.\u001b[39mgroupby(\u001b[38;5;124m'\u001b[39m\u001b[38;5;124mauthor\u001b[39m\u001b[38;5;124m'\u001b[39m)\u001b[38;5;241m.\u001b[39magg({\n\u001b[0;32m      2\u001b[0m     \u001b[38;5;124m'\u001b[39m\u001b[38;5;124mtext\u001b[39m\u001b[38;5;124m'\u001b[39m: \u001b[38;5;124m'\u001b[39m\u001b[38;5;124m \u001b[39m\u001b[38;5;124m'\u001b[39m\u001b[38;5;241m.\u001b[39mjoin,\n\u001b[0;32m      3\u001b[0m     \u001b[38;5;124m'\u001b[39m\u001b[38;5;124mgender\u001b[39m\u001b[38;5;124m'\u001b[39m: \u001b[38;5;124m'\u001b[39m\u001b[38;5;124mfirst\u001b[39m\u001b[38;5;124m'\u001b[39m\n\u001b[0;32m      4\u001b[0m })\u001b[38;5;241m.\u001b[39mreset_index()\n\u001b[0;32m      5\u001b[0m combined_pan17_test \u001b[38;5;241m=\u001b[39m data_pan17_test\u001b[38;5;241m.\u001b[39mgroupby(\u001b[38;5;124m'\u001b[39m\u001b[38;5;124mauthor\u001b[39m\u001b[38;5;124m'\u001b[39m)\u001b[38;5;241m.\u001b[39magg({\n\u001b[0;32m      6\u001b[0m     \u001b[38;5;124m'\u001b[39m\u001b[38;5;124mtext\u001b[39m\u001b[38;5;124m'\u001b[39m: \u001b[38;5;124m'\u001b[39m\u001b[38;5;124m \u001b[39m\u001b[38;5;124m'\u001b[39m\u001b[38;5;241m.\u001b[39mjoin,\n\u001b[0;32m      7\u001b[0m     \u001b[38;5;124m'\u001b[39m\u001b[38;5;124mgender\u001b[39m\u001b[38;5;124m'\u001b[39m: \u001b[38;5;124m'\u001b[39m\u001b[38;5;124mfirst\u001b[39m\u001b[38;5;124m'\u001b[39m\n\u001b[0;32m      8\u001b[0m })\u001b[38;5;241m.\u001b[39mreset_index()\n",
      "\u001b[1;31mNameError\u001b[0m: name 'data_pan17_train' is not defined"
     ]
    }
   ],
   "source": [
    "combined_pan17_train = data_pan17_train.groupby('author').agg({\n",
    "    'text': ' '.join,\n",
    "    'gender': 'first'\n",
    "}).reset_index()\n",
    "combined_pan17_test = data_pan17_test.groupby('author').agg({\n",
    "    'text': ' '.join,\n",
    "    'gender': 'first'\n",
    "}).reset_index()"
   ]
  },
  {
   "cell_type": "code",
   "execution_count": 104,
   "metadata": {},
   "outputs": [
    {
     "data": {
      "text/plain": [
       "'Things I want for my business cards but are too expensive: 3 PMS colors. colored edges, soft touch finish, raised spot UV, cut 45°corners.\\t\\t \"painters produced their most highly valued work when they were 41.92 years old\"\\nhttp://t.co/T8Gvom70GE\\n\\nSo... I\\'ve 15 years left for mine?\\t\\t @username your new discussion layout is confusing regarding who says what, because the comments aren\\'t sectioned off. http://t.co/Dfkg4js2o2\\t\\t I never really understood why game environments (which you see most of) get so few resources compared to characters. https://t.co/3Af3fn7XVe\\t\\t @username 20k and 2048² on a gun, fine. But throwing the same on an enemy that you try to shoot before he gets too close?\\t\\t @username Guns using the texture already in memory is good. Guns on the floor having the same model as FPS isn\\'t. Probably LOD models.\\t\\t @username I\\'m talking about chars that are small scale compared to enviro props. Extreme example: http://t.co/HOR8W8T2Pr 30~40tri scene\\t\\t @username Dammit Crendor. You broke Jesse\\'s game and made the audio go *poof*. Totally your fault.\\t\\t @username @username I liken Esther to a movie. You can choose to progress or not, but not affect much else. But really, grey area.\\t\\t Gamers unfazed, Sale has arrived!\\nThe tiniest prices, finest of prizes.\\nGaben be Praised, Discounts shall thrive! http://t.co/tVbSgnvo1e\\t\\t Indie gamedev: I don\\'t want to be bound by publishers and marketing-tests.\\nIndy gamedev: Games are an artform! They belong in a museum!\\t\\t @username @username @username 25 mbit here (get 22~23), for €10 in the Netherlands. Previous contract since \\'08 or \\'09 was €25, same speed.\\t\\t @username On the flipside: half games for half prices...\\t\\t Happy new years with an appropriately times new site!\\t\\t Just played the first two episodes of Quake again, game\\'s still tight. Loving the smooth movement.\\t\\t So apparently paying €5 a month for Spotify makes me worse than a music pirate...? Dafuq? http://t.co/eP8m6V18Om\\t\\t @username Wanted to say I appreciate the choice for minions. Should make the game feel nicely crowded, and give \\'bad\\' players more fun.\\t\\t @username Heh. I think it\\'s funny you\\'re apologizing for sound quality that\\'s still better than, say, 90% of youtube game voiceovers.\\t\\t I know this is cool and serious science, but it had me giggling like a kid. Best of both worlds!\\n\\nhttp://t.co/MqlzTQRJ5H\\t\\t Working on refining my logo...\\nTo chamfer or nor to chamfer, that is the question. http://t.co/QfOAeb6KA6\\t\\t 30c3 To Protect And Infect - YouTube http://t.co/tBS0nGZIXS\\nI don\\'t know a whole lot about network security, but enough that this scares me.\\t\\t Silly Spotify. White Zombie, Judge Dredd (2012) Soundtrack, Rob Zombie, ...Blue Man Group? Okay then.\\t\\t @username Thanks for mentioning the Hearthstone open beta! I\\'ve been anxiously waiting but hadn\\'t gotten any emails about it yet.\\t\\t @username Do you perchance read Jezebel? The timing is rather close: http://t.co/cUkl2hJM0j\\t\\t @username I am so sick of people on twitter complaining about a bunch people on twitter!\\t\\t \"Helps to have a map!\"\\nNo. No it doesn\\'t.\\nhttp://t.co/zFfXa1JfN9\\t\\t @username Remember the time you paid 10 grand for  \"Celebrity fashion without airbrushing\" pics? So do these people: http://t.co/iDvYn5FY2p\\t\\t Steam\\'s down. Wonder if that\\'s because of the new music stuff?\\t\\t Play this. Now, tomorrow, during lunch, whenever. It\\'s only 5 minutes, but it\\'s awesome: http://t.co/LCJKWXXAWy\\t\\t First time I bought a key for DOTA2 treasure chest: Baby Roshan. Pretty sweet deal.\\t\\t Hah! That shit\\'s golden, Telltale! http://t.co/Bs3VwRCRzd\\t\\t @username Are you still looking for people? I can free up some time and be (almost) completely dedicated the next month(s).\\t\\t @username I threw up some isometric examples at https://t.co/eBHrIdFtBJ (assuming you want to stick with the RPGmaker perspective)\\t\\t @username Not many developers/companies would opt out of lots of money because something\\'s addictive. I respect you for that.\\t\\t Now that\\'s a proper free to play Dungeon Keeper!\\t\\t http://t.co/Am1vJnMrjr\\nI like this.\\t\\t @username @username  How do they not help? I find it very useful to know if a game has been designed for touchscreen, controller or KBM.\\t\\t @username Remember that fake Twitch-LoL video from this afternoon? Here\\'s a REAL Twitch-Plays-Dota channel: http://t.co/LQdUtiWq2x\\t\\t @username Thanks for reminding me/us to disable adblock for places I regularly visit. Because it\\'s often a fairer trade that TV/radio.\\t\\t Mini Metro http://t.co/XYeHJ47bGm Quite a novel idea: build your own growing metro system. Not sure about longevity/replayability, though.\\t\\t @username How about keeping the same root word and call them BullVids?\\t\\t @username Coil, because of its several experiments. Mirror\\'s Edge, because of its absence. And whichever game started radial menus. Crysis?\\t\\t @username Consider that a free game thrown in by the gods, for your generous purchases.\\t\\t @username \"Luft\" means air, not red. And \"rauser\" probably stems from the Dutch verb \"rouzen\", playing wildly or \"razen\", rage/storm.\\t\\t @username Did you guys just change all your youtube video thumbnails or have I not paid proper attention lately?\\t\\t @username @username Do you also know about https://t.co/6SYVXc4GfN ?\\t\\t @username Is this april fools or did they really start a website on April 1st with the plan of confusing people on -every- anniversary?\\t\\t Whelp. @username wanted drama. He got drama. Can the devs get a nice game jam now, since that\\'s what they wanted? #GAME_JAM\\t\\t Great april fools joke! Anita Sarkeesian receiving \"GDC Ambassador award\" for making 5 videos in two years\\' time. http://t.co/Wjl343UZLU\\t\\t @username For a moment I thought I was reading about a game from @username\\t\\t @username Your avvy is now black/red/white. Does this mean future content will be in Betrayer-vision?\\t\\t @username Hey I wanted to inform you that Potato Dungeon seems to be borked right now. Clicking to ride Pard doesn\\'t work. For me anyways.\\t\\t Not fond of new @username design. Discrover shows less per page, and the menu bar shows less lines so I must scroll to get to my playlists.\\t\\t @username @username It\\'s a carefully planned deal. He asked both for the exact same amount, so he\\'s raking in cash but staying neutral.\\t\\t Combine any random music term in youtube, it probably has it. Raprock. Acapella metal. Industrial Jazz. Celtic chiptunes. Gregorian dubstep.\\t\\t @username I feel like I can \\'express myself\\' less right now. It\\'s all white. Will there be a way to change style besides just link color??\\t\\t @username @username Harold and Kumar walk Down the Aisle. Because racial inclusivity, of course. ;)\\t\\t Just crashed in to more bugs in 45 minutes on the bike, than in the past two weeks of game development.\\t\\t Goddamnit I hate it when a commenting system forces you to first register, but meanwhile doesn\\'t save your typed post. @username #lookingatu\\t\\t @username is the new UI broken or just badly designed? I can no longer sort albums or search queries by name/artist/album/length/rating...\\t\\t @username @username Yes. But only cool people.\\t\\t Might be cool for portfolios: @username: Horizontal scrolling single page template (also on Github): http://t.co/hCc5D07nze\\xa0 #html5 #css3\\t\\t @username I wonder how many people realized what horrible things they sometimes say. Good luck, best wishes, and dump that lump!\\t\\t Just rode past some kids biking ~25 km for some @username . I guess that\\'s pretty healthy in the end?\\t\\t @username If you sit like this and stare past your crotch, it probably is. But only barely .http://t.co/rHhCiJSBcH\\t\\t @username Here\\'s hoping this will wake people up a bit about greenlight / early access / kickstarter, right?\\t\\t @username What you\\'re saying is, you\\'re now opening a P.O. box under the name of CynicalCox?\\t\\t @username You hypocrite, you. Closing down your P.O. box for other companies but still accepting bribes from Polaris! Bias. BIAS!!\\t\\t Yay mustasch! http://t.co/D0ZqTeL8z7\\t\\t @username @username Jim is, in fact, a Drag King. In real life he is an ethereal spirit, but for his shows he dresses up as a man.\\t\\t @username The point is not better because \\'harder\\' but \\'balanced against lame exploits\\'; it means you actually think/engage with the game.\\t\\t This should be enough energydrink for at LEAST two days... http://t.co/vQVmlkjcot\\t\\t Bad pixel shirts are one of those things that annoy and bother me more than they probably should... http://t.co/b6fC4bNsUA\\t\\t @username So what do we call this kind of review score? Hate.strife out of ten?\\t\\t @username @username http://t.co/nbAGARjCmg Good Old Gaming, a store kinda like Steam, Origin, but aimed at retro/indie more than AAA.\\t\\t @username U.S. healthcare; it\\'ll cost you an arm and a leg either way...\\t\\t @username Get the spambots under control, please. http://t.co/jLab9xuvp0 http://t.co/Yel8VPY1mn http://t.co/cenhgIaW3c http://t.co/k1CFBUjxDk\\t\\t @username and here\\'s yet another one: http://t.co/9NoCYffgCR\\t\\t @username More spammers. Clean them up. http://t.co/VtTHVTUk00 http://t.co/uVfXbD7lNj\\t\\t @username No, but I can reccommend you a great shirt: https://t.co/nlkzlrZEnY\\t\\t Turns out, you should not attempt to run 4 km barefoot when you haven\\'t done so in three years. Ouch.\\t\\t @username @username Whoa whoa whoa. Not JUST a black baseball cap, one with a VERY iconic stitchy liny logo thing! http://t.co/sKMmh2gi4z\\t\\t @username @username Half-life? No, no. Carmack made Doom, Quake, Rage. Half-life is from @username.\\t\\t @username @username WHY? IS THERE SOMETHING WRONG WITH THEM? ARE THE ADS TOO SILENT TO HEAR FOR YOU? WE ARE NOT HAVING THAT ISSUE.\\t\\t Going to try and get something done for #lowrezjam 2014. 5 days left so it\\'s gonna be tight. But I know what I\\'m gonna make: a 16x9 fighter.\\t\\t @username I\\'m not seeing the problem with that #lowrezjam workfile. Looks perfectly usable. http://t.co/Pv9PpWSKRw\\t\\t @username As long as everything is in nice sprite strips I\\'m happy. For small stuff like this panning around is easier than tabs/windows.\\t\\t @username Face pulp, actually. I should probably have scaled up the image 200% =P. Heck I\\'m working small enough to make the game 200%\\t\\t @username @username I\\'d like to know which devs you consider upstanding/trustworthy what with Nintendo greed, Watchdog graphics and 1/2\\t\\t @username @username indies such as Towns and that recent plane game (air control?). Who do you like, still? 2/2\\t\\t I just spent an absurd amount of time playing with this remarkable online SID keyboard emulator: http://t.co/3udwseNUOk\\t\\t @username While your point is true, you\\'re not the best advocate. Lots of women feature their looks. #NotAllWomen http://t.co/rimrZzEAfJ\\t\\t The times when your dog wants to eat the rotting half-corpse of a mouse and you have to pluck it out of her mouth... http://t.co/B6UO3JwjSK\\t\\t @username Hey I wanted to check if you were aware of this Pixel Pig game using your artwork. http://t.co/nD2EBUCqCH\\t\\t @username Good vid, but missing one element; presentation. Host as much content as possible, have curated lists of \\'the best\\', \\'the new\\' 1/2\\t\\t @username \\'the interesting\\' and so on. Make it easier to navigate, empowering critics/users. Not curation, but promotion/navigation. (2/2)\\t\\t @username Wow, this was great. I love simple games like these that require very little time/complexity to convey a strong idea.\\t\\t @username Oh no! http://t.co/WEENVxgVcv is offline, as are the forums. Sound the alarms! SOUND THE ALARMS!\\t\\t @username @username the concentric pattern makes me wonder if dithering could make the layer transition more natural looking.\\t\\t @username With facebook in your future, does this mean we might finally get a legitimate desktop version of WhatsApp?\\t\\t'"
      ]
     },
     "execution_count": 104,
     "metadata": {},
     "output_type": "execute_result"
    }
   ],
   "source": [
    "combined_pan15_train.loc[0, 'text']"
   ]
  }
 ],
 "metadata": {
  "kernelspec": {
   "display_name": "Python 3",
   "language": "python",
   "name": "python3"
  },
  "language_info": {
   "codemirror_mode": {
    "name": "ipython",
    "version": 3
   },
   "file_extension": ".py",
   "mimetype": "text/x-python",
   "name": "python",
   "nbconvert_exporter": "python",
   "pygments_lexer": "ipython3",
   "version": "3.9.16"
  }
 },
 "nbformat": 4,
 "nbformat_minor": 2
}
