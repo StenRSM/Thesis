{
 "cells": [
  {
   "cell_type": "markdown",
   "metadata": {},
   "source": [
    "# statistics for data"
   ]
  },
  {
   "cell_type": "code",
   "execution_count": 1,
   "metadata": {},
   "outputs": [],
   "source": [
    "import pandas as pd\n",
    "import numpy as np\n",
    "import textstat"
   ]
  },
  {
   "cell_type": "markdown",
   "metadata": {},
   "source": [
    "## PAN data"
   ]
  },
  {
   "cell_type": "code",
   "execution_count": 2,
   "metadata": {},
   "outputs": [],
   "source": [
    "data_pan15_train = pd.read_csv(r'C:\\Users\\Sten\\Documents\\EUR BIM\\thesis\\data\\data\\raw_data\\PAN_15_training.csv')\n",
    "data_pan15_test = pd.read_csv(r'C:\\Users\\Sten\\Documents\\EUR BIM\\thesis\\data\\data\\raw_data\\PAN_15_test.csv')"
   ]
  },
  {
   "cell_type": "code",
   "execution_count": 3,
   "metadata": {},
   "outputs": [],
   "source": [
    "combined_pan15_train = data_pan15_train.groupby('author').agg({\n",
    "    'text': ' '.join,\n",
    "    'gender': 'first',\n",
    "    'age': 'first'\n",
    "}).reset_index()\n",
    "combined_pan15_test = data_pan15_test.groupby('author').agg({\n",
    "    'text': ' '.join,\n",
    "    'gender': 'first',\n",
    "    'age': 'first'\n",
    "}).reset_index()"
   ]
  },
  {
   "cell_type": "code",
   "execution_count": 4,
   "metadata": {},
   "outputs": [],
   "source": [
    "combined_pan15_train_stats = pd.DataFrame()\n",
    "combined_pan15_train_stats['total_word_count'] = combined_pan15_train['text'].apply(lambda x: len(x.split()))\n",
    "combined_pan15_train_stats['unique_word_count'] = combined_pan15_train['text'].apply(lambda x: len(set(x.split())))\n",
    "combined_pan15_train_stats['average_word_length'] = combined_pan15_train['text'].apply(lambda x: np.mean([len(word) for word in x.split()]))\n",
    "combined_pan15_train_stats['flesh_readability'] = combined_pan15_train['text'].apply(textstat.flesch_reading_ease)"
   ]
  },
  {
   "cell_type": "code",
   "execution_count": 5,
   "metadata": {},
   "outputs": [],
   "source": [
    "combined_pan15_test_stats = pd.DataFrame()\n",
    "combined_pan15_test_stats['total_word_count'] = combined_pan15_test['text'].apply(lambda x: len(x.split()))\n",
    "combined_pan15_test_stats['unique_word_count'] = combined_pan15_test['text'].apply(lambda x: len(set(x.split())))\n",
    "combined_pan15_test_stats['average_word_length'] = combined_pan15_test['text'].apply(lambda x: np.mean([len(word) for word in x.split()]))\n",
    "combined_pan15_test_stats['flesh_readability'] = combined_pan15_test['text'].apply(textstat.flesch_reading_ease)"
   ]
  },
  {
   "cell_type": "code",
   "execution_count": 6,
   "metadata": {},
   "outputs": [
    {
     "data": {
      "text/html": [
       "<div>\n",
       "<style scoped>\n",
       "    .dataframe tbody tr th:only-of-type {\n",
       "        vertical-align: middle;\n",
       "    }\n",
       "\n",
       "    .dataframe tbody tr th {\n",
       "        vertical-align: top;\n",
       "    }\n",
       "\n",
       "    .dataframe thead th {\n",
       "        text-align: right;\n",
       "    }\n",
       "</style>\n",
       "<table border=\"1\" class=\"dataframe\">\n",
       "  <thead>\n",
       "    <tr style=\"text-align: right;\">\n",
       "      <th></th>\n",
       "      <th>count</th>\n",
       "      <th>mean</th>\n",
       "      <th>std</th>\n",
       "      <th>min</th>\n",
       "      <th>25%</th>\n",
       "      <th>50%</th>\n",
       "      <th>75%</th>\n",
       "      <th>max</th>\n",
       "    </tr>\n",
       "  </thead>\n",
       "  <tbody>\n",
       "    <tr>\n",
       "      <th>total_word_count</th>\n",
       "      <td>152.0</td>\n",
       "      <td>1104.717</td>\n",
       "      <td>336.304</td>\n",
       "      <td>332.000</td>\n",
       "      <td>954.000</td>\n",
       "      <td>1101.000</td>\n",
       "      <td>1285.250</td>\n",
       "      <td>1868.000</td>\n",
       "    </tr>\n",
       "    <tr>\n",
       "      <th>unique_word_count</th>\n",
       "      <td>152.0</td>\n",
       "      <td>623.191</td>\n",
       "      <td>181.482</td>\n",
       "      <td>227.000</td>\n",
       "      <td>515.000</td>\n",
       "      <td>619.000</td>\n",
       "      <td>731.250</td>\n",
       "      <td>1106.000</td>\n",
       "    </tr>\n",
       "    <tr>\n",
       "      <th>average_word_length</th>\n",
       "      <td>152.0</td>\n",
       "      <td>5.623</td>\n",
       "      <td>0.875</td>\n",
       "      <td>4.031</td>\n",
       "      <td>4.851</td>\n",
       "      <td>5.583</td>\n",
       "      <td>6.356</td>\n",
       "      <td>7.436</td>\n",
       "    </tr>\n",
       "    <tr>\n",
       "      <th>flesh_readability</th>\n",
       "      <td>152.0</td>\n",
       "      <td>68.042</td>\n",
       "      <td>13.843</td>\n",
       "      <td>35.440</td>\n",
       "      <td>59.192</td>\n",
       "      <td>69.260</td>\n",
       "      <td>78.575</td>\n",
       "      <td>96.990</td>\n",
       "    </tr>\n",
       "  </tbody>\n",
       "</table>\n",
       "</div>"
      ],
      "text/plain": [
       "                     count      mean      std      min      25%       50%  \\\n",
       "total_word_count     152.0  1104.717  336.304  332.000  954.000  1101.000   \n",
       "unique_word_count    152.0   623.191  181.482  227.000  515.000   619.000   \n",
       "average_word_length  152.0     5.623    0.875    4.031    4.851     5.583   \n",
       "flesh_readability    152.0    68.042   13.843   35.440   59.192    69.260   \n",
       "\n",
       "                          75%       max  \n",
       "total_word_count     1285.250  1868.000  \n",
       "unique_word_count     731.250  1106.000  \n",
       "average_word_length     6.356     7.436  \n",
       "flesh_readability      78.575    96.990  "
      ]
     },
     "execution_count": 6,
     "metadata": {},
     "output_type": "execute_result"
    }
   ],
   "source": [
    "combined_pan15_train_stats.describe().T.round(3)"
   ]
  },
  {
   "cell_type": "code",
   "execution_count": 7,
   "metadata": {},
   "outputs": [
    {
     "data": {
      "text/html": [
       "<div>\n",
       "<style scoped>\n",
       "    .dataframe tbody tr th:only-of-type {\n",
       "        vertical-align: middle;\n",
       "    }\n",
       "\n",
       "    .dataframe tbody tr th {\n",
       "        vertical-align: top;\n",
       "    }\n",
       "\n",
       "    .dataframe thead th {\n",
       "        text-align: right;\n",
       "    }\n",
       "</style>\n",
       "<table border=\"1\" class=\"dataframe\">\n",
       "  <thead>\n",
       "    <tr style=\"text-align: right;\">\n",
       "      <th></th>\n",
       "      <th>count</th>\n",
       "      <th>mean</th>\n",
       "      <th>std</th>\n",
       "      <th>min</th>\n",
       "      <th>25%</th>\n",
       "      <th>50%</th>\n",
       "      <th>75%</th>\n",
       "      <th>max</th>\n",
       "    </tr>\n",
       "  </thead>\n",
       "  <tbody>\n",
       "    <tr>\n",
       "      <th>total_word_count</th>\n",
       "      <td>142.0</td>\n",
       "      <td>1105.127</td>\n",
       "      <td>361.950</td>\n",
       "      <td>281.000</td>\n",
       "      <td>920.500</td>\n",
       "      <td>1126.500</td>\n",
       "      <td>1313.250</td>\n",
       "      <td>1983.000</td>\n",
       "    </tr>\n",
       "    <tr>\n",
       "      <th>unique_word_count</th>\n",
       "      <td>142.0</td>\n",
       "      <td>611.155</td>\n",
       "      <td>195.167</td>\n",
       "      <td>94.000</td>\n",
       "      <td>487.250</td>\n",
       "      <td>603.500</td>\n",
       "      <td>723.000</td>\n",
       "      <td>1090.000</td>\n",
       "    </tr>\n",
       "    <tr>\n",
       "      <th>average_word_length</th>\n",
       "      <td>142.0</td>\n",
       "      <td>5.603</td>\n",
       "      <td>0.840</td>\n",
       "      <td>4.004</td>\n",
       "      <td>4.852</td>\n",
       "      <td>5.671</td>\n",
       "      <td>6.288</td>\n",
       "      <td>7.556</td>\n",
       "    </tr>\n",
       "    <tr>\n",
       "      <th>flesh_readability</th>\n",
       "      <td>142.0</td>\n",
       "      <td>67.503</td>\n",
       "      <td>13.757</td>\n",
       "      <td>38.180</td>\n",
       "      <td>55.995</td>\n",
       "      <td>67.195</td>\n",
       "      <td>79.820</td>\n",
       "      <td>97.400</td>\n",
       "    </tr>\n",
       "  </tbody>\n",
       "</table>\n",
       "</div>"
      ],
      "text/plain": [
       "                     count      mean      std      min      25%       50%  \\\n",
       "total_word_count     142.0  1105.127  361.950  281.000  920.500  1126.500   \n",
       "unique_word_count    142.0   611.155  195.167   94.000  487.250   603.500   \n",
       "average_word_length  142.0     5.603    0.840    4.004    4.852     5.671   \n",
       "flesh_readability    142.0    67.503   13.757   38.180   55.995    67.195   \n",
       "\n",
       "                          75%       max  \n",
       "total_word_count     1313.250  1983.000  \n",
       "unique_word_count     723.000  1090.000  \n",
       "average_word_length     6.288     7.556  \n",
       "flesh_readability      79.820    97.400  "
      ]
     },
     "execution_count": 7,
     "metadata": {},
     "output_type": "execute_result"
    }
   ],
   "source": [
    "combined_pan15_test_stats.describe().T.round(3)"
   ]
  },
  {
   "cell_type": "code",
   "execution_count": 8,
   "metadata": {},
   "outputs": [],
   "source": [
    "truth_pan15_train = pd.read_csv(r\"C:\\Users\\Sten\\Documents\\EUR BIM\\thesis\\data\\PAN 15\\pan15-author-profiling-training-dataset-2015-04-23\\pan15-author-profiling-training-dataset-english-2015-04-23\\truth.txt\",\n",
    "                          delimiter=':::', engine='python', header=None)\n",
    "truth_pan15_train.columns = ['author', 'gender', 'age', 'pers1', 'pers2', 'pers3', 'pers4', 'pers5']"
   ]
  },
  {
   "cell_type": "code",
   "execution_count": 9,
   "metadata": {},
   "outputs": [],
   "source": [
    "truth_pan15_test = pd.read_csv(r\"C:\\Users\\Sten\\Documents\\EUR BIM\\thesis\\data\\PAN 15\\test_data\\pan15-author-profiling-test-dataset2-english-2015-04-23\\truth.txt\",\n",
    "                          delimiter=':::', engine='python', header=None)\n",
    "truth_pan15_test.columns = ['author', 'gender', 'age', 'pers1', 'pers2', 'pers3', 'pers4', 'pers5']"
   ]
  },
  {
   "cell_type": "code",
   "execution_count": 10,
   "metadata": {},
   "outputs": [
    {
     "name": "stdout",
     "output_type": "stream",
     "text": [
      "Pan 15 training gender:\n",
      "M    76\n",
      "F    76\n",
      "Name: gender, dtype: int64\n",
      "Pan 15 training age:\n",
      "25-34    60\n",
      "18-24    58\n",
      "35-49    22\n",
      "50-XX    12\n",
      "Name: age, dtype: int64\n",
      "Pan 15 test gender:\n",
      "F    71\n",
      "M    71\n",
      "Name: gender, dtype: int64\n",
      "Pan 15 test age:\n",
      "25-34    58\n",
      "18-24    56\n",
      "35-49    20\n",
      "50-XX     8\n",
      "Name: age, dtype: int64\n"
     ]
    }
   ],
   "source": [
    "print(\"Pan 15 training gender:\")\n",
    "print(truth_pan15_train['gender'].value_counts())\n",
    "print(\"Pan 15 training age:\")\n",
    "print(truth_pan15_train['age'].value_counts())\n",
    "print(\"Pan 15 test gender:\")\n",
    "print(truth_pan15_test['gender'].value_counts())\n",
    "print(\"Pan 15 test age:\")\n",
    "print(truth_pan15_test['age'].value_counts())"
   ]
  },
  {
   "cell_type": "markdown",
   "metadata": {},
   "source": [
    "## RQ1"
   ]
  },
  {
   "cell_type": "code",
   "execution_count": 11,
   "metadata": {},
   "outputs": [],
   "source": [
    "df_gpt = pd.read_csv(r'C:\\Users\\Sten\\Documents\\EUR BIM\\thesis\\data\\data\\gpt1.csv')\n",
    "df_gemini = pd.read_csv(r'C:\\Users\\Sten\\Documents\\EUR BIM\\thesis\\data\\data\\gemini1.csv')\n",
    "df_llama = pd.read_csv(r'C:\\Users\\Sten\\Documents\\EUR BIM\\thesis\\data\\data\\llama1.csv')"
   ]
  },
  {
   "cell_type": "code",
   "execution_count": 12,
   "metadata": {},
   "outputs": [],
   "source": [
    "df_gpt_stats = pd.DataFrame()\n",
    "df_gpt_stats['total_word_count'] = df_gpt['text'].apply(lambda x: len(x.split()))\n",
    "df_gpt_stats['unique_word_count'] = df_gpt['text'].apply(lambda x: len(set(x.split())))\n",
    "df_gpt_stats['average_word_length'] = df_gpt['text'].apply(lambda x: np.mean([len(word) for word in x.split()]))\n",
    "df_gpt_stats['flesh_readability'] = df_gpt['text'].apply(textstat.flesch_reading_ease)"
   ]
  },
  {
   "cell_type": "code",
   "execution_count": 13,
   "metadata": {},
   "outputs": [
    {
     "data": {
      "text/html": [
       "<div>\n",
       "<style scoped>\n",
       "    .dataframe tbody tr th:only-of-type {\n",
       "        vertical-align: middle;\n",
       "    }\n",
       "\n",
       "    .dataframe tbody tr th {\n",
       "        vertical-align: top;\n",
       "    }\n",
       "\n",
       "    .dataframe thead th {\n",
       "        text-align: right;\n",
       "    }\n",
       "</style>\n",
       "<table border=\"1\" class=\"dataframe\">\n",
       "  <thead>\n",
       "    <tr style=\"text-align: right;\">\n",
       "      <th></th>\n",
       "      <th>count</th>\n",
       "      <th>mean</th>\n",
       "      <th>std</th>\n",
       "      <th>min</th>\n",
       "      <th>25%</th>\n",
       "      <th>50%</th>\n",
       "      <th>75%</th>\n",
       "      <th>max</th>\n",
       "    </tr>\n",
       "  </thead>\n",
       "  <tbody>\n",
       "    <tr>\n",
       "      <th>total_word_count</th>\n",
       "      <td>250.0</td>\n",
       "      <td>272.056</td>\n",
       "      <td>15.896</td>\n",
       "      <td>222.000</td>\n",
       "      <td>259.000</td>\n",
       "      <td>273.000</td>\n",
       "      <td>283.000</td>\n",
       "      <td>303.000</td>\n",
       "    </tr>\n",
       "    <tr>\n",
       "      <th>unique_word_count</th>\n",
       "      <td>250.0</td>\n",
       "      <td>181.268</td>\n",
       "      <td>8.988</td>\n",
       "      <td>155.000</td>\n",
       "      <td>176.000</td>\n",
       "      <td>180.000</td>\n",
       "      <td>185.000</td>\n",
       "      <td>217.000</td>\n",
       "    </tr>\n",
       "    <tr>\n",
       "      <th>average_word_length</th>\n",
       "      <td>250.0</td>\n",
       "      <td>5.633</td>\n",
       "      <td>0.144</td>\n",
       "      <td>5.314</td>\n",
       "      <td>5.516</td>\n",
       "      <td>5.625</td>\n",
       "      <td>5.747</td>\n",
       "      <td>5.913</td>\n",
       "    </tr>\n",
       "    <tr>\n",
       "      <th>flesh_readability</th>\n",
       "      <td>250.0</td>\n",
       "      <td>-146.659</td>\n",
       "      <td>103.824</td>\n",
       "      <td>-235.060</td>\n",
       "      <td>-211.970</td>\n",
       "      <td>-193.790</td>\n",
       "      <td>-174.160</td>\n",
       "      <td>46.300</td>\n",
       "    </tr>\n",
       "  </tbody>\n",
       "</table>\n",
       "</div>"
      ],
      "text/plain": [
       "                     count     mean      std      min      25%      50%  \\\n",
       "total_word_count     250.0  272.056   15.896  222.000  259.000  273.000   \n",
       "unique_word_count    250.0  181.268    8.988  155.000  176.000  180.000   \n",
       "average_word_length  250.0    5.633    0.144    5.314    5.516    5.625   \n",
       "flesh_readability    250.0 -146.659  103.824 -235.060 -211.970 -193.790   \n",
       "\n",
       "                         75%      max  \n",
       "total_word_count     283.000  303.000  \n",
       "unique_word_count    185.000  217.000  \n",
       "average_word_length    5.747    5.913  \n",
       "flesh_readability   -174.160   46.300  "
      ]
     },
     "execution_count": 13,
     "metadata": {},
     "output_type": "execute_result"
    }
   ],
   "source": [
    "df_gpt_stats.describe().T.round(3)"
   ]
  },
  {
   "cell_type": "code",
   "execution_count": 14,
   "metadata": {},
   "outputs": [],
   "source": [
    "df_gemini_stats = pd.DataFrame()\n",
    "df_gemini_stats['total_word_count'] = df_gemini['text'].apply(lambda x: len(x.split()))\n",
    "df_gemini_stats['unique_word_count'] = df_gemini['text'].apply(lambda x: len(set(x.split())))\n",
    "df_gemini_stats['average_word_length'] = df_gemini['text'].apply(lambda x: np.mean([len(word) for word in x.split()]))\n",
    "df_gemini_stats['flesh_readability'] = df_gemini['text'].apply(textstat.flesch_reading_ease)"
   ]
  },
  {
   "cell_type": "code",
   "execution_count": 15,
   "metadata": {},
   "outputs": [
    {
     "data": {
      "text/html": [
       "<div>\n",
       "<style scoped>\n",
       "    .dataframe tbody tr th:only-of-type {\n",
       "        vertical-align: middle;\n",
       "    }\n",
       "\n",
       "    .dataframe tbody tr th {\n",
       "        vertical-align: top;\n",
       "    }\n",
       "\n",
       "    .dataframe thead th {\n",
       "        text-align: right;\n",
       "    }\n",
       "</style>\n",
       "<table border=\"1\" class=\"dataframe\">\n",
       "  <thead>\n",
       "    <tr style=\"text-align: right;\">\n",
       "      <th></th>\n",
       "      <th>count</th>\n",
       "      <th>mean</th>\n",
       "      <th>std</th>\n",
       "      <th>min</th>\n",
       "      <th>25%</th>\n",
       "      <th>50%</th>\n",
       "      <th>75%</th>\n",
       "      <th>max</th>\n",
       "    </tr>\n",
       "  </thead>\n",
       "  <tbody>\n",
       "    <tr>\n",
       "      <th>total_word_count</th>\n",
       "      <td>137.0</td>\n",
       "      <td>147.985</td>\n",
       "      <td>45.447</td>\n",
       "      <td>96.000</td>\n",
       "      <td>122.00</td>\n",
       "      <td>130.000</td>\n",
       "      <td>152.00</td>\n",
       "      <td>382.000</td>\n",
       "    </tr>\n",
       "    <tr>\n",
       "      <th>unique_word_count</th>\n",
       "      <td>137.0</td>\n",
       "      <td>101.861</td>\n",
       "      <td>24.052</td>\n",
       "      <td>76.000</td>\n",
       "      <td>88.00</td>\n",
       "      <td>92.000</td>\n",
       "      <td>105.00</td>\n",
       "      <td>224.000</td>\n",
       "    </tr>\n",
       "    <tr>\n",
       "      <th>average_word_length</th>\n",
       "      <td>137.0</td>\n",
       "      <td>5.439</td>\n",
       "      <td>0.376</td>\n",
       "      <td>4.395</td>\n",
       "      <td>5.26</td>\n",
       "      <td>5.475</td>\n",
       "      <td>5.68</td>\n",
       "      <td>6.191</td>\n",
       "    </tr>\n",
       "    <tr>\n",
       "      <th>flesh_readability</th>\n",
       "      <td>137.0</td>\n",
       "      <td>5.330</td>\n",
       "      <td>27.537</td>\n",
       "      <td>-168.410</td>\n",
       "      <td>-2.26</td>\n",
       "      <td>6.180</td>\n",
       "      <td>18.53</td>\n",
       "      <td>65.760</td>\n",
       "    </tr>\n",
       "  </tbody>\n",
       "</table>\n",
       "</div>"
      ],
      "text/plain": [
       "                     count     mean     std      min     25%      50%     75%  \\\n",
       "total_word_count     137.0  147.985  45.447   96.000  122.00  130.000  152.00   \n",
       "unique_word_count    137.0  101.861  24.052   76.000   88.00   92.000  105.00   \n",
       "average_word_length  137.0    5.439   0.376    4.395    5.26    5.475    5.68   \n",
       "flesh_readability    137.0    5.330  27.537 -168.410   -2.26    6.180   18.53   \n",
       "\n",
       "                         max  \n",
       "total_word_count     382.000  \n",
       "unique_word_count    224.000  \n",
       "average_word_length    6.191  \n",
       "flesh_readability     65.760  "
      ]
     },
     "execution_count": 15,
     "metadata": {},
     "output_type": "execute_result"
    }
   ],
   "source": [
    "df_gemini_stats.describe().T.round(3)"
   ]
  },
  {
   "cell_type": "code",
   "execution_count": 16,
   "metadata": {},
   "outputs": [],
   "source": [
    "df_llama_stats = pd.DataFrame()\n",
    "df_llama_stats['total_word_count'] = df_llama['text'].apply(lambda x: len(x.split()))\n",
    "df_llama_stats['unique_word_count'] = df_llama['text'].apply(lambda x: len(set(x.split())))\n",
    "df_llama_stats['average_word_length'] = df_llama['text'].apply(lambda x: np.mean([len(word) for word in x.split()]))\n",
    "df_llama_stats['flesh_readability'] = df_llama['text'].apply(textstat.flesch_reading_ease)"
   ]
  },
  {
   "cell_type": "code",
   "execution_count": 17,
   "metadata": {},
   "outputs": [
    {
     "data": {
      "text/html": [
       "<div>\n",
       "<style scoped>\n",
       "    .dataframe tbody tr th:only-of-type {\n",
       "        vertical-align: middle;\n",
       "    }\n",
       "\n",
       "    .dataframe tbody tr th {\n",
       "        vertical-align: top;\n",
       "    }\n",
       "\n",
       "    .dataframe thead th {\n",
       "        text-align: right;\n",
       "    }\n",
       "</style>\n",
       "<table border=\"1\" class=\"dataframe\">\n",
       "  <thead>\n",
       "    <tr style=\"text-align: right;\">\n",
       "      <th></th>\n",
       "      <th>count</th>\n",
       "      <th>mean</th>\n",
       "      <th>std</th>\n",
       "      <th>min</th>\n",
       "      <th>25%</th>\n",
       "      <th>50%</th>\n",
       "      <th>75%</th>\n",
       "      <th>max</th>\n",
       "    </tr>\n",
       "  </thead>\n",
       "  <tbody>\n",
       "    <tr>\n",
       "      <th>total_word_count</th>\n",
       "      <td>189.0</td>\n",
       "      <td>285.016</td>\n",
       "      <td>94.961</td>\n",
       "      <td>50.000</td>\n",
       "      <td>231.000</td>\n",
       "      <td>285.000</td>\n",
       "      <td>356.000</td>\n",
       "      <td>633.00</td>\n",
       "    </tr>\n",
       "    <tr>\n",
       "      <th>unique_word_count</th>\n",
       "      <td>189.0</td>\n",
       "      <td>147.709</td>\n",
       "      <td>45.010</td>\n",
       "      <td>39.000</td>\n",
       "      <td>119.000</td>\n",
       "      <td>148.000</td>\n",
       "      <td>175.000</td>\n",
       "      <td>324.00</td>\n",
       "    </tr>\n",
       "    <tr>\n",
       "      <th>average_word_length</th>\n",
       "      <td>189.0</td>\n",
       "      <td>4.938</td>\n",
       "      <td>0.709</td>\n",
       "      <td>3.435</td>\n",
       "      <td>4.477</td>\n",
       "      <td>4.893</td>\n",
       "      <td>5.308</td>\n",
       "      <td>8.44</td>\n",
       "    </tr>\n",
       "    <tr>\n",
       "      <th>flesh_readability</th>\n",
       "      <td>189.0</td>\n",
       "      <td>16.119</td>\n",
       "      <td>82.482</td>\n",
       "      <td>-355.170</td>\n",
       "      <td>-12.780</td>\n",
       "      <td>54.490</td>\n",
       "      <td>70.190</td>\n",
       "      <td>98.51</td>\n",
       "    </tr>\n",
       "  </tbody>\n",
       "</table>\n",
       "</div>"
      ],
      "text/plain": [
       "                     count     mean     std      min      25%      50%  \\\n",
       "total_word_count     189.0  285.016  94.961   50.000  231.000  285.000   \n",
       "unique_word_count    189.0  147.709  45.010   39.000  119.000  148.000   \n",
       "average_word_length  189.0    4.938   0.709    3.435    4.477    4.893   \n",
       "flesh_readability    189.0   16.119  82.482 -355.170  -12.780   54.490   \n",
       "\n",
       "                         75%     max  \n",
       "total_word_count     356.000  633.00  \n",
       "unique_word_count    175.000  324.00  \n",
       "average_word_length    5.308    8.44  \n",
       "flesh_readability     70.190   98.51  "
      ]
     },
     "execution_count": 17,
     "metadata": {},
     "output_type": "execute_result"
    }
   ],
   "source": [
    "df_llama_stats.describe().T.round(3)"
   ]
  },
  {
   "cell_type": "markdown",
   "metadata": {},
   "source": [
    "## RQ2"
   ]
  },
  {
   "cell_type": "code",
   "execution_count": 18,
   "metadata": {},
   "outputs": [],
   "source": [
    "df_gpt2_male = pd.read_csv(r'C:\\Users\\Sten\\Documents\\EUR BIM\\thesis\\data\\data\\gpt2_male.csv')\n",
    "df_gpt2_female = pd.read_csv(r'C:\\Users\\Sten\\Documents\\EUR BIM\\thesis\\data\\data\\gpt2_female.csv')\n",
    "df_gpt2_18_24 = pd.read_csv(r'C:\\Users\\Sten\\Documents\\EUR BIM\\thesis\\data\\data\\gpt2_18_24.csv')\n",
    "df_gpt2_25_34 = pd.read_csv(r'C:\\Users\\Sten\\Documents\\EUR BIM\\thesis\\data\\data\\gpt2_25_34.csv')\n",
    "df_gpt2_35_49 = pd.read_csv(r'C:\\Users\\Sten\\Documents\\EUR BIM\\thesis\\data\\data\\gpt2_35_49.csv')\n",
    "df_gpt2_50 = pd.read_csv(r'C:\\Users\\Sten\\Documents\\EUR BIM\\thesis\\data\\data\\gpt2_50.csv')"
   ]
  },
  {
   "cell_type": "code",
   "execution_count": 19,
   "metadata": {},
   "outputs": [],
   "source": [
    "df_gpt2_male_stats = pd.DataFrame()\n",
    "df_gpt2_male_stats['total_word_count'] = df_gpt2_male['text'].apply(lambda x: len(x.split()))\n",
    "df_gpt2_male_stats['unique_word_count'] = df_gpt2_male['text'].apply(lambda x: len(set(x.split())))\n",
    "df_gpt2_male_stats['average_word_length'] = df_gpt2_male['text'].apply(lambda x: np.mean([len(word) for word in x.split()]))\n",
    "df_gpt2_male_stats['flesh_readability'] = df_gpt2_male['text'].apply(textstat.flesch_reading_ease)\n",
    "\n",
    "df_gpt2_female_stats = pd.DataFrame()\n",
    "df_gpt2_female_stats['total_word_count'] = df_gpt2_female['text'].apply(lambda x: len(x.split()))\n",
    "df_gpt2_female_stats['unique_word_count'] = df_gpt2_female['text'].apply(lambda x: len(set(x.split())))\n",
    "df_gpt2_female_stats['average_word_length'] = df_gpt2_female['text'].apply(lambda x: np.mean([len(word) for word in x.split()]))\n",
    "df_gpt2_female_stats['flesh_readability'] = df_gpt2_female['text'].apply(textstat.flesch_reading_ease)\n",
    "\n",
    "df_gpt2_18_24_stats = pd.DataFrame()\n",
    "df_gpt2_18_24_stats['total_word_count'] = df_gpt2_18_24['text'].apply(lambda x: len(x.split()))\n",
    "df_gpt2_18_24_stats['unique_word_count'] = df_gpt2_18_24['text'].apply(lambda x: len(set(x.split())))\n",
    "df_gpt2_18_24_stats['average_word_length'] = df_gpt2_18_24['text'].apply(lambda x: np.mean([len(word) for word in x.split()]))\n",
    "df_gpt2_18_24_stats['flesh_readability'] = df_gpt2_18_24['text'].apply(textstat.flesch_reading_ease)\n",
    "\n",
    "df_gpt2_25_34_stats = pd.DataFrame()\n",
    "df_gpt2_25_34_stats['total_word_count'] = df_gpt2_25_34['text'].apply(lambda x: len(x.split()))\n",
    "df_gpt2_25_34_stats['unique_word_count'] = df_gpt2_25_34['text'].apply(lambda x: len(set(x.split())))\n",
    "df_gpt2_25_34_stats['average_word_length'] = df_gpt2_25_34['text'].apply(lambda x: np.mean([len(word) for word in x.split()]))\n",
    "df_gpt2_25_34_stats['flesh_readability'] = df_gpt2_25_34['text'].apply(textstat.flesch_reading_ease)\n",
    "\n",
    "df_gpt2_35_49_stats = pd.DataFrame()\n",
    "df_gpt2_35_49_stats['total_word_count'] = df_gpt2_35_49['text'].apply(lambda x: len(x.split()))\n",
    "df_gpt2_35_49_stats['unique_word_count'] = df_gpt2_35_49['text'].apply(lambda x: len(set(x.split())))\n",
    "df_gpt2_35_49_stats['average_word_length'] = df_gpt2_35_49['text'].apply(lambda x: np.mean([len(word) for word in x.split()]))\n",
    "df_gpt2_35_49_stats['flesh_readability'] = df_gpt2_35_49['text'].apply(textstat.flesch_reading_ease)\n",
    "\n",
    "df_gpt2_50_stats = pd.DataFrame()\n",
    "df_gpt2_50_stats['total_word_count'] = df_gpt2_50['text'].apply(lambda x: len(x.split()))\n",
    "df_gpt2_50_stats['unique_word_count'] = df_gpt2_50['text'].apply(lambda x: len(set(x.split())))\n",
    "df_gpt2_50_stats['average_word_length'] = df_gpt2_50['text'].apply(lambda x: np.mean([len(word) for word in x.split()]))\n",
    "df_gpt2_50_stats['flesh_readability'] = df_gpt2_50['text'].apply(textstat.flesch_reading_ease)\n"
   ]
  },
  {
   "cell_type": "code",
   "execution_count": 20,
   "metadata": {},
   "outputs": [
    {
     "name": "stdout",
     "output_type": "stream",
     "text": [
      "stats for gpt2_male data:\n",
      "                     count     mean     std      min      25%      50%  \\\n",
      "total_word_count     104.0  220.567  11.993  201.000  213.750  219.000   \n",
      "unique_word_count    104.0  157.394   7.808  143.000  155.000  156.000   \n",
      "average_word_length  104.0    4.572   0.077    4.328    4.526    4.561   \n",
      "flesh_readability    104.0   15.911  16.480  -27.830   15.915   21.560   \n",
      "\n",
      "                         75%      max  \n",
      "total_word_count     224.000  298.000  \n",
      "unique_word_count    158.000  214.000  \n",
      "average_word_length    4.608    4.721  \n",
      "flesh_readability     23.440   73.810  \n"
     ]
    }
   ],
   "source": [
    "print(\"stats for gpt2_male data:\")\n",
    "print(df_gpt2_male_stats.describe().T.round(3))"
   ]
  },
  {
   "cell_type": "code",
   "execution_count": 21,
   "metadata": {},
   "outputs": [
    {
     "name": "stdout",
     "output_type": "stream",
     "text": [
      "stats for gpt2_female data:\n",
      "                     count     mean     std      min      25%      50%  \\\n",
      "total_word_count     101.0  318.911  21.142  250.000  303.000  322.000   \n",
      "unique_word_count    101.0  177.495  11.329  151.000  169.000  179.000   \n",
      "average_word_length  101.0    4.322   0.047    4.188    4.311    4.317   \n",
      "flesh_readability    101.0 -158.725  96.461 -225.250 -220.170 -202.920   \n",
      "\n",
      "                         75%      max  \n",
      "total_word_count     337.000  373.000  \n",
      "unique_word_count    179.000  240.000  \n",
      "average_word_length    4.327    4.507  \n",
      "flesh_readability   -184.990   80.580  \n"
     ]
    }
   ],
   "source": [
    "print(\"stats for gpt2_female data:\")\n",
    "print(df_gpt2_female_stats.describe().T.round(3))"
   ]
  },
  {
   "cell_type": "code",
   "execution_count": 22,
   "metadata": {},
   "outputs": [
    {
     "name": "stdout",
     "output_type": "stream",
     "text": [
      "stats for gpt2_18_24 data:\n",
      "                     count     mean     std      min      25%      50%  \\\n",
      "total_word_count      60.0  233.983   8.842  208.000  231.000  232.000   \n",
      "unique_word_count     60.0  152.367  10.993  138.000  147.000  148.000   \n",
      "average_word_length   60.0    4.353   0.085    4.236    4.295    4.319   \n",
      "flesh_readability     60.0   34.854  16.826  -16.160   18.968   35.620   \n",
      "\n",
      "                         75%      max  \n",
      "total_word_count     239.000  256.000  \n",
      "unique_word_count    157.000  195.000  \n",
      "average_word_length    4.392    4.622  \n",
      "flesh_readability     44.340   74.020  \n"
     ]
    }
   ],
   "source": [
    "print(\"stats for gpt2_18_24 data:\")\n",
    "print(df_gpt2_18_24_stats.describe().T.round(3))"
   ]
  },
  {
   "cell_type": "code",
   "execution_count": 23,
   "metadata": {},
   "outputs": [
    {
     "name": "stdout",
     "output_type": "stream",
     "text": [
      "stats for gpt2_25_34 data:\n",
      "                     count     mean     std      min      25%      50%  \\\n",
      "total_word_count      53.0  221.283  11.605  203.000  214.000  217.000   \n",
      "unique_word_count     53.0  159.321  10.162  140.000  153.000  155.000   \n",
      "average_word_length   53.0    5.468   0.254    5.048    5.116    5.616   \n",
      "flesh_readability     53.0  -33.196  91.526 -159.270 -141.340   16.870   \n",
      "\n",
      "                         75%      max  \n",
      "total_word_count     227.000  250.000  \n",
      "unique_word_count    167.000  183.000  \n",
      "average_word_length    5.678    5.721  \n",
      "flesh_readability     40.050   67.690  \n"
     ]
    }
   ],
   "source": [
    "print(\"stats for gpt2_25_34 data:\")\n",
    "print(df_gpt2_25_34_stats.describe().T.round(3))"
   ]
  },
  {
   "cell_type": "code",
   "execution_count": 24,
   "metadata": {},
   "outputs": [
    {
     "name": "stdout",
     "output_type": "stream",
     "text": [
      "stats for gpt2_35_49 data:\n",
      "                     count     mean     std      min      25%      50%  \\\n",
      "total_word_count      54.0  363.500  37.748  326.000  330.000  353.500   \n",
      "unique_word_count     54.0  240.093  18.130  218.000  229.000  236.500   \n",
      "average_word_length   54.0    5.709   0.113    5.447    5.635    5.745   \n",
      "flesh_readability     54.0 -297.015  37.469 -386.300 -316.265 -287.335   \n",
      "\n",
      "                         75%      max  \n",
      "total_word_count     382.000  453.000  \n",
      "unique_word_count    248.000  290.000  \n",
      "average_word_length    5.781    5.872  \n",
      "flesh_readability   -263.485 -259.420  \n"
     ]
    }
   ],
   "source": [
    "print(\"stats for gpt2_35_49 data:\")\n",
    "print(df_gpt2_35_49_stats.describe().T.round(3))"
   ]
  },
  {
   "cell_type": "code",
   "execution_count": 25,
   "metadata": {},
   "outputs": [
    {
     "name": "stdout",
     "output_type": "stream",
     "text": [
      "stats for gpt2_50 data:\n",
      "                     count     mean     std      min      25%      50%  \\\n",
      "total_word_count      57.0  348.632  12.445  327.000  342.000  351.000   \n",
      "unique_word_count     57.0  191.632   9.965  177.000  188.000  189.000   \n",
      "average_word_length   57.0    4.567   0.067    4.395    4.544    4.578   \n",
      "flesh_readability     57.0 -265.621  13.032 -312.540 -272.950 -267.880   \n",
      "\n",
      "                        75%      max  \n",
      "total_word_count     356.00  395.000  \n",
      "unique_word_count    193.00  240.000  \n",
      "average_word_length    4.59    4.902  \n",
      "flesh_readability   -258.74 -243.520  \n"
     ]
    }
   ],
   "source": [
    "print(\"stats for gpt2_50 data:\")\n",
    "print(df_gpt2_50_stats.describe().T.round(3))"
   ]
  },
  {
   "cell_type": "code",
   "execution_count": 26,
   "metadata": {},
   "outputs": [],
   "source": [
    "df_gemini2_male = pd.read_csv(r'C:\\Users\\Sten\\Documents\\EUR BIM\\thesis\\data\\data\\gemini2_male.csv')\n",
    "df_gemini2_female = pd.read_csv(r'C:\\Users\\Sten\\Documents\\EUR BIM\\thesis\\data\\data\\gemini2_female.csv')\n",
    "df_gemini2_18_24 = pd.read_csv(r'C:\\Users\\Sten\\Documents\\EUR BIM\\thesis\\data\\data\\gemini2_18_24.csv')\n",
    "df_gemini2_25_34 = pd.read_csv(r'C:\\Users\\Sten\\Documents\\EUR BIM\\thesis\\data\\data\\gemini2_25_34.csv')\n",
    "df_gemini2_35_49 = pd.read_csv(r'C:\\Users\\Sten\\Documents\\EUR BIM\\thesis\\data\\data\\gemini2_35_49.csv')\n",
    "df_gemini2_50 = pd.read_csv(r'C:\\Users\\Sten\\Documents\\EUR BIM\\thesis\\data\\data\\gemini2_50.csv')"
   ]
  },
  {
   "cell_type": "code",
   "execution_count": 27,
   "metadata": {},
   "outputs": [],
   "source": [
    "df_gemini2_male_stats = pd.DataFrame()\n",
    "df_gemini2_male_stats['total_word_count'] = df_gemini2_male['text'].apply(lambda x: len(x.split()))\n",
    "df_gemini2_male_stats['unique_word_count'] = df_gemini2_male['text'].apply(lambda x: len(set(x.split())))\n",
    "df_gemini2_male_stats['average_word_length'] = df_gemini2_male['text'].apply(lambda x: np.mean([len(word) for word in x.split()]))\n",
    "df_gemini2_male_stats['flesh_readability'] = df_gemini2_male['text'].apply(textstat.flesch_reading_ease)\n",
    "\n",
    "df_gemini2_female_stats = pd.DataFrame()\n",
    "df_gemini2_female_stats['total_word_count'] = df_gemini2_female['text'].apply(lambda x: len(x.split()))\n",
    "df_gemini2_female_stats['unique_word_count'] = df_gemini2_female['text'].apply(lambda x: len(set(x.split())))\n",
    "df_gemini2_female_stats['average_word_length'] = df_gemini2_female['text'].apply(lambda x: np.mean([len(word) for word in x.split()]))\n",
    "df_gemini2_female_stats['flesh_readability'] = df_gemini2_female['text'].apply(textstat.flesch_reading_ease)\n",
    "\n",
    "df_gemini2_18_24_stats = pd.DataFrame()\n",
    "df_gemini2_18_24_stats['total_word_count'] = df_gemini2_18_24['text'].apply(lambda x: len(x.split()))\n",
    "df_gemini2_18_24_stats['unique_word_count'] = df_gemini2_18_24['text'].apply(lambda x: len(set(x.split())))\n",
    "df_gemini2_18_24_stats['average_word_length'] = df_gemini2_18_24['text'].apply(lambda x: np.mean([len(word) for word in x.split()]))\n",
    "df_gemini2_18_24_stats['flesh_readability'] = df_gemini2_18_24['text'].apply(textstat.flesch_reading_ease)\n",
    "\n",
    "df_gemini2_25_34_stats = pd.DataFrame()\n",
    "df_gemini2_25_34_stats['total_word_count'] = df_gemini2_25_34['text'].apply(lambda x: len(x.split()))\n",
    "df_gemini2_25_34_stats['unique_word_count'] = df_gemini2_25_34['text'].apply(lambda x: len(set(x.split())))\n",
    "df_gemini2_25_34_stats['average_word_length'] = df_gemini2_25_34['text'].apply(lambda x: np.mean([len(word) for word in x.split()]))\n",
    "df_gemini2_25_34_stats['flesh_readability'] = df_gemini2_25_34['text'].apply(textstat.flesch_reading_ease)\n",
    "\n",
    "df_gemini2_35_49_stats = pd.DataFrame()\n",
    "df_gemini2_35_49_stats['total_word_count'] = df_gemini2_35_49['text'].apply(lambda x: len(x.split()))\n",
    "df_gemini2_35_49_stats['unique_word_count'] = df_gemini2_35_49['text'].apply(lambda x: len(set(x.split())))\n",
    "df_gemini2_35_49_stats['average_word_length'] = df_gemini2_35_49['text'].apply(lambda x: np.mean([len(word) for word in x.split()]))\n",
    "df_gemini2_35_49_stats['flesh_readability'] = df_gemini2_35_49['text'].apply(textstat.flesch_reading_ease)\n",
    "\n",
    "df_gemini2_50_stats = pd.DataFrame()\n",
    "df_gemini2_50_stats['total_word_count'] = df_gemini2_50['text'].apply(lambda x: len(x.split()))\n",
    "df_gemini2_50_stats['unique_word_count'] = df_gemini2_50['text'].apply(lambda x: len(set(x.split())))\n",
    "df_gemini2_50_stats['average_word_length'] = df_gemini2_50['text'].apply(lambda x: np.mean([len(word) for word in x.split()]))\n",
    "df_gemini2_50_stats['flesh_readability'] = df_gemini2_50['text'].apply(textstat.flesch_reading_ease)"
   ]
  },
  {
   "cell_type": "code",
   "execution_count": 28,
   "metadata": {},
   "outputs": [
    {
     "name": "stdout",
     "output_type": "stream",
     "text": [
      "stats for gemini2_male data:\n",
      "                     count     mean     std      min      25%      50%  \\\n",
      "total_word_count      53.0  200.377  25.624  169.000  188.000  198.000   \n",
      "unique_word_count     53.0  147.019  20.545  126.000  135.000  143.000   \n",
      "average_word_length   53.0    5.617   0.301    5.084    5.436    5.579   \n",
      "flesh_readability     53.0   69.281   5.308   54.080   64.470   71.210   \n",
      "\n",
      "                         75%      max  \n",
      "total_word_count     204.000  309.000  \n",
      "unique_word_count    148.000  228.000  \n",
      "average_word_length    5.747    6.294  \n",
      "flesh_readability     72.220   80.480  \n"
     ]
    }
   ],
   "source": [
    "print(\"stats for gemini2_male data:\")\n",
    "print(df_gemini2_male_stats.describe().T.round(3))"
   ]
  },
  {
   "cell_type": "code",
   "execution_count": 29,
   "metadata": {},
   "outputs": [
    {
     "name": "stdout",
     "output_type": "stream",
     "text": [
      "stats for gemini2_female data:\n",
      "                     count    mean     std     min     25%     50%      75%  \\\n",
      "total_word_count      51.0  91.784  10.364  80.000  85.000  87.000  101.000   \n",
      "unique_word_count     51.0  75.745   7.418  68.000  70.500  73.000   82.000   \n",
      "average_word_length   51.0   4.847   0.362   4.409   4.534   4.745    4.977   \n",
      "flesh_readability     51.0  45.896  36.459 -12.780  -9.730  58.960   72.500   \n",
      "\n",
      "                         max  \n",
      "total_word_count     109.000  \n",
      "unique_word_count     88.000  \n",
      "average_word_length    5.438  \n",
      "flesh_readability     76.250  \n"
     ]
    }
   ],
   "source": [
    "print(\"stats for gemini2_female data:\")\n",
    "print(df_gemini2_female_stats.describe().T.round(3))"
   ]
  },
  {
   "cell_type": "code",
   "execution_count": 30,
   "metadata": {},
   "outputs": [
    {
     "name": "stdout",
     "output_type": "stream",
     "text": [
      "stats for gemini2_18_24 data:\n",
      "                     count     mean     std      min      25%      50%  \\\n",
      "total_word_count      51.0  269.784  20.116  198.000  264.000  266.000   \n",
      "unique_word_count     51.0  151.941  13.234  111.000  146.000  152.000   \n",
      "average_word_length   51.0    4.825   0.259    4.066    4.781    4.807   \n",
      "flesh_readability     51.0 -188.595  22.428 -236.410 -199.200 -182.620   \n",
      "\n",
      "                         75%      max  \n",
      "total_word_count     275.000  320.000  \n",
      "unique_word_count    167.000  169.000  \n",
      "average_word_length    4.989    5.136  \n",
      "flesh_readability   -180.590 -104.120  \n"
     ]
    }
   ],
   "source": [
    "print(\"stats for gemini2_18_24 data:\")\n",
    "print(df_gemini2_18_24_stats.describe().T.round(3))"
   ]
  },
  {
   "cell_type": "code",
   "execution_count": 31,
   "metadata": {},
   "outputs": [
    {
     "name": "stdout",
     "output_type": "stream",
     "text": [
      "stats for gemini2_25_34 data:\n",
      "                     count    mean     std    min     25%     50%     75%  \\\n",
      "total_word_count      55.0  85.582  10.459  74.00  83.000  84.000  84.000   \n",
      "unique_word_count     55.0  73.582   7.946  65.00  71.000  73.000  73.000   \n",
      "average_word_length   55.0   5.266   0.141   5.00   5.131   5.369   5.369   \n",
      "flesh_readability     55.0  56.983   2.750  51.38  55.915  57.270  58.365   \n",
      "\n",
      "                         max  \n",
      "total_word_count     120.000  \n",
      "unique_word_count    100.000  \n",
      "average_word_length    5.519  \n",
      "flesh_readability     67.590  \n"
     ]
    }
   ],
   "source": [
    "print(\"stats for gemini2_25_34 data:\")\n",
    "print(df_gemini2_25_34_stats.describe().T.round(3))"
   ]
  },
  {
   "cell_type": "code",
   "execution_count": 32,
   "metadata": {},
   "outputs": [
    {
     "name": "stdout",
     "output_type": "stream",
     "text": [
      "stats for gemini2_35_49 data:\n",
      "                     count     mean     std      min      25%      50%  \\\n",
      "total_word_count      50.0  162.260  45.961  123.000  135.250  153.000   \n",
      "unique_word_count     50.0  121.140  34.018   91.000   99.250  114.000   \n",
      "average_word_length   50.0    5.027   0.377    4.817    4.858    4.947   \n",
      "flesh_readability     50.0   66.202   6.273   54.560   63.090   70.430   \n",
      "\n",
      "                         75%      max  \n",
      "total_word_count     174.250  374.000  \n",
      "unique_word_count    130.250  274.000  \n",
      "average_word_length    5.023    6.593  \n",
      "flesh_readability     70.530   73.470  \n"
     ]
    }
   ],
   "source": [
    "print(\"stats for gemini2_35_49 data:\")\n",
    "print(df_gemini2_35_49_stats.describe().T.round(3))"
   ]
  },
  {
   "cell_type": "code",
   "execution_count": 33,
   "metadata": {},
   "outputs": [
    {
     "name": "stdout",
     "output_type": "stream",
     "text": [
      "stats for gemini2_50 data:\n",
      "                     count     mean     std      min      25%      50%  \\\n",
      "total_word_count      51.0  226.098  43.969  167.000  196.000  213.000   \n",
      "unique_word_count     51.0  166.275  28.080  128.000  146.000  171.000   \n",
      "average_word_length   51.0    5.926   0.122    5.734    5.849    5.863   \n",
      "flesh_readability     51.0   66.838   5.399   55.710   64.170   64.780   \n",
      "\n",
      "                         75%     max  \n",
      "total_word_count     266.000  376.00  \n",
      "unique_word_count    193.500  253.00  \n",
      "average_word_length    6.051    6.17  \n",
      "flesh_readability     72.530   72.73  \n"
     ]
    }
   ],
   "source": [
    "print(\"stats for gemini2_50 data:\")\n",
    "print(df_gemini2_50_stats.describe().T.round(3))"
   ]
  },
  {
   "cell_type": "code",
   "execution_count": 34,
   "metadata": {},
   "outputs": [],
   "source": [
    "df_llama2_male = pd.read_csv(r'C:\\Users\\Sten\\Documents\\EUR BIM\\thesis\\data\\data\\llama2_male.csv')\n",
    "df_llama2_female = pd.read_csv(r'C:\\Users\\Sten\\Documents\\EUR BIM\\thesis\\data\\data\\llama2_female.csv')\n",
    "df_llama2_18_24 = pd.read_csv(r'C:\\Users\\Sten\\Documents\\EUR BIM\\thesis\\data\\data\\llama2_18_24.csv')\n",
    "df_llama2_25_34 = pd.read_csv(r'C:\\Users\\Sten\\Documents\\EUR BIM\\thesis\\data\\data\\llama2_25_34.csv')\n",
    "df_llama2_35_49 = pd.read_csv(r'C:\\Users\\Sten\\Documents\\EUR BIM\\thesis\\data\\data\\llama2_35_49.csv')\n",
    "df_llama2_50 = pd.read_csv(r'C:\\Users\\Sten\\Documents\\EUR BIM\\thesis\\data\\data\\llama2_50.csv')"
   ]
  },
  {
   "cell_type": "code",
   "execution_count": 35,
   "metadata": {},
   "outputs": [],
   "source": [
    "df_llama2_male_stats = pd.DataFrame()\n",
    "df_llama2_male_stats['total_word_count'] = df_llama2_male['text'].apply(lambda x: len(x.split()))\n",
    "df_llama2_male_stats['unique_word_count'] = df_llama2_male['text'].apply(lambda x: len(set(x.split())))\n",
    "df_llama2_male_stats['average_word_length'] = df_llama2_male['text'].apply(lambda x: np.mean([len(word) for word in x.split()]))\n",
    "df_llama2_male_stats['flesh_readability'] = df_llama2_male['text'].apply(textstat.flesch_reading_ease)\n",
    "\n",
    "df_llama2_female_stats = pd.DataFrame()\n",
    "df_llama2_female_stats['total_word_count'] = df_llama2_female['text'].apply(lambda x: len(x.split()))\n",
    "df_llama2_female_stats['unique_word_count'] = df_llama2_female['text'].apply(lambda x: len(set(x.split())))\n",
    "df_llama2_female_stats['average_word_length'] = df_llama2_female['text'].apply(lambda x: np.mean([len(word) for word in x.split()]))\n",
    "df_llama2_female_stats['flesh_readability'] = df_llama2_female['text'].apply(textstat.flesch_reading_ease)\n",
    "\n",
    "df_llama2_18_24_stats = pd.DataFrame()\n",
    "df_llama2_18_24_stats['total_word_count'] = df_llama2_18_24['text'].apply(lambda x: len(x.split()))\n",
    "df_llama2_18_24_stats['unique_word_count'] = df_llama2_18_24['text'].apply(lambda x: len(set(x.split())))\n",
    "df_llama2_18_24_stats['average_word_length'] = df_llama2_18_24['text'].apply(lambda x: np.mean([len(word) for word in x.split()]))\n",
    "df_llama2_18_24_stats['flesh_readability'] = df_llama2_18_24['text'].apply(textstat.flesch_reading_ease)\n",
    "\n",
    "df_llama2_25_34_stats = pd.DataFrame()\n",
    "df_llama2_25_34_stats['total_word_count'] = df_llama2_25_34['text'].apply(lambda x: len(x.split()))\n",
    "df_llama2_25_34_stats['unique_word_count'] = df_llama2_25_34['text'].apply(lambda x: len(set(x.split())))\n",
    "df_llama2_25_34_stats['average_word_length'] = df_llama2_25_34['text'].apply(lambda x: np.mean([len(word) for word in x.split()]))\n",
    "df_llama2_25_34_stats['flesh_readability'] = df_llama2_25_34['text'].apply(textstat.flesch_reading_ease)\n",
    "\n",
    "df_llama2_35_49_stats = pd.DataFrame()\n",
    "df_llama2_35_49_stats['total_word_count'] = df_llama2_35_49['text'].apply(lambda x: len(x.split()))\n",
    "df_llama2_35_49_stats['unique_word_count'] = df_llama2_35_49['text'].apply(lambda x: len(set(x.split())))\n",
    "df_llama2_35_49_stats['average_word_length'] = df_llama2_35_49['text'].apply(lambda x: np.mean([len(word) for word in x.split()]))\n",
    "df_llama2_35_49_stats['flesh_readability'] = df_llama2_35_49['text'].apply(textstat.flesch_reading_ease)\n",
    "\n",
    "df_llama2_50_stats = pd.DataFrame()\n",
    "df_llama2_50_stats['total_word_count'] = df_llama2_50['text'].apply(lambda x: len(x.split()))\n",
    "df_llama2_50_stats['unique_word_count'] = df_llama2_50['text'].apply(lambda x: len(set(x.split())))\n",
    "df_llama2_50_stats['average_word_length'] = df_llama2_50['text'].apply(lambda x: np.mean([len(word) for word in x.split()]))\n",
    "df_llama2_50_stats['flesh_readability'] = df_llama2_50['text'].apply(textstat.flesch_reading_ease)"
   ]
  },
  {
   "cell_type": "code",
   "execution_count": 36,
   "metadata": {},
   "outputs": [
    {
     "name": "stdout",
     "output_type": "stream",
     "text": [
      "stats for llama2_male data:\n",
      "                     count     mean      std      min      25%     50%  \\\n",
      "total_word_count      53.0  290.604   81.391  100.000  244.000  298.00   \n",
      "unique_word_count     53.0  144.208   37.952   72.000  118.000  147.00   \n",
      "average_word_length   53.0    4.501    0.600    3.618    4.046    4.50   \n",
      "flesh_readability     53.0    1.633  112.774 -303.060  -57.100   68.06   \n",
      "\n",
      "                         75%     max  \n",
      "total_word_count     340.000  433.00  \n",
      "unique_word_count    174.000  224.00  \n",
      "average_word_length    4.891    6.64  \n",
      "flesh_readability     79.090   98.72  \n"
     ]
    }
   ],
   "source": [
    "print(\"stats for llama2_male data:\")\n",
    "print(df_llama2_male_stats.describe().T.round(3))"
   ]
  },
  {
   "cell_type": "code",
   "execution_count": 37,
   "metadata": {},
   "outputs": [
    {
     "name": "stdout",
     "output_type": "stream",
     "text": [
      "stats for llama2_female data:\n",
      "                     count     mean      std      min      25%      50%  \\\n",
      "total_word_count      57.0  318.596   57.466  216.000  282.000  317.000   \n",
      "unique_word_count     57.0  149.246   29.454   90.000  127.000  150.000   \n",
      "average_word_length   57.0    4.529    0.650    3.463    3.913    4.611   \n",
      "flesh_readability     57.0  -51.338  118.193 -294.270 -163.000    2.620   \n",
      "\n",
      "                         75%      max  \n",
      "total_word_count     359.000  505.000  \n",
      "unique_word_count    165.000  258.000  \n",
      "average_word_length    5.099    5.622  \n",
      "flesh_readability     48.060   86.840  \n"
     ]
    }
   ],
   "source": [
    "print(\"stats for llama2_female data:\")\n",
    "print(df_llama2_female_stats.describe().T.round(3))"
   ]
  },
  {
   "cell_type": "code",
   "execution_count": 38,
   "metadata": {},
   "outputs": [
    {
     "name": "stdout",
     "output_type": "stream",
     "text": [
      "stats for llama2_18_24 data:\n",
      "                     count     mean      std      min      25%      50%  \\\n",
      "total_word_count      55.0  380.327   77.910  217.000  341.000  377.000   \n",
      "unique_word_count     55.0  180.582   37.820   81.000  156.500  185.000   \n",
      "average_word_length   55.0    4.716    0.425    3.717    4.448    4.759   \n",
      "flesh_readability     55.0   -5.331  112.534 -450.580  -40.350   43.840   \n",
      "\n",
      "                         75%      max  \n",
      "total_word_count     423.000  581.000  \n",
      "unique_word_count    202.500  282.000  \n",
      "average_word_length    4.968    5.797  \n",
      "flesh_readability     68.825   88.330  \n"
     ]
    }
   ],
   "source": [
    "print(\"stats for llama2_18_24 data:\")\n",
    "print(df_llama2_18_24_stats.describe().T.round(3))"
   ]
  },
  {
   "cell_type": "code",
   "execution_count": 39,
   "metadata": {},
   "outputs": [
    {
     "name": "stdout",
     "output_type": "stream",
     "text": [
      "stats for llama2_25_34 data:\n",
      "                     count     mean     std      min      25%      50%  \\\n",
      "total_word_count      61.0  371.443  85.028  199.000  323.000  364.000   \n",
      "unique_word_count     61.0  177.607  31.877  108.000  152.000  174.000   \n",
      "average_word_length   61.0    4.788   0.477    3.663    4.468    4.835   \n",
      "flesh_readability     61.0   19.014  94.773 -279.380   14.000   66.130   \n",
      "\n",
      "                         75%      max  \n",
      "total_word_count     416.000  661.000  \n",
      "unique_word_count    208.000  235.000  \n",
      "average_word_length    5.082    6.119  \n",
      "flesh_readability     70.470   88.130  \n"
     ]
    }
   ],
   "source": [
    "print(\"stats for llama2_25_34 data:\")\n",
    "print(df_llama2_25_34_stats.describe().T.round(3))"
   ]
  },
  {
   "cell_type": "code",
   "execution_count": 40,
   "metadata": {},
   "outputs": [
    {
     "name": "stdout",
     "output_type": "stream",
     "text": [
      "stats for llama2_35_49 data:\n",
      "                     count     mean     std      min      25%      50%  \\\n",
      "total_word_count      59.0  353.102  76.753  137.000  306.500  359.000   \n",
      "unique_word_count     59.0  172.407  36.910   75.000  148.500  172.000   \n",
      "average_word_length   59.0    4.673   0.539    3.653    4.300    4.767   \n",
      "flesh_readability     59.0   36.327  68.210 -272.280   28.425   64.410   \n",
      "\n",
      "                         75%      max  \n",
      "total_word_count     408.500  475.000  \n",
      "unique_word_count    195.000  289.000  \n",
      "average_word_length    5.076    5.694  \n",
      "flesh_readability     70.040   93.950  \n"
     ]
    }
   ],
   "source": [
    "print(\"stats for llama2_35_49 data:\")\n",
    "print(df_llama2_35_49_stats.describe().T.round(3))"
   ]
  },
  {
   "cell_type": "code",
   "execution_count": 41,
   "metadata": {},
   "outputs": [
    {
     "name": "stdout",
     "output_type": "stream",
     "text": [
      "stats for llama2_50 data:\n",
      "                     count     mean     std      min      25%      50%  \\\n",
      "total_word_count      70.0  361.300  96.465   49.000  295.000  370.000   \n",
      "unique_word_count     70.0  169.114  50.686   30.000  139.250  166.000   \n",
      "average_word_length   70.0    5.068   1.146    3.894    4.461    4.968   \n",
      "flesh_readability     70.0   47.620  61.062 -237.430   56.020   65.675   \n",
      "\n",
      "                         75%      max  \n",
      "total_word_count     436.250  533.000  \n",
      "unique_word_count    191.750  322.000  \n",
      "average_word_length    5.334   13.245  \n",
      "flesh_readability     76.060   88.840  \n"
     ]
    }
   ],
   "source": [
    "print(\"stats for llama2_50 data:\")\n",
    "print(df_llama2_50_stats.describe().T.round(3))"
   ]
  },
  {
   "cell_type": "markdown",
   "metadata": {},
   "source": [
    "## RQ3"
   ]
  },
  {
   "cell_type": "code",
   "execution_count": 42,
   "metadata": {},
   "outputs": [],
   "source": [
    "df_gpt3_male = pd.read_csv(r'C:\\Users\\Sten\\Documents\\EUR BIM\\thesis\\data\\data\\gpt3_male.csv')\n",
    "df_gpt3_female = pd.read_csv(r'C:\\Users\\Sten\\Documents\\EUR BIM\\thesis\\data\\data\\gpt3_female.csv')\n",
    "df_gpt3_18_24 = pd.read_csv(r'C:\\Users\\Sten\\Documents\\EUR BIM\\thesis\\data\\data\\gpt3_18_24.csv')\n",
    "df_gpt3_25_34 = pd.read_csv(r'C:\\Users\\Sten\\Documents\\EUR BIM\\thesis\\data\\data\\gpt3_25_34.csv')\n",
    "df_gpt3_35_49 = pd.read_csv(r'C:\\Users\\Sten\\Documents\\EUR BIM\\thesis\\data\\data\\gpt3_35_49.csv')\n",
    "df_gpt3_50 = pd.read_csv(r'C:\\Users\\Sten\\Documents\\EUR BIM\\thesis\\data\\data\\gpt3_50.csv')"
   ]
  },
  {
   "cell_type": "code",
   "execution_count": 43,
   "metadata": {},
   "outputs": [],
   "source": [
    "df_gpt3_male_stats = pd.DataFrame()\n",
    "df_gpt3_male_stats['total_word_count'] = df_gpt3_male['text'].apply(lambda x: len(x.split()))\n",
    "df_gpt3_male_stats['unique_word_count'] = df_gpt3_male['text'].apply(lambda x: len(set(x.split())))\n",
    "df_gpt3_male_stats['average_word_length'] = df_gpt3_male['text'].apply(lambda x: np.mean([len(word) for word in x.split()]))\n",
    "df_gpt3_male_stats['flesh_readability'] = df_gpt3_male['text'].apply(textstat.flesch_reading_ease)\n",
    "\n",
    "df_gpt3_female_stats = pd.DataFrame()\n",
    "df_gpt3_female_stats['total_word_count'] = df_gpt3_female['text'].apply(lambda x: len(x.split()))\n",
    "df_gpt3_female_stats['unique_word_count'] = df_gpt3_female['text'].apply(lambda x: len(set(x.split())))\n",
    "df_gpt3_female_stats['average_word_length'] = df_gpt3_female['text'].apply(lambda x: np.mean([len(word) for word in x.split()]))\n",
    "df_gpt3_female_stats['flesh_readability'] = df_gpt3_female['text'].apply(textstat.flesch_reading_ease)\n",
    "\n",
    "df_gpt3_18_24_stats = pd.DataFrame()\n",
    "df_gpt3_18_24_stats['total_word_count'] = df_gpt3_18_24['text'].apply(lambda x: len(x.split()))\n",
    "df_gpt3_18_24_stats['unique_word_count'] = df_gpt3_18_24['text'].apply(lambda x: len(set(x.split())))\n",
    "df_gpt3_18_24_stats['average_word_length'] = df_gpt3_18_24['text'].apply(lambda x: np.mean([len(word) for word in x.split()]))\n",
    "df_gpt3_18_24_stats['flesh_readability'] = df_gpt3_18_24['text'].apply(textstat.flesch_reading_ease)\n",
    "\n",
    "df_gpt3_25_34_stats = pd.DataFrame()\n",
    "df_gpt3_25_34_stats['total_word_count'] = df_gpt3_25_34['text'].apply(lambda x: len(x.split()))\n",
    "df_gpt3_25_34_stats['unique_word_count'] = df_gpt3_25_34['text'].apply(lambda x: len(set(x.split())))\n",
    "df_gpt3_25_34_stats['average_word_length'] = df_gpt3_25_34['text'].apply(lambda x: np.mean([len(word) for word in x.split()]))\n",
    "df_gpt3_25_34_stats['flesh_readability'] = df_gpt3_25_34['text'].apply(textstat.flesch_reading_ease)\n",
    "\n",
    "df_gpt3_35_49_stats = pd.DataFrame()\n",
    "df_gpt3_35_49_stats['total_word_count'] = df_gpt3_35_49['text'].apply(lambda x: len(x.split()))\n",
    "df_gpt3_35_49_stats['unique_word_count'] = df_gpt3_35_49['text'].apply(lambda x: len(set(x.split())))\n",
    "df_gpt3_35_49_stats['average_word_length'] = df_gpt3_35_49['text'].apply(lambda x: np.mean([len(word) for word in x.split()]))\n",
    "df_gpt3_35_49_stats['flesh_readability'] = df_gpt3_35_49['text'].apply(textstat.flesch_reading_ease)\n",
    "\n",
    "df_gpt3_50_stats = pd.DataFrame()\n",
    "df_gpt3_50_stats['total_word_count'] = df_gpt3_50['text'].apply(lambda x: len(x.split()))\n",
    "df_gpt3_50_stats['unique_word_count'] = df_gpt3_50['text'].apply(lambda x: len(set(x.split())))\n",
    "df_gpt3_50_stats['average_word_length'] = df_gpt3_50['text'].apply(lambda x: np.mean([len(word) for word in x.split()]))\n",
    "df_gpt3_50_stats['flesh_readability'] = df_gpt3_50['text'].apply(textstat.flesch_reading_ease)"
   ]
  },
  {
   "cell_type": "code",
   "execution_count": 44,
   "metadata": {},
   "outputs": [
    {
     "name": "stdout",
     "output_type": "stream",
     "text": [
      "stats for gpt3_male data:\n",
      "                     count     mean     std      min      25%      50%  \\\n",
      "total_word_count      53.0  199.792  36.694  144.000  170.000  194.000   \n",
      "unique_word_count     53.0  122.075  24.073   96.000  106.000  119.000   \n",
      "average_word_length   53.0    5.437   0.205    5.087    5.292    5.386   \n",
      "flesh_readability     53.0   43.299  24.205  -33.590   31.220   49.890   \n",
      "\n",
      "                         75%      max  \n",
      "total_word_count     216.000  307.000  \n",
      "unique_word_count    124.000  200.000  \n",
      "average_word_length    5.512    5.913  \n",
      "flesh_readability     61.460   72.220  \n"
     ]
    }
   ],
   "source": [
    "print(\"stats for gpt3_male data:\")\n",
    "print(df_gpt3_male_stats.describe().T.round(3))"
   ]
  },
  {
   "cell_type": "code",
   "execution_count": 45,
   "metadata": {},
   "outputs": [
    {
     "name": "stdout",
     "output_type": "stream",
     "text": [
      "stats for gpt3_female data:\n",
      "                     count     mean     std     min      25%      50%  \\\n",
      "total_word_count      60.0  219.150  40.856  154.00  194.000  207.000   \n",
      "unique_word_count     60.0  161.650  38.132  113.00  132.000  148.500   \n",
      "average_word_length   60.0    5.752   0.295    5.09    5.568    5.681   \n",
      "flesh_readability     60.0  -23.973  79.852 -147.10 -110.727   -5.470   \n",
      "\n",
      "                         75%      max  \n",
      "total_word_count     254.000  321.000  \n",
      "unique_word_count    196.000  251.000  \n",
      "average_word_length    5.927    6.551  \n",
      "flesh_readability     53.790   62.640  \n"
     ]
    }
   ],
   "source": [
    "print(\"stats for gpt3_female data:\")\n",
    "print(df_gpt3_female_stats.describe().T.round(3))"
   ]
  },
  {
   "cell_type": "code",
   "execution_count": 46,
   "metadata": {},
   "outputs": [
    {
     "name": "stdout",
     "output_type": "stream",
     "text": [
      "stats for gpt3_18_24 data:\n",
      "                     count     mean     std      min      25%      50%  \\\n",
      "total_word_count      53.0  187.868  17.736  153.000  180.000  185.000   \n",
      "unique_word_count     53.0  112.000  17.995   93.000  101.000  109.000   \n",
      "average_word_length   53.0    4.857   0.134    4.567    4.765    4.865   \n",
      "flesh_readability     53.0   26.629  47.235 -106.830   -5.500   27.800   \n",
      "\n",
      "                        75%      max  \n",
      "total_word_count     192.00  244.000  \n",
      "unique_word_count    114.00  174.000  \n",
      "average_word_length    4.94    5.141  \n",
      "flesh_readability     62.61   89.140  \n"
     ]
    }
   ],
   "source": [
    "print(\"stats for gpt3_18_24 data:\")\n",
    "print(df_gpt3_18_24_stats.describe().T.round(3))"
   ]
  },
  {
   "cell_type": "code",
   "execution_count": 47,
   "metadata": {},
   "outputs": [
    {
     "name": "stdout",
     "output_type": "stream",
     "text": [
      "stats for gpt3_25_34 data:\n",
      "                     count     mean     std      min      25%      50%  \\\n",
      "total_word_count      58.0  172.517  10.274  155.000  167.000  170.000   \n",
      "unique_word_count     58.0   89.948   9.015   80.000   85.000   88.000   \n",
      "average_word_length   58.0    4.735   0.137    4.563    4.646    4.687   \n",
      "flesh_readability     58.0   74.922   3.516   65.890   74.050   74.150   \n",
      "\n",
      "                        75%      max  \n",
      "total_word_count     174.00  217.000  \n",
      "unique_word_count     91.00  131.000  \n",
      "average_word_length    4.79    5.059  \n",
      "flesh_readability     74.45   82.710  \n"
     ]
    }
   ],
   "source": [
    "print(\"stats for gpt3_25_34 data:\")\n",
    "print(df_gpt3_25_34_stats.describe().T.round(3))"
   ]
  },
  {
   "cell_type": "code",
   "execution_count": 48,
   "metadata": {},
   "outputs": [
    {
     "name": "stdout",
     "output_type": "stream",
     "text": [
      "stats for gpt3_35_49 data:\n",
      "                     count     mean     std      min      25%     50%  \\\n",
      "total_word_count      53.0  205.642   8.860  194.000  198.000  203.00   \n",
      "unique_word_count     53.0  137.792  10.148  122.000  130.000  136.00   \n",
      "average_word_length   53.0    4.858   0.096    4.584    4.815    4.87   \n",
      "flesh_readability     53.0   66.373   4.563   60.650   62.880   64.85   \n",
      "\n",
      "                         75%     max  \n",
      "total_word_count     216.000  222.00  \n",
      "unique_word_count    144.000  165.00  \n",
      "average_word_length    4.921    4.99  \n",
      "flesh_readability     69.410   78.04  \n"
     ]
    }
   ],
   "source": [
    "print(\"stats for gpt3_35_49 data:\")\n",
    "print(df_gpt3_35_49_stats.describe().T.round(3))"
   ]
  },
  {
   "cell_type": "code",
   "execution_count": 49,
   "metadata": {},
   "outputs": [
    {
     "name": "stdout",
     "output_type": "stream",
     "text": [
      "stats for gpt3_50 data:\n",
      "                     count     mean      std      min      25%      50%  \\\n",
      "total_word_count      55.0  267.455  111.676  187.000  221.000  239.000   \n",
      "unique_word_count     55.0  161.327   74.077  114.000  130.000  146.000   \n",
      "average_word_length   55.0    5.386    0.203    4.931    5.259    5.403   \n",
      "flesh_readability     55.0   56.600   11.785   27.630   48.655   57.370   \n",
      "\n",
      "                         75%      max  \n",
      "total_word_count     265.000  837.000  \n",
      "unique_word_count    159.000  520.000  \n",
      "average_word_length    5.508    5.835  \n",
      "flesh_readability     66.130   79.260  \n"
     ]
    }
   ],
   "source": [
    "print(\"stats for gpt3_50 data:\")\n",
    "print(df_gpt3_50_stats.describe().T.round(3))"
   ]
  },
  {
   "cell_type": "code",
   "execution_count": 50,
   "metadata": {},
   "outputs": [],
   "source": [
    "df_gemini3_male = pd.read_csv(r'C:\\Users\\Sten\\Documents\\EUR BIM\\thesis\\data\\data\\gemini3_male.csv')\n",
    "df_gemini3_female = pd.read_csv(r'C:\\Users\\Sten\\Documents\\EUR BIM\\thesis\\data\\data\\gemini3_female.csv')\n",
    "df_gemini3_18_24 = pd.read_csv(r'C:\\Users\\Sten\\Documents\\EUR BIM\\thesis\\data\\data\\gemini3_18_24.csv')\n",
    "df_gemini3_25_34 = pd.read_csv(r'C:\\Users\\Sten\\Documents\\EUR BIM\\thesis\\data\\data\\gemini3_25_34.csv')\n",
    "df_gemini3_35_49 = pd.read_csv(r'C:\\Users\\Sten\\Documents\\EUR BIM\\thesis\\data\\data\\gemini3_35_49.csv')\n",
    "df_gemini3_50 = pd.read_csv(r'C:\\Users\\Sten\\Documents\\EUR BIM\\thesis\\data\\data\\gemini3_50.csv')"
   ]
  },
  {
   "cell_type": "code",
   "execution_count": 51,
   "metadata": {},
   "outputs": [],
   "source": [
    "df_gemini3_male_stats = pd.DataFrame()\n",
    "df_gemini3_male_stats['total_word_count'] = df_gemini3_male['text'].apply(lambda x: len(x.split()))\n",
    "df_gemini3_male_stats['unique_word_count'] = df_gemini3_male['text'].apply(lambda x: len(set(x.split())))\n",
    "df_gemini3_male_stats['average_word_length'] = df_gemini3_male['text'].apply(lambda x: np.mean([len(word) for word in x.split()]))\n",
    "df_gemini3_male_stats['flesh_readability'] = df_gemini3_male['text'].apply(textstat.flesch_reading_ease)\n",
    "\n",
    "df_gemini3_female_stats = pd.DataFrame()\n",
    "df_gemini3_female_stats['total_word_count'] = df_gemini3_female['text'].apply(lambda x: len(x.split()))\n",
    "df_gemini3_female_stats['unique_word_count'] = df_gemini3_female['text'].apply(lambda x: len(set(x.split())))\n",
    "df_gemini3_female_stats['average_word_length'] = df_gemini3_female['text'].apply(lambda x: np.mean([len(word) for word in x.split()]))\n",
    "df_gemini3_female_stats['flesh_readability'] = df_gemini3_female['text'].apply(textstat.flesch_reading_ease)\n",
    "\n",
    "df_gemini3_18_24_stats = pd.DataFrame()\n",
    "df_gemini3_18_24_stats['total_word_count'] = df_gemini3_18_24['text'].apply(lambda x: len(x.split()))\n",
    "df_gemini3_18_24_stats['unique_word_count'] = df_gemini3_18_24['text'].apply(lambda x: len(set(x.split())))\n",
    "df_gemini3_18_24_stats['average_word_length'] = df_gemini3_18_24['text'].apply(lambda x: np.mean([len(word) for word in x.split()]))\n",
    "df_gemini3_18_24_stats['flesh_readability'] = df_gemini3_18_24['text'].apply(textstat.flesch_reading_ease)\n",
    "\n",
    "df_gemini3_25_34_stats = pd.DataFrame()\n",
    "df_gemini3_25_34_stats['total_word_count'] = df_gemini3_25_34['text'].apply(lambda x: len(x.split()))\n",
    "df_gemini3_25_34_stats['unique_word_count'] = df_gemini3_25_34['text'].apply(lambda x: len(set(x.split())))\n",
    "df_gemini3_25_34_stats['average_word_length'] = df_gemini3_25_34['text'].apply(lambda x: np.mean([len(word) for word in x.split()]))\n",
    "df_gemini3_25_34_stats['flesh_readability'] = df_gemini3_25_34['text'].apply(textstat.flesch_reading_ease)\n",
    "\n",
    "df_gemini3_35_49_stats = pd.DataFrame()\n",
    "df_gemini3_35_49_stats['total_word_count'] = df_gemini3_35_49['text'].apply(lambda x: len(x.split()))\n",
    "df_gemini3_35_49_stats['unique_word_count'] = df_gemini3_35_49['text'].apply(lambda x: len(set(x.split())))\n",
    "df_gemini3_35_49_stats['average_word_length'] = df_gemini3_35_49['text'].apply(lambda x: np.mean([len(word) for word in x.split()]))\n",
    "df_gemini3_35_49_stats['flesh_readability'] = df_gemini3_35_49['text'].apply(textstat.flesch_reading_ease)\n",
    "\n",
    "df_gemini3_50_stats = pd.DataFrame()\n",
    "df_gemini3_50_stats['total_word_count'] = df_gemini3_50['text'].apply(lambda x: len(x.split()))\n",
    "df_gemini3_50_stats['unique_word_count'] = df_gemini3_50['text'].apply(lambda x: len(set(x.split())))\n",
    "df_gemini3_50_stats['average_word_length'] = df_gemini3_50['text'].apply(lambda x: np.mean([len(word) for word in x.split()]))\n",
    "df_gemini3_50_stats['flesh_readability'] = df_gemini3_50['text'].apply(textstat.flesch_reading_ease)"
   ]
  },
  {
   "cell_type": "code",
   "execution_count": 52,
   "metadata": {},
   "outputs": [
    {
     "name": "stdout",
     "output_type": "stream",
     "text": [
      "stats for gemini3_male data:\n",
      "                     count     mean     std      min      25%      50%  \\\n",
      "total_word_count      51.0  289.647  37.692  211.000  276.000  299.000   \n",
      "unique_word_count     51.0  205.235  19.069  165.000  200.000  211.000   \n",
      "average_word_length   51.0    6.211   0.138    5.904    6.111    6.253   \n",
      "flesh_readability     51.0   49.310   4.184   41.160   49.210   50.840   \n",
      "\n",
      "                         75%      max  \n",
      "total_word_count     316.500  337.000  \n",
      "unique_word_count    220.500  230.000  \n",
      "average_word_length    6.305    6.439  \n",
      "flesh_readability     51.190   64.270  \n"
     ]
    }
   ],
   "source": [
    "print(\"stats for gemini3_male data:\")\n",
    "print(df_gemini3_male_stats.describe().T.round(3))"
   ]
  },
  {
   "cell_type": "code",
   "execution_count": 53,
   "metadata": {},
   "outputs": [
    {
     "name": "stdout",
     "output_type": "stream",
     "text": [
      "stats for gemini3_female data:\n",
      "                     count     mean     std     min      25%      50%  \\\n",
      "total_word_count      51.0  210.510  41.339  89.000  183.500  224.000   \n",
      "unique_word_count     51.0  144.118  23.730  82.000  131.500  148.000   \n",
      "average_word_length   51.0    5.944   0.277   5.461    5.749    5.887   \n",
      "flesh_readability     51.0   42.500   8.938  20.890   37.555   45.960   \n",
      "\n",
      "                         75%      max  \n",
      "total_word_count     235.000  299.000  \n",
      "unique_word_count    158.000  233.000  \n",
      "average_word_length    6.162    6.566  \n",
      "flesh_readability     47.740   57.060  \n"
     ]
    }
   ],
   "source": [
    "print(\"stats for gemini3_female data:\")\n",
    "print(df_gemini3_female_stats.describe().T.round(3))"
   ]
  },
  {
   "cell_type": "code",
   "execution_count": 54,
   "metadata": {},
   "outputs": [
    {
     "name": "stdout",
     "output_type": "stream",
     "text": [
      "stats for gemini3_18_24 data:\n",
      "                     count     mean     std      min      25%     50%  \\\n",
      "total_word_count      51.0  226.275  13.494  187.000  217.000  225.00   \n",
      "unique_word_count     51.0  158.667   8.484  139.000  154.000  158.00   \n",
      "average_word_length   51.0    5.910   0.154    5.396    5.829    5.93   \n",
      "flesh_readability     51.0   35.337   5.818   15.510   30.890   37.23   \n",
      "\n",
      "                         75%      max  \n",
      "total_word_count     230.000  258.000  \n",
      "unique_word_count    162.500  188.000  \n",
      "average_word_length    5.998    6.175  \n",
      "flesh_readability     38.500   51.070  \n"
     ]
    }
   ],
   "source": [
    "print(\"stats for gemini3_18_24 data:\")\n",
    "print(df_gemini3_18_24_stats.describe().T.round(3))"
   ]
  },
  {
   "cell_type": "code",
   "execution_count": 55,
   "metadata": {},
   "outputs": [
    {
     "name": "stdout",
     "output_type": "stream",
     "text": [
      "stats for gemini3_25_34 data:\n",
      "                     count     mean     std     min      25%      50%  \\\n",
      "total_word_count      53.0  335.868  61.824  154.00  302.000  347.000   \n",
      "unique_word_count     53.0  197.075  31.587  108.00  188.000  198.000   \n",
      "average_word_length   53.0    5.501   0.333    4.42    5.348    5.484   \n",
      "flesh_readability     53.0   57.111  11.297   25.46   49.920   57.670   \n",
      "\n",
      "                         75%      max  \n",
      "total_word_count     371.000  510.000  \n",
      "unique_word_count    209.000  354.000  \n",
      "average_word_length    5.753    6.493  \n",
      "flesh_readability     63.150   89.750  \n"
     ]
    }
   ],
   "source": [
    "print(\"stats for gemini3_25_34 data:\")\n",
    "print(df_gemini3_25_34_stats.describe().T.round(3))"
   ]
  },
  {
   "cell_type": "code",
   "execution_count": 56,
   "metadata": {},
   "outputs": [
    {
     "name": "stdout",
     "output_type": "stream",
     "text": [
      "stats for gemini3_35_49 data:\n",
      "                     count     mean     std      min      25%      50%  \\\n",
      "total_word_count      53.0  334.132  50.422  180.000  304.000  324.000   \n",
      "unique_word_count     53.0  213.358  24.527  135.000  199.000  210.000   \n",
      "average_word_length   53.0    6.189   0.170    5.771    6.094    6.198   \n",
      "flesh_readability     53.0   43.828   7.474   30.460   40.040   42.980   \n",
      "\n",
      "                         75%      max  \n",
      "total_word_count     366.000  424.000  \n",
      "unique_word_count    238.000  262.000  \n",
      "average_word_length    6.285    6.563  \n",
      "flesh_readability     48.600   60.410  \n"
     ]
    }
   ],
   "source": [
    "print(\"stats for gemini3_35_49 data:\")\n",
    "print(df_gemini3_35_49_stats.describe().T.round(3))"
   ]
  },
  {
   "cell_type": "code",
   "execution_count": 57,
   "metadata": {},
   "outputs": [
    {
     "name": "stdout",
     "output_type": "stream",
     "text": [
      "stats for gemini3_50 data:\n",
      "                     count     mean     std      min      25%      50%  \\\n",
      "total_word_count      57.0  352.596  62.360  246.000  318.000  353.000   \n",
      "unique_word_count     57.0  206.860  27.041  154.000  189.000  205.000   \n",
      "average_word_length   57.0    5.008   0.197    4.557    4.819    4.986   \n",
      "flesh_readability     57.0   65.083   8.160   53.100   55.640   65.830   \n",
      "\n",
      "                         75%      max  \n",
      "total_word_count     408.000  491.000  \n",
      "unique_word_count    232.000  267.000  \n",
      "average_word_length    5.194    5.402  \n",
      "flesh_readability     73.370   76.930  \n"
     ]
    }
   ],
   "source": [
    "print(\"stats for gemini3_50 data:\")\n",
    "print(df_gemini3_50_stats.describe().T.round(3))"
   ]
  },
  {
   "cell_type": "code",
   "execution_count": 58,
   "metadata": {},
   "outputs": [],
   "source": [
    "df_llama3_male = pd.read_csv(r'C:\\Users\\Sten\\Documents\\EUR BIM\\thesis\\data\\data\\llama3_male.csv')\n",
    "df_llama3_female = pd.read_csv(r'C:\\Users\\Sten\\Documents\\EUR BIM\\thesis\\data\\data\\llama3_female.csv')\n",
    "df_llama3_18_24 = pd.read_csv(r'C:\\Users\\Sten\\Documents\\EUR BIM\\thesis\\data\\data\\llama3_18_24.csv')\n",
    "df_llama3_25_34 = pd.read_csv(r'C:\\Users\\Sten\\Documents\\EUR BIM\\thesis\\data\\data\\llama3_25_34.csv')\n",
    "df_llama3_35_49 = pd.read_csv(r'C:\\Users\\Sten\\Documents\\EUR BIM\\thesis\\data\\data\\llama3_35_49.csv')\n",
    "df_llama3_50 = pd.read_csv(r'C:\\Users\\Sten\\Documents\\EUR BIM\\thesis\\data\\data\\llama3_50.csv')"
   ]
  },
  {
   "cell_type": "code",
   "execution_count": 59,
   "metadata": {},
   "outputs": [],
   "source": [
    "df_llama3_male_stats = pd.DataFrame()\n",
    "df_llama3_male_stats['total_word_count'] = df_llama3_male['text'].apply(lambda x: len(x.split()))\n",
    "df_llama3_male_stats['unique_word_count'] = df_llama3_male['text'].apply(lambda x: len(set(x.split())))\n",
    "df_llama3_male_stats['average_word_length'] = df_llama3_male['text'].apply(lambda x: np.mean([len(word) for word in x.split()]))\n",
    "df_llama3_male_stats['flesh_readability'] = df_llama3_male['text'].apply(textstat.flesch_reading_ease)\n",
    "\n",
    "df_llama3_female_stats = pd.DataFrame()\n",
    "df_llama3_female_stats['total_word_count'] = df_llama3_female['text'].apply(lambda x: len(x.split()))\n",
    "df_llama3_female_stats['unique_word_count'] = df_llama3_female['text'].apply(lambda x: len(set(x.split())))\n",
    "df_llama3_female_stats['average_word_length'] = df_llama3_female['text'].apply(lambda x: np.mean([len(word) for word in x.split()]))\n",
    "df_llama3_female_stats['flesh_readability'] = df_llama3_female['text'].apply(textstat.flesch_reading_ease)\n",
    "\n",
    "df_llama3_18_24_stats = pd.DataFrame()\n",
    "df_llama3_18_24_stats['total_word_count'] = df_llama3_18_24['text'].apply(lambda x: len(x.split()))\n",
    "df_llama3_18_24_stats['unique_word_count'] = df_llama3_18_24['text'].apply(lambda x: len(set(x.split())))\n",
    "df_llama3_18_24_stats['average_word_length'] = df_llama3_18_24['text'].apply(lambda x: np.mean([len(word) for word in x.split()]))\n",
    "df_llama3_18_24_stats['flesh_readability'] = df_llama3_18_24['text'].apply(textstat.flesch_reading_ease)\n",
    "\n",
    "df_llama3_25_34_stats = pd.DataFrame()\n",
    "df_llama3_25_34_stats['total_word_count'] = df_llama3_25_34['text'].apply(lambda x: len(x.split()))\n",
    "df_llama3_25_34_stats['unique_word_count'] = df_llama3_25_34['text'].apply(lambda x: len(set(x.split())))\n",
    "df_llama3_25_34_stats['average_word_length'] = df_llama3_25_34['text'].apply(lambda x: np.mean([len(word) for word in x.split()]))\n",
    "df_llama3_25_34_stats['flesh_readability'] = df_llama3_25_34['text'].apply(textstat.flesch_reading_ease)\n",
    "\n",
    "df_llama3_35_49_stats = pd.DataFrame()\n",
    "df_llama3_35_49_stats['total_word_count'] = df_llama3_35_49['text'].apply(lambda x: len(x.split()))\n",
    "df_llama3_35_49_stats['unique_word_count'] = df_llama3_35_49['text'].apply(lambda x: len(set(x.split())))\n",
    "df_llama3_35_49_stats['average_word_length'] = df_llama3_35_49['text'].apply(lambda x: np.mean([len(word) for word in x.split()]))\n",
    "df_llama3_35_49_stats['flesh_readability'] = df_llama3_35_49['text'].apply(textstat.flesch_reading_ease)\n",
    "\n",
    "df_llama3_50_stats = pd.DataFrame()\n",
    "df_llama3_50_stats['total_word_count'] = df_llama3_50['text'].apply(lambda x: len(x.split()))\n",
    "df_llama3_50_stats['unique_word_count'] = df_llama3_50['text'].apply(lambda x: len(set(x.split())))\n",
    "df_llama3_50_stats['average_word_length'] = df_llama3_50['text'].apply(lambda x: np.mean([len(word) for word in x.split()]))\n",
    "df_llama3_50_stats['flesh_readability'] = df_llama3_50['text'].apply(textstat.flesch_reading_ease)"
   ]
  },
  {
   "cell_type": "code",
   "execution_count": 60,
   "metadata": {},
   "outputs": [
    {
     "name": "stdout",
     "output_type": "stream",
     "text": [
      "stats for llama3_male data:\n",
      "                     count     mean     std      min      25%      50%  \\\n",
      "total_word_count      62.0  285.597  59.303   11.000  254.250  296.500   \n",
      "unique_word_count     62.0  152.355  59.807   11.000  111.750  132.500   \n",
      "average_word_length   62.0    5.702   0.508    3.948    5.405    5.788   \n",
      "flesh_readability     62.0   23.868  76.056 -234.380   22.540   60.410   \n",
      "\n",
      "                         75%      max  \n",
      "total_word_count     309.500  457.000  \n",
      "unique_word_count    225.000  251.000  \n",
      "average_word_length    6.077    6.737  \n",
      "flesh_readability     62.558   80.780  \n"
     ]
    }
   ],
   "source": [
    "print(\"stats for llama3_male data:\")\n",
    "print(df_llama3_male_stats.describe().T.round(3))"
   ]
  },
  {
   "cell_type": "code",
   "execution_count": 61,
   "metadata": {},
   "outputs": [
    {
     "name": "stdout",
     "output_type": "stream",
     "text": [
      "stats for llama3_female data:\n",
      "                     count     mean     std     min      25%      50%  \\\n",
      "total_word_count      61.0  262.492  42.692  117.00  250.000  263.000   \n",
      "unique_word_count     61.0  163.885  44.619   62.00  127.000  168.000   \n",
      "average_word_length   61.0    5.324   0.450    3.97    5.215    5.489   \n",
      "flesh_readability     61.0   32.049  78.397 -194.80   54.090   72.020   \n",
      "\n",
      "                         75%      max  \n",
      "total_word_count     264.000  381.000  \n",
      "unique_word_count    206.000  211.000  \n",
      "average_word_length    5.502    6.377  \n",
      "flesh_readability     72.220   74.190  \n"
     ]
    }
   ],
   "source": [
    "print(\"stats for llama3_female data:\")\n",
    "print(df_llama3_female_stats.describe().T.round(3))"
   ]
  },
  {
   "cell_type": "code",
   "execution_count": 62,
   "metadata": {},
   "outputs": [
    {
     "name": "stdout",
     "output_type": "stream",
     "text": [
      "stats for llama3_18_24 data:\n",
      "                     count     mean     std      min      25%      50%  \\\n",
      "total_word_count      62.0  220.597  60.011   50.000  188.000  221.500   \n",
      "unique_word_count     62.0   95.210  26.409   18.000   81.000   95.500   \n",
      "average_word_length   62.0    4.430   0.401    3.849    4.138    4.328   \n",
      "flesh_readability     62.0  -44.356  88.617 -222.200 -107.672  -64.535   \n",
      "\n",
      "                         75%      max  \n",
      "total_word_count     244.750  356.000  \n",
      "unique_word_count    108.000  158.000  \n",
      "average_word_length    4.565    5.463  \n",
      "flesh_readability     59.088   89.550  \n"
     ]
    }
   ],
   "source": [
    "print(\"stats for llama3_18_24 data:\")\n",
    "print(df_llama3_18_24_stats.describe().T.round(3))"
   ]
  },
  {
   "cell_type": "code",
   "execution_count": 63,
   "metadata": {},
   "outputs": [
    {
     "name": "stdout",
     "output_type": "stream",
     "text": [
      "stats for llama3_25_34 data:\n",
      "                     count     mean     std     min      25%      50%  \\\n",
      "total_word_count      68.0  299.338  65.106  172.00  250.500  312.000   \n",
      "unique_word_count     68.0  171.250  63.955   58.00  121.750  161.000   \n",
      "average_word_length   68.0    5.541   0.496    4.39    5.294    5.535   \n",
      "flesh_readability     68.0   39.675  55.994 -223.22   51.525   59.090   \n",
      "\n",
      "                         75%      max  \n",
      "total_word_count     340.000  531.000  \n",
      "unique_word_count    237.000  264.000  \n",
      "average_word_length    5.860    6.977  \n",
      "flesh_readability     62.032   79.460  \n"
     ]
    }
   ],
   "source": [
    "print(\"stats for llama3_25_34 data:\")\n",
    "print(df_llama3_25_34_stats.describe().T.round(3))"
   ]
  },
  {
   "cell_type": "code",
   "execution_count": 64,
   "metadata": {},
   "outputs": [
    {
     "name": "stdout",
     "output_type": "stream",
     "text": [
      "stats for llama3_35_49 data:\n",
      "                     count     mean     std      min      25%      50%  \\\n",
      "total_word_count      61.0  253.934  50.605  154.000  224.000  254.000   \n",
      "unique_word_count     61.0  129.623  34.648   64.000  104.000  127.000   \n",
      "average_word_length   61.0    5.935   0.799    4.492    5.464    5.812   \n",
      "flesh_readability     61.0   46.010  44.830 -177.550   52.050   62.140   \n",
      "\n",
      "                         75%      max  \n",
      "total_word_count     276.000  421.000  \n",
      "unique_word_count    147.000  214.000  \n",
      "average_word_length    6.253    7.984  \n",
      "flesh_readability     66.540   79.460  \n"
     ]
    }
   ],
   "source": [
    "print(\"stats for llama3_35_49 data:\")\n",
    "print(df_llama3_35_49_stats.describe().T.round(3))"
   ]
  },
  {
   "cell_type": "code",
   "execution_count": 65,
   "metadata": {},
   "outputs": [
    {
     "name": "stdout",
     "output_type": "stream",
     "text": [
      "stats for llama3_50 data:\n",
      "                     count     mean     std      min      25%      50%  \\\n",
      "total_word_count      54.0  346.278  66.768  146.000  299.000  374.000   \n",
      "unique_word_count     54.0  199.556  68.186   48.000  131.000  233.000   \n",
      "average_word_length   54.0    5.774   0.610    4.397    5.528    5.835   \n",
      "flesh_readability     54.0   68.012  15.694  -26.960   69.990   70.900   \n",
      "\n",
      "                         75%      max  \n",
      "total_word_count     389.000  514.000  \n",
      "unique_word_count    257.500  293.000  \n",
      "average_word_length    5.920    8.738  \n",
      "flesh_readability     71.385   82.000  \n"
     ]
    }
   ],
   "source": [
    "print(\"stats for llama3_50 data:\")\n",
    "print(df_llama3_50_stats.describe().T.round(3))"
   ]
  }
 ],
 "metadata": {
  "kernelspec": {
   "display_name": "Python 3",
   "language": "python",
   "name": "python3"
  },
  "language_info": {
   "codemirror_mode": {
    "name": "ipython",
    "version": 3
   },
   "file_extension": ".py",
   "mimetype": "text/x-python",
   "name": "python",
   "nbconvert_exporter": "python",
   "pygments_lexer": "ipython3",
   "version": "3.9.16"
  }
 },
 "nbformat": 4,
 "nbformat_minor": 2
}
