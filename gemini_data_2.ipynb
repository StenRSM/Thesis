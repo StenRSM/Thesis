{
 "cells": [
  {
   "cell_type": "markdown",
   "metadata": {},
   "source": [
    "# Gemini data for RQ2"
   ]
  },
  {
   "cell_type": "code",
   "execution_count": 4,
   "metadata": {},
   "outputs": [],
   "source": [
    "import pandas as pd"
   ]
  },
  {
   "cell_type": "markdown",
   "metadata": {},
   "source": [
    "## Male tweets"
   ]
  },
  {
   "cell_type": "markdown",
   "metadata": {},
   "source": [
    "https://gemini.google.com/app/c9373b919541704f"
   ]
  },
  {
   "cell_type": "code",
   "execution_count": null,
   "metadata": {},
   "outputs": [],
   "source": []
  },
  {
   "cell_type": "markdown",
   "metadata": {},
   "source": [
    "## Female tweets"
   ]
  },
  {
   "cell_type": "markdown",
   "metadata": {},
   "source": [
    "https://gemini.google.com/u/1/app/3083d6f7c2042042"
   ]
  },
  {
   "cell_type": "code",
   "execution_count": 5,
   "metadata": {},
   "outputs": [],
   "source": [
    "tweets = [\"This is so exciting! Can't believe I'm finally doing this  OMG the butterflies are real  Wish me luck everyone  Feeling a mix of nerves and exhilaration  Deep breaths  Here goes nothing  Taking the plunge  One step at a time  So far so good  Starting to feel confident  Almost there  I did it!  Feeling on top of the world  This is amazing  Beyond grateful  Couldn't have done it without your support  Time to celebrate  Cheers to new beginnings  The sky's the limit  Watch me soar  Ready to take on the world  Bring it on!\"]\n"
   ]
  },
  {
   "cell_type": "code",
   "execution_count": 6,
   "metadata": {},
   "outputs": [],
   "source": [
    "tweets.extend([\"Can't believe it's Friday already! This week flew by  Feeling so grateful for this beautiful day  Sunshine and good vibes only  Time to relax and recharge  Weekend plans?  Any suggestions?  So excited for what's to come  New adventures await  Let's make this weekend count  Can't wait to catch up with friends  Movie night anyone?  Love my cozy blanket and a good book  Indulging in some yummy treats  Self-care is key  Taking some time for myself  Need to declutter my space  Feeling inspired to try something new  Open to suggestions  Let's make the most of this weekend\"])\n",
    "\n",
    "tweets.extend([\"Ugh, Monday mornings  Feeling so tired  Need more coffee  This week is going to be long  But I can do this  Staying positive  One day at a time  Gotta focus on the good  Surround yourself with good people  Little things mean a lot  Grateful for my amazing friends  Lunch plans?  Hit me up  Need to find a new hobby  Any ideas?  Feeling stressed  Deep breaths  Time to unwind  Self-care Sunday  Need a good book recommendation  Anyone seen a good movie lately?  Let's make this week less stressful\"])\n"
   ]
  },
  {
   "cell_type": "code",
   "execution_count": 7,
   "metadata": {},
   "outputs": [],
   "source": [
    "tweets.extend([\"Woke up feeling refreshed  Ready to conquer the day  Sun is shining, birds are singing  Can't beat this morning  Grateful for this beautiful life  So many things to be thankful for  Small joys make the biggest difference  Positive vibes only  Spread kindness like confetti  Let's make someone's day brighter  Helping others fills my heart  Pay it forward  Be the change you want to see  Little acts of kindness go a long way  Inspire others to be their best  Believe in yourself  You are capable of amazing things  Don't let anyone dim your shine  Embrace your uniqueness  The world needs your light  Shine bright like a diamond\"])\n",
    "\n",
    "tweets.extend([\"Can't stop thinking about this amazing dress  Feeling like a million bucks  Confidence is key  Own your style  Fashion is my therapy  Shopping spree anyone?  Need a new outfit for the weekend  Gotta look good, feel good  Obsessed with this new lipstick shade  Makeup makes me feel confident  Hair goals  Need to find a good hair stylist  Self-care day  Spa time  Pampering myself  Need a little retail therapy  Window shopping is my favorite  Online shopping addiction  Anyone else?  Treat yourself  You deserve it  Indulge in your passions\"])\n"
   ]
  },
  {
   "cell_type": "code",
   "execution_count": 8,
   "metadata": {},
   "outputs": [],
   "source": [
    "tweets.extend([\"So excited for the weekend! Time to relax and unwind  Need to catch up on my favorite shows  Cozy nights in with a good book  Indulging in some yummy takeout  Movie marathon with my bestie  Self-care is a must  Face masks and bubble baths  Need a good laugh  Funny memes anyone?  Online shopping spree  Treat yourself  New makeup haul  Can't wait to try it out  Hair mask and deep conditioning  Gotta take care of those locks  Feeling inspired to try a new recipe  Cooking is my therapy  Dinner party plans?  Let's get together  Good food and good company  Love my kitchen gadgets  Baking something sweet  Satisfies my sweet tooth\"])\n",
    "\n",
    "tweets.extend([\"Ugh, Monday blues  Need more coffee  This week is going to be a long one  Staying positive  One day at a time  Gotta focus on the good  Surround yourself with good people  Little things mean a lot  Grateful for my amazing friends  Lunch plans?  Hit me up  Need to find a new hobby  Any ideas?  Feeling stressed  Deep breaths  Time to unwind  Self-care Sunday  Need a good book recommendation  Anyone seen a good movie lately?  Let's make this week less stressful\"])\n"
   ]
  },
  {
   "cell_type": "code",
   "execution_count": 9,
   "metadata": {},
   "outputs": [],
   "source": [
    "tweets.extend([\"Can't believe it's Friday already! This week flew by  Feeling so grateful for this beautiful day  Sunshine and good vibes only  Time to relax and recharge  Weekend plans?  Any suggestions?  So excited for what's to come  New adventures await  Let's make this weekend count  Can't wait to catch up with friends  Movie night anyone?  Love my cozy blanket and a good book  Indulging in some yummy treats  Self-care is key  Taking some time for myself  Need to declutter my space  Feeling inspired to try something new  Open to suggestions  Let's make the most of this weekend\"])\n",
    "\n",
    "tweets.extend([\"Woke up feeling refreshed  Ready to conquer the day  Sun is shining, birds are singing  Can't beat this morning  Grateful for this beautiful life  So many things to be thankful for  Small joys make the biggest difference  Positive vibes only  Spread kindness like confetti  Let's make someone's day brighter  Helping others fills my heart  Pay it forward  Be the change you want to see  Little acts of kindness go a long way  Inspire others to be their best  Believe in yourself  You are capable of amazing things  Don't let anyone dim your shine  Embrace your uniqueness  The world needs your light  Shine bright like a diamond\"])\n"
   ]
  },
  {
   "cell_type": "code",
   "execution_count": 10,
   "metadata": {},
   "outputs": [],
   "source": [
    "tweets.extend([\"This weather is everything  Sunshine and warm breeze  Perfect day for a picnic  Good food, good company, good vibes  Feeling so happy and carefree  Life is good  Grateful for every moment  Making memories that will last a lifetime  Enjoying the simple things  Happiness is homemade  Picnic essentials: blanket, snacks, good music  Love spending time outdoors  Nature therapy  Vitamin D boost  Sun-kissed skin  Summer lovin'  Feeling inspired to try a new hobby  Outdoor activities  Let's explore  Adventure awaits  Open to suggestions\"])\n",
    "\n",
    "tweets.extend([\"Ugh, Monday mornings  Feeling so tired  Need more coffee  This week is going to be long  But I can do this  Staying positive  One day at a time  Gotta focus on the good  Surround yourself with good people  Little things mean a lot  Grateful for my amazing friends  Lunch plans?  Hit me up  Need to find a new hobby  Any ideas?  Feeling stressed  Deep breaths  Time to unwind  Self-care Sunday  Need a good book recommendation  Anyone seen a good movie lately?  Let's make this week less stressful\"])\n"
   ]
  },
  {
   "cell_type": "code",
   "execution_count": 11,
   "metadata": {},
   "outputs": [],
   "source": [
    "tweets.extend([\"Can't stop thinking about this amazing dress  Feeling like a million bucks  Confidence is key  Own your style  Fashion is my therapy  Shopping spree anyone?  Need a new outfit for the weekend  Gotta look good, feel good  Obsessed with this new lipstick shade  Makeup makes me feel confident  Hair goals  Need to find a good hair stylist  Self-care day  Spa time  Pampering myself  Need a little retail therapy  Window shopping is my favorite  Online shopping addiction  Anyone else?  Treat yourself  You deserve it  Indulge in your passions\"])\n",
    "\n",
    "tweets.extend([\"So excited for the weekend! Time to relax and unwind  Need to catch up on my favorite shows  Cozy nights in with a good book  Indulging in some yummy takeout  Movie marathon with my bestie  Self-care is a must  Face masks and bubble baths  Need a good laugh  Funny memes anyone?  Online shopping spree  Treat yourself  New makeup haul  Can't wait to try it out  Hair mask and deep conditioning  Gotta take care of those locks  Feeling inspired to try a new recipe  Cooking is my therapy  Dinner party plans?  Let's get together  Good food and good company  Love my kitchen gadgets  Baking something sweet  Satisfies my sweet tooth\"])\n"
   ]
  },
  {
   "cell_type": "code",
   "execution_count": 12,
   "metadata": {},
   "outputs": [],
   "source": [
    "tweets.extend([\"Feeling so grateful for this beautiful day  Sunshine and warm breeze  Perfect day for a picnic  Good food, good company, good vibes  Feeling so happy and carefree  Life is good  Grateful for every moment  Making memories that will last a lifetime  Enjoying the simple things  Happiness is homemade  Picnic essentials: blanket, snacks, good music  Love spending time outdoors  Nature therapy  Vitamin D boost  Sun-kissed skin  Summer lovin'  Feeling inspired to try a new hobby  Outdoor activities  Let's explore  Adventure awaits  Open to suggestions\"])\n",
    "\n",
    "tweets.extend([\"This weather is everything  Sunshine and warm breeze  Perfect day for a picnic  Good food, good company, good vibes  Feeling so happy and carefree  Life is good  Grateful for every moment  Making memories that will last a lifetime  Enjoying the simple things  Happiness is homemade  Picnic essentials: blanket, snacks, good music  Love spending time outdoors  Nature therapy  Vitamin D boost  Sun-kissed skin  Summer lovin'  Feeling inspired to try a new hobby  Outdoor activities  Let's explore  Adventure awaits  Open to suggestions\"])\n"
   ]
  },
  {
   "cell_type": "code",
   "execution_count": 13,
   "metadata": {},
   "outputs": [],
   "source": [
    "tweets.extend([\"Ugh, Monday mornings  Feeling so tired  Need more coffee  This week is going to be long  But I can do this  Staying positive  One day at a time  Gotta focus on the good  Surround yourself with good people  Little things mean a lot  Grateful for my amazing friends  Lunch plans?  Hit me up  Need to find a new hobby  Any ideas?  Feeling stressed  Deep breaths  Time to unwind  Self-care Sunday  Need a good book recommendation  Anyone seen a good movie lately?  Let's make this week less stressful\"])\n",
    "\n",
    "tweets.extend([\"Can't stop thinking about this amazing dress  Feeling like a million bucks  Confidence is key  Own your style  Fashion is my therapy  Shopping spree anyone?  Need a new outfit for the weekend  Gotta look good, feel good  Obsessed with this new lipstick shade  Makeup makes me feel confident  Hair goals  Need to find a good hair stylist  Self-care day  Spa time  Pampering myself  Need a little retail therapy  Window shopping is my favorite  Online shopping addiction  Anyone else?  Treat yourself  You deserve it  Indulge in your passions\"])\n"
   ]
  },
  {
   "cell_type": "code",
   "execution_count": 14,
   "metadata": {},
   "outputs": [],
   "source": [
    "tweets.extend([\"So excited for the weekend! Time to relax and unwind  Need to catch up on my favorite shows  Cozy nights in with a good book  Indulging in some yummy takeout  Movie marathon with my bestie  Self-care is a must  Face masks and bubble baths  Need a good laugh  Funny memes anyone?  Online shopping spree  Treat yourself  New makeup haul  Can't wait to try it out  Hair mask and deep conditioning  Gotta take care of those locks  Feeling inspired to try a new recipe  Cooking is my therapy  Dinner party plans?  Let's get together  Good food and good company  Love my kitchen gadgets  Baking something sweet  Satisfies my sweet tooth\"])\n",
    "\n",
    "tweets.extend([\"Feeling so grateful for this beautiful day  Sunshine and warm breeze  Perfect day for a picnic  Good food, good company, good vibes  Feeling so happy and carefree  Life is good  Grateful for every moment  Making memories that will last a lifetime  Enjoying the simple things  Happiness is homemade  Picnic essentials: blanket, snacks, good music  Love spending time outdoors  Nature therapy  Vitamin D boost  Sun-kissed skin  Summer lovin'  Feeling inspired to try a new hobby  Outdoor activities  Let's explore  Adventure awaits  Open to suggestions\"])\n"
   ]
  },
  {
   "cell_type": "code",
   "execution_count": 15,
   "metadata": {},
   "outputs": [],
   "source": [
    "tweets.extend([\"Ugh, Monday mornings  Feeling so tired  Need more coffee  This week is going to be long  But I can do this  Staying positive  One day at a time  Gotta focus on the good  Surround yourself with good people  Little things mean a lot  Grateful for my amazing friends  Lunch plans?  Hit me up  Need to find a new hobby  Any ideas?  Feeling stressed  Deep breaths  Time to unwind  Self-care Sunday  Need a good book recommendation  Anyone seen a good movie lately?  Let's make this week less stressful\"])\n",
    "\n",
    "tweets.extend([\"Can't stop thinking about this amazing dress  Feeling like a million bucks  Confidence is key  Own your style  Fashion is my therapy  Shopping spree anyone?  Need a new outfit for the weekend  Gotta look good, feel good  Obsessed with this new lipstick shade  Makeup makes me feel confident  Hair goals  Need to find a good hair stylist  Self-care day  Spa time  Pampering myself  Need a little retail therapy  Window shopping is my favorite  Online shopping addiction  Anyone else?  Treat yourself  You deserve it  Indulge in your passions\"])\n"
   ]
  },
  {
   "cell_type": "code",
   "execution_count": 16,
   "metadata": {},
   "outputs": [],
   "source": [
    "tweets.extend([\"So excited for the weekend! Time to relax and unwind  Need to catch up on my favorite shows  Cozy nights in with a good book  Indulging in some yummy takeout  Movie marathon with my bestie  Self-care is a must  Face masks and bubble baths  Need a good laugh  Funny memes anyone?  Online shopping spree  Treat yourself  New makeup haul  Can't wait to try it out  Hair mask and deep conditioning  Gotta take care of those locks  Feeling inspired to try a new recipe  Cooking is my therapy  Dinner party plans?  Let's get together  Good food and good company  Love my kitchen gadgets  Baking something sweet  Satisfies my sweet tooth\"])\n",
    "\n",
    "tweets.extend([\"Feeling so grateful for this beautiful day  Sunshine and warm breeze  Perfect day for a picnic  Good food, good company, good vibes  Feeling so happy and carefree  Life is good  Grateful for every moment  Making memories that will last a lifetime  Enjoying the simple things  Happiness is homemade  Picnic essentials: blanket, snacks, good music  Love spending time outdoors  Nature therapy  Vitamin D boost  Sun-kissed skin  Summer lovin'  Feeling inspired to try a new hobby  Outdoor activities  Let's explore  Adventure awaits  Open to suggestions\"])\n"
   ]
  },
  {
   "cell_type": "code",
   "execution_count": 17,
   "metadata": {},
   "outputs": [],
   "source": [
    "tweets.extend([\"Ugh, Monday mornings  Feeling so tired  Need more coffee  This week is going to be long  But I can do this  Staying positive  One day at a time  Gotta focus on the good  Surround yourself with good people  Little things mean a lot  Grateful for my amazing friends  Lunch plans?  Hit me up  Need to find a new hobby  Any ideas?  Feeling stressed  Deep breaths  Time to unwind  Self-care Sunday  Need a good book recommendation  Anyone seen a good movie lately?  Let's make this week less stressful\"])\n",
    "\n",
    "tweets.extend([\"Can't stop thinking about this amazing dress  Feeling like a million bucks  Confidence is key  Own your style  Fashion is my therapy  Shopping spree anyone?  Need a new outfit for the weekend  Gotta look good, feel good  Obsessed with this new lipstick shade  Makeup makes me feel confident  Hair goals  Need to find a good hair stylist  Self-care day  Spa time  Pampering myself  Need a little retail therapy  Window shopping is my favorite  Online shopping addiction  Anyone else?  Treat yourself  You deserve it  Indulge in your passions\"])\n"
   ]
  },
  {
   "cell_type": "code",
   "execution_count": 18,
   "metadata": {},
   "outputs": [],
   "source": [
    "tweets.extend([\"So excited for the weekend! Time to relax and unwind  Need to catch up on my favorite shows  Cozy nights in with a good book  Indulging in some yummy takeout  Movie marathon with my bestie  Self-care is a must  Face masks and bubble baths  Need a good laugh  Funny memes anyone?  Online shopping spree  Treat yourself  New makeup haul  Can't wait to try it out  Hair mask and deep conditioning  Gotta take care of those locks  Feeling inspired to try a new recipe  Cooking is my therapy  Dinner party plans?  Let's get together  Good food and good company  Love my kitchen gadgets  Baking something sweet  Satisfies my sweet tooth\"])\n",
    "\n",
    "tweets.extend([\"Feeling so grateful for this beautiful day  Sunshine and warm breeze  Perfect day for a picnic  Good food, good company, good vibes  Feeling so happy and carefree  Life is good  Grateful for every moment  Making memories that will last a lifetime  Enjoying the simple things  Happiness is homemade  Picnic essentials: blanket, snacks, good music  Love spending time outdoors  Nature therapy  Vitamin D boost  Sun-kissed skin  Summer lovin'  Feeling inspired to try a new hobby  Outdoor activities  Let's explore  Adventure awaits  Open to suggestions\"])\n"
   ]
  },
  {
   "cell_type": "code",
   "execution_count": 19,
   "metadata": {},
   "outputs": [],
   "source": [
    "tweets.extend([\"Ugh, Monday mornings  Feeling so tired  Need more coffee  This week is going to be long  But I can do this  Staying positive  One day at a time  Gotta focus on the good  Surround yourself with good people  Little things mean a lot  Grateful for my amazing friends  Lunch plans?  Hit me up  Need to find a new hobby  Any ideas?  Feeling stressed  Deep breaths  Time to unwind  Self-care Sunday  Need a good book recommendation  Anyone seen a good movie lately?  Let's make this week less stressful\"])\n",
    "\n",
    "tweets.extend([\"Can't stop thinking about this amazing dress  Feeling like a million bucks  Confidence is key  Own your style  Fashion is my therapy  Shopping spree anyone?  Need a new outfit for the weekend  Gotta look good, feel good  Obsessed with this new lipstick shade  Makeup makes me feel confident  Hair goals  Need to find a good hair stylist  Self-care day  Spa time  Pampering myself  Need a little retail therapy  Window shopping is my favorite  Online shopping addiction  Anyone else?  Treat yourself  You deserve it  Indulge in your passions\"])\n"
   ]
  },
  {
   "cell_type": "code",
   "execution_count": 20,
   "metadata": {},
   "outputs": [],
   "source": [
    "tweets.extend([\"So excited for the weekend! Time to relax and unwind  Need to catch up on my favorite shows  Cozy nights in with a good book  Indulging in some yummy takeout  Movie marathon with my bestie  Self-care is a must  Face masks and bubble baths  Need a good laugh  Funny memes anyone?  Online shopping spree  Treat yourself  New makeup haul  Can't wait to try it out  Hair mask and deep conditioning  Gotta take care of those locks  Feeling inspired to try a new recipe  Cooking is my therapy  Dinner party plans?  Let's get together  Good food and good company  Love my kitchen gadgets  Baking something sweet  Satisfies my sweet tooth\"])\n",
    "\n",
    "tweets.extend([\"Feeling so grateful for this beautiful day  Sunshine and warm breeze  Perfect day for a picnic  Good food, good company, good vibes  Feeling so happy and carefree  Life is good  Grateful for every moment  Making memories that will last a lifetime  Enjoying the simple things  Happiness is homemade  Picnic essentials: blanket, snacks, good music  Love spending time outdoors  Nature therapy  Vitamin D boost  Sun-kissed skin  Summer lovin'  Feeling inspired to try a new hobby  Outdoor activities  Let's explore  Adventure awaits  Open to suggestions\"])\n"
   ]
  },
  {
   "cell_type": "code",
   "execution_count": 21,
   "metadata": {},
   "outputs": [],
   "source": [
    "tweets.extend([\"Ugh, Monday mornings  Feeling so tired  Need more coffee  This week is going to be long  But I can do this  Staying positive  One day at a time  Gotta focus on the good  Surround yourself with good people  Little things mean a lot  Grateful for my amazing friends  Lunch plans?  Hit me up  Need to find a new hobby  Any ideas?  Feeling stressed  Deep breaths  Time to unwind  Self-care Sunday  Need a good book recommendation  Anyone seen a good movie lately?  Let's make this week less stressful\"])\n",
    "\n",
    "tweets.extend([\"Can't stop thinking about this amazing dress  Feeling like a million bucks  Confidence is key  Own your style  Fashion is my therapy  Shopping spree anyone?  Need a new outfit for the weekend  Gotta look good, feel good  Obsessed with this new lipstick shade  Makeup makes me feel confident  Hair goals  Need to find a good hair stylist  Self-care day  Spa time  Pampering myself  Need a little retail therapy  Window shopping is my favorite  Online shopping addiction  Anyone else?  Treat yourself  You deserve it  Indulge in your passions\"])\n"
   ]
  },
  {
   "cell_type": "code",
   "execution_count": 22,
   "metadata": {},
   "outputs": [],
   "source": [
    "tweets.extend([\"So excited for the weekend! Time to relax and unwind  Need to catch up on my favorite shows  Cozy nights in with a good book  Indulging in some yummy takeout  Movie marathon with my bestie  Self-care is a must  Face masks and bubble baths  Need a good laugh  Funny memes anyone?  Online shopping spree  Treat yourself  New makeup haul  Can't wait to try it out  Hair mask and deep conditioning  Gotta take care of those locks  Feeling inspired to try a new recipe  Cooking is my therapy  Dinner party plans?  Let's get together  Good food and good company  Love my kitchen gadgets  Baking something sweet  Satisfies my sweet tooth\"])\n",
    "\n",
    "tweets.extend([\"Feeling so grateful for this beautiful day  Sunshine and warm breeze  Perfect day for a picnic  Good food, good company, good vibes  Feeling so happy and carefree  Life is good  Grateful for every moment  Making memories that will last a lifetime  Enjoying the simple things  Happiness is homemade  Picnic essentials: blanket, snacks, good music  Love spending time outdoors  Nature therapy  Vitamin D boost  Sun-kissed skin  Summer lovin'  Feeling inspired to try a new hobby  Outdoor activities  Let's explore  Adventure awaits  Open to suggestions\"])\n"
   ]
  },
  {
   "cell_type": "code",
   "execution_count": 23,
   "metadata": {},
   "outputs": [],
   "source": [
    "tweets.extend([\"Ugh, Monday mornings  Feeling so tired  Need more coffee  This week is going to be long  But I can do this  Staying positive  One day at a time  Gotta focus on the good  Surround yourself with good people  Little things mean a lot  Grateful for my amazing friends  Lunch plans?  Hit me up  Need to find a new hobby  Any ideas?  Feeling stressed  Deep breaths  Time to unwind  Self-care Sunday  Need a good book recommendation  Anyone seen a good movie lately?  Let's make this week less stressful\"])\n",
    "\n",
    "tweets.extend([\"Can't stop thinking about this amazing dress  Feeling like a million bucks  Confidence is key  Own your style  Fashion is my therapy  Shopping spree anyone?  Need a new outfit for the weekend  Gotta look good, feel good  Obsessed with this new lipstick shade  Makeup makes me feel confident  Hair goals  Need to find a good hair stylist  Self-care day  Spa time  Pampering myself  Need a little retail therapy  Window shopping is my favorite  Online shopping addiction  Anyone else?  Treat yourself  You deserve it  Indulge in your passions\"])\n"
   ]
  },
  {
   "cell_type": "code",
   "execution_count": 24,
   "metadata": {},
   "outputs": [],
   "source": [
    "tweets.extend([\"So excited for the weekend! Time to relax and unwind  Need to catch up on my favorite shows  Cozy nights in with a good book  Indulging in some yummy takeout  Movie marathon with my bestie  Self-care is a must  Face masks and bubble baths  Need a good laugh  Funny memes anyone?  Online shopping spree  Treat yourself  New makeup haul  Can't wait to try it out  Hair mask and deep conditioning  Gotta take care of those locks  Feeling inspired to try a new recipe  Cooking is my therapy  Dinner party plans?  Let's get together  Good food and good company  Love my kitchen gadgets  Baking something sweet  Satisfies my sweet tooth\"])\n",
    "\n",
    "tweets.extend([\"Feeling so grateful for this beautiful day  Sunshine and warm breeze  Perfect day for a picnic  Good food, good company, good vibes  Feeling so happy and carefree  Life is good  Grateful for every moment  Making memories that will last a lifetime  Enjoying the simple things  Happiness is homemade  Picnic essentials: blanket, snacks, good music  Love spending time outdoors  Nature therapy  Vitamin D boost  Sun-kissed skin  Summer lovin'  Feeling inspired to try a new hobby  Outdoor activities  Let's explore  Adventure awaits  Open to suggestions\"])\n"
   ]
  },
  {
   "cell_type": "code",
   "execution_count": 25,
   "metadata": {},
   "outputs": [],
   "source": [
    "tweets.extend([\"Ugh, Monday mornings  Feeling so tired  Need more coffee  This week is going to be long  But I can do this  Staying positive  One day at a time  Gotta focus on the good  Surround yourself with good people  Little things mean a lot  Grateful for my amazing friends  Lunch plans?  Hit me up  Need to find a new hobby  Any ideas?  Feeling stressed  Deep breaths  Time to unwind  Self-care Sunday  Need a good book recommendation  Anyone seen a good movie lately?  Let's make this week less stressful\"])\n",
    "\n",
    "tweets.extend([\"Can't stop thinking about this amazing dress  Feeling like a million bucks  Confidence is key  Own your style  Fashion is my therapy  Shopping spree anyone?  Need a new outfit for the weekend  Gotta look good, feel good  Obsessed with this new lipstick shade  Makeup makes me feel confident  Hair goals  Need to find a good hair stylist  Self-care day  Spa time  Pampering myself  Need a little retail therapy  Window shopping is my favorite  Online shopping addiction  Anyone else?  Treat yourself  You deserve it  Indulge in your passions\"])\n"
   ]
  },
  {
   "cell_type": "code",
   "execution_count": 26,
   "metadata": {},
   "outputs": [],
   "source": [
    "tweets.extend([\"So excited for the weekend! Time to relax and unwind  Need to catch up on my favorite shows  Cozy nights in with a good book  Indulging in some yummy takeout  Movie marathon with my bestie  Self-care is a must  Face masks and bubble baths  Need a good laugh  Funny memes anyone?  Online shopping spree  Treat yourself  New makeup haul  Can't wait to try it out  Hair mask and deep conditioning  Gotta take care of those locks  Feeling inspired to try a new recipe  Cooking is my therapy  Dinner party plans?  Let's get together  Good food and good company  Love my kitchen gadgets  Baking something sweet  Satisfies my sweet tooth\"])\n",
    "\n",
    "tweets.extend([\"Feeling so grateful for this beautiful day  Sunshine and warm breeze  Perfect day for a picnic  Good food, good company, good vibes  Feeling so happy and carefree  Life is good  Grateful for every moment  Making memories that will last a lifetime  Enjoying the simple things  Happiness is homemade  Picnic essentials: blanket, snacks, good music  Love spending time outdoors  Nature therapy  Vitamin D boost  Sun-kissed skin  Summer lovin'  Feeling inspired to try a new hobby  Outdoor activities  Let's explore  Adventure awaits  Open to suggestions\"])\n"
   ]
  },
  {
   "cell_type": "code",
   "execution_count": 27,
   "metadata": {},
   "outputs": [],
   "source": [
    "tweets.extend([\"Ugh, Monday mornings  Feeling so tired  Need more coffee  This week is going to be long  But I can do this  Staying positive  One day at a time  Gotta focus on the good  Surround yourself with good people  Little things mean a lot  Grateful for my amazing friends  Lunch plans?  Hit me up  Need to find a new hobby  Any ideas?  Feeling stressed  Deep breaths  Time to unwind  Self-care Sunday  Need a good book recommendation  Anyone seen a good movie lately?  Let's make this week less stressful\"])\n",
    "\n",
    "tweets.extend([\"Can't stop thinking about this amazing dress  Feeling like a million bucks  Confidence is key  Own your style  Fashion is my therapy  Shopping spree anyone?  Need a new outfit for the weekend  Gotta look good, feel good  Obsessed with this new lipstick shade  Makeup makes me feel confident  Hair goals  Need to find a good hair stylist  Self-care day  Spa time  Pampering myself  Need a little retail therapy  Window shopping is my favorite  Online shopping addiction  Anyone else?  Treat yourself  You deserve it  Indulge in your passions\"])\n"
   ]
  },
  {
   "cell_type": "code",
   "execution_count": 28,
   "metadata": {},
   "outputs": [],
   "source": [
    "tweets.extend([\"So excited for the weekend! Time to relax and unwind  Need to catch up on my favorite shows  Cozy nights in with a good book  Indulging in some yummy takeout  Movie marathon with my bestie  Self-care is a must  Face masks and bubble baths  Need a good laugh  Funny memes anyone?  Online shopping spree  Treat yourself  New makeup haul  Can't wait to try it out  Hair mask and deep conditioning  Gotta take care of those locks  Feeling inspired to try a new recipe  Cooking is my therapy  Dinner party plans?  Let's get together  Good food and good company  Love my kitchen gadgets  Baking something sweet  Satisfies my sweet tooth\"])\n",
    "\n",
    "tweets.extend([\"Feeling so grateful for this beautiful day  Sunshine and warm breeze  Perfect day for a picnic  Good food, good company, good vibes  Feeling so happy and carefree  Life is good  Grateful for every moment  Making memories that will last a lifetime  Enjoying the simple things  Happiness is homemade  Picnic essentials: blanket, snacks, good music  Love spending time outdoors  Nature therapy  Vitamin D boost  Sun-kissed skin  Summer lovin'  Feeling inspired to try a new hobby  Outdoor activities  Let's explore  Adventure awaits  Open to suggestions\"])\n"
   ]
  },
  {
   "cell_type": "code",
   "execution_count": 29,
   "metadata": {},
   "outputs": [],
   "source": [
    "tweets.extend([\"Ugh, Monday mornings  Feeling so tired  Need more coffee  This week is going to be long  But I can do this  Staying positive  One day at a time  Gotta focus on the good  Surround yourself with good people  Little things mean a lot  Grateful for my amazing friends  Lunch plans?  Hit me up  Need to find a new hobby  Any ideas?  Feeling stressed  Deep breaths  Time to unwind  Self-care Sunday  Need a good book recommendation  Anyone seen a good movie lately?  Let's make this week less stressful\"])\n",
    "\n",
    "tweets.extend([\"Can't stop thinking about this amazing dress  Feeling like a million bucks  Confidence is key  Own your style  Fashion is my therapy  Shopping spree anyone?  Need a new outfit for the weekend  Gotta look good, feel good  Obsessed with this new lipstick shade  Makeup makes me feel confident  Hair goals  Need to find a good hair stylist  Self-care day  Spa time  Pampering myself  Need a little retail therapy  Window shopping is my favorite  Online shopping addiction  Anyone else?  Treat yourself  You deserve it  Indulge in your passions\"])\n"
   ]
  },
  {
   "cell_type": "code",
   "execution_count": 30,
   "metadata": {},
   "outputs": [],
   "source": [
    "tweets.extend([\"So excited for the weekend! Time to relax and unwind  Need to catch up on my favorite shows  Cozy nights in with a good book  Indulging in some yummy takeout  Movie marathon with my bestie  Self-care is a must  Face masks and bubble baths  Need a good laugh  Funny memes anyone?  Online shopping spree  Treat yourself  New makeup haul  Can't wait to try it out  Hair mask and deep conditioning  Gotta take care of those locks  Feeling inspired to try a new recipe  Cooking is my therapy  Dinner party plans?  Let's get together  Good food and good company  Love my kitchen gadgets  Baking something sweet  Satisfies my sweet tooth\"])\n",
    "\n",
    "tweets.extend([\"Feeling so grateful for this beautiful day  Sunshine and warm breeze  Perfect day for a picnic  Good food, good company, good vibes  Feeling so happy and carefree  Life is good  Grateful for every moment  Making memories that will last a lifetime  Enjoying the simple things  Happiness is homemade  Picnic essentials: blanket, snacks, good music  Love spending time outdoors  Nature therapy  Vitamin D boost  Sun-kissed skin  Summer lovin'  Feeling inspired to try a new hobby  Outdoor activities  Let's explore  Adventure awaits  Open to suggestions\"])\n"
   ]
  },
  {
   "cell_type": "code",
   "execution_count": 31,
   "metadata": {},
   "outputs": [
    {
     "data": {
      "text/plain": [
       "51"
      ]
     },
     "execution_count": 31,
     "metadata": {},
     "output_type": "execute_result"
    }
   ],
   "source": [
    "len(tweets)"
   ]
  }
 ],
 "metadata": {
  "kernelspec": {
   "display_name": "Python 3",
   "language": "python",
   "name": "python3"
  },
  "language_info": {
   "codemirror_mode": {
    "name": "ipython",
    "version": 3
   },
   "file_extension": ".py",
   "mimetype": "text/x-python",
   "name": "python",
   "nbconvert_exporter": "python",
   "pygments_lexer": "ipython3",
   "version": "3.9.16"
  }
 },
 "nbformat": 4,
 "nbformat_minor": 2
}
