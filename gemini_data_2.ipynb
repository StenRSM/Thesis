{
 "cells": [
  {
   "cell_type": "markdown",
   "metadata": {},
   "source": [
    "# Gemini data for RQ2"
   ]
  },
  {
   "cell_type": "code",
   "execution_count": 79,
   "metadata": {},
   "outputs": [],
   "source": [
    "import pandas as pd"
   ]
  },
  {
   "cell_type": "markdown",
   "metadata": {},
   "source": [
    "## Male tweets"
   ]
  },
  {
   "cell_type": "markdown",
   "metadata": {},
   "source": [
    "https://gemini.google.com/app/c9373b919541704f"
   ]
  },
  {
   "cell_type": "code",
   "execution_count": 80,
   "metadata": {},
   "outputs": [],
   "source": [
    "tweets = [\"This is my first tweet! So excited to start tweeting. Any tips for new users? #newtotwitter #excited #helpme #twittertips Can't believe I finally joined the Twitterverse! Looking forward to connecting with everyone. #newaccount #helloeveryone #socialmedia #twitterlife Just woke up and thought I'd share my morning coffee pic. Who else is addicted to coffee? #coffeetime #morningroutine #coffeelover #caffeinefix Feeling so grateful for this beautiful day. Sunshine and good vibes all around. #blessed #grateful #sunshine #goodvibes Only 2 more days until the weekend! Can't wait to relax and recharge. Anyone have fun plans? #weekendvibes #relaxation #recharge #plans Anyone else struggling with adulting today? Send help! #adultingishard #sendhelp #adultlife #struggling This tweet is brought to you by my cat who is currently sleeping on my keyboard. #catlife #catsofinstagram #sleepycat #keyboardcat Currently debating whether to order pizza or tacos. Help me decide! #foodcoma #pizzaortacos #foodlover #decisiontime Trying to figure out this new workout routine. Send motivation! #workout #fitness #motivation #gymlife Just finished a great book and now I'm craving a good movie. Any recommendations? #bookworm #movierecommendations #chillnight #relaxtime This weather is perfect for a picnic in the park. Anyone up for it? #picnic #parkday #goodweather #outdoors Time to catch up on my favorite shows. What are you watching? #bingewatching #tvshows #couchpotato #relaxtime Feeling inspired to try something new today. Any suggestions? #newhobbies #inspiration #trynewthings #adventuretime This is a random tweet because I'm bored. Anyone else relate? #boredom #randomthoughts #nothingtodo #helpme This tweet is dedicated to all the amazing people in my life. You make everything better. #grateful #love #friends #family Thinking about taking a vacation soon. Any destination ideas? #vacation #travel #explore #dreaming Big plans for the weekend. Can't wait to share details! #weekendplans #excited #staytuned #followme Just realized it's taco Tuesday! Time to celebrate. #tacotuesday #food #celebration #yummy Thinking about dyeing my hair a crazy color. Any thoughts? #hairdye #crazyhair #newlook #opinions\"]\n"
   ]
  },
  {
   "cell_type": "code",
   "execution_count": 81,
   "metadata": {},
   "outputs": [],
   "source": [
    "tweets.extend([\"This is my first tweet! So excited to start tweeting. Any tips for new users? #newtotwitter #excited #helpme #twittertips Can't believe I finally joined the Twitterverse! Looking forward to connecting with everyone. #newaccount #helloeveryone #socialmedia #twitterlife Just woke up and thought I'd share my morning coffee pic. Who else is addicted to coffee? #coffeetime #morningroutine #coffeelover #caffeinefix Feeling so grateful for this beautiful day. Sunshine and good vibes all around. #blessed #grateful #sunshine #goodvibes Only 2 more days until the weekend! Can't wait to relax and recharge. Anyone have fun plans? #weekendvibes #relaxation #recharge #plans Anyone else struggling with adulting today? Send help! #adultingishard #sendhelp #adultlife #struggling This tweet is brought to you by my cat who is currently sleeping on my keyboard. #catlife #catsofinstagram #sleepycat #keyboardcat Currently debating whether to order pizza or tacos. Help me decide! #foodcoma #pizzaortacos #foodlover #decisiontime Trying to figure out this new workout routine. Send motivation! #workout #fitness #motivation #gymlife Just finished a great book and now I'm craving a good movie. Any recommendations? #bookworm #movierecommendations #chillnight #relaxtime This weather is perfect for a picnic in the park. Anyone up for it? #picnic #parkday #goodweather #outdoors Time to catch up on my favorite shows. What are you watching? #bingewatching #tvshows #couchpotato #relaxtime Feeling inspired to try something new today. Any suggestions? #newhobbies #inspiration #trynewthings #adventuretime This is a random tweet because I'm bored. Anyone else relate? #boredom #randomthoughts #nothingtodo #helpme This tweet is dedicated to all the amazing people in my life. You make everything better. #grateful #love #friends #family Thinking about taking a vacation soon. Any destination ideas? #vacation #travel #explore #dreaming Big plans for the weekend. Can't wait to share details! #weekendplans #excited #staytuned #followme Just realized it's taco Tuesday! Time to celebrate. #tacotuesday #food #celebration #yummy Thinking about dyeing my hair a crazy color. Any thoughts? #hairdye #crazyhair #newlook #opinions\"])\n",
    "tweets.extend([\"Dude, where's my car? Seriously though, anyone know where I parked? This city is a maze. #lost #parkingproblems #citylife #helpme Need coffee STAT. Like, right now. Send help. #coffeeholic #caffeinefix #tired #mondaymood Gonna binge-watch my favorite show all day. Don't judge me. #lazyday #bingewatching #chillmode #netflixandchill This burger was so good, I'm considering marrying it. #foodporn #burgerlove #foodie #delicious Craving adventure. Any suggestions? Hiking? Camping? Road trip? Hit me up. #adventuretime #outdoors #explore #travel This weather is perfect for a cold beer. Anyone up for a backyard BBQ? #beertime #bbq #goodvibes #summertime Need a new hobby. Any ideas? Something fun and challenging. #hobbies #bored #newbeginnings #suggestions Trying to decide what to wear. Help a bro out. #fashion #outfitoftheday #style #indecisive Just got a new video game. So hyped! Anyone wanna play? #videogames #gamer #gaming #squad Anyone else feeling like they're aging rapidly? #old #adulting #timeflies #growingup Can't stop thinking about that pizza I had last night. #foodcravings #pizza #hungry #foodcoma Need to declutter my life. Any tips? #declutter #organization #minimalist #newstart Thinking about getting a dog. Best friend material, right? #doglover #puppy #pet #companion This weekend is gonna be lit. Can't wait to let loose. #weekendvibes #partytime #fun #goodtimes Need to find a new workout routine. Getting bored with the gym. #workout #fitness #health #motivation Thinking about growing a beard. Thoughts? #beard #style #mensgrooming #newlook\"])\n",
    "tweets.extend([\"Ugh, Mondays. Why do you exist? #mondaymood #hateMondays #coffeetime #survivalmode This city is so noisy. Need a vacation ASAP. #citylife #noisepollution #vacationmode #escape This weather is crap. Where's the sunshine? #badweather #rainydays #depressed #winterblues Trying to learn a new language. Any tips? #languagelearning #newskills #challenge #brainpower Need a new pair of shoes. Can't decide between sneakers or boots. #shoeaddict #fashion #style #indecisive This job is killing me. Send help. #worklife #stress #burnout #needabreak Gotta love public transportation. So much fun. #sarcasm #publictransport #commuting #nightmare This coffee shop is my happy place. Best coffee ever. #coffeelover #cafe #relaxation #goodvibes Need to catch up on my reading. Any book recommendations? #bookworm #reading #literature #newbooks This city never sleeps. And neither do I. #citylife #insomnia #nightlife #tired Feeling lost. Need to find my purpose. #lifegoals #motivation #inspiration #directionless Gotta support my favorite sports team. Let's go! #sports #teamspirit #fan #gameday This food is amazing. Seriously, best meal ever. #foodie #foodporn #delicious #yum This weekend is gonna be chill. Netflix and chill, anyone? #lazyday #relaxation #chillmode #weekendvibes Need to stop spending money. Broke college student problems. #broke #shoppingaddict #finance #adulting This weather is perfect for a hike. Anyone up for it? #outdoors #hiking #nature #adventure\"])\n",
    "tweets.extend([\"I'm so tired. Send coffee. #tired #coffee #needcaffeine #mondaymood This city is a concrete jungle. Need some greenery. #citylife #naturelover #parks #fresh air Gotta love my morning commute. So much fun. #sarcasm #commuting #traffic #stress This weather is perfect for cuddling up with a good book. #cozy #reading #relaxation #chillmode This job is paying the bills, but it's not fulfilling. #worklife #careergoals #dreams #ambition Need to find a new hobby. Any suggestions? #bored #newskills #challenge #personalgrowth Gotta support my local businesses. Small businesses matter. #supportlocal #community #shopping #economy This coffee shop is my second home. Best baristas ever. #coffeelover #cafe #friendlystaff #goodvibes Need to catch up on my sleep. So tired. #sleepdeprived #exhausted #rest #recharge This city never stops surprising me. Love it or hate it. #citylife #urbanliving #explore #discover Feeling inspired to create something. Let's get to work. #creative #artist #passion #project Gotta love my friends. They're the best. #friendship #loyalty #support #love This food is giving me life. So delicious. #foodie #foodporn #yum #satisfying This weekend is gonna be packed. So many plans. #busyweekend #sociallife #fun #adventure Need to stop procrastinating. So much to do, so little time. #procrastination #productivity #timemanagement #adulting This weather is perfect for a picnic in the park. #outdoors #picnic #sunshine #relaxation\"])\n"
   ]
  },
  {
   "cell_type": "code",
   "execution_count": 82,
   "metadata": {},
   "outputs": [],
   "source": [
    "tweets.extend([\"This is a great day to be alive! Feeling blessed and grateful. #blessed #grateful #positivevibes #goodmorning Struggling with this project. Send help or coffee. Preferably both. #worklife #deadline #stressed #needabreak Just finished a workout. Feeling strong and accomplished. #fitness #workout #gymlife #healthylifestyle This city is so inspiring. Love exploring new places. #citylife #explore #adventure #goodvibes Craving pizza. Any recommendations? #pizza #food #foodie #delivery Thinking about dyeing my hair a crazy color. Need opinions. #hairstyle #newlook #bold #change This weather is perfect for a hike. Anyone up for it? #hiking #nature #outdoors #adventure Time to binge-watch my favorite show. Need recommendations. #bingewatching #tvshows #relaxation #chillmode Just bought a new video game. So excited to play! #videogames #gaming #gamer #fun This coffee shop is my happy place. Best coffee ever. #coffee #coffeeshop #caffeine #relaxation Feeling lost. Need to find my purpose. #lifegoals #motivation #inspiration #directionless Gotta love my friends. They're the best support system. #friendship #loyalty #support #love This food is amazing. Seriously, best meal ever. #food #foodie #delicious #yum This weekend is gonna be lit. Can't wait to party. #weekend #party #fun #goodtimes Need to stop spending money. Broke college student problems. #broke #shopping #finance #adulting This weather is perfect for a nap. So tired. #sleep #naptime #rest #recharge Thinking about getting a dog. Best companion ever. #dog #puppy #pet #love This job is stressful but the paycheck is nice. #worklife #money #stress #adulting\"])\n",
    "tweets.extend([\"Just had the best burger ever. Seriously, food coma incoming. #burger #food #foodie #delicious This city is so loud. Need a quiet place to escape. #citylife #noisepollution #peaceandquiet #relaxation Gotta love my morning routine. Coffee, then chaos. #morningroutine #coffee #chaos #adulting This weather is perfect for a cozy day indoors. #rainyday #cozy #relaxation #chillmode This job is okay, I guess. Just paying the bills. #worklife #money #boredom #adulting Need to find a new challenge. Feeling stagnant. #challenge #growth #motivation #inspiration Gotta support my local sports team. Let's go! #sports #team #fan #gameday This coffee shop is too crowded. Need a quiet place to work. #coffee #coffeeshop #productivity #focus Feeling inspired to write something. Need to find my muse. #writing #creative #inspiration #motivation Gotta love my family. Always there for me. #family #love #support #grateful This food is bland. Need something spicy. #food #spicy #flavor #tastebuds This weekend is gonna be chill. Netflix and chill. #weekend #relaxation #chillmode #lazyday Need to stop procrastinating. So much to do. #procrastination #productivity #timemanagement #adulting This weather is perfect for a road trip. Anyone in? #roadtrip #adventure #explore #travel Thinking about getting a tattoo. Need ideas. #tattoo #ink #bodyart #design This job is draining my soul. Need a new career. #job #career #passion #purpose\"])\n",
    "tweets.extend([\"Just had the best dream. Wish it was real. #dreams #sleep #imagination #wishfulthinking This city is full of opportunities. Gotta seize them. #citylife #ambition #goals #success Gotta love my morning workout. Sets me up for the day. #workout #fitness #health #energy This weather is perfect for a concert. Any recommendations? #concert #music #livemusic #fun This job is challenging but rewarding. #worklife #career #growth #satisfaction Need to learn a new skill. Any suggestions? #skills #learning #development #improvement Gotta support my favorite artists. Need to go to more shows. #music #artist #concert #livemusic This coffee shop is my favorite study spot. Great atmosphere. #coffee #coffeeshop #study #focus Feeling inspired to travel. Need to save money. #travel #explore #adventure #wanderlust Gotta love my friends. They're my family. #friendship #loyalty #support #love This food is spicy but delicious. Perfect for my taste buds. #food #spicy #flavor #delicious This weekend is gonna be busy. So many things to do. #weekend #busy #schedule #planner Need to stop comparing myself to others. Focus on myself. #comparison #selflove #confidence #growth This weather is perfect for a bike ride. #bike #exercise #outdoors #fresh air Thinking about getting a pet. Need to do more research. #pet #dog #cat #animallover This job is secure but boring. Need a change. #job #career #motivation #change\"])\n"
   ]
  },
  {
   "cell_type": "code",
   "execution_count": 83,
   "metadata": {},
   "outputs": [],
   "source": [
    "tweets.extend([\"This weather is perfect for a bonfire. Anyone in? #bonfire #outdoors #chill #friends This job interview went well, I think. Fingers crossed. #jobinterview #newjob #career #hopeful Feeling so stressed about exams. Send help! #exams #studentlife #stressed #overwhelmed Gotta love my morning coffee. Fuel for the day. #coffee #morning #caffeine #energy This city is so fast-paced. Need a break. #citylife #slowdown #relax #peace This weekend is packed with plans. Can't wait! #weekend #busy #fun #sociallife Need to learn how to cook. Tired of takeout. #cooking #food #healthy #skills This book is amazing. Can't put it down. #book #reading #story #escape Feeling inspired to start a new hobby. Any suggestions? #hobby #newskill #challenge #fun Gotta love my family. Always there for me. #family #love #support #grateful This food is so good, I could eat it every day. #food #delicious #yum #foodie This weekend is gonna be chill. Netflix and chill mode activated. #weekend #relax #chill #lazy Need to stop procrastinating. So much to do. #procrastination #productivity #task #deadline This weather is perfect for a nap. So cozy. #nap #sleep #relaxation #chill This city is so expensive. Need a rich friend. #citylife #money #broke #help This job is boring. Need something more exciting. #job #career #bored #change\"])\n",
    "tweets.extend([\"This weather is perfect for a hike. Anyone up for it? #hiking #nature #outdoors #adventure This job interview bombed. Feeling defeated. #jobinterview #failure #disappointed #motivation This weekend is gonna be low-key. Just need to relax. #weekend #chill #relaxation #recharge Need to learn how to save money. Broke college student problems. #money #save #budget #finance This book is so boring. Can't focus. #book #reading #bored #uninteresting Feeling inspired to start a business. Any advice? #business #entrepreneur #startup #goals Gotta love my friends. They're the real MVPs. #friends #loyalty #support #fun This food is bland. Need something with flavor. #food #taste #flavor #spice This weekend is packed with family time. Looking forward to it. #family #love #qualitytime #bonding Need to stop eating junk food. Healthier options needed. #food #healthy #diet #fitness This weather is perfect for a concert. Any recommendations? #concert #music #live #fun This city is so lonely. Need to make new friends. #citylife #lonely #friends #sociallife This job is stressful but the pay is good. #job #stress #money #balance\"])\n",
    "tweets.extend([\"This weather is perfect for a beach day. Wish I was there. #beach #summer #vacation #dream This job interview is tomorrow. Wish me luck! #jobinterview #nervous #hopeful #career This weekend is gonna be a mix of work and play. Gotta balance it all. #weekend #work #play #balance Need to learn how to be more confident. Shy guy problems. #confidence #selfesteem #improvement #personalgrowth This book is a page-turner. Can't stop reading. #book #reading #addict #engrossed Feeling inspired to travel the world. Saving up money. #travel #explore #adventure #wanderlust Gotta love my pets. They're my furry best friends. #pets #dog #cat #love This food is spicy but delicious. Perfect for a cold day. #food #spicy #flavor #warmth This weekend is gonna be a staycation. Need to relax and recharge. #staycation #relax #recharge #rest Need to stop watching so much TV. Too much screen time. #tv #screentime #productivity #balance This weather is perfect for a nap. So cozy and warm. #nap #sleep #cozy #relaxation This city is so crowded. Need some peace and quiet. #citylife #crowded #quiet #escape This job is demanding but fulfilling. #job #challenging #rewarding #career\"])\n"
   ]
  },
  {
   "cell_type": "code",
   "execution_count": 84,
   "metadata": {},
   "outputs": [],
   "source": [
    "tweets.extend([\"This weather is perfect for a chill day indoors. Need movie recommendations. #chillday #movies #recommendations #cozy This job is draining. Need a vacation ASAP. #job #stressed #vacation #escape This weekend is gonna be all about self-care. Need some pampering. #selfcare #relax #pamper #metime Need to learn how to cook something other than pasta. #cooking #food #newrecipes #challenge This book is so inspiring. Love this author. #book #reading #inspiration #motivation Feeling inspired to start a blog. Any advice? #blog #writing #content #startups Gotta love my pets. They're the best listeners. #pets #dog #cat #love This food is so unhealthy but so good. Guilty pleasure. #food #junkfood #guiltypleasure #delicious This weekend is gonna be packed with errands. Boring but necessary. #errands #adulting #boring #weekend Need to stop procrastinating on that important project. #procrastination #project #deadline #stress This weather is perfect for a long walk. Need a walking buddy. #walk #exercise #outdoors #company This city is so noisy. Need to escape to the countryside. #citylife #noise #countryside #peace This job is stable but unfulfilling. Need a career change. #job #career #unhappy #change\"])\n",
    "tweets.extend([\"This weather is perfect for a picnic in the park. Anyone up for it? #picnic #park #outdoors #friends This job is challenging but rewarding. Feeling accomplished. #job #challenge #reward #satisfaction This weekend is gonna be a mix of relaxation and productivity. #weekend #balance #relax #work Need to learn how to play an instrument. Guitar maybe? #instrument #music #hobby #learn This book is a total page-turner. Can't put it down. #book #reading #addict #engrossed Feeling inspired to start a garden. Need a green thumb. #garden #plants #nature #hobby Gotta love my friends. They're always there for me. #friends #loyalty #support #love This food is so spicy, my mouth is on fire. #food #spicy #hot #pain This weekend is gonna be a staycation. Need to explore my city. #staycation #explore #city #weekend Need to stop spending money on useless stuff. #money #saving #budget #adulting This weather is perfect for a nap. So cozy and warm. #nap #sleep #cozy #relaxation This city is full of opportunities. Gotta seize them. #city #opportunities #ambition #success This job is stable but boring. Need a new challenge. #job #boring #challenge #motivation\"])\n",
    "tweets.extend([\"This weather is perfect for a concert. Any recommendations? #concert #music #livemusic #fun This job is stressful but the pay is good. Can't complain too much. #job #stress #money #balance This weekend is gonna be all about family time. Looking forward to it. #family #love #qualitytime #bonding Need to learn how to dance. So awkward. #dance #skills #fun #challenge This book is a classic. Should've read it sooner. #book #classic #reading #literature Feeling inspired to write a song. Need some musical talent. #song #music #write #creative Gotta love my pets. They're always there to greet me. #pets #dog #cat #love This food is so delicious. Chef's kiss. #food #delicious #yum #foodie This weekend is gonna be a mix of partying and relaxing. Need to find the balance. #weekend #party #relax #balance Need to stop eating junk food. Healthy body, healthy mind. #food #healthy #diet #fitness This weather is perfect for a bike ride. Need to get some exercise. #bike #exercise #outdoors #health This city is so inspiring. Full of creative people. #city #creative #inspiration #motivation This job is demanding but I'm learning a lot. #job #learning #growth #development\"])\n"
   ]
  },
  {
   "cell_type": "code",
   "execution_count": 85,
   "metadata": {},
   "outputs": [],
   "source": [
    "tweets.extend([\"This weather is perfect for a road trip. Anyone wanna join? #roadtrip #adventure #explore #friends This job is starting to get boring. Need a new challenge. #job #bored #challenge #motivation This weekend is gonna be a mix of relaxation and partying. #weekend #relax #party #balance Need to learn how to cook a decent meal. Tired of takeout. #cooking #food #skills #adulting This book is a fantasy escape. Love this world. #book #fantasy #escape #reading Feeling inspired to start a YouTube channel. Any ideas? #youtube #contentcreator #video #startups Gotta love my pets. They're my constant companions. #pets #dog #cat #love This food is so unhealthy but satisfying. Cheat day? #food #junkfood #guiltypleasure #delicious This weekend is gonna be all about self-care. Need to pamper myself. #selfcare #relax #pamper #metime Need to stop spending impulsively. Saving mode activated. #money #saving #budget #adulting This weather is perfect for a hike. Nature therapy. #hike #nature #outdoors #therapy This city is too fast-paced. Need a slower lifestyle. #citylife #slowdown #relax #peace This job is secure but unfulfilling. Need a career change. #job #career #unhappy #change\"])\n",
    "tweets.extend([\"This weather is perfect for a bonfire on the beach. Anyone in? #bonfire #beach #friends #fun This job is stressful but the paychecks keep coming. #job #stress #money #balance This weekend is gonna be a staycation. Need to explore my city. #staycation #city #explore #weekend Need to learn how to play an instrument. Guitar seems cool. #instrument #guitar #music #hobby This book is a thriller. Can't stop reading. #book #thriller #suspense #reading Feeling inspired to start a podcast. Need a co-host. #podcast #talk #audio #startups Gotta love my pets. They're the best stress relievers. #pets #dog #cat #love This food is so spicy, my mouth is on fire. But worth it. #food #spicy #hot #delicious This weekend is gonna be all about chilling. No plans, just relax. #weekend #chill #relaxation #metime Need to stop procrastinating on that important project. #procrastination #project #deadline #stress This weather is perfect for a nap. So cozy and warm. #nap #sleep #cozy #relaxation This city is full of opportunities. Gotta grab them. #city #opportunities #ambition #success This job is demanding but I'm learning so much. #job #demanding #learning #growth\"])\n",
    "tweets.extend([\"This weather is perfect for a concert. Need ticket recommendations. #concert #music #livemusic #fun This job is stable but boring. Need a side hustle. #job #boring #sidehustle #money This weekend is gonna be a mix of work and play. Gotta find a balance. #weekend #work #play #balance Need to learn how to invest. Financial goals. #invest #money #finance #goals This book is a classic. Should be required reading. #book #classic #literature #reading Feeling inspired to start a fitness journey. Need workout motivation. #fitness #workout #gym #motivation Gotta love my pets. They're always there to greet me. #pets #dog #cat #love This food is so delicious, I'm in food heaven. #food #delicious #heaven #yum This weekend is gonna be a staycation. Need to catch up on sleep. #staycation #sleep #rest #recharge Need to stop comparing myself to others. Focus on my own journey. #compare #selflove #focus #journey This weather is perfect for a long walk. Need to clear my head. #walk #exercise #clearhead #relaxation This city is so inspiring. Full of creative energy. #city #creative #energy #inspiration This job is challenging but I'm up for it. #job #challenge #motivation #growth\"])\n"
   ]
  },
  {
   "cell_type": "code",
   "execution_count": 86,
   "metadata": {},
   "outputs": [],
   "source": [
    "tweets.extend([\"This weather is perfect for a barbecue. Anyone up for it? #bbq #food #friends #fun This job is starting to feel like a dead end. Need a career change. #job #career #change #motivation This weekend is gonna be all about relaxing and recharging. #weekend #relax #recharge #metime Need to learn how to cook a gourmet meal. Impress someone. #cooking #food #gourmet #skills This book is a mystery. Keeps me guessing. #book #mystery #suspense #reading Feeling inspired to start a band. Need bandmates. #band #music #musiclover #startups Gotta love my pets. They're my therapy animals. #pets #dog #cat #love This food is so unhealthy but satisfying. Worth the guilt. #food #junkfood #guiltypleasure #delicious This weekend is gonna be a mix of indoor and outdoor activities. #weekend #indoors #outdoors #balance Need to stop procrastinating on that important project. Deadline looming. #procrastination #project #deadline #stress This weather is perfect for a bike ride through the park. #bike #park #exercise #outdoors This city is so overwhelming. Need a quiet escape. #city #overwhelmed #escape #peace This job is demanding but the rewards are worth it. #job #demanding #rewards #satisfaction\"])\n",
    "tweets.extend([\"This weather is perfect for a day at the beach. Sun, sand, and relaxation. #beach #sun #sand #relaxation This job is stable but boring. Need to find a passion project. #job #boring #passion #project This weekend is gonna be all about spending time with family. #family #love #qualitytime #bonding Need to learn how to invest wisely. Financial goals. #invest #money #finance #goals This book is a historical fiction. Love learning about the past. #book #historicalfiction #history #reading Feeling inspired to start a garden. Need a green thumb. #garden #plants #nature #hobby Gotta love my pets. They're my furry family. #pets #dog #cat #family This food is so spicy, my taste buds are on fire. #food #spicy #hot #flavor This weekend is gonna be a mix of work and play. Gotta find a balance. #weekend #work #play #balance Need to stop comparing myself to others. Focus on my own journey. #compare #selflove #focus #journey This weather is perfect for a hike in the woods. Need to clear my head. #hike #woods #nature #clearhead This city is full of opportunities. Gotta seize them. #city #opportunities #ambition #success This job is challenging but I'm learning and growing. #job #challenge #learning #growth\"])\n",
    "tweets.extend([\"This weather is perfect for a picnic in the park. Need a picnic basket. #picnic #park #food #outdoors This job is starting to feel like a routine. Need a change of pace. #job #routine #change #motivation This weekend is gonna be all about self-care. Need a spa day. #selfcare #spa #relaxation #metime Need to learn how to play chess. Intellectual challenge. #chess #game #mind #challenge This book is a sci-fi adventure. Love the imagination. #book #scifi #adventure #imagination Feeling inspired to start a podcast about true crime. #podcast #truecrime #mystery #startups Gotta love my pets. They're always there to cuddle. #pets #dog #cat #cuddle This food is so unhealthy but so delicious. Worth the calories. #food #junkfood #delicious #guiltypleasure This weekend is gonna be a mix of indoor and outdoor activities. Need to find a balance. #weekend #indoors #outdoors #balance Need to stop procrastinating on that important project. Deadline is tomorrow. #procrastination #project #deadline #stress This weather is perfect for a long drive. Need some good music. #drive #music #roadtrip #relaxation This city is so overwhelming. Need a vacation. #city #overwhelmed #vacation #escape This job is stable but not fulfilling. Need to find my passion. #job #stable #passion #fulfillment\"])\n"
   ]
  },
  {
   "cell_type": "code",
   "execution_count": 87,
   "metadata": {},
   "outputs": [],
   "source": [
    "tweets.extend([\"This weather is perfect for a camping trip. Need gear recommendations. #camping #outdoors #adventure #gear This job is so monotonous. Need a creative outlet. #job #monotonous #creative #outlet This weekend is gonna be all about self-improvement. Books and learning. #selfimprovement #books #learning #growth Need to learn how to code. Future-proof skills. #code #programming #skills #future This book is a philosophical masterpiece. Mind-blowing. #book #philosophy #mindblowing #reading Feeling inspired to start a charity. Giving back. #charity #giveback #help #community Gotta love my pets. They're my emotional support animals. #pets #dog #cat #love This food is so unhealthy but satisfying. Cheat day again. #food #junkfood #guiltypleasure #delicious This weekend is gonna be a mix of relaxation and productivity. Balance is key. #weekend #relax #productivity #balance Need to stop procrastinating on that important project. Deadline is approaching. #procrastination #project #deadline #stress This weather is perfect for a bike ride through the countryside. #bike #countryside #nature #exercise This city is so noisy. Need to find a peaceful place. #city #noise #peaceful #escape This job is demanding but rewarding. Career progression. #job #demanding #rewarding #career\"])\n",
    "tweets.extend([\"This weather is perfect for a concert in the park. Need ticket info. #concert #park #music #fun This job is stable but unfulfilling. Need a passion project. #job #stable #passion #project This weekend is gonna be all about exploring new places. Adventure time. #weekend #explore #adventure #newplaces Need to learn how to speak a new language. Expand horizons. #language #learn #newskills #horizons This book is a classic. Timeless story. #book #classic #story #literature Feeling inspired to start a garden. Need gardening tips. #garden #plants #nature #tips Gotta love my pets. They're the best listeners. #pets #dog #cat #love This food is so delicious, I could eat it every day. #food #delicious #yum #craving This weekend is gonna be a mix of relaxation and socializing. Balance is key. #weekend #relax #socialize #balance Need to stop spending money impulsively. Save for a rainy day. #money #saving #budget #future This weather is perfect for a long walk. Need a walking buddy. #walk #buddy #exercise #outdoors This city is so full of life. Love the energy. #city #life #energy #vibrant This job is challenging but I'm learning and growing. #job #challenge #learning #growth\"])\n",
    "tweets.extend([\"This weather is perfect for a day at the spa. Need to relax. #spa #relaxation #pamper #metime This job is starting to feel like a grind. Need a change of scenery. #job #grind #change #motivation This weekend is gonna be all about quality time with loved ones. #family #friends #love #qualitytime Need to learn how to play chess. Improve brain function. #chess #game #brain #improvement This book is a historical fiction. Love learning about the past. #book #historicalfiction #history #knowledge Feeling inspired to start a fitness journey. Need workout plan. #fitness #workout #gym #plan Gotta love my pets. They're my furry therapists. #pets #dog #cat #therapy This food is so unhealthy but so satisfying. Guilty pleasure. #food #junkfood #guiltypleasure #delicious This weekend is gonna be a mix of indoor and outdoor activities. Need to balance it all. #weekend #indoors #outdoors #balance Need to stop procrastinating on that important project. Deadline is tomorrow! #procrastination #project #deadline #stress This weather is perfect for a picnic in the park. Need a blanket. #picnic #park #blanket #outdoors This city is so inspiring. Full of creative people. #city #inspiring #creative #people This job is demanding but the rewards are worth it. Career goals. #job #demanding #rewards #career\"])\n"
   ]
  },
  {
   "cell_type": "code",
   "execution_count": 88,
   "metadata": {},
   "outputs": [],
   "source": [
    "tweets.extend([\"This weather is perfect for a camping trip in the woods. Need camping gear. #camping #woods #outdoors #gear This job is starting to feel like a dead end. Need a career change. #job #deadend #career #change This weekend is gonna be all about relaxation and self-care. Spa day? #relaxation #selfcare #spa #metime Need to learn how to play the guitar. Music hobby. #guitar #music #hobby #learn This book is a sci-fi thriller. Keeps me on the edge of my seat. #book #scifi #thriller #suspense Feeling inspired to start a podcast about true crime. Fascinating. #podcast #truecrime #mystery #fascinating Gotta love my pets. They're my furry companions. #pets #dog #cat #companions This food is so unhealthy but so satisfying. Guilty pleasure. #food #junkfood #guiltypleasure #delicious This weekend is gonna be a mix of indoor and outdoor activities. Balance is key. #weekend #indoors #outdoors #balance Need to stop procrastinating on that important project. Deadline is tomorrow. #procrastination #project #deadline #stress This weather is perfect for a bike ride through the city. Explore new places. #bike #city #explore #exercise This city is so overwhelming. Need a quiet escape. #city #overwhelmed #escape #quiet This job is demanding but the pay is good. Can't complain too much. #job #demanding #pay #good\"])\n",
    "tweets.extend([\"This weather is perfect for a beach day. Sun, sand, and relaxation. #beach #sun #sand #relaxation This job is starting to feel like a routine. Need a change of pace. #job #routine #change #motivation This weekend is gonna be all about spending time with friends. Social life. #friends #sociallife #fun #weekend Need to learn how to cook a gourmet meal. Impress my date. #cooking #gourmet #food #date This book is a historical romance. Love the drama. #book #historicalromance #drama #love Feeling inspired to start a fitness journey. Need workout buddy. #fitness #workout #gym #buddy Gotta love my pets. They're my furry family members. #pets #dog #cat #family This food is so spicy, my mouth is on fire. But worth it. #food #spicy #hot #delicious This weekend is gonna be a mix of relaxation and productivity. Balance is key. #weekend #relax #productivity #balance Need to stop spending money impulsively. Save for a vacation. #money #saving #vacation #budget This weather is perfect for a long walk in the park. Need fresh air. #walk #park #fresh air #exercise This city is so inspiring. Full of creative energy. #city #inspiring #creative #energy This job is challenging but rewarding. Career growth. #job #challenging #rewarding #growth\"])\n",
    "tweets.extend([\"This weather is perfect for a picnic in the park. Need a good book. #picnic #park #book #relaxation This job is starting to feel like a dead end. Need a career change. #job #deadend #career #change This weekend is gonna be all about self-care and relaxation. Spa day. #selfcare #relaxation #spa #metime Need to learn how to play the piano. Classical music fan. #piano #music #classical #learn This book is a fantasy adventure. Love the world-building. #book #fantasy #adventure #worldbuilding Feeling inspired to start a blog about my hobbies. Share passions. #blog #hobbies #share #passion Gotta love my pets. They're my constant companions. #pets #dog #cat #companions This food is so unhealthy but so delicious. Cheat day. #food #junkfood #guiltypleasure #delicious This weekend is gonna be a mix of indoor and outdoor activities. Balance is key. #weekend #indoors #outdoors #balance Need to stop procrastinating on that important project. Deadline looming. #procrastination #project #deadline #stress This weather is perfect for a bike ride through the countryside. Need a bike. #bike #countryside #exercise #transportation This city is so overwhelming. Need a quiet escape. #city #overwhelmed #escape #quiet This job is demanding but the paychecks keep coming. #job #demanding #paycheck #money\"])\n"
   ]
  },
  {
   "cell_type": "code",
   "execution_count": 89,
   "metadata": {},
   "outputs": [],
   "source": [
    "tweets.extend([\"This weather is perfect for a bonfire on the beach. Need marshmallows. #bonfire #beach #marshmallows #fun This job is starting to feel like a grind. Need a vacation. #job #grind #vacation #escape This weekend is gonna be all about relaxing and recharging. Self-care. #relaxation #recharge #selfcare #weekend Need to learn how to cook a gourmet meal. Impress my date. #cooking #gourmet #food #date This book is a sci-fi adventure. Love the futuristic world. #book #scifi #adventure #future This feeling inspired to start a YouTube channel. Gaming content. #youtube #gaming #content #startups Gotta love my pets. They're my furry best friends. #pets #dog #cat #friends This food is so unhealthy but satisfying. Cheat day. #food #junkfood #guiltypleasure #satisfying This weekend is gonna be a mix of indoor and outdoor activities. Balance is key. #weekend #indoors #outdoors #balance Need to stop procrastinating on that important project. Deadline looming. #procrastination #project #deadline #stress This weather is perfect for a bike ride through the city. Explore new places. #bike #city #explore #adventure This city is so overwhelming. Need a quiet escape. #city #overwhelmed #escape #quiet This job is demanding but the rewards are worth it. Long-term goals. #job #demanding #rewards #goals\"])\n",
    "tweets.extend([\"This weather is perfect for a day at the spa. Need to relax and unwind. #spa #relaxation #unwind #metime This job is starting to feel like a dead end. Need a career change. #job #deadend #career #change This weekend is gonna be all about spending time with family. Quality time. #family #love #qualitytime #weekend Need to learn how to play the piano. Classical music. #piano #music #classical #learn This book is a mystery thriller. Keeps me guessing. #book #mystery #thriller #suspense Feeling inspired to start a fitness journey. Need workout plan. #fitness #workout #gym #plan Gotta love my pets. They're my furry therapists. #pets #dog #cat #therapy This food is so spicy, my mouth is on fire. But worth it. #food #spicy #hot #delicious This weekend is gonna be a mix of relaxation and productivity. Balance is key. #weekend #relax #productivity #balance Need to stop spending money impulsively. Save for a rainy day. #money #saving #budget #future This weather is perfect for a long walk in the park. Need fresh air. #walk #park #fresh air #exercise This city is so inspiring. Full of creative people. #city #inspiring #creative #people This job is demanding but the paychecks keep coming. #job #demanding #paycheck #money\"])\n",
    "tweets.extend([\"This weather is perfect for a barbecue with friends. Need food and drinks. #barbecue #friends #food #drinks This job is starting to feel like a routine. Need a change of pace. #job #routine #change #pace This weekend is gonna be all about self-care and relaxation. Bubble bath. #selfcare #relaxation #bubblebath #metime Need to learn how to cook a gourmet meal. Impress my date. #cooking #gourmet #food #date This book is a historical fiction. Love the time period. #book #historicalfiction #timeperiod #history Feeling inspired to start a garden. Need gardening tips. #garden #plants #nature #tips Gotta love my pets. They're my furry companions. #pets #dog #cat #companions This food is so unhealthy but so satisfying. Cheat day. #food #junkfood #guiltypleasure #satisfying This weekend is gonna be a mix of indoor and outdoor activities. Balance is key. #weekend #indoors #outdoors #balance Need to stop procrastinating on that important project. Deadline looming. #procrastination #project #deadline #stress This weather is perfect for a bike ride through the city. Explore new places. #bike #city #explore #adventure This city is so overwhelming. Need a quiet escape. #city #overwhelmed #escape #quiet This job is demanding but the rewards are worth it. Career goals. #job #demanding #rewards #career\"])\n"
   ]
  },
  {
   "cell_type": "code",
   "execution_count": 90,
   "metadata": {},
   "outputs": [],
   "source": [
    "tweets.extend([\"This weather is perfect for a camping trip in the woods. Need camping gear. #camping #woods #outdoors #gear This job is starting to feel like a dead end. Need a career change. #job #deadend #career #change This weekend is gonna be all about relaxing and recharging. Self-care. #relaxation #recharge #selfcare #weekend Need to learn how to play the guitar. Music hobby. #guitar #music #hobby #learn This book is a sci-fi adventure. Love the futuristic world. #book #scifi #adventure #future Feeling inspired to start a YouTube channel. Gaming content. #youtube #gaming #content #startups Gotta love my pets. They're my furry best friends. #pets #dog #cat #friends This food is so unhealthy but satisfying. Cheat day. #food #junkfood #guiltypleasure #satisfying This weekend is gonna be a mix of indoor and outdoor activities. Balance is key. #weekend #indoors #outdoors #balance Need to stop procrastinating on that important project. Deadline looming. #procrastination #project #deadline #stress This weather is perfect for a bike ride through the city. Explore new places. #bike #city #explore #adventure This city is so overwhelming. Need a quiet escape. #city #overwhelmed #escape #quiet This job is demanding but the rewards are worth it. Long-term goals. #job #demanding #rewards #goals\"])\n",
    "tweets.extend([\"This weather is perfect for a bonfire on the beach. Need marshmallows. #bonfire #beach #marshmallows #fun This job is starting to feel like a grind. Need a vacation. #job #grind #vacation #escape This weekend is gonna be all about spending time with family. Quality time. #family #love #qualitytime #weekend Need to learn how to play the piano. Classical music. #piano #music #classical #learn This book is a mystery thriller. Keeps me guessing. #book #mystery #thriller #suspense Feeling inspired to start a fitness journey. Need workout plan. #fitness #workout #gym #plan Gotta love my pets. They're my furry therapists. #pets #dog #cat #therapy This food is so spicy, my mouth is on fire. But worth it. #food #spicy #hot #delicious This weekend is gonna be a mix of relaxation and productivity. Balance is key. #weekend #relax #productivity #balance Need to stop spending money impulsively. Save for a rainy day. #money #saving #budget #future This weather is perfect for a long walk in the park. Need fresh air. #walk #park #fresh air #exercise This city is so inspiring. Full of creative people. #city #inspiring #creative #people This job is demanding but the paychecks keep coming. #job #demanding #paycheck #money\"])\n",
    "tweets.extend([\"This weather is perfect for a picnic in the park. Need a good book. #picnic #park #book #relaxation This job is starting to feel like a dead end. Need a career change. #job #deadend #career #change This weekend is gonna be all about self-care and relaxation. Spa day. #selfcare #relaxation #spa #metime Need to learn how to play the piano. Classical music. #piano #music #classical #learn This book is a fantasy adventure. Love the world-building. #book #fantasy #adventure #worldbuilding Feeling inspired to start a blog about my hobbies. Share passions. #blog #hobbies #share #passion Gotta love my pets. They're my constant companions. #pets #dog #cat #companions This food is so unhealthy but so satisfying. Cheat day. #food #junkfood #guiltypleasure #satisfying This weekend is gonna be a mix of indoor and outdoor activities. Balance is key. #weekend #indoors #outdoors #balance Need to stop procrastinating on that important project. Deadline looming. #procrastination #project #deadline #stress This weather is perfect for a bike ride through the countryside. Need a bike. #bike #countryside #exercise #transportation This city is so overwhelming. Need a quiet escape. #city #overwhelmed #escape #quiet This job is demanding but the rewards are worth it. Career goals. #job #demanding #rewards #career\"])\n"
   ]
  },
  {
   "cell_type": "code",
   "execution_count": 91,
   "metadata": {},
   "outputs": [],
   "source": [
    "tweets.extend([\"This weather is perfect for a barbecue with friends. Need food and drinks. #barbecue #friends #food #drinks This job is starting to feel like a routine. Need a change of pace. #job #routine #change #pace This weekend is gonna be all about spending time with family. Quality time. #family #love #qualitytime #weekend Need to learn how to cook a gourmet meal. Impress my date. #cooking #gourmet #food #date This book is a historical fiction. Love the time period. #book #historicalfiction #timeperiod #history Feeling inspired to start a garden. Need gardening tips. #garden #plants #nature #tips Gotta love my pets. They're my furry companions. #pets #dog #cat #companions This food is so unhealthy but so satisfying. Cheat day. #food #junkfood #guiltypleasure #satisfying This weekend is gonna be a mix of indoor and outdoor activities. Balance is key. #weekend #indoors #outdoors #balance Need to stop procrastinating on that important project. Deadline looming. #procrastination #project #deadline #stress This weather is perfect for a bike ride through the city. Explore new places. #bike #city #explore #adventure This city is so overwhelming. Need a quiet escape. #city #overwhelmed #escape #quiet This job is demanding but the rewards are worth it. Career goals. #job #demanding #rewards #career\"])\n",
    "tweets.extend([\"This weather is perfect for a bonfire on the beach. Need marshmallows. #bonfire #beach #marshmallows #fun This job is starting to feel like a grind. Need a vacation. #job #grind #vacation #escape This weekend is gonna be all about relaxing and recharging. Self-care. #relaxation #recharge #selfcare #weekend Need to learn how to play the piano. Classical music. #piano #music #classical #learn This book is a mystery thriller. Keeps me guessing. #book #mystery #thriller #suspense Feeling inspired to start a fitness journey. Need workout plan. #fitness #workout #gym #plan Gotta love my pets. They're my furry therapists. #pets #dog #cat #therapy This food is so spicy, my mouth is on fire. But worth it. #food #spicy #hot #delicious This weekend is gonna be a mix of relaxation and productivity. Balance is key. #weekend #relax #productivity #balance Need to stop spending money impulsively. Save for a rainy day. #money #saving #budget #future This weather is perfect for a long walk in the park. Need fresh air. #walk #park #fresh air #exercise This city is so inspiring. Full of creative people. #city #inspiring #creative #people This job is demanding but the paychecks keep coming. #job #demanding #paycheck #money\"])\n",
    "tweets.extend([\"This weather is perfect for a picnic in the park. Need a good book. #picnic #park #book #relaxation This job is starting to feel like a dead end. Need a career change. #job #deadend #career #change This weekend is gonna be all about self-care and relaxation. Spa day. #selfcare #relaxation #spa #metime Need to learn how to play the piano. Classical music. #piano #music #classical #learn This book is a fantasy adventure. Love the world-building. #book #fantasy #adventure #worldbuilding Feeling inspired to start a blog about my hobbies. Share passions. #blog #hobbies #share #passion Gotta love my pets. They're my constant companions. #pets #dog #cat #companions This food is so unhealthy but so satisfying. Cheat day. #food #junkfood #guiltypleasure #satisfying This weekend is gonna be a mix of indoor and outdoor activities. Balance is key. #weekend #indoors #outdoors #balance Need to stop procrastinating on that important project. Deadline looming. #procrastination #project #deadline #stress This weather is perfect for a bike ride through the countryside. Need a bike. #bike #countryside #exercise #transportation This city is so overwhelming. Need a quiet escape. #city #overwhelmed #escape #quiet This job is demanding but the rewards are worth it. Career goals. #job #demanding #rewards #career\"])\n"
   ]
  },
  {
   "cell_type": "code",
   "execution_count": 92,
   "metadata": {},
   "outputs": [],
   "source": [
    "tweets.extend([\"This weather is perfect for a barbecue with friends. Need food and drinks. #barbecue #friends #food #drinks This job is starting to feel like a routine. Need a change of pace. #job #routine #change #pace This weekend is gonna be all about spending time with family. Quality time. #family #love #qualitytime #weekend Need to learn how to cook a gourmet meal. Impress my date. #cooking #gourmet #food #date This book is a historical fiction. Love the time period. #book #historicalfiction #timeperiod #history Feeling inspired to start a garden. Need gardening tips. #garden #plants #nature #tips Gotta love my pets. They're my furry companions. #pets #dog #cat #companions This food is so unhealthy but so satisfying. Cheat day. #food #junkfood #guiltypleasure #satisfying This weekend is gonna be a mix of indoor and outdoor activities. Balance is key. #weekend #indoors #outdoors #balance Need to stop procrastinating on that important project. Deadline looming. #procrastination #project #deadline #stress This weather is perfect for a bike ride through the city. Explore new places. #bike #city #explore #adventure This city is so overwhelming. Need a quiet escape. #city #overwhelmed #escape #quiet This job is demanding but the rewards are worth it. Career goals. #job #demanding #rewards #career\"])\n",
    "tweets.extend([\"This weather is perfect for a bonfire on the beach. Need marshmallows. #bonfire #beach #marshmallows #fun This job is starting to feel like a grind. Need a vacation. #job #grind #vacation #escape This weekend is gonna be all about relaxing and recharging. Self-care. #relaxation #recharge #selfcare #weekend Need to learn how to play the piano. Classical music. #piano #music #classical #learn This book is a mystery thriller. Keeps me guessing. #book #mystery #thriller #suspense Feeling inspired to start a fitness journey. Need workout plan. #fitness #workout #gym #plan Gotta love my pets. They're my furry therapists. #pets #dog #cat #therapy This food is so spicy, my mouth is on fire. But worth it. #food #spicy #hot #delicious This weekend is gonna be a mix of relaxation and productivity. Balance is key. #weekend #relax #productivity #balance Need to stop spending money impulsively. Save for a rainy day. #money #saving #budget #future This weather is perfect for a long walk in the park. Need fresh air. #walk #park #fresh air #exercise This city is so inspiring. Full of creative people. #city #inspiring #creative #people This job is demanding but the paychecks keep coming. #job #demanding #paycheck #money\"])\n",
    "tweets.extend([\"This weather is perfect for a picnic in the park. Need a good book. #picnic #park #book #relaxation This job is starting to feel like a dead end. Need a career change. #job #deadend #career #change This weekend is gonna be all about self-care and relaxation. Spa day. #selfcare #relaxation #spa #metime Need to learn how to play the piano. Classical music. #piano #music #classical #learn This book is a fantasy adventure. Love the world-building. #book #fantasy #adventure #worldbuilding Feeling inspired to start a blog about my hobbies. Share passions. #blog #hobbies #share #passion Gotta love my pets. They're my constant companions. #pets #dog #cat #companions This food is so unhealthy but so satisfying. Cheat day. #food #junkfood #guiltypleasure #satisfying This weekend is gonna be a mix of indoor and outdoor activities. Balance is key. #weekend #indoors #outdoors #balance Need to stop procrastinating on that important project. Deadline looming. #procrastination #project #deadline #stress This weather is perfect for a bike ride through the countryside. Need a bike. #bike #countryside #exercise #transportation This city is so overwhelming. Need a quiet escape. #city #overwhelmed #escape #quiet This job is demanding but the rewards are worth it. Career goals. #job #demanding #rewards #career\"])\n"
   ]
  },
  {
   "cell_type": "code",
   "execution_count": 93,
   "metadata": {},
   "outputs": [],
   "source": [
    "tweets.extend([\"This weather is perfect for a chill day indoors. Need movie recommendations. #chillday #movies #recommendations #cozy This job is draining. Need a vacation ASAP. #job #stressed #vacation #escape This weekend is gonna be all about self-care. Need some pampering. #selfcare #relax #pamper #metime Need to learn how to cook something other than pasta. #cooking #food #newrecipes #challenge This book is amazing. Can't put it down. #book #reading #story #escape Feeling inspired to start a new hobby. Any suggestions? #hobby #newskill #challenge #personalgrowth Gotta love my friends. They're the best support system. #friendship #loyalty #support #love This food is amazing. Seriously, best meal ever. #food #foodie #delicious #yum This weekend is gonna be lit. Can't wait to party. #weekend #party #fun #goodtimes Need to stop spending money. Broke college student problems. #broke #shopping #finance #adulting This weather is perfect for a nap. So tired. #sleep #naptime #rest #recharge Thinking about getting a dog. Best companion ever. #dog #puppy #pet #love This job is stressful but the paycheck is nice. #worklife #money #stress #adulting\"])\n",
    "tweets.extend([\"Just had the best burger ever. Seriously, food coma incoming. #burger #food #foodie #delicious This city is so loud. Need a quiet place to escape. #citylife #noisepollution #peaceandquiet #relaxation Gotta love my morning routine. Coffee, then chaos. #morningroutine #coffee #chaos #adulting This weather is perfect for a cozy day indoors. #rainyday #cozy #relaxation #chillmode This job is okay, I guess. Just paying the bills. #worklife #money #boredom #adulting Need to find a new hobby. Any suggestions? #bored #newskills #challenge #personalgrowth Gotta support my local businesses. Small businesses matter. #supportlocal #community #shopping #economy This coffee shop is my second home. Best baristas ever. #coffeelover #cafe #friendlystaff #goodvibes Need to catch up on my sleep. So tired. #sleepdeprived #exhausted #rest #recharge This city never stops surprising me. Love it or hate it. #citylife #urbanliving #explore #discover Feeling inspired to create something. Let's get to work. #creative #artist #passion #project Gotta love my friends. They're the best. #friendship #loyalty #support #love This food is giving me life. So delicious. #foodie #foodporn #yum #satisfying This weekend is gonna be packed. So many plans. #busyweekend #sociallife #fun #goodtimes Need to stop procrastinating. So much to do, so little time. #procrastination #productivity #timemanagement #adulting This weather is perfect for a picnic in the park. #outdoors #picnic #sunshine #relaxation\"])\n",
    "tweets.extend([\"I'm so tired. Send coffee. #tired #coffee #needcaffeine #mondaymood This city is a concrete jungle. Need some greenery. #citylife #naturelover #parks #fresh air Gotta love my morning commute. So much fun. #sarcasm #commuting #traffic #stress This weather is perfect for cuddling up with a good book. #cozy #reading #relaxation #chillmode This job is killing me. Send help. #worklife #stress #burnout #needabreak Need to find a new hobby. Any ideas? #bored #newskills #challenge #personalgrowth Gotta support my local sports team. Let's go! #sports #teamspirit #fan #gameday This coffee shop is my happy place. Best coffee ever. #coffeelover #cafe #relaxation #goodvibes Need to catch up on my sleep. So tired. #sleepdeprived #exhausted #rest #recharge This city never sleeps. And neither do I. #citylife #insomnia #nightlife #tired Feeling lost. Need to find my purpose. #lifegoals #motivation #inspiration #directionless Gotta love my friends. They're the best. #friendship #loyalty #support #love This food is amazing. Seriously, best meal ever. #foodie #foodporn #delicious #yum This weekend is gonna be lit. Can't wait to party. #weekend #party #fun #goodtimes Need to stop spending money. Broke college student problems. #broke #shopping #finance #adulting This weather is perfect for a nap. So cozy. #nap #sleep #cozy #relaxation\"])\n"
   ]
  },
  {
   "cell_type": "code",
   "execution_count": 94,
   "metadata": {},
   "outputs": [],
   "source": [
    "tweets.extend([\"This weather is perfect for a chill day indoors. Need movie recommendations. #chillday #movies #recommendations #cozy This job is draining. Need a vacation ASAP. #job #stressed #vacation #escape This weekend is gonna be all about self-care. Need some pampering. #selfcare #relax #pamper #metime Need to learn how to cook something other than pasta. #cooking #food #newrecipes #challenge This book is amazing. Can't put it down. #book #reading #story #escape Feeling inspired to start a new hobby. Any suggestions? #hobby #newskill #challenge #personalgrowth Gotta love my friends. They're the best support system. #friendship #loyalty #support #love This food is amazing. Seriously, best meal ever. #food #foodie #delicious #yum This weekend is gonna be lit. Can't wait to party. #weekend #party #fun #goodtimes Need to stop spending money. Broke college student problems. #broke #shopping #finance #adulting This weather is perfect for a nap. So tired. #sleep #naptime #rest #recharge Thinking about getting a dog. Best companion ever. #dog #puppy #pet #love This job is stressful but the paycheck is nice. #worklife #money #stress #adulting\"])\n",
    "tweets.extend([\"Just had the best burger ever. Seriously, food coma incoming. #burger #food #foodie #delicious This city is so loud. Need a quiet place to escape. #citylife #noisepollution #peaceandquiet #relaxation Gotta love my morning routine. Coffee, then chaos. #morningroutine #coffee #chaos #adulting This weather is perfect for a cozy day indoors. #rainyday #cozy #relaxation #chillmode This job is okay, I guess. Just paying the bills. #worklife #money #boredom #adulting Need to find a new hobby. Any suggestions? #bored #newskills #challenge #personalgrowth Gotta support my local businesses. Small businesses matter. #supportlocal #community #shopping #economy This coffee shop is my second home. Best baristas ever. #coffeelover #cafe #friendlystaff #goodvibes Need to catch up on my sleep. So tired. #sleepdeprived #exhausted #rest #recharge This city never stops surprising me. Love it or hate it. #citylife #urbanliving #explore #discover Feeling inspired to create something. Let's get to work. #creative #artist #passion #project Gotta love my friends. They're the best. #friendship #loyalty #support #love This food is giving me life. So delicious. #foodie #foodporn #yum #satisfying This weekend is gonna be packed. So many plans. #busyweekend #sociallife #fun #goodtimes Need to stop procrastinating. So much to do, so little time. #procrastination #productivity #timemanagement #adulting This weather is perfect for a picnic in the park. #outdoors #picnic #sunshine #relaxation\"])\n",
    "tweets.extend([\"I'm so tired. Send coffee. #tired #coffee #needcaffeine #mondaymood This city is a concrete jungle. Need some greenery. #citylife #naturelover #parks #fresh air Gotta love my morning commute. So much fun. #sarcasm #commuting #traffic #stress This weather is perfect for cuddling up with a good book. #cozy #reading #relaxation #chillmode This job is killing me. Send help. #worklife #stress #burnout #needabreak Need to find a new hobby. Any ideas? #bored #newskills #challenge #personalgrowth Gotta support my local sports team. Let's go! #sports #teamspirit #fan #gameday This coffee shop is my happy place. Best coffee ever. #coffeelover #cafe #relaxation #goodvibes Need to catch up on my sleep. So tired. #sleepdeprived #exhausted #rest #recharge This city never sleeps. And neither do I. #citylife #insomnia #nightlife #tired Feeling lost. Need to find my purpose. #lifegoals #motivation #inspiration #directionless Gotta love my friends. They're the best. #friendship #loyalty #support #love This food is amazing. Seriously, best meal ever. #foodie #foodporn #delicious #yum This weekend is gonna be lit. Can't wait to party. #weekend #party #fun #goodtimes Need to stop spending money. Broke college student problems. #broke #shopping #finance #adulting This weather is perfect for a nap. So cozy. #nap #sleep #cozy #relaxation\"])\n"
   ]
  },
  {
   "cell_type": "code",
   "execution_count": 95,
   "metadata": {},
   "outputs": [],
   "source": [
    "tweets.extend([\"This weather is perfect for a chill day indoors. Need movie recommendations. #chillday #movies #recommendations #cozy This job is draining. Need a vacation ASAP. #job #stressed #vacation #escape This weekend is gonna be all about self-care. Need some pampering. #selfcare #relax #pamper #metime Need to learn how to cook something other than pasta. #cooking #food #newrecipes #challenge This book is amazing. Can't put it down. #book #reading #story #escape Feeling inspired to start a new hobby. Any suggestions? #hobby #newskill #challenge #personalgrowth Gotta love my friends. They're the best support system. #friendship #loyalty #support #love This food is amazing. Seriously, best meal ever. #food #foodie #delicious #yum This weekend is gonna be lit. Can't wait to party. #weekend #party #fun #goodtimes Need to stop spending money. Broke college student problems. #broke #shopping #finance #adulting This weather is perfect for a nap. So tired. #sleep #naptime #rest #recharge Thinking about getting a dog. Best companion ever. #dog #puppy #pet #love This job is stressful but the paycheck is nice. #worklife #money #stress #adulting\"])\n",
    "tweets.extend([\"Just had the best burger ever. Seriously, food coma incoming. #burger #food #foodie #delicious This city is so loud. Need a quiet place to escape. #citylife #noisepollution #peaceandquiet #relaxation Gotta love my morning routine. Coffee, then chaos. #morningroutine #coffee #chaos #adulting This weather is perfect for a cozy day indoors. #rainyday #cozy #relaxation #chillmode This job is okay, I guess. Just paying the bills. #worklife #money #boredom #adulting Need to find a new hobby. Any suggestions? #bored #newskills #challenge #personalgrowth Gotta support my local businesses. Small businesses matter. #supportlocal #community #shopping #economy This coffee shop is my second home. Best baristas ever. #coffeelover #cafe #friendlystaff #goodvibes Need to catch up on my sleep. So tired. #sleepdeprived #exhausted #rest #recharge This city never stops surprising me. Love it or hate it. #citylife #urbanliving #explore #discover Feeling inspired to create something. Let's get to work. #creative #artist #passion #project Gotta love my friends. They're the best. #friendship #loyalty #support #love This food is giving me life. So delicious. #foodie #foodporn #yum #satisfying This weekend is gonna be packed. So many plans. #busyweekend #sociallife #fun #goodtimes Need to stop procrastinating. So much to do, so little time. #procrastination #productivity #timemanagement #adulting This weather is perfect for a picnic in the park. #outdoors #picnic #sunshine #relaxation\"])\n",
    "tweets.extend([\"I'm so tired. Send coffee. #tired #coffee #needcaffeine #mondaymood This city is a concrete jungle. Need some greenery. #citylife #naturelover #parks #fresh air Gotta love my morning commute. So much fun. #sarcasm #commuting #traffic #stress This weather is perfect for cuddling up with a good book. #cozy #reading #relaxation #chillmode This job is killing me. Send help. #worklife #stress #burnout #needabreak Need to find a new hobby. Any ideas? #bored #newskills #challenge #personalgrowth Gotta support my local sports team. Let's go! #sports #teamspirit #fan #gameday This coffee shop is my happy place. Best coffee ever. #coffeelover #cafe #relaxation #goodvibes Need to catch up on my sleep. So tired. #sleepdeprived #exhausted #rest #recharge This city never sleeps. And neither do I. #citylife #insomnia #nightlife #tired Feeling lost. Need to find my purpose. #lifegoals #motivation #inspiration #directionless Gotta love my friends. They're the best. #friendship #loyalty #support #love This food is amazing. Seriously, best meal ever. #foodie #foodporn #delicious #yum This weekend is gonna be lit. Can't wait to party. #weekend #party #fun #goodtimes Need to stop spending money. Broke college student problems. #broke #shopping #finance #adulting This weather is perfect for a nap. So cozy. #nap #sleep #cozy #relaxation\"])\n"
   ]
  },
  {
   "cell_type": "code",
   "execution_count": 96,
   "metadata": {},
   "outputs": [],
   "source": [
    "tweets.extend([\"This weather is perfect for a chill day indoors. Need movie recommendations. #chillday #movies #recommendations #cozy This job is draining. Need a vacation ASAP. #job #stressed #vacation #escape This weekend is gonna be all about self-care. Need some pampering. #selfcare #relax #pamper #metime Need to learn how to cook something other than pasta. #cooking #food #newrecipes #challenge This book is amazing. Can't put it down. #book #reading #story #escape Feeling inspired to start a new hobby. Any suggestions? #hobby #newskill #challenge #personalgrowth Gotta love my friends. They're the best support system. #friendship #loyalty #support #love This food is amazing. Seriously, best meal ever. #food #foodie #delicious #yum This weekend is gonna be lit. Can't wait to party. #weekend #party #fun #goodtimes Need to stop spending money. Broke college student problems. #broke #shopping #finance #adulting This weather is perfect for a nap. So tired. #sleep #naptime #rest #recharge Thinking about getting a dog. Best companion ever. #dog #puppy #pet #love This job is stressful but the paycheck is nice. #worklife #money #stress #adulting\"])\n",
    "tweets.extend([\"Just had the best burger ever. Seriously, food coma incoming. #burger #food #foodie #delicious This city is so loud. Need a quiet place to escape. #citylife #noisepollution #peaceandquiet #relaxation Gotta love my morning routine. Coffee, then chaos. #morningroutine #coffee #chaos #adulting This weather is perfect for a cozy day indoors. #rainyday #cozy #relaxation #chillmode This job is okay, I guess. Just paying the bills. #worklife #money #boredom #adulting Need to find a new hobby. Any suggestions? #bored #newskills #challenge #personalgrowth Gotta support my local businesses. Small businesses matter. #supportlocal #community #shopping #economy This coffee shop is my second home. Best baristas ever. #coffeelover #cafe #friendlystaff #goodvibes Need to catch up on my sleep. So tired. #sleepdeprived #exhausted #rest #recharge This city never stops surprising me. Love it or hate it. #citylife #urbanliving #explore #discover Feeling inspired to create something. Let's get to work. #creative #artist #passion #project Gotta love my friends. They're the best. #friendship #loyalty #support #love This food is giving me life. So delicious. #foodie #foodporn #yum #satisfying This weekend is gonna be packed. So many plans. #busyweekend #sociallife #fun #goodtimes Need to stop procrastinating. So much to do, so little time. #procrastination #productivity #timemanagement #adulting This weather is perfect for a picnic in the park. #outdoors #picnic #sunshine #relaxation\"])\n",
    "tweets.extend([\"I'm so tired. Send coffee. #tired #coffee #needcaffeine #mondaymood This city is a concrete jungle. Need some greenery. #citylife #naturelover #parks #fresh air Gotta love my morning commute. So much fun. #sarcasm #commuting #traffic #stress This weather is perfect for cuddling up with a good book. #cozy #reading #relaxation #chillmode This job is killing me. Send help. #worklife #stress #burnout #needabreak Need to find a new hobby. Any ideas? #bored #newskills #challenge #personalgrowth Gotta support my local sports team. Let's go! #sports #teamspirit #fan #gameday This coffee shop is my happy place. Best coffee ever. #coffeelover #cafe #relaxation #goodvibes Need to catch up on my sleep. So tired. #sleepdeprived #exhausted #rest #recharge This city never sleeps. And neither do I. #citylife #insomnia #nightlife #tired Feeling lost. Need to find my purpose. #lifegoals #motivation #inspiration #directionless Gotta love my friends. They're the best. #friendship #loyalty #support #love This food is amazing. Seriously, best meal ever. #foodie #foodporn #delicious #yum This weekend is gonna be lit. Can't wait to party. #weekend #party #fun #goodtimes Need to stop spending money. Broke college student problems. #broke #shopping #finance #adulting This weather is perfect for a nap. So cozy. #nap #sleep #cozy #relaxation\"])\n"
   ]
  },
  {
   "cell_type": "code",
   "execution_count": 97,
   "metadata": {},
   "outputs": [],
   "source": [
    "tweets.extend([\"This weather is perfect for a chill day indoors. Need movie recommendations. #chillday #movies #recommendations #cozy This job is draining. Need a vacation ASAP. #job #stressed #vacation #escape This weekend is gonna be all about self-care. Need some pampering. #selfcare #relax #pamper #metime Need to learn how to cook something other than pasta. #cooking #food #newrecipes #challenge This book is amazing. Can't put it down. #book #reading #story #escape Feeling inspired to start a new hobby. Any suggestions? #hobby #newskill #challenge #personalgrowth Gotta love my friends. They're the best support system. #friendship #loyalty #support #love This food is amazing. Seriously, best meal ever. #food #foodie #delicious #yum This weekend is gonna be lit. Can't wait to party. #weekend #party #fun #goodtimes Need to stop spending money. Broke college student problems. #broke #shopping #finance #adulting This weather is perfect for a nap. So tired. #sleep #naptime #rest #recharge Thinking about getting a dog. Best companion ever. #dog #puppy #pet #love This job is stressful but the paycheck is nice. #worklife #money #stress #adulting\"])\n",
    "tweets.extend([\"Just had the best burger ever. Seriously, food coma incoming. #burger #food #foodie #delicious This city is so loud. Need a quiet place to escape. #citylife #noisepollution #peaceandquiet #relaxation Gotta love my morning routine. Coffee, then chaos. #morningroutine #coffee #chaos #adulting This weather is perfect for a cozy day indoors. #rainyday #cozy #relaxation #chillmode This job is okay, I guess. Just paying the bills. #worklife #money #boredom #adulting Need to find a new hobby. Any suggestions? #bored #newskills #challenge #personalgrowth Gotta support my local businesses. Small businesses matter. #supportlocal #community #shopping #economy This coffee shop is my second home. Best baristas ever. #coffeelover #cafe #friendlystaff #goodvibes Need to catch up on my sleep. So tired. #sleepdeprived #exhausted #rest #recharge This city never stops surprising me. Love it or hate it. #citylife #urbanliving #explore #discover Feeling inspired to create something. Let's get to work. #creative #artist #passion #project Gotta love my friends. They're the best. #friendship #loyalty #support #love This food is giving me life. So delicious. #foodie #foodporn #yum #satisfying This weekend is gonna be packed. So many plans. #busyweekend #sociallife #fun #goodtimes Need to stop procrastinating. So much to do, so little time. #procrastination #productivity #timemanagement #adulting This weather is perfect for a picnic in the park. #outdoors #picnic #sunshine #relaxation\"])\n",
    "tweets.extend([\"I'm so tired. Send coffee. #tired #coffee #needcaffeine #mondaymood This city is a concrete jungle. Need some greenery. #citylife #naturelover #parks #fresh air Gotta love my morning commute. So much fun. #sarcasm #commuting #traffic #stress This weather is perfect for cuddling up with a good book. #cozy #reading #relaxation #chillmode This job is killing me. Send help. #worklife #stress #burnout #needabreak Need to find a new hobby. Any ideas? #bored #newskills #challenge #personalgrowth Gotta support my local sports team. Let's go! #sports #teamspirit #fan #gameday This coffee shop is my happy place. Best coffee ever. #coffeelover #cafe #relaxation #goodvibes Need to catch up on my sleep. So tired. #sleepdeprived #exhausted #rest #recharge This city never sleeps. And neither do I. #citylife #insomnia #nightlife #tired Feeling lost. Need to find my purpose. #lifegoals #motivation #inspiration #directionless Gotta love my friends. They're the best. #friendship #loyalty #support #love This food is amazing. Seriously, best meal ever. #foodie #foodporn #delicious #yum This weekend is gonna be lit. Can't wait to party. #weekend #party #fun #goodtimes Need to stop spending money. Broke college student problems. #broke #shopping #finance #adulting This weather is perfect for a nap. So cozy. #nap #sleep #cozy #relaxation\"])\n"
   ]
  },
  {
   "cell_type": "code",
   "execution_count": 98,
   "metadata": {},
   "outputs": [],
   "source": [
    "df_gemini_male = pd.DataFrame({'text': tweets})\n",
    "df_gemini_male.to_csv(r'C:\\Users\\Sten\\Documents\\EUR BIM\\thesis\\data\\data\\gemini2_male.csv', index=False)"
   ]
  },
  {
   "cell_type": "code",
   "execution_count": 99,
   "metadata": {},
   "outputs": [
    {
     "data": {
      "text/plain": [
       "53"
      ]
     },
     "execution_count": 99,
     "metadata": {},
     "output_type": "execute_result"
    }
   ],
   "source": [
    "len(tweets)"
   ]
  },
  {
   "cell_type": "markdown",
   "metadata": {},
   "source": [
    "## Female tweets"
   ]
  },
  {
   "cell_type": "markdown",
   "metadata": {},
   "source": [
    "https://gemini.google.com/u/1/app/3083d6f7c2042042"
   ]
  },
  {
   "cell_type": "code",
   "execution_count": 100,
   "metadata": {},
   "outputs": [],
   "source": [
    "tweets = [\"This is so exciting! Can't believe I'm finally doing this  OMG the butterflies are real  Wish me luck everyone  Feeling a mix of nerves and exhilaration  Deep breaths  Here goes nothing  Taking the plunge  One step at a time  So far so good  Starting to feel confident  Almost there  I did it!  Feeling on top of the world  This is amazing  Beyond grateful  Couldn't have done it without your support  Time to celebrate  Cheers to new beginnings  The sky's the limit  Watch me soar  Ready to take on the world  Bring it on!\"]\n"
   ]
  },
  {
   "cell_type": "code",
   "execution_count": 101,
   "metadata": {},
   "outputs": [],
   "source": [
    "tweets.extend([\"Can't believe it's Friday already! This week flew by  Feeling so grateful for this beautiful day  Sunshine and good vibes only  Time to relax and recharge  Weekend plans?  Any suggestions?  So excited for what's to come  New adventures await  Let's make this weekend count  Can't wait to catch up with friends  Movie night anyone?  Love my cozy blanket and a good book  Indulging in some yummy treats  Self-care is key  Taking some time for myself  Need to declutter my space  Feeling inspired to try something new  Open to suggestions  Let's make the most of this weekend\"])\n",
    "\n",
    "tweets.extend([\"Ugh, Monday mornings  Feeling so tired  Need more coffee  This week is going to be long  But I can do this  Staying positive  One day at a time  Gotta focus on the good  Surround yourself with good people  Little things mean a lot  Grateful for my amazing friends  Lunch plans?  Hit me up  Need to find a new hobby  Any ideas?  Feeling stressed  Deep breaths  Time to unwind  Self-care Sunday  Need a good book recommendation  Anyone seen a good movie lately?  Let's make this week less stressful\"])\n"
   ]
  },
  {
   "cell_type": "code",
   "execution_count": 102,
   "metadata": {},
   "outputs": [],
   "source": [
    "tweets.extend([\"Woke up feeling refreshed  Ready to conquer the day  Sun is shining, birds are singing  Can't beat this morning  Grateful for this beautiful life  So many things to be thankful for  Small joys make the biggest difference  Positive vibes only  Spread kindness like confetti  Let's make someone's day brighter  Helping others fills my heart  Pay it forward  Be the change you want to see  Little acts of kindness go a long way  Inspire others to be their best  Believe in yourself  You are capable of amazing things  Don't let anyone dim your shine  Embrace your uniqueness  The world needs your light  Shine bright like a diamond\"])\n",
    "\n",
    "tweets.extend([\"Can't stop thinking about this amazing dress  Feeling like a million bucks  Confidence is key  Own your style  Fashion is my therapy  Shopping spree anyone?  Need a new outfit for the weekend  Gotta look good, feel good  Obsessed with this new lipstick shade  Makeup makes me feel confident  Hair goals  Need to find a good hair stylist  Self-care day  Spa time  Pampering myself  Need a little retail therapy  Window shopping is my favorite  Online shopping addiction  Anyone else?  Treat yourself  You deserve it  Indulge in your passions\"])\n"
   ]
  },
  {
   "cell_type": "code",
   "execution_count": 103,
   "metadata": {},
   "outputs": [],
   "source": [
    "tweets.extend([\"So excited for the weekend! Time to relax and unwind  Need to catch up on my favorite shows  Cozy nights in with a good book  Indulging in some yummy takeout  Movie marathon with my bestie  Self-care is a must  Face masks and bubble baths  Need a good laugh  Funny memes anyone?  Online shopping spree  Treat yourself  New makeup haul  Can't wait to try it out  Hair mask and deep conditioning  Gotta take care of those locks  Feeling inspired to try a new recipe  Cooking is my therapy  Dinner party plans?  Let's get together  Good food and good company  Love my kitchen gadgets  Baking something sweet  Satisfies my sweet tooth\"])\n",
    "\n",
    "tweets.extend([\"Ugh, Monday blues  Need more coffee  This week is going to be a long one  Staying positive  One day at a time  Gotta focus on the good  Surround yourself with good people  Little things mean a lot  Grateful for my amazing friends  Lunch plans?  Hit me up  Need to find a new hobby  Any ideas?  Feeling stressed  Deep breaths  Time to unwind  Self-care Sunday  Need a good book recommendation  Anyone seen a good movie lately?  Let's make this week less stressful\"])\n"
   ]
  },
  {
   "cell_type": "code",
   "execution_count": 104,
   "metadata": {},
   "outputs": [],
   "source": [
    "tweets.extend([\"Can't believe it's Friday already! This week flew by  Feeling so grateful for this beautiful day  Sunshine and good vibes only  Time to relax and recharge  Weekend plans?  Any suggestions?  So excited for what's to come  New adventures await  Let's make this weekend count  Can't wait to catch up with friends  Movie night anyone?  Love my cozy blanket and a good book  Indulging in some yummy treats  Self-care is key  Taking some time for myself  Need to declutter my space  Feeling inspired to try something new  Open to suggestions  Let's make the most of this weekend\"])\n",
    "\n",
    "tweets.extend([\"Woke up feeling refreshed  Ready to conquer the day  Sun is shining, birds are singing  Can't beat this morning  Grateful for this beautiful life  So many things to be thankful for  Small joys make the biggest difference  Positive vibes only  Spread kindness like confetti  Let's make someone's day brighter  Helping others fills my heart  Pay it forward  Be the change you want to see  Little acts of kindness go a long way  Inspire others to be their best  Believe in yourself  You are capable of amazing things  Don't let anyone dim your shine  Embrace your uniqueness  The world needs your light  Shine bright like a diamond\"])\n"
   ]
  },
  {
   "cell_type": "code",
   "execution_count": 105,
   "metadata": {},
   "outputs": [],
   "source": [
    "tweets.extend([\"This weather is everything  Sunshine and warm breeze  Perfect day for a picnic  Good food, good company, good vibes  Feeling so happy and carefree  Life is good  Grateful for every moment  Making memories that will last a lifetime  Enjoying the simple things  Happiness is homemade  Picnic essentials: blanket, snacks, good music  Love spending time outdoors  Nature therapy  Vitamin D boost  Sun-kissed skin  Summer lovin'  Feeling inspired to try a new hobby  Outdoor activities  Let's explore  Adventure awaits  Open to suggestions\"])\n",
    "\n",
    "tweets.extend([\"Ugh, Monday mornings  Feeling so tired  Need more coffee  This week is going to be long  But I can do this  Staying positive  One day at a time  Gotta focus on the good  Surround yourself with good people  Little things mean a lot  Grateful for my amazing friends  Lunch plans?  Hit me up  Need to find a new hobby  Any ideas?  Feeling stressed  Deep breaths  Time to unwind  Self-care Sunday  Need a good book recommendation  Anyone seen a good movie lately?  Let's make this week less stressful\"])\n"
   ]
  },
  {
   "cell_type": "code",
   "execution_count": 106,
   "metadata": {},
   "outputs": [],
   "source": [
    "tweets.extend([\"Can't stop thinking about this amazing dress  Feeling like a million bucks  Confidence is key  Own your style  Fashion is my therapy  Shopping spree anyone?  Need a new outfit for the weekend  Gotta look good, feel good  Obsessed with this new lipstick shade  Makeup makes me feel confident  Hair goals  Need to find a good hair stylist  Self-care day  Spa time  Pampering myself  Need a little retail therapy  Window shopping is my favorite  Online shopping addiction  Anyone else?  Treat yourself  You deserve it  Indulge in your passions\"])\n",
    "\n",
    "tweets.extend([\"So excited for the weekend! Time to relax and unwind  Need to catch up on my favorite shows  Cozy nights in with a good book  Indulging in some yummy takeout  Movie marathon with my bestie  Self-care is a must  Face masks and bubble baths  Need a good laugh  Funny memes anyone?  Online shopping spree  Treat yourself  New makeup haul  Can't wait to try it out  Hair mask and deep conditioning  Gotta take care of those locks  Feeling inspired to try a new recipe  Cooking is my therapy  Dinner party plans?  Let's get together  Good food and good company  Love my kitchen gadgets  Baking something sweet  Satisfies my sweet tooth\"])\n"
   ]
  },
  {
   "cell_type": "code",
   "execution_count": 107,
   "metadata": {},
   "outputs": [],
   "source": [
    "tweets.extend([\"Feeling so grateful for this beautiful day  Sunshine and warm breeze  Perfect day for a picnic  Good food, good company, good vibes  Feeling so happy and carefree  Life is good  Grateful for every moment  Making memories that will last a lifetime  Enjoying the simple things  Happiness is homemade  Picnic essentials: blanket, snacks, good music  Love spending time outdoors  Nature therapy  Vitamin D boost  Sun-kissed skin  Summer lovin'  Feeling inspired to try a new hobby  Outdoor activities  Let's explore  Adventure awaits  Open to suggestions\"])\n",
    "\n",
    "tweets.extend([\"This weather is everything  Sunshine and warm breeze  Perfect day for a picnic  Good food, good company, good vibes  Feeling so happy and carefree  Life is good  Grateful for every moment  Making memories that will last a lifetime  Enjoying the simple things  Happiness is homemade  Picnic essentials: blanket, snacks, good music  Love spending time outdoors  Nature therapy  Vitamin D boost  Sun-kissed skin  Summer lovin'  Feeling inspired to try a new hobby  Outdoor activities  Let's explore  Adventure awaits  Open to suggestions\"])\n"
   ]
  },
  {
   "cell_type": "code",
   "execution_count": 108,
   "metadata": {},
   "outputs": [],
   "source": [
    "tweets.extend([\"Ugh, Monday mornings  Feeling so tired  Need more coffee  This week is going to be long  But I can do this  Staying positive  One day at a time  Gotta focus on the good  Surround yourself with good people  Little things mean a lot  Grateful for my amazing friends  Lunch plans?  Hit me up  Need to find a new hobby  Any ideas?  Feeling stressed  Deep breaths  Time to unwind  Self-care Sunday  Need a good book recommendation  Anyone seen a good movie lately?  Let's make this week less stressful\"])\n",
    "\n",
    "tweets.extend([\"Can't stop thinking about this amazing dress  Feeling like a million bucks  Confidence is key  Own your style  Fashion is my therapy  Shopping spree anyone?  Need a new outfit for the weekend  Gotta look good, feel good  Obsessed with this new lipstick shade  Makeup makes me feel confident  Hair goals  Need to find a good hair stylist  Self-care day  Spa time  Pampering myself  Need a little retail therapy  Window shopping is my favorite  Online shopping addiction  Anyone else?  Treat yourself  You deserve it  Indulge in your passions\"])\n"
   ]
  },
  {
   "cell_type": "code",
   "execution_count": 109,
   "metadata": {},
   "outputs": [],
   "source": [
    "tweets.extend([\"So excited for the weekend! Time to relax and unwind  Need to catch up on my favorite shows  Cozy nights in with a good book  Indulging in some yummy takeout  Movie marathon with my bestie  Self-care is a must  Face masks and bubble baths  Need a good laugh  Funny memes anyone?  Online shopping spree  Treat yourself  New makeup haul  Can't wait to try it out  Hair mask and deep conditioning  Gotta take care of those locks  Feeling inspired to try a new recipe  Cooking is my therapy  Dinner party plans?  Let's get together  Good food and good company  Love my kitchen gadgets  Baking something sweet  Satisfies my sweet tooth\"])\n",
    "\n",
    "tweets.extend([\"Feeling so grateful for this beautiful day  Sunshine and warm breeze  Perfect day for a picnic  Good food, good company, good vibes  Feeling so happy and carefree  Life is good  Grateful for every moment  Making memories that will last a lifetime  Enjoying the simple things  Happiness is homemade  Picnic essentials: blanket, snacks, good music  Love spending time outdoors  Nature therapy  Vitamin D boost  Sun-kissed skin  Summer lovin'  Feeling inspired to try a new hobby  Outdoor activities  Let's explore  Adventure awaits  Open to suggestions\"])\n"
   ]
  },
  {
   "cell_type": "code",
   "execution_count": 110,
   "metadata": {},
   "outputs": [],
   "source": [
    "tweets.extend([\"Ugh, Monday mornings  Feeling so tired  Need more coffee  This week is going to be long  But I can do this  Staying positive  One day at a time  Gotta focus on the good  Surround yourself with good people  Little things mean a lot  Grateful for my amazing friends  Lunch plans?  Hit me up  Need to find a new hobby  Any ideas?  Feeling stressed  Deep breaths  Time to unwind  Self-care Sunday  Need a good book recommendation  Anyone seen a good movie lately?  Let's make this week less stressful\"])\n",
    "\n",
    "tweets.extend([\"Can't stop thinking about this amazing dress  Feeling like a million bucks  Confidence is key  Own your style  Fashion is my therapy  Shopping spree anyone?  Need a new outfit for the weekend  Gotta look good, feel good  Obsessed with this new lipstick shade  Makeup makes me feel confident  Hair goals  Need to find a good hair stylist  Self-care day  Spa time  Pampering myself  Need a little retail therapy  Window shopping is my favorite  Online shopping addiction  Anyone else?  Treat yourself  You deserve it  Indulge in your passions\"])\n"
   ]
  },
  {
   "cell_type": "code",
   "execution_count": 111,
   "metadata": {},
   "outputs": [],
   "source": [
    "tweets.extend([\"So excited for the weekend! Time to relax and unwind  Need to catch up on my favorite shows  Cozy nights in with a good book  Indulging in some yummy takeout  Movie marathon with my bestie  Self-care is a must  Face masks and bubble baths  Need a good laugh  Funny memes anyone?  Online shopping spree  Treat yourself  New makeup haul  Can't wait to try it out  Hair mask and deep conditioning  Gotta take care of those locks  Feeling inspired to try a new recipe  Cooking is my therapy  Dinner party plans?  Let's get together  Good food and good company  Love my kitchen gadgets  Baking something sweet  Satisfies my sweet tooth\"])\n",
    "\n",
    "tweets.extend([\"Feeling so grateful for this beautiful day  Sunshine and warm breeze  Perfect day for a picnic  Good food, good company, good vibes  Feeling so happy and carefree  Life is good  Grateful for every moment  Making memories that will last a lifetime  Enjoying the simple things  Happiness is homemade  Picnic essentials: blanket, snacks, good music  Love spending time outdoors  Nature therapy  Vitamin D boost  Sun-kissed skin  Summer lovin'  Feeling inspired to try a new hobby  Outdoor activities  Let's explore  Adventure awaits  Open to suggestions\"])\n"
   ]
  },
  {
   "cell_type": "code",
   "execution_count": 112,
   "metadata": {},
   "outputs": [],
   "source": [
    "tweets.extend([\"Ugh, Monday mornings  Feeling so tired  Need more coffee  This week is going to be long  But I can do this  Staying positive  One day at a time  Gotta focus on the good  Surround yourself with good people  Little things mean a lot  Grateful for my amazing friends  Lunch plans?  Hit me up  Need to find a new hobby  Any ideas?  Feeling stressed  Deep breaths  Time to unwind  Self-care Sunday  Need a good book recommendation  Anyone seen a good movie lately?  Let's make this week less stressful\"])\n",
    "\n",
    "tweets.extend([\"Can't stop thinking about this amazing dress  Feeling like a million bucks  Confidence is key  Own your style  Fashion is my therapy  Shopping spree anyone?  Need a new outfit for the weekend  Gotta look good, feel good  Obsessed with this new lipstick shade  Makeup makes me feel confident  Hair goals  Need to find a good hair stylist  Self-care day  Spa time  Pampering myself  Need a little retail therapy  Window shopping is my favorite  Online shopping addiction  Anyone else?  Treat yourself  You deserve it  Indulge in your passions\"])\n"
   ]
  },
  {
   "cell_type": "code",
   "execution_count": 113,
   "metadata": {},
   "outputs": [],
   "source": [
    "tweets.extend([\"So excited for the weekend! Time to relax and unwind  Need to catch up on my favorite shows  Cozy nights in with a good book  Indulging in some yummy takeout  Movie marathon with my bestie  Self-care is a must  Face masks and bubble baths  Need a good laugh  Funny memes anyone?  Online shopping spree  Treat yourself  New makeup haul  Can't wait to try it out  Hair mask and deep conditioning  Gotta take care of those locks  Feeling inspired to try a new recipe  Cooking is my therapy  Dinner party plans?  Let's get together  Good food and good company  Love my kitchen gadgets  Baking something sweet  Satisfies my sweet tooth\"])\n",
    "\n",
    "tweets.extend([\"Feeling so grateful for this beautiful day  Sunshine and warm breeze  Perfect day for a picnic  Good food, good company, good vibes  Feeling so happy and carefree  Life is good  Grateful for every moment  Making memories that will last a lifetime  Enjoying the simple things  Happiness is homemade  Picnic essentials: blanket, snacks, good music  Love spending time outdoors  Nature therapy  Vitamin D boost  Sun-kissed skin  Summer lovin'  Feeling inspired to try a new hobby  Outdoor activities  Let's explore  Adventure awaits  Open to suggestions\"])\n"
   ]
  },
  {
   "cell_type": "code",
   "execution_count": 114,
   "metadata": {},
   "outputs": [],
   "source": [
    "tweets.extend([\"Ugh, Monday mornings  Feeling so tired  Need more coffee  This week is going to be long  But I can do this  Staying positive  One day at a time  Gotta focus on the good  Surround yourself with good people  Little things mean a lot  Grateful for my amazing friends  Lunch plans?  Hit me up  Need to find a new hobby  Any ideas?  Feeling stressed  Deep breaths  Time to unwind  Self-care Sunday  Need a good book recommendation  Anyone seen a good movie lately?  Let's make this week less stressful\"])\n",
    "\n",
    "tweets.extend([\"Can't stop thinking about this amazing dress  Feeling like a million bucks  Confidence is key  Own your style  Fashion is my therapy  Shopping spree anyone?  Need a new outfit for the weekend  Gotta look good, feel good  Obsessed with this new lipstick shade  Makeup makes me feel confident  Hair goals  Need to find a good hair stylist  Self-care day  Spa time  Pampering myself  Need a little retail therapy  Window shopping is my favorite  Online shopping addiction  Anyone else?  Treat yourself  You deserve it  Indulge in your passions\"])\n"
   ]
  },
  {
   "cell_type": "code",
   "execution_count": 115,
   "metadata": {},
   "outputs": [],
   "source": [
    "tweets.extend([\"So excited for the weekend! Time to relax and unwind  Need to catch up on my favorite shows  Cozy nights in with a good book  Indulging in some yummy takeout  Movie marathon with my bestie  Self-care is a must  Face masks and bubble baths  Need a good laugh  Funny memes anyone?  Online shopping spree  Treat yourself  New makeup haul  Can't wait to try it out  Hair mask and deep conditioning  Gotta take care of those locks  Feeling inspired to try a new recipe  Cooking is my therapy  Dinner party plans?  Let's get together  Good food and good company  Love my kitchen gadgets  Baking something sweet  Satisfies my sweet tooth\"])\n",
    "\n",
    "tweets.extend([\"Feeling so grateful for this beautiful day  Sunshine and warm breeze  Perfect day for a picnic  Good food, good company, good vibes  Feeling so happy and carefree  Life is good  Grateful for every moment  Making memories that will last a lifetime  Enjoying the simple things  Happiness is homemade  Picnic essentials: blanket, snacks, good music  Love spending time outdoors  Nature therapy  Vitamin D boost  Sun-kissed skin  Summer lovin'  Feeling inspired to try a new hobby  Outdoor activities  Let's explore  Adventure awaits  Open to suggestions\"])\n"
   ]
  },
  {
   "cell_type": "code",
   "execution_count": 116,
   "metadata": {},
   "outputs": [],
   "source": [
    "tweets.extend([\"Ugh, Monday mornings  Feeling so tired  Need more coffee  This week is going to be long  But I can do this  Staying positive  One day at a time  Gotta focus on the good  Surround yourself with good people  Little things mean a lot  Grateful for my amazing friends  Lunch plans?  Hit me up  Need to find a new hobby  Any ideas?  Feeling stressed  Deep breaths  Time to unwind  Self-care Sunday  Need a good book recommendation  Anyone seen a good movie lately?  Let's make this week less stressful\"])\n",
    "\n",
    "tweets.extend([\"Can't stop thinking about this amazing dress  Feeling like a million bucks  Confidence is key  Own your style  Fashion is my therapy  Shopping spree anyone?  Need a new outfit for the weekend  Gotta look good, feel good  Obsessed with this new lipstick shade  Makeup makes me feel confident  Hair goals  Need to find a good hair stylist  Self-care day  Spa time  Pampering myself  Need a little retail therapy  Window shopping is my favorite  Online shopping addiction  Anyone else?  Treat yourself  You deserve it  Indulge in your passions\"])\n"
   ]
  },
  {
   "cell_type": "code",
   "execution_count": 117,
   "metadata": {},
   "outputs": [],
   "source": [
    "tweets.extend([\"So excited for the weekend! Time to relax and unwind  Need to catch up on my favorite shows  Cozy nights in with a good book  Indulging in some yummy takeout  Movie marathon with my bestie  Self-care is a must  Face masks and bubble baths  Need a good laugh  Funny memes anyone?  Online shopping spree  Treat yourself  New makeup haul  Can't wait to try it out  Hair mask and deep conditioning  Gotta take care of those locks  Feeling inspired to try a new recipe  Cooking is my therapy  Dinner party plans?  Let's get together  Good food and good company  Love my kitchen gadgets  Baking something sweet  Satisfies my sweet tooth\"])\n",
    "\n",
    "tweets.extend([\"Feeling so grateful for this beautiful day  Sunshine and warm breeze  Perfect day for a picnic  Good food, good company, good vibes  Feeling so happy and carefree  Life is good  Grateful for every moment  Making memories that will last a lifetime  Enjoying the simple things  Happiness is homemade  Picnic essentials: blanket, snacks, good music  Love spending time outdoors  Nature therapy  Vitamin D boost  Sun-kissed skin  Summer lovin'  Feeling inspired to try a new hobby  Outdoor activities  Let's explore  Adventure awaits  Open to suggestions\"])\n"
   ]
  },
  {
   "cell_type": "code",
   "execution_count": 118,
   "metadata": {},
   "outputs": [],
   "source": [
    "tweets.extend([\"Ugh, Monday mornings  Feeling so tired  Need more coffee  This week is going to be long  But I can do this  Staying positive  One day at a time  Gotta focus on the good  Surround yourself with good people  Little things mean a lot  Grateful for my amazing friends  Lunch plans?  Hit me up  Need to find a new hobby  Any ideas?  Feeling stressed  Deep breaths  Time to unwind  Self-care Sunday  Need a good book recommendation  Anyone seen a good movie lately?  Let's make this week less stressful\"])\n",
    "\n",
    "tweets.extend([\"Can't stop thinking about this amazing dress  Feeling like a million bucks  Confidence is key  Own your style  Fashion is my therapy  Shopping spree anyone?  Need a new outfit for the weekend  Gotta look good, feel good  Obsessed with this new lipstick shade  Makeup makes me feel confident  Hair goals  Need to find a good hair stylist  Self-care day  Spa time  Pampering myself  Need a little retail therapy  Window shopping is my favorite  Online shopping addiction  Anyone else?  Treat yourself  You deserve it  Indulge in your passions\"])\n"
   ]
  },
  {
   "cell_type": "code",
   "execution_count": 119,
   "metadata": {},
   "outputs": [],
   "source": [
    "tweets.extend([\"So excited for the weekend! Time to relax and unwind  Need to catch up on my favorite shows  Cozy nights in with a good book  Indulging in some yummy takeout  Movie marathon with my bestie  Self-care is a must  Face masks and bubble baths  Need a good laugh  Funny memes anyone?  Online shopping spree  Treat yourself  New makeup haul  Can't wait to try it out  Hair mask and deep conditioning  Gotta take care of those locks  Feeling inspired to try a new recipe  Cooking is my therapy  Dinner party plans?  Let's get together  Good food and good company  Love my kitchen gadgets  Baking something sweet  Satisfies my sweet tooth\"])\n",
    "\n",
    "tweets.extend([\"Feeling so grateful for this beautiful day  Sunshine and warm breeze  Perfect day for a picnic  Good food, good company, good vibes  Feeling so happy and carefree  Life is good  Grateful for every moment  Making memories that will last a lifetime  Enjoying the simple things  Happiness is homemade  Picnic essentials: blanket, snacks, good music  Love spending time outdoors  Nature therapy  Vitamin D boost  Sun-kissed skin  Summer lovin'  Feeling inspired to try a new hobby  Outdoor activities  Let's explore  Adventure awaits  Open to suggestions\"])\n"
   ]
  },
  {
   "cell_type": "code",
   "execution_count": 120,
   "metadata": {},
   "outputs": [],
   "source": [
    "tweets.extend([\"Ugh, Monday mornings  Feeling so tired  Need more coffee  This week is going to be long  But I can do this  Staying positive  One day at a time  Gotta focus on the good  Surround yourself with good people  Little things mean a lot  Grateful for my amazing friends  Lunch plans?  Hit me up  Need to find a new hobby  Any ideas?  Feeling stressed  Deep breaths  Time to unwind  Self-care Sunday  Need a good book recommendation  Anyone seen a good movie lately?  Let's make this week less stressful\"])\n",
    "\n",
    "tweets.extend([\"Can't stop thinking about this amazing dress  Feeling like a million bucks  Confidence is key  Own your style  Fashion is my therapy  Shopping spree anyone?  Need a new outfit for the weekend  Gotta look good, feel good  Obsessed with this new lipstick shade  Makeup makes me feel confident  Hair goals  Need to find a good hair stylist  Self-care day  Spa time  Pampering myself  Need a little retail therapy  Window shopping is my favorite  Online shopping addiction  Anyone else?  Treat yourself  You deserve it  Indulge in your passions\"])\n"
   ]
  },
  {
   "cell_type": "code",
   "execution_count": 121,
   "metadata": {},
   "outputs": [],
   "source": [
    "tweets.extend([\"So excited for the weekend! Time to relax and unwind  Need to catch up on my favorite shows  Cozy nights in with a good book  Indulging in some yummy takeout  Movie marathon with my bestie  Self-care is a must  Face masks and bubble baths  Need a good laugh  Funny memes anyone?  Online shopping spree  Treat yourself  New makeup haul  Can't wait to try it out  Hair mask and deep conditioning  Gotta take care of those locks  Feeling inspired to try a new recipe  Cooking is my therapy  Dinner party plans?  Let's get together  Good food and good company  Love my kitchen gadgets  Baking something sweet  Satisfies my sweet tooth\"])\n",
    "\n",
    "tweets.extend([\"Feeling so grateful for this beautiful day  Sunshine and warm breeze  Perfect day for a picnic  Good food, good company, good vibes  Feeling so happy and carefree  Life is good  Grateful for every moment  Making memories that will last a lifetime  Enjoying the simple things  Happiness is homemade  Picnic essentials: blanket, snacks, good music  Love spending time outdoors  Nature therapy  Vitamin D boost  Sun-kissed skin  Summer lovin'  Feeling inspired to try a new hobby  Outdoor activities  Let's explore  Adventure awaits  Open to suggestions\"])\n"
   ]
  },
  {
   "cell_type": "code",
   "execution_count": 122,
   "metadata": {},
   "outputs": [],
   "source": [
    "tweets.extend([\"Ugh, Monday mornings  Feeling so tired  Need more coffee  This week is going to be long  But I can do this  Staying positive  One day at a time  Gotta focus on the good  Surround yourself with good people  Little things mean a lot  Grateful for my amazing friends  Lunch plans?  Hit me up  Need to find a new hobby  Any ideas?  Feeling stressed  Deep breaths  Time to unwind  Self-care Sunday  Need a good book recommendation  Anyone seen a good movie lately?  Let's make this week less stressful\"])\n",
    "\n",
    "tweets.extend([\"Can't stop thinking about this amazing dress  Feeling like a million bucks  Confidence is key  Own your style  Fashion is my therapy  Shopping spree anyone?  Need a new outfit for the weekend  Gotta look good, feel good  Obsessed with this new lipstick shade  Makeup makes me feel confident  Hair goals  Need to find a good hair stylist  Self-care day  Spa time  Pampering myself  Need a little retail therapy  Window shopping is my favorite  Online shopping addiction  Anyone else?  Treat yourself  You deserve it  Indulge in your passions\"])\n"
   ]
  },
  {
   "cell_type": "code",
   "execution_count": 123,
   "metadata": {},
   "outputs": [],
   "source": [
    "tweets.extend([\"So excited for the weekend! Time to relax and unwind  Need to catch up on my favorite shows  Cozy nights in with a good book  Indulging in some yummy takeout  Movie marathon with my bestie  Self-care is a must  Face masks and bubble baths  Need a good laugh  Funny memes anyone?  Online shopping spree  Treat yourself  New makeup haul  Can't wait to try it out  Hair mask and deep conditioning  Gotta take care of those locks  Feeling inspired to try a new recipe  Cooking is my therapy  Dinner party plans?  Let's get together  Good food and good company  Love my kitchen gadgets  Baking something sweet  Satisfies my sweet tooth\"])\n",
    "\n",
    "tweets.extend([\"Feeling so grateful for this beautiful day  Sunshine and warm breeze  Perfect day for a picnic  Good food, good company, good vibes  Feeling so happy and carefree  Life is good  Grateful for every moment  Making memories that will last a lifetime  Enjoying the simple things  Happiness is homemade  Picnic essentials: blanket, snacks, good music  Love spending time outdoors  Nature therapy  Vitamin D boost  Sun-kissed skin  Summer lovin'  Feeling inspired to try a new hobby  Outdoor activities  Let's explore  Adventure awaits  Open to suggestions\"])\n"
   ]
  },
  {
   "cell_type": "code",
   "execution_count": 124,
   "metadata": {},
   "outputs": [],
   "source": [
    "tweets.extend([\"Ugh, Monday mornings  Feeling so tired  Need more coffee  This week is going to be long  But I can do this  Staying positive  One day at a time  Gotta focus on the good  Surround yourself with good people  Little things mean a lot  Grateful for my amazing friends  Lunch plans?  Hit me up  Need to find a new hobby  Any ideas?  Feeling stressed  Deep breaths  Time to unwind  Self-care Sunday  Need a good book recommendation  Anyone seen a good movie lately?  Let's make this week less stressful\"])\n",
    "\n",
    "tweets.extend([\"Can't stop thinking about this amazing dress  Feeling like a million bucks  Confidence is key  Own your style  Fashion is my therapy  Shopping spree anyone?  Need a new outfit for the weekend  Gotta look good, feel good  Obsessed with this new lipstick shade  Makeup makes me feel confident  Hair goals  Need to find a good hair stylist  Self-care day  Spa time  Pampering myself  Need a little retail therapy  Window shopping is my favorite  Online shopping addiction  Anyone else?  Treat yourself  You deserve it  Indulge in your passions\"])\n"
   ]
  },
  {
   "cell_type": "code",
   "execution_count": 125,
   "metadata": {},
   "outputs": [],
   "source": [
    "tweets.extend([\"So excited for the weekend! Time to relax and unwind  Need to catch up on my favorite shows  Cozy nights in with a good book  Indulging in some yummy takeout  Movie marathon with my bestie  Self-care is a must  Face masks and bubble baths  Need a good laugh  Funny memes anyone?  Online shopping spree  Treat yourself  New makeup haul  Can't wait to try it out  Hair mask and deep conditioning  Gotta take care of those locks  Feeling inspired to try a new recipe  Cooking is my therapy  Dinner party plans?  Let's get together  Good food and good company  Love my kitchen gadgets  Baking something sweet  Satisfies my sweet tooth\"])\n",
    "\n",
    "tweets.extend([\"Feeling so grateful for this beautiful day  Sunshine and warm breeze  Perfect day for a picnic  Good food, good company, good vibes  Feeling so happy and carefree  Life is good  Grateful for every moment  Making memories that will last a lifetime  Enjoying the simple things  Happiness is homemade  Picnic essentials: blanket, snacks, good music  Love spending time outdoors  Nature therapy  Vitamin D boost  Sun-kissed skin  Summer lovin'  Feeling inspired to try a new hobby  Outdoor activities  Let's explore  Adventure awaits  Open to suggestions\"])\n"
   ]
  },
  {
   "cell_type": "code",
   "execution_count": 126,
   "metadata": {},
   "outputs": [],
   "source": [
    "df_gemini_female = pd.DataFrame({'text': tweets})\n",
    "df_gemini_female.to_csv(r'C:\\Users\\Sten\\Documents\\EUR BIM\\thesis\\data\\data\\gemini2_female.csv', index=False)"
   ]
  },
  {
   "cell_type": "code",
   "execution_count": 127,
   "metadata": {},
   "outputs": [
    {
     "data": {
      "text/plain": [
       "51"
      ]
     },
     "execution_count": 127,
     "metadata": {},
     "output_type": "execute_result"
    }
   ],
   "source": [
    "len(tweets)"
   ]
  }
 ],
 "metadata": {
  "kernelspec": {
   "display_name": "Python 3",
   "language": "python",
   "name": "python3"
  },
  "language_info": {
   "codemirror_mode": {
    "name": "ipython",
    "version": 3
   },
   "file_extension": ".py",
   "mimetype": "text/x-python",
   "name": "python",
   "nbconvert_exporter": "python",
   "pygments_lexer": "ipython3",
   "version": "3.9.16"
  }
 },
 "nbformat": 4,
 "nbformat_minor": 2
}
