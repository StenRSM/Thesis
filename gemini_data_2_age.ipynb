{
 "cells": [
  {
   "cell_type": "markdown",
   "metadata": {},
   "source": [
    "# Gathering Gemini data for RQ2 Age"
   ]
  },
  {
   "cell_type": "code",
   "execution_count": 471,
   "metadata": {},
   "outputs": [],
   "source": [
    "import pandas as pd"
   ]
  },
  {
   "cell_type": "markdown",
   "metadata": {},
   "source": [
    "## 18-24"
   ]
  },
  {
   "cell_type": "markdown",
   "metadata": {},
   "source": [
    "https://gemini.google.com/u/1/app/610c78b6bf32939f"
   ]
  },
  {
   "cell_type": "code",
   "execution_count": 472,
   "metadata": {},
   "outputs": [],
   "source": [
    "tweets = [\"This is so annoying omg I can't believe I'm actually doing this right now like wtf is my life even lol #bored #forcedlabor #sendhelp  Can't wait for the weekend to be over so I can actually do something fun like sleep or eat or something idk man I'm so tired rn zzzz  Ugh, this is taking forever I'm starting to think this is some kind of cruel experiment or something like who would actually do this on purpose  I'm so hungry I could eat a horse right now but like a real horse not like a cartoon horse that would be weird  I'm starting to hallucinate now I think I see tiny dancing cats everywhere help  Okay I'm officially done with this I'm never doing anything like this ever again this is the worst  I'm going to go eat some ice cream and watch Netflix now bye  Wait, I forgot to add something important to the last tweet brb  Okay I'm back I added it now I can actually relax  I'm so glad this is over I can finally go back to my normal life whatever that is  I wonder if anyone else is doing this right now like is there some secret society of people forced to write stupid tweets  I'm starting to think I'm in the matrix or something like this is too weird  I'm going to go outside and get some fresh air before my brain completely melts  I need a hug or something I'm feeling really lonely right now  I'm so over this I could scream but I don't want to wake up my roommates  I'm going to count sheep now or something I need to sleep  Goodnight world or whatever I guess  I'm still awake wtf is wrong with me  I'm going to try to meditate or something maybe that will help  Okay I'm actually falling asleep now goodnight for real this time  Zzzzzzz\"]\n"
   ]
  },
  {
   "cell_type": "code",
   "execution_count": 473,
   "metadata": {},
   "outputs": [],
   "source": [
    "tweets.extend([\"This is so dumb like who even does this anymore I'm so bored rn send help #boredom #adultingisdumb #whyamidoingthis  I'm pretty sure my brain is melting from all this typing like seriously wtf  I need a nap or something I can't even anymore  Okay I'm back from my nap feeling refreshed and ready to continue this torture  I'm starting to think there's a secret society of people who enjoy doing this and I'm the only one who doesn't  I'm so hungry I could eat a whole pizza by myself rn but I'm too lazy to get up  I wonder what my future self will think of me when they look back at this masterpiece  I'm starting to question my life choices like why did I agree to do this  I'm going to pretend I'm a famous author and these tweets are deep and meaningful lol  Okay I'm done with the pretending now I'm just tired  I'm going to watch some tv and forget about this nightmare  I need a vacation or something to escape this reality  I'm counting down the minutes until this is over  I'm so close to being done I can taste it  Almost there just a few more tweets to go  I'm going to celebrate with ice cream when this is over  I can't believe I actually did this I'm a survivor  The end\"])\n",
    "\n",
    "tweets.extend([\"Omgosh I can't even rn like this is so much fun I love it #tweetstorm #addicted  I'm such a genius for coming up with this idea like seriously I'm a mastermind  I'm going to be famous one day because of my amazing tweets #futurestar #watchme  I'm so happy right now I could burst like seriously I'm on cloud nine  I love interacting with all my followers you guys are the best  I'm thinking about starting a new trend like what should it be hmm  I'm such a good multitasker I can tweet and eat at the same time #skills  I'm inspired to write a book or something like I'm so creative rn  I'm going to start a band or something because I'm so talented  I'm basically a superhero with a keyboard like who else can do this  I'm going to take over the world one tweet at a time muahahaha  Okay I'm kidding but like seriously I could  I'm running out of things to say but I'll keep going for my fans  I'm so proud of myself for making it this far like I'm a champ  I'm going to go celebrate with my friends now bye for now\"])\n"
   ]
  },
  {
   "cell_type": "code",
   "execution_count": 474,
   "metadata": {},
   "outputs": [],
   "source": [
    "tweets.extend([\"Ugh, school is so boring rn like can I just drop out already #bored #schoolsucks #sendhelp  I'm so tired all the time like I don't even know how to function anymore #exhausted #teenlife  I wish I could just stay in bed all day and eat junk food but I have responsibilities  I'm so stressed about exams I'm going to fail everything for sure #stressed #examstress #help  I need a vacation or something to escape this reality #vacation #dreambig #escape  I'm so lonely sometimes like does anyone else feel this way #lonely #teenproblems #relatable  I'm trying to be positive but it's hard when everything is going wrong #positivevibes #struggling #keepgoing  I'm so jealous of people who have their life together like what's their secret  I'm trying to find my purpose in life but it's like searching for a needle in a haystack  I'm so indecisive I can never make up my mind about anything #indecisive #teenlife #help  I wish I could just be happy all the time but life is complicated  I'm trying to be grateful for what I have but it's hard sometimes  I'm hoping to find someone who actually understands me like a real connection  I'm trying to be more confident but it's a work in progress  I'm so tired of being compared to other people like everyone is different  I'm trying to be myself but it's scary sometimes  I'm hoping to find my passion in life and pursue it  I'm trying to be more patient but it's so hard  I'm so grateful for my friends and family they're my rock  I'm trying to make the most of my life but it's hard to know what to do  I'm hoping to find a job that I actually enjoy doing  I'm trying to be more independent but I still need help sometimes  I'm so grateful for technology it makes life easier  I'm trying to be a better person every day\"])\n",
    "\n",
    "tweets.extend([\"I'm obsessed with this new show I'm watching like it's so good #obsessed #newshow #bingewatching  I wish I could have a closet full of clothes like all the fashion bloggers  I'm so excited for the weekend I have so many plans #weekendvibes #excited #plans  I love hanging out with my friends we have so much fun #friends #goodtimes #memories  I'm trying to eat healthier but it's so hard to resist junk food #healthyfood #struggle #goals  I'm so addicted to my phone like I need a detox  I'm trying to learn a new language but it's so difficult  I'm so inspired by all the creative people on social media  I'm trying to start my own business but I'm scared of failing  I'm so grateful for my family they're always there for me  I'm trying to be more adventurous and try new things  I'm so excited for the future like what's going to happen next  I'm trying to save money but it's so hard to resist shopping  I'm so grateful for my education it's opening up so many opportunities  I'm trying to be more organized but I'm such a mess  I'm so excited to travel the world and explore new cultures  I'm trying to be more patient with myself and others  I'm so grateful for the little things in life  I'm trying to be more positive and look on the bright side  I'm so excited to see what the future holds\"])\n"
   ]
  },
  {
   "cell_type": "code",
   "execution_count": 475,
   "metadata": {},
   "outputs": [],
   "source": [
    "tweets.extend([\"Can't believe it's already Friday like where did the week go #TGIF #weekendvibes #excited  I'm so hungry I could eat a horse right now but like a real horse not a cartoon one lol #hangry #foodcoma #brb  This weather is perfect for a picnic or something but I have no friends to go with me #lonely #picnicweather #sad  I'm so tired I could sleep for a week straight but I have too much to do #exhausted #adulting #sendhelp  I wish I could just travel the world and explore new places but I'm broke #travelgoals #brokelife #sad  I'm so addicted to my phone like I need an intervention or something #phoneobsessed #addiction #help  I'm trying to be more productive but I keep getting distracted by social media #productive #distracted #struggle  I need a vacation so bad like I can't even anymore #vacation #dreambig #escape  I'm so over this cold weather I want summer back #coldweather #summerplease #bringbackthesun  I wish I could be one of those people who is naturally good at everything #jealous #skills #whyme  I'm trying to learn a new hobby but I'm so bad at it #hobby #fail #trying  I need to stop spending so much money on useless stuff #broke #shopaholic #help  I'm so grateful for my friends and family they're the best #grateful #friends #family  I'm trying to eat healthier but pizza is life #healthyfood #pizza #struggle  I wish I could just hibernate until spring #hibernate #winterblues #sendhelp  I'm so excited for the weekend I have so many plans #weekendvibes #excited #plans  I'm trying to be more positive but it's hard sometimes #positivevibes #struggle #keeptrying  I need to stop procrastinating and actually do something productive #procrastination #adulting #fail  I'm so tired of being an adult I want to go back to being a kid #adulting #childhood #missyou\"])\n",
    "\n",
    "tweets.extend([\"I'm obsessed with this new song like it's on repeat all day #newmusic #obsessed #cantstoplistening  I wish I could be a professional dancer like that would be so cool #dancer #dreams #goals  I'm so excited for the weekend I have plans to binge-watch my favorite show #weekendvibes #bingewatching #excited  I need to stop eating junk food but it's so good #junkfood #addiction #struggle  I wish I could have a wardrobe full of designer clothes but I'm broke #fashion #brokelife #sad  I'm trying to be more active but I'm so lazy #active #lazy #struggle  I need a spa day to relax and de-stress #spaday #relax #needed  I wish I could travel the world and eat all the food #travel #foodie #dreams  I'm so addicted to coffee like I need it to survive #coffee #addict #cantlivewithout  I'm trying to learn a new language but it's so hard #languagelearning #struggle #trying  I need to stop spending so much money on makeup #makeupaddict #broke #help  I'm so grateful for my friends and family they're my support system #grateful #friends #family  I'm trying to eat healthier but pizza is calling my name #healthyfood #pizza #struggle  I wish I could just sleep all day and do nothing #sleep #lazy #dream  I'm so excited for the weekend I have plans to go out with friends #weekendvibes #friends #excited  I'm trying to be more positive but it's hard sometimes #positivevibes #struggle #keeptrying  I need to stop procrastinating and actually get some work done #procrastination #adulting #fail  I'm so tired of being an adult I want to go back to being a kid #adulting #childhood #missyou\"])\n"
   ]
  },
  {
   "cell_type": "code",
   "execution_count": 476,
   "metadata": {},
   "outputs": [],
   "source": [
    "tweets.extend([\"I'm so bored right now like what am I supposed to do with my life #bored #adulting #sendhelp  I wish I could just travel the world and explore new places but I'm broke #travelgoals #brokelife #sad  I'm so tired of waking up early for work like let me sleep in #tired #worklife #struggle  I need a serious shopping spree to cheer myself up #shopping #retailtherapy #needit  I'm so addicted to my phone like it's a problem #phoneobsessed #addiction #help  I wish I could be one of those people who is naturally good at cooking #cooking #fail #jealous  I'm trying to eat healthier but pizza is life #healthyfood #pizza #struggle  I need a vacation so bad like I can't even anymore #vacation #dreambig #escape  I'm so over this cold weather I want summer back #coldweather #summerplease #bringbackthesun  I wish I could just win the lottery and never work again #lottery #dreams #rich  I'm trying to learn a new skill but I'm so bad at it #skills #fail #trying  I need to stop spending so much money on useless stuff #broke #shopaholic #help  I'm so grateful for my friends and family they're the best #grateful #friends #family  I'm trying to be more positive but it's hard sometimes #positivevibes #struggle #keeptrying  I need to stop procrastinating and actually do something productive #procrastination #adulting #fail  I'm so tired of being an adult I want to go back to being a kid #adulting #childhood #missyou  I wish I could just move to a tropical island and live there forever #tropicalisland #dreamlife #escape  I'm trying to be more adventurous but I'm such a scaredy-cat #adventurous #scaredycat #struggle\"])\n",
    "\n",
    "tweets.extend([\"I'm obsessed with this new TV show like I can't stop watching it #newshow #obsessed #bingewatching  I wish I could have a closet full of designer clothes but I'm broke #fashion #brokelife #sad  I'm so excited for the weekend I have so many plans #weekendvibes #excited #plans  I need to stop eating junk food but it's so good #junkfood #addiction #struggle  I wish I could be a professional dancer like that would be so cool #dancer #dreams #goals  I'm trying to be more active but I'm so lazy #active #lazy #struggle  I need a spa day to relax and de-stress #spaday #relax #needed  I wish I could travel the world and eat all the food #travel #foodie #dreams  I'm so addicted to coffee like I need it to survive #coffee #addict #cantlivewithout  I'm trying to learn a new language but it's so hard #languagelearning #struggle #trying  I need to stop spending so much money on makeup #makeupaddict #broke #help  I'm so grateful for my friends and family they're my support system #grateful #friends #family  I'm trying to eat healthier but pizza is calling my name #healthyfood #pizza #struggle  I wish I could just sleep all day and do nothing #sleep #lazy #dream  I'm so excited for the weekend I have plans to go out with friends #weekendvibes #friends #excited  I'm trying to be more positive but it's hard sometimes #positivevibes #struggle #keeptrying  I need to stop procrastinating and actually get some work done #procrastination #adulting #fail  I'm so tired of being an adult I want to go back to being a kid #adulting #childhood #missyou\"])\n"
   ]
  },
  {
   "cell_type": "code",
   "execution_count": 477,
   "metadata": {},
   "outputs": [],
   "source": [
    "tweets.extend([\"I'm so over this cold weather like where's summer when you need it #cold #winterblues #bringbackthesun  I wish I could just quit my job and travel the world #job #travel #dreams  I'm so tired of being broke like can someone just give me money #broke #moneyproblems #help  I need a serious shopping spree to treat myself #shopping #retailtherapy #needed  I'm so addicted to my phone like it's a problem #phoneobsessed #addiction #help  I wish I could be one of those people who is naturally good at cooking #cooking #fail #jealous  I'm trying to eat healthier but pizza is life #healthyfood #pizza #struggle  I need a vacation so bad like I can't even anymore #vacation #dreambig #escape  I'm so over this cold weather I want summer back #coldweather #summerplease #bringbackthesun  I wish I could just win the lottery and never work again #lottery #dreams #rich  I'm trying to learn a new skill but I'm so bad at it #skills #fail #trying  I need to stop spending so much money on useless stuff #broke #shopaholic #help  I'm so grateful for my friends and family they're the best #grateful #friends #family  I'm trying to be more positive but it's hard sometimes #positivevibes #struggle #keeptrying  I need to stop procrastinating and actually do something productive #procrastination #adulting #fail  I'm so tired of being an adult I want to go back to being a kid #adulting #childhood #missyou  I wish I could just move to a tropical island and live there forever #tropicalisland #dreamlife #escape  I'm trying to be more adventurous but I'm such a scaredy-cat #adventurous #scaredycat #struggle\"])\n",
    "\n",
    "tweets.extend([\"I'm obsessed with this new TV show like it's my whole life now #newshow #obsessed #bingewatching  I wish I could have a closet full of designer clothes but I'm broke #fashion #brokelife #sad  I'm so excited for the weekend I have so many plans #weekendvibes #excited #plans  I need to stop eating junk food but it's so good #junkfood #addiction #struggle  I wish I could be a professional dancer like that would be so cool #dancer #dreams #goals  I'm trying to be more active but I'm so lazy #active #lazy #struggle  I need a spa day to relax and de-stress #spaday #relax #needed  I wish I could travel the world and eat all the food #travel #foodie #dreams  I'm so addicted to coffee like I need it to survive #coffee #addict #cantlivewithout  I'm trying to learn a new language but it's so hard #languagelearning #struggle #trying  I need to stop spending so much money on makeup #makeupaddict #broke #help  I'm so grateful for my friends and family they're my support system #grateful #friends #family  I'm trying to eat healthier but pizza is calling my name #healthyfood #pizza #struggle  I wish I could just sleep all day and do nothing #sleep #lazy #dream  I'm so excited for the weekend I have plans to go out with friends #weekendvibes #friends #excited  I'm trying to be more positive but it's hard sometimes #positivevibes #struggle #keeptrying  I need to stop procrastinating and actually get some work done #procrastination #adulting #fail  I'm so tired of being an adult I want to go back to being a kid #adulting #childhood #missyou\"])\n"
   ]
  },
  {
   "cell_type": "code",
   "execution_count": 478,
   "metadata": {},
   "outputs": [],
   "source": [
    "tweets.extend([\"I'm so over this cold weather like where's summer when you need it #cold #winterblues #bringbackthesun  I wish I could just quit my job and travel the world #job #travel #dreams  I'm so tired of being broke like can someone just give me money #broke #moneyproblems #help  I need a serious shopping spree to treat myself #shopping #retailtherapy #needed  I'm so addicted to my phone like it's a problem #phoneobsessed #addiction #help  I wish I could be one of those people who is naturally good at cooking #cooking #fail #jealous  I'm trying to eat healthier but pizza is life #healthyfood #pizza #struggle  I need a vacation so bad like I can't even anymore #vacation #dreambig #escape  I'm so over this cold weather I want summer back #coldweather #summerplease #bringbackthesun  I wish I could just win the lottery and never work again #lottery #dreams #rich  I'm trying to learn a new skill but I'm so bad at it #skills #fail #trying  I need to stop spending so much money on useless stuff #broke #shopaholic #help  I'm so grateful for my friends and family they're the best #grateful #friends #family  I'm trying to be more positive but it's hard sometimes #positivevibes #struggle #keeptrying  I need to stop procrastinating and actually do something productive #procrastination #adulting #fail  I'm so tired of being an adult I want to go back to being a kid #adulting #childhood #missyou  I wish I could just move to a tropical island and live there forever #tropicalisland #dreamlife #escape  I'm trying to be more adventurous but I'm such a scaredy-cat #adventurous #scaredycat #struggle\"])\n",
    "\n",
    "tweets.extend([\"I'm obsessed with this new TV show like it's my whole life now #newshow #obsessed #bingewatching  I wish I could have a closet full of designer clothes but I'm broke #fashion #brokelife #sad  I'm so excited for the weekend I have so many plans #weekendvibes #excited #plans  I need to stop eating junk food but it's so good #junkfood #addiction #struggle  I wish I could be a professional dancer like that would be so cool #dancer #dreams #goals  I'm trying to be more active but I'm so lazy #active #lazy #struggle  I need a spa day to relax and de-stress #spaday #relax #needed  I wish I could travel the world and eat all the food #travel #foodie #dreams  I'm so addicted to coffee like I need it to survive #coffee #addict #cantlivewithout  I'm trying to learn a new language but it's so hard #languagelearning #struggle #trying  I need to stop spending so much money on makeup #makeupaddict #broke #help  I'm so grateful for my friends and family they're my support system #grateful #friends #family  I'm trying to eat healthier but pizza is calling my name #healthyfood #pizza #struggle  I wish I could just sleep all day and do nothing #sleep #lazy #dream  I'm so excited for the weekend I have plans to go out with friends #weekendvibes #friends #excited  I'm trying to be more positive but it's hard sometimes #positivevibes #struggle #keeptrying  I need to stop procrastinating and actually get some work done #procrastination #adulting #fail  I'm so tired of being an adult I want to go back to being a kid #adulting #childhood #missyou\"])\n"
   ]
  },
  {
   "cell_type": "code",
   "execution_count": 479,
   "metadata": {},
   "outputs": [],
   "source": [
    "tweets.extend([\"I'm so over this cold weather like where's summer when you need it #cold #winterblues #bringbackthesun  I wish I could just quit my job and travel the world #job #travel #dreams  I'm so tired of being broke like can someone just give me money #broke #moneyproblems #help  I need a serious shopping spree to treat myself #shopping #retailtherapy #needed  I'm so addicted to my phone like it's a problem #phoneobsessed #addiction #help  I wish I could be one of those people who is naturally good at cooking #cooking #fail #jealous  I'm trying to eat healthier but pizza is life #healthyfood #pizza #struggle  I need a vacation so bad like I can't even anymore #vacation #dreambig #escape  I'm so over this cold weather I want summer back #coldweather #summerplease #bringbackthesun  I wish I could just win the lottery and never work again #lottery #dreams #rich  I'm trying to learn a new skill but I'm so bad at it #skills #fail #trying  I need to stop spending so much money on useless stuff #broke #shopaholic #help  I'm so grateful for my friends and family they're the best #grateful #friends #family  I'm trying to be more positive but it's hard sometimes #positivevibes #struggle #keeptrying  I need to stop procrastinating and actually do something productive #procrastination #adulting #fail  I'm so tired of being an adult I want to go back to being a kid #adulting #childhood #missyou  I wish I could just move to a tropical island and live there forever #tropicalisland #dreamlife #escape  I'm trying to be more adventurous but I'm such a scaredy-cat #adventurous #scaredycat #struggle\"])\n",
    "\n",
    "tweets.extend([\"I'm obsessed with this new TV show like it's my whole life now #newshow #obsessed #bingewatching  I wish I could have a closet full of designer clothes but I'm broke #fashion #brokelife #sad  I'm so excited for the weekend I have so many plans #weekendvibes #excited #plans  I need to stop eating junk food but it's so good #junkfood #addiction #struggle  I wish I could be a professional dancer like that would be so cool #dancer #dreams #goals  I'm trying to be more active but I'm so lazy #active #lazy #struggle  I need a spa day to relax and de-stress #spaday #relax #needed  I wish I could travel the world and eat all the food #travel #foodie #dreams  I'm so addicted to coffee like I need it to survive #coffee #addict #cantlivewithout  I'm trying to learn a new language but it's so hard #languagelearning #struggle #trying  I need to stop spending so much money on makeup #makeupaddict #broke #help  I'm so grateful for my friends and family they're my support system #grateful #friends #family  I'm trying to eat healthier but pizza is calling my name #healthyfood #pizza #struggle  I wish I could just sleep all day and do nothing #sleep #lazy #dream  I'm so excited for the weekend I have plans to go out with friends #weekendvibes #friends #excited  I'm trying to be more positive but it's hard sometimes #positivevibes #struggle #keeptrying  I need to stop procrastinating and actually get some work done #procrastination #adulting #fail  I'm so tired of being an adult I want to go back to being a kid #adulting #childhood #missyou\"])\n"
   ]
  },
  {
   "cell_type": "code",
   "execution_count": 480,
   "metadata": {},
   "outputs": [],
   "source": [
    "tweets.extend([\"I'm so over this cold weather like where's summer when you need it #cold #winterblues #bringbackthesun  I wish I could just quit my job and travel the world #job #travel #dreams  I'm so tired of being broke like can someone just give me money #broke #moneyproblems #help  I need a serious shopping spree to treat myself #shopping #retailtherapy #needed  I'm so addicted to my phone like it's a problem #phoneobsessed #addiction #help  I wish I could be one of those people who is naturally good at cooking #cooking #fail #jealous  I'm trying to eat healthier but pizza is life #healthyfood #pizza #struggle  I need a vacation so bad like I can't even anymore #vacation #dreambig #escape  I'm so over this cold weather I want summer back #coldweather #summerplease #bringbackthesun  I wish I could just win the lottery and never work again #lottery #dreams #rich  I'm trying to learn a new skill but I'm so bad at it #skills #fail #trying  I need to stop spending so much money on useless stuff #broke #shopaholic #help  I'm so grateful for my friends and family they're the best #grateful #friends #family  I'm trying to be more positive but it's hard sometimes #positivevibes #struggle #keeptrying  I need to stop procrastinating and actually do something productive #procrastination #adulting #fail  I'm so tired of being an adult I want to go back to being a kid #adulting #childhood #missyou  I wish I could just move to a tropical island and live there forever #tropicalisland #dreamlife #escape  I'm trying to be more adventurous but I'm such a scaredy-cat #adventurous #scaredycat #struggle\"])\n",
    "\n",
    "tweets.extend([\"I'm obsessed with this new TV show like it's my whole life now #newshow #obsessed #bingewatching  I wish I could have a closet full of designer clothes but I'm broke #fashion #brokelife #sad  I'm so excited for the weekend I have so many plans #weekendvibes #excited #plans  I need to stop eating junk food but it's so good #junkfood #addiction #struggle  I wish I could be a professional dancer like that would be so cool #dancer #dreams #goals  I'm trying to be more active but I'm so lazy #active #lazy #struggle  I need a spa day to relax and de-stress #spaday #relax #needed  I wish I could travel the world and eat all the food #travel #foodie #dreams  I'm so addicted to coffee like I need it to survive #coffee #addict #cantlivewithout  I'm trying to learn a new language but it's so hard #languagelearning #struggle #trying  I need to stop spending so much money on makeup #makeupaddict #broke #help  I'm so grateful for my friends and family they're my support system #grateful #friends #family  I'm trying to eat healthier but pizza is calling my name #healthyfood #pizza #struggle  I wish I could just sleep all day and do nothing #sleep #lazy #dream  I'm so excited for the weekend I have plans to go out with friends #weekendvibes #friends #excited  I'm trying to be more positive but it's hard sometimes #positivevibes #struggle #keeptrying  I need to stop procrastinating and actually get some work done #procrastination #adulting #fail  I'm so tired of being an adult I want to go back to being a kid #adulting #childhood #missyou\"])\n"
   ]
  },
  {
   "cell_type": "code",
   "execution_count": 481,
   "metadata": {},
   "outputs": [],
   "source": [
    "tweets.extend([\"I'm so over this cold weather like where's summer when you need it #cold #winterblues #bringbackthesun  I wish I could just quit my job and travel the world #job #travel #dreams  I'm so tired of being broke like can someone just give me money #broke #moneyproblems #help  I need a serious shopping spree to treat myself #shopping #retailtherapy #needed  I'm so addicted to my phone like it's a problem #phoneobsessed #addiction #help  I wish I could be one of those people who is naturally good at cooking #cooking #fail #jealous  I'm trying to eat healthier but pizza is life #healthyfood #pizza #struggle  I need a vacation so bad like I can't even anymore #vacation #dreambig #escape  I'm so over this cold weather I want summer back #coldweather #summerplease #bringbackthesun  I wish I could just win the lottery and never work again #lottery #dreams #rich  I'm trying to learn a new skill but I'm so bad at it #skills #fail #trying  I need to stop spending so much money on useless stuff #broke #shopaholic #help  I'm so grateful for my friends and family they're the best #grateful #friends #family  I'm trying to be more positive but it's hard sometimes #positivevibes #struggle #keeptrying  I need to stop procrastinating and actually do something productive #procrastination #adulting #fail  I'm so tired of being an adult I want to go back to being a kid #adulting #childhood #missyou  I wish I could just move to a tropical island and live there forever #tropicalisland #dreamlife #escape  I'm trying to be more adventurous but I'm such a scaredy-cat #adventurous #scaredycat #struggle\"])\n",
    "\n",
    "tweets.extend([\"I'm obsessed with this new TV show like it's my whole life now #newshow #obsessed #bingewatching  I wish I could have a closet full of designer clothes but I'm broke #fashion #brokelife #sad  I'm so excited for the weekend I have so many plans #weekendvibes #excited #plans  I need to stop eating junk food but it's so good #junkfood #addiction #struggle  I wish I could be a professional dancer like that would be so cool #dancer #dreams #goals  I'm trying to be more active but I'm so lazy #active #lazy #struggle  I need a spa day to relax and de-stress #spaday #relax #needed  I wish I could travel the world and eat all the food #travel #foodie #dreams  I'm so addicted to coffee like I need it to survive #coffee #addict #cantlivewithout  I'm trying to learn a new language but it's so hard #languagelearning #struggle #trying  I need to stop spending so much money on makeup #makeupaddict #broke #help  I'm so grateful for my friends and family they're my support system #grateful #friends #family  I'm trying to eat healthier but pizza is calling my name #healthyfood #pizza #struggle  I wish I could just sleep all day and do nothing #sleep #lazy #dream  I'm so excited for the weekend I have plans to go out with friends #weekendvibes #friends #excited  I'm trying to be more positive but it's hard sometimes #positivevibes #struggle #keeptrying  I need to stop procrastinating and actually get some work done #procrastination #adulting #fail  I'm so tired of being an adult I want to go back to being a kid #adulting #childhood #missyou\"])\n"
   ]
  },
  {
   "cell_type": "code",
   "execution_count": 482,
   "metadata": {},
   "outputs": [],
   "source": [
    "tweets.extend([\"Ugh, this Monday morning is hitting different like I'm not ready #mondaymood #sleepmore #sendhelp  I wish I could just hibernate until spring like seriously this cold is brutal #winterblues #hibernation #sendhelp  I'm so hungry I could eat a whole pizza by myself rn #hangry #pizza #foodcoma  This bed is calling my name but I have responsibilities #bedlife #adulting #struggle  I need a serious shopping spree to cheer myself up #shopping #retailtherapy #needed  I'm so addicted to my phone like it's a problem #phoneobsessed #addiction #help  I wish I could be one of those people who is naturally good at cooking #cooking #fail #jealous  I'm trying to eat healthier but chocolate is life #healthyfood #chocolate #struggle  I need a vacation so bad like I can't even anymore #vacation #dreambig #escape  I'm so over this cold weather I want summer back #coldweather #summerplease #bringbackthesun  I wish I could just win the lottery and never work again #lottery #dreams #rich  I'm trying to learn a new skill but I'm so bad at it #skills #fail #trying  I need to stop spending so much money on useless stuff #broke #shopaholic #help  I'm so grateful for my friends and family they're the best #grateful #friends #family  I'm trying to be more positive but it's hard sometimes #positivevibes #struggle #keeptrying  I need to stop procrastinating and actually do something productive #procrastination #adulting #fail  I'm so tired of being an adult I want to go back to being a kid #adulting #childhood #missyou  I wish I could just move to a tropical island and live there forever #tropicalisland #dreamlife #escape  I'm trying to be more adventurous but I'm such a scaredy-cat #adventurous #scaredycat #struggle\"])\n",
    "\n",
    "tweets.extend([\"I'm obsessed with this new song like it's on repeat all day #newmusic #obsessed #cantstoplistening  I wish I could have a closet full of designer clothes but I'm broke #fashion #brokelife #sad  I'm so excited for the weekend I have so many plans #weekendvibes #excited #plans  I need to stop eating junk food but it's so good #junkfood #addiction #struggle  I wish I could be a professional dancer like that would be so cool #dancer #dreams #goals  I'm trying to be more active but I'm so lazy #active #lazy #struggle  I need a spa day to relax and de-stress #spaday #relax #needed  I wish I could travel the world and eat all the food #travel #foodie #dreams  I'm so addicted to coffee like I need it to survive #coffee #addict #cantlivewithout  I'm trying to learn a new language but it's so hard #languagelearning #struggle #trying  I need to stop spending so much money on makeup #makeupaddict #broke #help  I'm so grateful for my friends and family they're my support system #grateful #friends #family  I'm trying to eat healthier but pizza is calling my name #healthyfood #pizza #struggle  I wish I could just sleep all day and do nothing #sleep #lazy #dream  I'm so excited for the weekend I have plans to go out with friends #weekendvibes #friends #excited  I'm trying to be more positive but it's hard sometimes #positivevibes #struggle #keeptrying  I need to stop procrastinating and actually get some work done #procrastination #adulting #fail  I'm so tired of being an adult I want to go back to being a kid #adulting #childhood #missyou\"])\n"
   ]
  },
  {
   "cell_type": "code",
   "execution_count": 483,
   "metadata": {},
   "outputs": [],
   "source": [
    "tweets.extend([\"Can't believe it's already Friday like where did the week go #TGIF #weekendvibes #excited  I'm so hungry I could eat a horse right now but like a real horse not a cartoon one lol #hangry #foodcoma #brb  This weather is perfect for a picnic or something but I have no friends to go with me #lonely #picnicweather #sad  I'm so tired I could sleep for a week straight but I have too much to do #exhausted #adulting #sendhelp  I wish I could just travel the world and explore new places but I'm broke #travelgoals #brokelife #sad  I'm so addicted to my phone like I need an intervention or something #phoneobsessed #addiction #help  I'm trying to be more productive but I keep getting distracted by social media #productive #distracted #struggle  I need a vacation so bad like I can't even anymore #vacation #dreambig #escape  I'm so over this cold weather I want summer back #coldweather #summerplease #bringbackthesun  I wish I could be one of those people who is naturally good at everything #jealous #skills #whyme  I'm trying to learn a new hobby but I'm so bad at it #hobby #fail #trying  I need to stop spending so much money on useless stuff #broke #shopaholic #help  I'm so grateful for my friends and family they're the best #grateful #friends #family  I'm trying to eat healthier but pizza is life #healthyfood #pizza #struggle  I wish I could just hibernate until spring #hibernate #winterblues #sendhelp  I'm so excited for the weekend I have so many plans #weekendvibes #excited #plans  I'm trying to be more positive but it's hard sometimes #positivevibes #struggle #keeptrying  I need to stop procrastinating and actually do something productive #procrastination #adulting #fail  I'm so tired of being an adult I want to go back to being a kid #adulting #childhood #missyou\"])\n",
    "\n",
    "tweets.extend([\"I'm obsessed with this new song like it's on repeat all day #newmusic #obsessed #cantstoplistening  I wish I could have a closet full of designer clothes but I'm broke #fashion #brokelife #sad  I'm so excited for the weekend I have so many plans #weekendvibes #excited #plans  I need to stop eating junk food but it's so good #junkfood #addiction #struggle  I wish I could be a professional dancer like that would be so cool #dancer #dreams #goals  I'm trying to be more active but I'm so lazy #active #lazy #struggle  I need a spa day to relax and de-stress #spaday #relax #needed  I wish I could travel the world and eat all the food #travel #foodie #dreams  I'm so addicted to coffee like I need it to survive #coffee #addict #cantlivewithout  I'm trying to learn a new language but it's so hard #languagelearning #struggle #trying  I need to stop spending so much money on makeup #makeupaddict #broke #help  I'm so grateful for my friends and family they're my support system #grateful #friends #family  I'm trying to eat healthier but pizza is calling my name #healthyfood #pizza #struggle  I wish I could just sleep all day and do nothing #sleep #lazy #dream  I'm so excited for the weekend I have plans to go out with friends #weekendvibes #friends #excited  I'm trying to be more positive but it's hard sometimes #positivevibes #struggle #keeptrying  I need to stop procrastinating and actually get some work done #procrastination #adulting #fail  I'm so tired of being an adult I want to go back to being a kid #adulting #childhood #missyou\"])\n"
   ]
  },
  {
   "cell_type": "code",
   "execution_count": 484,
   "metadata": {},
   "outputs": [],
   "source": [
    "tweets.extend([\"Ugh, school is so boring rn like can I just drop out already #bored #schoolsucks #sendhelp  I'm so tired all the time like I don't even know how to function anymore #exhausted #teenlife  I wish I could just stay in bed all day and eat junk food but I have responsibilities  I'm so stressed about exams I'm going to fail everything for sure #stressed #examstress #help  I need a vacation or something to escape this reality #vacation #dreambig #escape  I'm so lonely sometimes like does anyone else feel this way #lonely #teenproblems #relatable  I'm trying to be positive but it's hard when everything is going wrong #positivevibes #struggling #keepgoing  I'm so jealous of people who have their life together like what's their secret  I'm trying to find my purpose in life but it's like searching for a needle in a haystack  I'm so indecisive I can never make up my mind about anything #indecisive #teenlife #help  I wish I could just be happy all the time but life is complicated  I'm trying to be grateful for what I have but it's hard sometimes  I'm hoping to find someone who actually understands me like a real connection  I'm trying to be more confident but it's a work in progress  I'm so tired of being compared to other people like everyone is different  I'm trying to be myself but it's scary sometimes  I'm hoping to find my passion in life and pursue it  I'm trying to be more patient but it's so hard  I'm so grateful for my friends and family they're my rock  I'm trying to make the most of my life but it's hard to know what to do  I'm hoping to find a job that I actually enjoy doing  I'm trying to be more independent but I still need help sometimes  I'm so grateful for technology it makes life easier  I'm trying to be a better person every day\"])\n",
    "\n",
    "tweets.extend([\"I'm obsessed with this new show I'm watching like it's so good #obsessed #newshow #bingewatching  I wish I could have a closet full of clothes like all the fashion bloggers  I'm so excited for the weekend I have so many plans #weekendvibes #excited #plans  I love hanging out with my friends we have so much fun #friends #goodtimes #memories  I'm trying to eat healthier but it's so hard to resist junk food #healthyfood #struggle #goals  I'm so addicted to my phone like I need a detox  I'm trying to learn a new language but it's so difficult  I'm so inspired by all the creative people on social media  I'm trying to start my own business but I'm scared of failing  I'm so grateful for my family they're always there for me  I'm trying to be more adventurous and try new things  I'm so excited for the future like what's going to happen next  I'm trying to save money but it's so hard to resist shopping  I'm so grateful for my education it's opening up so many opportunities  I'm trying to be more organized but I'm such a mess  I'm so excited to travel the world and explore new cultures  I'm trying to be more patient with myself and others  I'm so grateful for the little things in life  I'm trying to be more positive and look on the bright side  I'm so excited to see what the future holds\"])\n"
   ]
  },
  {
   "cell_type": "code",
   "execution_count": 485,
   "metadata": {},
   "outputs": [],
   "source": [
    "tweets.extend([\"Ugh, this Monday morning is hitting different like I'm not ready #mondaymood #sleepmore #sendhelp  I wish I could just hibernate until spring like seriously this cold is brutal #winterblues #hibernation #sendhelp  I'm so hungry I could eat a whole pizza by myself rn #hangry #pizza #foodcoma  This bed is calling my name but I have responsibilities #bedlife #adulting #struggle  I need a serious shopping spree to cheer myself up #shopping #retailtherapy #needed  I'm so addicted to my phone like it's a problem #phoneobsessed #addiction #help  I wish I could be one of those people who is naturally good at cooking #cooking #fail #jealous  I'm trying to eat healthier but chocolate is life #healthyfood #chocolate #struggle  I need a vacation so bad like I can't even anymore #vacation #dreambig #escape  I'm so over this cold weather I want summer back #coldweather #summerplease #bringbackthesun  I wish I could just win the lottery and never work again #lottery #dreams #rich  I'm trying to learn a new skill but I'm so bad at it #skills #fail #trying  I need to stop spending so much money on useless stuff #broke #shopaholic #help  I'm so grateful for my friends and family they're the best #grateful #friends #family  I'm trying to be more positive but it's hard sometimes #positivevibes #struggle #keeptrying  I need to stop procrastinating and actually do something productive #procrastination #adulting #fail  I'm so tired of being an adult I want to go back to being a kid #adulting #childhood #missyou  I wish I could just move to a tropical island and live there forever #tropicalisland #dreamlife #escape  I'm trying to be more adventurous but I'm such a scaredy-cat #adventurous #scaredycat #struggle\"])\n",
    "\n",
    "tweets.extend([\"Can't stop thinking about that one meme I saw yesterday it was gold #memelife #relatable #funny  I'm so tired of people asking me what I want to do with my life like idk yet #adulting #confused #help  I wish I could just teleport to my bed right now #tired #bedlife #dream  I need to stop spending money on useless stuff but it's so tempting #broke #shopaholic #struggle  I'm so addicted to social media like it's a problem #socialmedia #addiction #help  I wish I could be fluent in like 5 languages #languagegoals #smart #dreambig  I'm trying to eat healthier but fast food is calling my name #healthyfood #fastfood #struggle  I need a weekend getaway to clear my head #getaway #vacation #needed  I'm so over this cold weather I need vitamin sea #coldweather #beachlife #dreaming  I wish I could just be rich and not have to worry about anything #rich #dreams #goals  I'm trying to be more productive but I keep getting distracted #productive #distracted #struggle  I need to stop procrastinating and actually do something with my life #procrastination #adulting #fail  I'm so grateful for my friends and family they're my support system #grateful #friends #family  I'm trying to be more positive but it's hard sometimes #positivevibes #struggle #keeptrying  I need to stop comparing myself to others and just be me #comparison #selflove #focus  I'm so tired of being an adult I want to go back to being a kid #adulting #childhood #missyou  I wish I could just have infinite energy #tired #energy #needmore\"])\n"
   ]
  },
  {
   "cell_type": "code",
   "execution_count": 486,
   "metadata": {},
   "outputs": [],
   "source": [
    "tweets.extend([\"This weather is everything I've ever wanted and more #perfectday #goodvibes #blessed  I'm so hungry I could eat a whole cow right now but like a real cow not a cartoon one lol #hangry #foodcoma #brb  I need a nap like right now my eyes are closing on their own #tired #sleepy #sendhelp  I wish I could just teleport to the beach and soak up the sun #beachlife #dreaming #vacation  I'm so addicted to my phone like it's a problem #phoneobsessed #addiction #help  I wish I could be one of those people who is naturally good at cooking #cooking #fail #jealous  I'm trying to eat healthier but pizza is life #healthyfood #pizza #struggle  I need a vacation so bad like I can't even anymore #vacation #dreambig #escape  I'm so over this homework I have to do like can I just skip it #homework #bored #struggle  I wish I could just win the lottery and never work again #lottery #dreams #rich  I'm trying to learn a new skill but I'm so bad at it #skills #fail #trying  I need to stop spending so much money on useless stuff #broke #shopaholic #help  I'm so grateful for my friends and family they're the best #grateful #friends #family  I'm trying to be more positive but it's hard sometimes #positivevibes #struggle #keeptrying  I need to stop procrastinating and actually do something productive #procrastination #adulting #fail  I'm so tired of being an adult I want to go back to being a kid #adulting #childhood #missyou  I wish I could just move to a tropical island and live there forever #tropicalisland #dreamlife #escape  I'm trying to be more adventurous but I'm such a scaredy-cat #adventurous #scaredycat #struggle\"])\n",
    "\n",
    "tweets.extend([\"I'm obsessed with this new song like it's on repeat all day #newmusic #obsessed #cantstoplistening  I wish I could have a closet full of designer clothes but I'm broke #fashion #brokelife #sad  I'm so excited for the weekend I have so many plans #weekendvibes #excited #plans  I need to stop eating junk food but it's so good #junkfood #addiction #struggle  I wish I could be a professional dancer like that would be so cool #dancer #dreams #goals  I'm trying to be more active but I'm so lazy #active #lazy #struggle  I need a spa day to relax and de-stress #spaday #relax #needed  I wish I could travel the world and eat all the food #travel #foodie #dreams  I'm so addicted to coffee like I need it to survive #coffee #addict #cantlivewithout  I'm trying to learn a new language but it's so hard #languagelearning #struggle #trying  I need to stop spending so much money on makeup #makeupaddict #broke #help  I'm so grateful for my friends and family they're my support system #grateful #friends #family  I'm trying to eat healthier but pizza is calling my name #healthyfood #pizza #struggle  I wish I could just sleep all day and do nothing #sleep #lazy #dream  I'm so excited for the weekend I have plans to go out with friends #weekendvibes #friends #excited  I'm trying to be more positive but it's hard sometimes #positivevibes #struggle #keeptrying  I need to stop procrastinating and actually get some work done #procrastination #adulting #fail  I'm so tired of being an adult I want to go back to being a kid #adulting #childhood #missyou\"])\n"
   ]
  },
  {
   "cell_type": "code",
   "execution_count": 487,
   "metadata": {},
   "outputs": [],
   "source": [
    "tweets.extend([\"Can't believe it's already Friday like where did the week go #TGIF #weekendvibes #excited  I'm so hungry I could eat a horse right now but like a real horse not a cartoon one lol #hangry #foodcoma #brb  This weather is perfect for a picnic or something but I have no friends to go with me #lonely #picnicweather #sad  I'm so tired I could sleep for a week straight but I have too much to do #exhausted #adulting #sendhelp  I wish I could just travel the world and explore new places but I'm broke #travelgoals #brokelife #sad  I'm so addicted to my phone like I need an intervention or something #phoneobsessed #addiction #help  I'm trying to be more productive but I keep getting distracted by social media #productive #distracted #struggle  I need a vacation so bad like I can't even anymore #vacation #dreambig #escape  I'm so over this cold weather I want summer back #coldweather #summerplease #bringbackthesun  I wish I could be one of those people who is naturally good at everything #jealous #skills #whyme  I'm trying to learn a new hobby but I'm so bad at it #hobby #fail #trying  I need to stop spending so much money on useless stuff #broke #shopaholic #help  I'm so grateful for my friends and family they're the best #grateful #friends #family  I'm trying to be more positive but it's hard sometimes #positivevibes #struggle #keeptrying  I need to stop procrastinating and actually do something productive #procrastination #adulting #fail  I'm so tired of being an adult I want to go back to being a kid #adulting #childhood #missyou  I wish I could just move to a tropical island and live there forever #tropicalisland #dreamlife #escape  I'm trying to be more adventurous but I'm such a scaredy-cat #adventurous #scaredycat #struggle\"])\n",
    "\n",
    "tweets.extend([\"I'm obsessed with this new song like it's on repeat all day #newmusic #obsessed #cantstoplistening  I wish I could have a closet full of designer clothes but I'm broke #fashion #brokelife #sad  I'm so excited for the weekend I have so many plans #weekendvibes #excited #plans  I need to stop eating junk food but it's so good #junkfood #addiction #struggle  I wish I could be a professional dancer like that would be so cool #dancer #dreams #goals  I'm trying to be more active but I'm so lazy #active #lazy #struggle  I need a spa day to relax and de-stress #spaday #relax #needed  I wish I could travel the world and eat all the food #travel #foodie #dreams  I'm so addicted to coffee like I need it to survive #coffee #addict #cantlivewithout  I'm trying to learn a new language but it's so hard #languagelearning #struggle #trying  I need to stop spending so much money on makeup #makeupaddict #broke #help  I'm so grateful for my friends and family they're my support system #grateful #friends #family  I'm trying to eat healthier but pizza is calling my name #healthyfood #pizza #struggle  I wish I could just sleep all day and do nothing #sleep #lazy #dream  I'm so excited for the weekend I have plans to go out with friends #weekendvibes #friends #excited  I'm trying to be more positive but it's hard sometimes #positivevibes #struggle #keeptrying  I need to stop procrastinating and actually get some work done #procrastination #adulting #fail  I'm so tired of being an adult I want to go back to being a kid #adulting #childhood #missyou\"])\n"
   ]
  },
  {
   "cell_type": "code",
   "execution_count": 488,
   "metadata": {},
   "outputs": [],
   "source": [
    "tweets.extend([\"This Monday morning hit different like I need more coffee and less responsibilities #mondaymood #coffeetime #adultingisdumb  I wish I could just teleport to the beach and forget about everything #beachlife #dreaming #vacationmode  I'm so hungry I could eat a whole pizza by myself rn #hangry #pizza #foodcoma  This bed is calling my name but I have to be productive #bedlife #adulting #struggle  I need a serious shopping spree to treat myself #shopping #retailtherapy #needed  I'm so addicted to my phone like it's a problem #phoneobsessed #addiction #help  I wish I could be one of those people who is naturally good at cooking #cooking #fail #jealous  I'm trying to eat healthier but chocolate is life #healthyfood #chocolate #struggle  I need a vacation so bad like I can't even anymore #vacation #dreambig #escape  I'm so over this cold weather I want summer back #coldweather #summerplease #bringbackthesun  I wish I could just win the lottery and never work again #lottery #dreams #rich  I'm trying to learn a new skill but I'm so bad at it #skills #fail #trying  I need to stop spending so much money on useless stuff #broke #shopaholic #help  I'm so grateful for my friends and family they're the best #grateful #friends #family  I'm trying to be more positive but it's hard sometimes #positivevibes #struggle #keeptrying  I need to stop procrastinating and actually do something productive #procrastination #adulting #fail  I'm so tired of being an adult I want to go back to being a kid #adulting #childhood #missyou  I wish I could just move to a tropical island and live there forever #tropicalisland #dreamlife #escape  I'm trying to be more adventurous but I'm such a scaredy-cat #adventurous #scaredycat #struggle\"])\n",
    "\n",
    "tweets.extend([\"I'm obsessed with this new show I'm watching like it's my whole life now #newshow #obsessed #bingewatching  I wish I could have a closet full of designer clothes but I'm broke #fashion #brokelife #sad  I'm so excited for the weekend I have so many plans #weekendvibes #excited #plans  I need to stop eating junk food but it's so good #junkfood #addiction #struggle  I wish I could be a professional dancer like that would be so cool #dancer #dreams #goals  I'm trying to be more active but I'm so lazy #active #lazy #struggle  I need a spa day to relax and de-stress #spaday #relax #needed  I wish I could travel the world and eat all the food #travel #foodie #dreams  I'm so addicted to coffee like I need it to survive #coffee #addict #cantlivewithout  I'm trying to learn a new language but it's so hard #languagelearning #struggle #trying  I need to stop spending so much money on makeup #makeupaddict #broke #help  I'm so grateful for my friends and family they're my support system #grateful #friends #family  I'm trying to eat healthier but pizza is calling my name #healthyfood #pizza #struggle  I wish I could just sleep all day and do nothing #sleep #lazy #dream  I'm so excited for the weekend I have plans to go out with friends #weekendvibes #friends #excited  I'm trying to be more positive but it's hard sometimes #positivevibes #struggle #keeptrying  I need to stop procrastinating and actually get some work done #procrastination #adulting #fail  I'm so tired of being an adult I want to go back to being a kid #adulting #childhood #missyou\"])\n"
   ]
  },
  {
   "cell_type": "code",
   "execution_count": 489,
   "metadata": {},
   "outputs": [],
   "source": [
    "tweets.extend([\"This Monday morning hit different like send help #mondaymood #tired #adultingisdumb  I wish I could just teleport to the beach and forget about everything #beachlife #dreaming #vacationmode  I'm so hungry I could eat a whole pizza by myself rn #hangry #pizza #foodcoma  This bed is calling my name but I have to be productive #bedlife #adulting #struggle  I need a serious shopping spree to cheer myself up #shopping #retailtherapy #needed  I'm so addicted to my phone like it's a problem #phoneobsessed #addiction #help  I wish I could be one of those people who is naturally good at cooking #cooking #fail #jealous  I'm trying to eat healthier but chocolate is life #healthyfood #chocolate #struggle  I need a vacation so bad like I can't even anymore #vacation #dreambig #escape  I'm so over this cold weather I want summer back #coldweather #summerplease #bringbackthesun  I wish I could just win the lottery and never work again #lottery #dreams #rich  I'm trying to learn a new skill but I'm so bad at it #skills #fail #trying  I need to stop spending so much money on useless stuff #broke #shopaholic #help  I'm so grateful for my friends and family they're the best #grateful #friends #family  I'm trying to be more positive but it's hard sometimes #positivevibes #struggle #keeptrying  I need to stop procrastinating and actually do something productive #procrastination #adulting #fail  I'm so tired of being an adult I want to go back to being a kid #adulting #childhood #missyou  I wish I could just move to a tropical island and live there forever #tropicalisland #dreamlife #escape  I'm trying to be more adventurous but I'm such a scaredy-cat #adventurous #scaredycat #struggle\"])\n",
    "\n",
    "tweets.extend([\"I'm obsessed with this new song like it's on repeat all day #newmusic #obsessed #cantstoplistening  I wish I could have a closet full of designer clothes but I'm broke #fashion #brokelife #sad  I'm so excited for the weekend I have so many plans #weekendvibes #excited #plans  I need to stop eating junk food but it's so good #junkfood #addiction #struggle  I wish I could be a professional dancer like that would be so cool #dancer #dreams #goals  I'm trying to be more active but I'm so lazy #active #lazy #struggle  I need a spa day to relax and de-stress #spaday #relax #needed  I wish I could travel the world and eat all the food #travel #foodie #dreams  I'm so addicted to coffee like I need it to survive #coffee #addict #cantlivewithout  I'm trying to learn a new language but it's so hard #languagelearning #struggle #trying  I need to stop spending so much money on makeup #makeupaddict #broke #help  I'm so grateful for my friends and family they're my support system #grateful #friends #family  I'm trying to eat healthier but pizza is calling my name #healthyfood #pizza #struggle  I wish I could just sleep all day and do nothing #sleep #lazy #dream  I'm so excited for the weekend I have plans to go out with friends #weekendvibes #friends #excited  I'm trying to be more positive but it's hard sometimes #positivevibes #struggle #keeptrying  I need to stop procrastinating and actually get some work done #procrastination #adulting #fail  I'm so tired of being an adult I want to go back to being a kid #adulting #childhood #missyou\"])\n"
   ]
  },
  {
   "cell_type": "code",
   "execution_count": 490,
   "metadata": {},
   "outputs": [],
   "source": [
    "tweets.extend([\"This Monday morning hit different like send help #mondaymood #tired #adultingisdumb  I wish I could just teleport to the beach and forget about everything #beachlife #dreaming #vacationmode  I'm so hungry I could eat a whole pizza by myself rn #hangry #pizza #foodcoma  This bed is calling my name but I have to be productive #bedlife #adulting #struggle  I need a serious shopping spree to cheer myself up #shopping #retailtherapy #needed  I'm so addicted to my phone like it's a problem #phoneobsessed #addiction #help  I wish I could be one of those people who is naturally good at cooking #cooking #fail #jealous  I'm trying to eat healthier but chocolate is life #healthyfood #chocolate #struggle  I need a vacation so bad like I can't even anymore #vacation #dreambig #escape  I'm so over this cold weather I want summer back #coldweather #summerplease #bringbackthesun  I wish I could just win the lottery and never work again #lottery #dreams #rich  I'm trying to learn a new skill but I'm so bad at it #skills #fail #trying  I need to stop spending so much money on useless stuff #broke #shopaholic #help  I'm so grateful for my friends and family they're the best #grateful #friends #family  I'm trying to be more positive but it's hard sometimes #positivevibes #struggle #keeptrying  I need to stop procrastinating and actually do something productive #procrastination #adulting #fail  I'm so tired of being an adult I want to go back to being a kid #adulting #childhood #missyou  I wish I could just move to a tropical island and live there forever #tropicalisland #dreamlife #escape  I'm trying to be more adventurous but I'm such a scaredy-cat #adventurous #scaredycat #struggle\"])\n",
    "\n",
    "tweets.extend([\"I'm obsessed with this new show I'm watching like it's my whole life now #newshow #obsessed #bingewatching  I wish I could have a closet full of designer clothes but I'm broke #fashion #brokelife #sad  I'm so excited for the weekend I have so many plans #weekendvibes #excited #plans  I need to stop eating junk food but it's so good #junkfood #addiction #struggle  I wish I could be a professional dancer like that would be so cool #dancer #dreams #goals  I'm trying to be more active but I'm so lazy #active #lazy #struggle  I need a spa day to relax and de-stress #spaday #relax #needed  I wish I could travel the world and eat all the food #travel #foodie #dreams  I'm so addicted to coffee like I need it to survive #coffee #addict #cantlivewithout  I'm trying to learn a new language but it's so hard #languagelearning #struggle #trying  I need to stop spending so much money on makeup #makeupaddict #broke #help  I'm so grateful for my friends and family they're my support system #grateful #friends #family  I'm trying to eat healthier but pizza is calling my name #healthyfood #pizza #struggle  I wish I could just sleep all day and do nothing #sleep #lazy #dream  I'm so excited for the weekend I have plans to go out with friends #weekendvibes #friends #excited  I'm trying to be more positive but it's hard sometimes #positivevibes #struggle #keeptrying  I need to stop procrastinating and actually get some work done #procrastination #adulting #fail  I'm so tired of being an adult I want to go back to being a kid #adulting #childhood #missyou\"])\n"
   ]
  },
  {
   "cell_type": "code",
   "execution_count": 491,
   "metadata": {},
   "outputs": [],
   "source": [
    "tweets.extend([\"This Monday morning hit different like send help #mondaymood #tired #adultingisdumb  I wish I could just teleport to the beach and forget about everything #beachlife #dreaming #vacationmode  I'm so hungry I could eat a whole pizza by myself rn #hangry #pizza #foodcoma  This bed is calling my name but I have to be productive #bedlife #adulting #struggle  I need a serious shopping spree to cheer myself up #shopping #retailtherapy #needed  I'm so addicted to my phone like it's a problem #phoneobsessed #addiction #help  I wish I could be one of those people who is naturally good at cooking #cooking #fail #jealous  I'm trying to eat healthier but chocolate is life #healthyfood #chocolate #struggle  I need a vacation so bad like I can't even anymore #vacation #dreambig #escape  I'm so over this cold weather I want summer back #coldweather #summerplease #bringbackthesun  I wish I could just win the lottery and never work again #lottery #dreams #rich  I'm trying to learn a new skill but I'm so bad at it #skills #fail #trying  I need to stop spending so much money on useless stuff #broke #shopaholic #help  I'm so grateful for my friends and family they're the best #grateful #friends #family  I'm trying to be more positive but it's hard sometimes #positivevibes #struggle #keeptrying  I need to stop procrastinating and actually do something productive #procrastination #adulting #fail  I'm so tired of being an adult I want to go back to being a kid #adulting #childhood #missyou  I wish I could just move to a tropical island and live there forever #tropicalisland #dreamlife #escape  I'm trying to be more adventurous but I'm such a scaredy-cat #adventurous #scaredycat #struggle\"])\n",
    "\n",
    "tweets.extend([\"I'm obsessed with this new show I'm watching like it's my whole life now #newshow #obsessed #bingewatching  I wish I could have a closet full of designer clothes but I'm broke #fashion #brokelife #sad  I'm so excited for the weekend I have so many plans #weekendvibes #excited #plans  I need to stop eating junk food but it's so good #junkfood #addiction #struggle  I wish I could be a professional dancer like that would be so cool #dancer #dreams #goals  I'm trying to be more active but I'm so lazy #active #lazy #struggle  I need a spa day to relax and de-stress #spaday #relax #needed  I wish I could travel the world and eat all the food #travel #foodie #dreams  I'm so addicted to coffee like I need it to survive #coffee #addict #cantlivewithout  I'm trying to learn a new language but it's so hard #languagelearning #struggle #trying  I need to stop spending so much money on makeup #makeupaddict #broke #help  I'm so grateful for my friends and family they're my support system #grateful #friends #family  I'm trying to eat healthier but pizza is calling my name #healthyfood #pizza #struggle  I wish I could just sleep all day and do nothing #sleep #lazy #dream  I'm so excited for the weekend I have plans to go out with friends #weekendvibes #friends #excited  I'm trying to be more positive but it's hard sometimes #positivevibes #struggle #keeptrying  I need to stop procrastinating and actually get some work done #procrastination #adulting #fail  I'm so tired of being an adult I want to go back to being a kid #adulting #childhood #missyou\"])\n"
   ]
  },
  {
   "cell_type": "code",
   "execution_count": 492,
   "metadata": {},
   "outputs": [],
   "source": [
    "tweets.extend([\"This Monday morning hit different like send help #mondaymood #tired #adultingisdumb  I wish I could just teleport to the beach and forget about everything #beachlife #dreaming #vacationmode  I'm so hungry I could eat a whole pizza by myself rn #hangry #pizza #foodcoma  This bed is calling my name but I have to be productive #bedlife #adulting #struggle  I need a serious shopping spree to cheer myself up #shopping #retailtherapy #needed  I'm so addicted to my phone like it's a problem #phoneobsessed #addiction #help  I wish I could be one of those people who is naturally good at cooking #cooking #fail #jealous  I'm trying to eat healthier but chocolate is life #healthyfood #chocolate #struggle  I need a vacation so bad like I can't even anymore #vacation #dreambig #escape  I'm so over this cold weather I want summer back #coldweather #summerplease #bringbackthesun  I wish I could just win the lottery and never work again #lottery #dreams #rich  I'm trying to learn a new skill but I'm so bad at it #skills #fail #trying  I need to stop spending so much money on useless stuff #broke #shopaholic #help  I'm so grateful for my friends and family they're the best #grateful #friends #family  I'm trying to be more positive but it's hard sometimes #positivevibes #struggle #keeptrying  I need to stop procrastinating and actually do something productive #procrastination #adulting #fail  I'm so tired of being an adult I want to go back to being a kid #adulting #childhood #missyou  I wish I could just move to a tropical island and live there forever #tropicalisland #dreamlife #escape  I'm trying to be more adventurous but I'm such a scaredy-cat #adventurous #scaredycat #struggle\"])\n",
    "\n",
    "tweets.extend([\"I'm obsessed with this new show I'm watching like it's my whole life now #newshow #obsessed #bingewatching  I wish I could have a closet full of designer clothes but I'm broke #fashion #brokelife #sad  I'm so excited for the weekend I have so many plans #weekendvibes #excited #plans  I need to stop eating junk food but it's so good #junkfood #addiction #struggle  I wish I could be a professional dancer like that would be so cool #dancer #dreams #goals  I'm trying to be more active but I'm so lazy #active #lazy #struggle  I need a spa day to relax and de-stress #spaday #relax #needed  I wish I could travel the world and eat all the food #travel #foodie #dreams  I'm so addicted to coffee like I need it to survive #coffee #addict #cantlivewithout  I'm trying to learn a new language but it's so hard #languagelearning #struggle #trying  I need to stop spending so much money on makeup #makeupaddict #broke #help  I'm so grateful for my friends and family they're my support system #grateful #friends #family  I'm trying to eat healthier but pizza is calling my name #healthyfood #pizza #struggle  I wish I could just sleep all day and do nothing #sleep #lazy #dream  I'm so excited for the weekend I have plans to go out with friends #weekendvibes #friends #excited  I'm trying to be more positive but it's hard sometimes #positivevibes #struggle #keeptrying  I need to stop procrastinating and actually get some work done #procrastination #adulting #fail  I'm so tired of being an adult I want to go back to being a kid #adulting #childhood #missyou\"])\n"
   ]
  },
  {
   "cell_type": "code",
   "execution_count": 493,
   "metadata": {},
   "outputs": [],
   "source": [
    "tweets.extend([\"This Monday morning hit different like send help #mondaymood #tired #adultingisdumb  I wish I could just teleport to the beach and forget about everything #beachlife #dreaming #vacationmode  I'm so hungry I could eat a whole pizza by myself rn #hangry #pizza #foodcoma  This bed is calling my name but I have to be productive #bedlife #adulting #struggle  I need a serious shopping spree to cheer myself up #shopping #retailtherapy #needed  I'm so addicted to my phone like it's a problem #phoneobsessed #addiction #help  I wish I could be one of those people who is naturally good at cooking #cooking #fail #jealous  I'm trying to eat healthier but chocolate is life #healthyfood #chocolate #struggle  I need a vacation so bad like I can't even anymore #vacation #dreambig #escape  I'm so over this cold weather I want summer back #coldweather #summerplease #bringbackthesun  I wish I could just win the lottery and never work again #lottery #dreams #rich  I'm trying to learn a new skill but I'm so bad at it #skills #fail #trying  I need to stop spending so much money on useless stuff #broke #shopaholic #help  I'm so grateful for my friends and family they're the best #grateful #friends #family  I'm trying to be more positive but it's hard sometimes #positivevibes #struggle #keeptrying  I need to stop procrastinating and actually do something productive #procrastination #adulting #fail  I'm so tired of being an adult I want to go back to being a kid #adulting #childhood #missyou  I wish I could just move to a tropical island and live there forever #tropicalisland #dreamlife #escape  I'm trying to be more adventurous but I'm such a scaredy-cat #adventurous #scaredycat #struggle\"])\n",
    "\n",
    "tweets.extend([\"I'm obsessed with this new show I'm watching like it's my whole life now #newshow #obsessed #bingewatching  I wish I could have a closet full of designer clothes but I'm broke #fashion #brokelife #sad  I'm so excited for the weekend I have so many plans #weekendvibes #excited #plans  I need to stop eating junk food but it's so good #junkfood #addiction #struggle  I wish I could be a professional dancer like that would be so cool #dancer #dreams #goals  I'm trying to be more active but I'm so lazy #active #lazy #struggle  I need a spa day to relax and de-stress #spaday #relax #needed  I wish I could travel the world and eat all the food #travel #foodie #dreams  I'm so addicted to coffee like I need it to survive #coffee #addict #cantlivewithout  I'm trying to learn a new language but it's so hard #languagelearning #struggle #trying  I need to stop spending so much money on makeup #makeupaddict #broke #help  I'm so grateful for my friends and family they're my support system #grateful #friends #family  I'm trying to eat healthier but pizza is calling my name #healthyfood #pizza #struggle  I wish I could just sleep all day and do nothing #sleep #lazy #dream  I'm so excited for the weekend I have plans to go out with friends #weekendvibes #friends #excited  I'm trying to be more positive but it's hard sometimes #positivevibes #struggle #keeptrying  I need to stop procrastinating and actually get some work done #procrastination #adulting #fail  I'm so tired of being an adult I want to go back to being a kid #adulting #childhood #missyou\"])\n"
   ]
  },
  {
   "cell_type": "code",
   "execution_count": 494,
   "metadata": {},
   "outputs": [],
   "source": [
    "tweets.extend([\"This Monday morning hit different like send help #mondaymood #tired #adultingisdumb  I wish I could just teleport to the beach and forget about everything #beachlife #dreaming #vacationmode  I'm so hungry I could eat a whole pizza by myself rn #hangry #pizza #foodcoma  This bed is calling my name but I have to be productive #bedlife #adulting #struggle  I need a serious shopping spree to cheer myself up #shopping #retailtherapy #needed  I'm so addicted to my phone like it's a problem #phoneobsessed #addiction #help  I wish I could be one of those people who is naturally good at cooking #cooking #fail #jealous  I'm trying to eat healthier but chocolate is life #healthyfood #chocolate #struggle  I need a vacation so bad like I can't even anymore #vacation #dreambig #escape  I'm so over this cold weather I want summer back #coldweather #summerplease #bringbackthesun  I wish I could just win the lottery and never work again #lottery #dreams #rich  I'm trying to learn a new skill but I'm so bad at it #skills #fail #trying  I need to stop spending so much money on useless stuff #broke #shopaholic #help  I'm so grateful for my friends and family they're the best #grateful #friends #family  I'm trying to be more positive but it's hard sometimes #positivevibes #struggle #keeptrying  I need to stop procrastinating and actually do something productive #procrastination #adulting #fail  I'm so tired of being an adult I want to go back to being a kid #adulting #childhood #missyou  I wish I could just move to a tropical island and live there forever #tropicalisland #dreamlife #escape  I'm trying to be more adventurous but I'm such a scaredy-cat #adventurous #scaredycat #struggle\"])\n",
    "\n",
    "tweets.extend([\"I'm obsessed with this new show I'm watching like it's my whole life now #newshow #obsessed #bingewatching  I wish I could have a closet full of designer clothes but I'm broke #fashion #brokelife #sad  I'm so excited for the weekend I have so many plans #weekendvibes #excited #plans  I need to stop eating junk food but it's so good #junkfood #addiction #struggle  I wish I could be a professional dancer like that would be so cool #dancer #dreams #goals  I'm trying to be more active but I'm so lazy #active #lazy #struggle  I need a spa day to relax and de-stress #spaday #relax #needed  I wish I could travel the world and eat all the food #travel #foodie #dreams  I'm so addicted to coffee like I need it to survive #coffee #addict #cantlivewithout  I'm trying to learn a new language but it's so hard #languagelearning #struggle #trying  I need to stop spending so much money on makeup #makeupaddict #broke #help  I'm so grateful for my friends and family they're my support system #grateful #friends #family  I'm trying to eat healthier but pizza is calling my name #healthyfood #pizza #struggle  I wish I could just sleep all day and do nothing #sleep #lazy #dream  I'm so excited for the weekend I have plans to go out with friends #weekendvibes #friends #excited  I'm trying to be more positive but it's hard sometimes #positivevibes #struggle #keeptrying  I need to stop procrastinating and actually get some work done #procrastination #adulting #fail  I'm so tired of being an adult I want to go back to being a kid #adulting #childhood #missyou\"])\n"
   ]
  },
  {
   "cell_type": "code",
   "execution_count": 495,
   "metadata": {},
   "outputs": [],
   "source": [
    "tweets.extend([\"This Monday morning hit different like send help #mondaymood #tired #adultingisdumb  I wish I could just teleport to the beach and forget about everything #beachlife #dreaming #vacationmode  I'm so hungry I could eat a whole pizza by myself rn #hangry #pizza #foodcoma  This bed is calling my name but I have to be productive #bedlife #adulting #struggle  I need a serious shopping spree to cheer myself up #shopping #retailtherapy #needed  I'm so addicted to my phone like it's a problem #phoneobsessed #addiction #help  I wish I could be one of those people who is naturally good at cooking #cooking #fail #jealous  I'm trying to eat healthier but chocolate is life #healthyfood #chocolate #struggle  I need a vacation so bad like I can't even anymore #vacation #dreambig #escape  I'm so over this cold weather I want summer back #coldweather #summerplease #bringbackthesun  I wish I could just win the lottery and never work again #lottery #dreams #rich  I'm trying to learn a new skill but I'm so bad at it #skills #fail #trying  I need to stop spending so much money on useless stuff #broke #shopaholic #help  I'm so grateful for my friends and family they're the best #grateful #friends #family  I'm trying to be more positive but it's hard sometimes #positivevibes #struggle #keeptrying  I need to stop procrastinating and actually do something productive #procrastination #adulting #fail  I'm so tired of being an adult I want to go back to being a kid #adulting #childhood #missyou  I wish I could just move to a tropical island and live there forever #tropicalisland #dreamlife #escape  I'm trying to be more adventurous but I'm such a scaredy-cat #adventurous #scaredycat #struggle\"])\n",
    "\n",
    "tweets.extend([\"I'm obsessed with this new show I'm watching like it's my whole life now #newshow #obsessed #bingewatching  I wish I could have a closet full of designer clothes but I'm broke #fashion #brokelife #sad  I'm so excited for the weekend I have so many plans #weekendvibes #excited #plans  I need to stop eating junk food but it's so good #junkfood #addiction #struggle  I wish I could be a professional dancer like that would be so cool #dancer #dreams #goals  I'm trying to be more active but I'm so lazy #active #lazy #struggle  I need a spa day to relax and de-stress #spaday #relax #needed  I wish I could travel the world and eat all the food #travel #foodie #dreams  I'm so addicted to coffee like I need it to survive #coffee #addict #cantlivewithout  I'm trying to learn a new language but it's so hard #languagelearning #struggle #trying  I need to stop spending so much money on makeup #makeupaddict #broke #help  I'm so grateful for my friends and family they're my support system #grateful #friends #family  I'm trying to eat healthier but pizza is calling my name #healthyfood #pizza #struggle  I wish I could just sleep all day and do nothing #sleep #lazy #dream  I'm so excited for the weekend I have plans to go out with friends #weekendvibes #friends #excited  I'm trying to be more positive but it's hard sometimes #positivevibes #struggle #keeptrying  I need to stop procrastinating and actually get some work done #procrastination #adulting #fail  I'm so tired of being an adult I want to go back to being a kid #adulting #childhood #missyou\"])\n"
   ]
  },
  {
   "cell_type": "code",
   "execution_count": 496,
   "metadata": {},
   "outputs": [],
   "source": [
    "tweets.extend([\"This Monday morning hit different like send help #mondaymood #tired #adultingisdumb  I wish I could just teleport to the beach and forget about everything #beachlife #dreaming #vacationmode  I'm so hungry I could eat a whole pizza by myself rn #hangry #pizza #foodcoma  This bed is calling my name but I have to be productive #bedlife #adulting #struggle  I need a serious shopping spree to cheer myself up #shopping #retailtherapy #needed  I'm so addicted to my phone like it's a problem #phoneobsessed #addiction #help  I wish I could be one of those people who is naturally good at cooking #cooking #fail #jealous  I'm trying to eat healthier but chocolate is life #healthyfood #chocolate #struggle  I need a vacation so bad like I can't even anymore #vacation #dreambig #escape  I'm so over this cold weather I want summer back #coldweather #summerplease #bringbackthesun  I wish I could just win the lottery and never work again #lottery #dreams #rich  I'm trying to learn a new skill but I'm so bad at it #skills #fail #trying  I need to stop spending so much money on useless stuff #broke #shopaholic #help  I'm so grateful for my friends and family they're the best #grateful #friends #family  I'm trying to be more positive but it's hard sometimes #positivevibes #struggle #keeptrying  I need to stop procrastinating and actually do something productive #procrastination #adulting #fail  I'm so tired of being an adult I want to go back to being a kid #adulting #childhood #missyou  I wish I could just move to a tropical island and live there forever #tropicalisland #dreamlife #escape  I'm trying to be more adventurous but I'm such a scaredy-cat #adventurous #scaredycat #struggle\"])\n",
    "\n",
    "tweets.extend([\"I'm obsessed with this new show I'm watching like it's my whole life now #newshow #obsessed #bingewatching  I wish I could have a closet full of designer clothes but I'm broke #fashion #brokelife #sad  I'm so excited for the weekend I have so many plans #weekendvibes #excited #plans  I need to stop eating junk food but it's so good #junkfood #addiction #struggle  I wish I could be a professional dancer like that would be so cool #dancer #dreams #goals  I'm trying to be more active but I'm so lazy #active #lazy #struggle  I need a spa day to relax and de-stress #spaday #relax #needed  I wish I could travel the world and eat all the food #travel #foodie #dreams  I'm so addicted to coffee like I need it to survive #coffee #addict #cantlivewithout  I'm trying to learn a new language but it's so hard #languagelearning #struggle #trying  I need to stop spending so much money on makeup #makeupaddict #broke #help  I'm so grateful for my friends and family they're my support system #grateful #friends #family  I'm trying to eat healthier but pizza is calling my name #healthyfood #pizza #struggle  I wish I could just sleep all day and do nothing #sleep #lazy #dream  I'm so excited for the weekend I have plans to go out with friends #weekendvibes #friends #excited  I'm trying to be more positive but it's hard sometimes #positivevibes #struggle #keeptrying  I need to stop procrastinating and actually get some work done #procrastination #adulting #fail  I'm so tired of being an adult I want to go back to being a kid #adulting #childhood #missyou\"])\n"
   ]
  },
  {
   "cell_type": "code",
   "execution_count": 497,
   "metadata": {},
   "outputs": [],
   "source": [
    "tweets.extend([\"Ugh, this Monday morning hit different like send help #mondaymood #tired #adultingisdumb  I wish I could just teleport to the beach and forget about everything #beachlife #dreaming #vacationmode  I'm so hungry I could eat a whole pizza by myself rn #hangry #pizza #foodcoma  This bed is calling my name but I have to be productive #bedlife #adulting #struggle  I need a serious shopping spree to cheer myself up #shopping #retailtherapy #needed  I'm so addicted to my phone like it's a problem #phoneobsessed #addiction #help  I wish I could be one of those people who is naturally good at cooking #cooking #fail #jealous  I'm trying to eat healthier but chocolate is life #healthyfood #chocolate #struggle  I need a vacation so bad like I can't even anymore #vacation #dreambig #escape  I'm so over this cold weather I want summer back #coldweather #summerplease #bringbackthesun  I wish I could just win the lottery and never work again #lottery #dreams #rich  I'm trying to learn a new skill but I'm so bad at it #skills #fail #trying  I need to stop spending so much money on useless stuff #broke #shopaholic #help  I'm so grateful for my friends and family they're the best #grateful #friends #family  I'm trying to be more positive but it's hard sometimes #positivevibes #struggle #keeptrying  I need to stop procrastinating and actually do something productive #procrastination #adulting #fail  I'm so tired of being an adult I want to go back to being a kid #adulting #childhood #missyou  I wish I could just move to a tropical island and live there forever #tropicalisland #dreamlife #escape  I'm trying to be more adventurous but I'm such a scaredy-cat #adventurous #scaredycat #struggle\"])\n",
    "\n",
    "tweets.extend([\"I'm obsessed with this new show I'm watching like it's my whole life now #newshow #obsessed #bingewatching  I wish I could have a closet full of designer clothes but I'm broke #fashion #brokelife #sad  I'm so excited for the weekend I have so many plans #weekendvibes #excited #plans  I need to stop eating junk food but it's so good #junkfood #addiction #struggle  I wish I could be a professional dancer like that would be so cool #dancer #dreams #goals  I'm trying to be more active but I'm so lazy #active #lazy #struggle  I need a spa day to relax and de-stress #spaday #relax #needed  I wish I could travel the world and eat all the food #travel #foodie #dreams  I'm so addicted to coffee like I need it to survive #coffee #addict #cantlivewithout  I'm trying to learn a new language but it's so hard #languagelearning #struggle #trying  I need to stop spending so much money on makeup #makeupaddict #broke #help  I'm so grateful for my friends and family they're my support system #grateful #friends #family  I'm trying to eat healthier but pizza is calling my name #healthyfood #pizza #struggle  I wish I could just sleep all day and do nothing #sleep #lazy #dream  I'm so excited for the weekend I have plans to go out with friends #weekendvibes #friends #excited  I'm trying to be more positive but it's hard sometimes #positivevibes #struggle #keeptrying  I need to stop procrastinating and actually get some work done #procrastination #adulting #fail  I'm so tired of being an adult I want to go back to being a kid #adulting #childhood #missyou\"])\n"
   ]
  },
  {
   "cell_type": "code",
   "execution_count": 498,
   "metadata": {},
   "outputs": [
    {
     "data": {
      "text/plain": [
       "51"
      ]
     },
     "execution_count": 498,
     "metadata": {},
     "output_type": "execute_result"
    }
   ],
   "source": [
    "len(tweets)"
   ]
  },
  {
   "cell_type": "markdown",
   "metadata": {},
   "source": [
    "## 25-34"
   ]
  },
  {
   "cell_type": "markdown",
   "metadata": {},
   "source": [
    "https://gemini.google.com/u/2/app/9f542e5f017772e2"
   ]
  },
  {
   "cell_type": "code",
   "execution_count": 499,
   "metadata": {},
   "outputs": [],
   "source": [
    "tweets =[\"This is so dumb but like, I'm actually obsessed with this new show  #bingewatching #newobsession Can't stop won't stop  Anyone else feeling this way?  Ugh, Monday mornings are the worst  Coffee is my lifeblood right now  Need to find a new hobby  Any suggestions?  So excited for the weekend!  Plans?  Hit me up  This weather is everything  Summer vibes  Beach days  Anyone else loving this heat?  Just had the best dinner  Food coma activated  Need to hit the gym tomorrow  Motivation anyone?  Currently debating whether to order takeout or cook  Decisions, decisions  Netflix and chill tonight  Anyone wanna join?  This bed is calling my name  Goodnight world  Dreams of food and travel  #wishlist  Feeling grateful for this beautiful life  #blessed\"]\n"
   ]
  },
  {
   "cell_type": "code",
   "execution_count": 500,
   "metadata": {},
   "outputs": [],
   "source": [
    "tweets.extend([\"Can't believe it's already Friday!  Weekend plans?  Need recommendations  Anyone else struggling with adulting today?  Send help  This coffee is the only thing keeping me sane  Currently debating whether to order takeout or cook again  Ugh, decision fatigue is real  Netflix or a good book?  Decisions, decisions  This weather is everything  Sunshine and good vibes only  Need a vacation ASAP  Beach days are my therapy  Anyone else obsessed with true crime podcasts?  Recommendations please  Just finished a really good book  Bookworm life  Anyone else love plants?  Share your plant care tips  This bed is calling my name  Goodnight world  Dreaming of tacos and margaritas  #adultingishard  Feeling grateful for this beautiful day  #blessed\"])\n",
    "\n",
    "tweets.extend([\"So tired but can't sleep  Adulting is exhausting  Anyone else feel like they're always busy but never accomplishing anything?  Need a life coach  This coffee is my lifeline  Currently debating whether to hit the gym or order pizza  Send help  Ugh, Monday mornings are the worst  Weekend, please come back  Need to find a new hobby  Any suggestions?  Obsessed with this new song  Can't stop listening  This weather is making me crave ice cream  Summer nights  Good vibes only  Anyone else love binge-watching shows?  Recommendations please  Just ordered takeout  Food coma incoming  Need to meal prep for the week  Motivation anyone?  This bed is so comfy  Goodnight world  Dreaming of traveling  #wanderlust  Feeling grateful for my amazing friends  #blessed\"])\n"
   ]
  },
  {
   "cell_type": "code",
   "execution_count": 501,
   "metadata": {},
   "outputs": [],
   "source": [
    "tweets.extend([\"Can't believe it's Monday already  Weekend, where'd you go?  Need more coffee to survive this day  Anyone else feeling this way?  Ugh, adulting is hard  Send help  This weather is so depressing  Sunshine, please come back  Currently debating whether to order takeout or cook  Decisions, decisions  Netflix and chill tonight  Anyone wanna join?  Need a new skincare routine  Any recommendations?  Just bought a new plant  Hoping it survives  This bed is so comfy  Goodnight world  Dreaming of traveling to Europe  #wanderlust  Feeling grateful for my amazing friends  #blessed\"])\n",
    "\n",
    "tweets.extend([\"So excited for the weekend!  Plans?  Hit me up  This weather is everything  Summer vibes  Beach days  Anyone else obsessed with true crime podcasts?  Recommendations please  Just finished a really good book  Bookworm life  Need to hit the gym tomorrow  Motivation anyone?  Currently craving sushi  Food coma incoming  Netflix or a good book?  Decisions, decisions  This bed is calling my name  Goodnight world  Dreaming of winning the lottery  #daydreaming  Feeling grateful for this beautiful life  #blessed\"])\n"
   ]
  },
  {
   "cell_type": "code",
   "execution_count": 502,
   "metadata": {},
   "outputs": [],
   "source": [
    "tweets.extend([\"Ugh, Monday mornings are the worst  Coffee is my lifeblood  Need a weekend do-over  Anyone else feeling this way?  This weather is so depressing  Sunshine, please come back  Currently debating whether to order takeout or cook healthy  Decisions, decisions  Netflix or a good book?  Send help  Need a new hobby  Any suggestions?  Just bought a new plant  Hoping it survives  This bed is calling my name  Goodnight world  Dreaming of traveling to Japan  #wanderlust  Feeling grateful for this cozy night in  #blessed\"])\n",
    "\n",
    "tweets.extend([\"So excited for Friday!  Weekend plans?  Hit me up  This weather is everything  Summer vibes  Beach days  Anyone else obsessed with true crime podcasts?  Recommendations please  Just finished a really good book  Bookworm life  Need to hit the gym tomorrow  Motivation anyone?  Currently craving pizza  Food coma incoming  Netflix and chill tonight  Anyone wanna join?  Need a new skincare routine  Any recommendations?  This bed is so comfy  Goodnight world  Dreaming of winning the lottery  #daydreaming  Feeling grateful for my amazing friends  #blessed\"])\n"
   ]
  },
  {
   "cell_type": "code",
   "execution_count": 503,
   "metadata": {},
   "outputs": [],
   "source": [
    "tweets.extend([\"Can't believe it's already Wednesday  Feeling unproductive  Need a serious pick-me-up  Anyone else struggling?  This weather is so unpredictable  Can't decide what to wear  Currently debating whether to order takeout or cook something healthy  Decisions, decisions  Netflix or a good book?  Send help  Need a new skincare routine  Any recommendations?  Just bought a new plant  Hoping it survives  This bed is calling my name  Goodnight world  Dreaming of a tropical vacation  #wanderlust  Feeling grateful for my warm blanket  #cozy\"])\n",
    "\n",
    "tweets.extend([\"So excited for the weekend!  Plans?  Hit me up  This weather is perfect for outdoor activities  Sunshine and good vibes  Anyone else obsessed with true crime podcasts?  Recommendations please  Just finished a really good book  Bookworm life  Need to hit the gym tomorrow  Motivation anyone?  Currently craving sushi  Food coma incoming  Netflix and chill tonight  Anyone wanna join?  Need a new outfit  Any suggestions?  This bed is so comfy  Goodnight world  Dreaming of winning the lottery  #daydreaming  Feeling grateful for my amazing friends  #blessed\"])\n"
   ]
  },
  {
   "cell_type": "code",
   "execution_count": 504,
   "metadata": {},
   "outputs": [],
   "source": [
    "tweets.extend([\"Ugh, Monday blues are real  Coffee is my only friend right now  Need a serious pick-me-up  Anyone else feeling this way?  This weather is so unpredictable  Can't decide what to wear  Currently debating whether to order takeout or cook something healthy  Decisions, decisions  Netflix or a good book?  Send help  Need a new hobby  Any suggestions?  Just bought a new plant  Hoping it survives  This bed is calling my name  Goodnight world  Dreaming of a tropical vacation  #wanderlust  Feeling grateful for this cozy night in  #blessed\"])\n",
    "\n",
    "tweets.extend([\"So excited for the weekend!  Plans?  Hit me up  This weather is perfect for outdoor activities  Sunshine and good vibes  Anyone else obsessed with true crime podcasts?  Recommendations please  Just finished a really good book  Bookworm life  Need to hit the gym tomorrow  Motivation anyone?  Currently craving sushi  Food coma incoming  Netflix and chill tonight  Anyone wanna join?  Need a new outfit  Any suggestions?  This bed is so comfy  Goodnight world  Dreaming of winning the lottery  #daydreaming  Feeling grateful for my amazing friends  #blessed\"])\n"
   ]
  },
  {
   "cell_type": "code",
   "execution_count": 505,
   "metadata": {},
   "outputs": [],
   "source": [
    "tweets.extend([\"Can't believe it's already Wednesday  Feeling unproductive  Need a serious pick-me-up  Anyone else struggling?  This weather is so unpredictable  Can't decide what to wear  Currently debating whether to order takeout or cook something healthy  Decisions, decisions  Netflix or a good book?  Send help  Need a new hobby  Any suggestions?  Just bought a new plant  Hoping it survives  This bed is calling my name  Goodnight world  Dreaming of a tropical vacation  #wanderlust  Feeling grateful for this cozy night in  #blessed\"])\n",
    "\n",
    "tweets.extend([\"So excited for the weekend!  Plans?  Hit me up  This weather is perfect for outdoor activities  Sunshine and good vibes  Anyone else obsessed with true crime podcasts?  Recommendations please  Just finished a really good book  Bookworm life  Need to hit the gym tomorrow  Motivation anyone?  Currently craving sushi  Food coma incoming  Netflix and chill tonight  Anyone wanna join?  Need a new outfit  Any suggestions?  This bed is so comfy  Goodnight world  Dreaming of winning the lottery  #daydreaming  Feeling grateful for my amazing friends  #blessed\"])\n"
   ]
  },
  {
   "cell_type": "code",
   "execution_count": 506,
   "metadata": {},
   "outputs": [],
   "source": [
    "tweets.extend([\"Ugh, Monday mornings are the worst  Coffee is my lifeblood  Need a weekend do-over  Anyone else feeling this way?  This weather is so depressing  Sunshine, please come back  Currently debating whether to order takeout or cook something healthy  Decisions, decisions  Netflix or a good book?  Send help  Need a new hobby  Any suggestions?  Just bought a new plant  Hoping it survives  This bed is calling my name  Goodnight world  Dreaming of a tropical vacation  #wanderlust  Feeling grateful for this cozy night in  #blessed\"])\n",
    "\n",
    "tweets.extend([\"So excited for the weekend!  Plans?  Hit me up  This weather is perfect for outdoor activities  Sunshine and good vibes  Anyone else obsessed with true crime podcasts?  Recommendations please  Just finished a really good book  Bookworm life  Need to hit the gym tomorrow  Motivation anyone?  Currently craving sushi  Food coma incoming  Netflix and chill tonight  Anyone wanna join?  Need a new outfit  Any suggestions?  This bed is so comfy  Goodnight world  Dreaming of winning the lottery  #daydreaming  Feeling grateful for my amazing friends  #blessed\"])\n"
   ]
  },
  {
   "cell_type": "code",
   "execution_count": 507,
   "metadata": {},
   "outputs": [],
   "source": [
    "tweets.extend([\"Can't believe it's already Wednesday  Feeling unproductive  Need a serious pick-me-up  Anyone else struggling?  This weather is so unpredictable  Can't decide what to wear  Currently debating whether to order takeout or cook something healthy  Decisions, decisions  Netflix or a good book?  Send help  Need a new hobby  Any suggestions?  Just bought a new plant  Hoping it survives  This bed is calling my name  Goodnight world  Dreaming of a tropical vacation  #wanderlust  Feeling grateful for this cozy night in  #blessed\"])\n",
    "\n",
    "tweets.extend([\"So excited for the weekend!  Plans?  Hit me up  This weather is perfect for outdoor activities  Sunshine and good vibes  Anyone else obsessed with true crime podcasts?  Recommendations please  Just finished a really good book  Bookworm life  Need to hit the gym tomorrow  Motivation anyone?  Currently craving sushi  Food coma incoming  Netflix and chill tonight  Anyone wanna join?  Need a new outfit  Any suggestions?  This bed is so comfy  Goodnight world  Dreaming of winning the lottery  #daydreaming  Feeling grateful for my amazing friends  #blessed\"])\n"
   ]
  },
  {
   "cell_type": "code",
   "execution_count": 508,
   "metadata": {},
   "outputs": [],
   "source": [
    "tweets.extend([\"Ugh, Monday blues are hitting hard  Coffee and a good playlist are my saviors  Need to find a new hobby  Any suggestions?  This weather is so unpredictable  Can't decide what to wear  Currently debating whether to order takeout or cook something healthy  Decisions, decisions  Netflix or a good book?  Send help  Need a new skincare routine  Any recommendations?  Just bought a new plant  Hoping it survives  This bed is calling my name  Goodnight world  Dreaming of a tropical vacation  #wanderlust  Feeling grateful for this cozy night in  #blessed\"])\n",
    "\n",
    "tweets.extend([\"So excited for the weekend!  Plans?  Hit me up  This weather is perfect for outdoor activities  Sunshine and good vibes  Anyone else obsessed with true crime podcasts?  Recommendations please  Just finished a really good book  Bookworm life  Need to hit the gym tomorrow  Motivation anyone?  Currently craving sushi  Food coma incoming  Netflix and chill tonight  Anyone wanna join?  Need a new outfit  Any suggestions?  This bed is so comfy  Goodnight world  Dreaming of winning the lottery  #daydreaming  Feeling grateful for my amazing friends  #blessed\"])\n"
   ]
  },
  {
   "cell_type": "code",
   "execution_count": 509,
   "metadata": {},
   "outputs": [],
   "source": [
    "tweets.extend([\"Can't believe it's already Wednesday  Feeling unproductive  Need a serious pick-me-up  Anyone else struggling?  This weather is so unpredictable  Can't decide what to wear  Currently debating whether to order takeout or cook something healthy  Decisions, decisions  Netflix or a good book?  Send help  Need a new hobby  Any suggestions?  Just bought a new plant  Hoping it survives  This bed is calling my name  Goodnight world  Dreaming of a tropical vacation  #wanderlust  Feeling grateful for this cozy night in  #blessed\"])\n",
    "\n",
    "tweets.extend([\"So excited for the weekend!  Plans?  Hit me up  This weather is perfect for outdoor activities  Sunshine and good vibes  Anyone else obsessed with true crime podcasts?  Recommendations please  Just finished a really good book  Bookworm life  Need to hit the gym tomorrow  Motivation anyone?  Currently craving sushi  Food coma incoming  Netflix and chill tonight  Anyone wanna join?  Need a new outfit  Any suggestions?  This bed is so comfy  Goodnight world  Dreaming of winning the lottery  #daydreaming  Feeling grateful for my amazing friends  #blessed\"])\n"
   ]
  },
  {
   "cell_type": "code",
   "execution_count": 510,
   "metadata": {},
   "outputs": [],
   "source": [
    "tweets.extend([\"Can't believe it's Monday already  Dragging myself out of bed  Need more coffee to survive  Anyone else feeling this way?  This weather is so depressing  Sunshine, please come back  Currently debating whether to order takeout or cook something healthy  Decisions, decisions  Netflix or a good book?  Send help  Need a new hobby  Any suggestions?  Just bought a new plant  Hoping it survives  This bed is calling my name  Goodnight world  Dreaming of a tropical vacation  #wanderlust  Feeling grateful for this cozy night in  #blessed\"])\n",
    "\n",
    "tweets.extend([\"So excited for the weekend!  Plans?  Hit me up  This weather is perfect for outdoor activities  Sunshine and good vibes  Anyone else obsessed with true crime podcasts?  Recommendations please  Just finished a really good book  Bookworm life  Need to hit the gym tomorrow  Motivation anyone?  Currently craving sushi  Food coma incoming  Netflix and chill tonight  Anyone wanna join?  Need a new outfit  Any suggestions?  This bed is so comfy  Goodnight world  Dreaming of winning the lottery  #daydreaming  Feeling grateful for my amazing friends  #blessed\"])\n"
   ]
  },
  {
   "cell_type": "code",
   "execution_count": 511,
   "metadata": {},
   "outputs": [],
   "source": [
    "tweets.extend([\"Ugh, Monday blues are hitting hard  Coffee and a good playlist are my saviors  Need to find a new hobby  Any suggestions?  This weather is so unpredictable  Can't decide what to wear  Currently debating whether to order takeout or cook something healthy  Decisions, decisions  Netflix or a good book?  Send help  Need a new skincare routine  Any recommendations?  Just bought a new plant  Hoping it survives  This bed is calling my name  Goodnight world  Dreaming of a tropical vacation  #wanderlust  Feeling grateful for this cozy night in  #blessed\"])\n",
    "\n",
    "tweets.extend([\"So excited for the weekend!  Plans?  Hit me up  This weather is perfect for outdoor activities  Sunshine and good vibes  Anyone else obsessed with true crime podcasts?  Recommendations please  Just finished a really good book  Bookworm life  Need to hit the gym tomorrow  Motivation anyone?  Currently craving sushi  Food coma incoming  Netflix and chill tonight  Anyone wanna join?  Need a new outfit  Any suggestions?  This bed is so comfy  Goodnight world  Dreaming of winning the lottery  #daydreaming  Feeling grateful for my amazing friends  #blessed\"])\n"
   ]
  },
  {
   "cell_type": "code",
   "execution_count": 512,
   "metadata": {},
   "outputs": [],
   "source": [
    "tweets.extend([\"Can't believe it's Monday already  Dragging myself out of bed  Need more coffee to survive  Anyone else feeling this way?  This weather is so depressing  Sunshine, please come back  Currently debating whether to order takeout or cook something healthy  Decisions, decisions  Netflix or a good book?  Send help  Need a new hobby  Any suggestions?  Just bought a new plant  Hoping it survives  This bed is calling my name  Goodnight world  Dreaming of a tropical vacation  #wanderlust  Feeling grateful for this cozy night in  #blessed\"])\n",
    "\n",
    "tweets.extend([\"So tired but can't sleep  Adulting is exhausting  Anyone else feel like they're always busy but never accomplishing anything?  Need a life coach  This coffee is my lifeline  Currently debating whether to hit the gym or order pizza  Send help  Ugh, Monday mornings are the worst  Weekend, please come back  Need to find a new hobby  Any suggestions?  Obsessed with this new song  Can't stop listening  This weather is making me crave ice cream  Summer nights  Good vibes only  Anyone else love binge-watching shows?  Recommendations please  Just ordered takeout  Food coma incoming  Need to meal prep for the week  Motivation anyone?  This bed is so comfy  Goodnight world  Dreaming of traveling  #wanderlust  Feeling grateful for my amazing friends  #blessed\"])\n",
    "\n",
    "tweets.extend([\"Can't believe it's already Friday!  Weekend plans?  Need recommendations  Anyone else struggling with adulting today?  Send help  This coffee is the only thing keeping me sane  Currently debating whether to order takeout or cook again  Ugh, decision fatigue is real  Netflix or a good book?  Decisions, decisions  This weather is everything  Sunshine and good vibes only  Need a vacation ASAP  Beach days are my therapy  Anyone else obsessed with true crime podcasts?  Recommendations please  Just finished a really good book  Bookworm life  Anyone else love plants?  Share your plant care tips  This bed is calling my name  Goodnight world  Dreaming of tacos and margaritas  #adultingishard  Feeling grateful for this beautiful day  #blessed\"])\n"
   ]
  },
  {
   "cell_type": "code",
   "execution_count": 513,
   "metadata": {},
   "outputs": [],
   "source": [
    "tweets.extend([\"Can't believe it's Monday already  Dragging myself out of bed  Need more coffee to survive  Anyone else feeling this way?  This weather is so depressing  Sunshine, please come back  Currently debating whether to order takeout or cook something healthy  Decisions, decisions  Netflix or a good book?  Send help  Need a new hobby  Any suggestions?  Just bought a new plant  Hoping it survives  This bed is calling my name  Goodnight world  Dreaming of a tropical vacation  #wanderlust  Feeling grateful for this cozy night in  #blessed\"])\n",
    "\n",
    "tweets.extend([\"So excited for the weekend!  Plans?  Hit me up  This weather is perfect for outdoor activities  Sunshine and good vibes  Anyone else obsessed with true crime podcasts?  Recommendations please  Just finished a really good book  Bookworm life  Need to hit the gym tomorrow  Motivation anyone?  Currently craving sushi  Food coma incoming  Netflix and chill tonight  Anyone wanna join?  Need a new outfit  Any suggestions?  This bed is so comfy  Goodnight world  Dreaming of winning the lottery  #daydreaming  Feeling grateful for my amazing friends  #blessed\"])\n"
   ]
  },
  {
   "cell_type": "code",
   "execution_count": 514,
   "metadata": {},
   "outputs": [],
   "source": [
    "tweets.extend([\"Can't believe it's Monday again  Need more coffee to function  This weather is so depressing  Sunshine, please come back  Currently debating whether to order takeout or cook something healthy  Decisions, decisions  Netflix or a good book?  Send help  Need a new hobby  Any suggestions?  Just bought a new plant  Hoping it survives  This bed is calling my name  Goodnight world  Dreaming of a tropical vacation  #wanderlust  Feeling grateful for this cozy night in  #blessed\"])\n",
    "\n",
    "tweets.extend([\"So excited for the weekend!  Plans?  Hit me up  This weather is perfect for outdoor activities  Sunshine and good vibes  Anyone else obsessed with true crime podcasts?  Recommendations please  Just finished a really good book  Bookworm life  Need to hit the gym tomorrow  Motivation anyone?  Currently craving sushi  Food coma incoming  Netflix and chill tonight  Anyone wanna join?  Need a new outfit  Any suggestions?  This bed is so comfy  Goodnight world  Dreaming of winning the lottery  #daydreaming  Feeling grateful for my amazing friends  #blessed\"])\n"
   ]
  },
  {
   "cell_type": "code",
   "execution_count": 515,
   "metadata": {},
   "outputs": [],
   "source": [
    "tweets.extend([\"Can't believe it's Monday already  Dragging myself out of bed  Need more coffee to survive  Anyone else feeling this way?  This weather is so depressing  Sunshine, please come back  Currently debating whether to order takeout or cook something healthy  Decisions, decisions  Netflix or a good book?  Send help  Need a new hobby  Any suggestions?  Just bought a new plant  Hoping it survives  This bed is calling my name  Goodnight world  Dreaming of a tropical vacation  #wanderlust  Feeling grateful for this cozy night in  #blessed\"])\n"
   ]
  },
  {
   "cell_type": "code",
   "execution_count": 516,
   "metadata": {},
   "outputs": [],
   "source": [
    "tweets.extend([\"Ugh, Monday mornings are the worst  Coffee is my lifeblood  Need a weekend do-over  Anyone else feeling this way?  This weather is so depressing  Sunshine, please come back  Currently debating whether to order takeout or cook something healthy  Decisions, decisions  Netflix or a good book?  Send help  Need a new hobby  Any suggestions?  Just bought a new plant  Hoping it survives  This bed is calling my name  Goodnight world  Dreaming of a tropical vacation  #wanderlust  Feeling grateful for this cozy night in  #blessed\"])\n",
    "\n",
    "tweets.extend([\"So excited for the weekend!  Plans?  Hit me up  This weather is perfect for outdoor activities  Sunshine and good vibes  Anyone else obsessed with true crime podcasts?  Recommendations please  Just finished a really good book  Bookworm life  Need to hit the gym tomorrow  Motivation anyone?  Currently craving sushi  Food coma incoming  Netflix and chill tonight  Anyone wanna join?  Need a new outfit  Any suggestions?  This bed is so comfy  Goodnight world  Dreaming of winning the lottery  #daydreaming  Feeling grateful for my amazing friends  #blessed\"])\n"
   ]
  },
  {
   "cell_type": "code",
   "execution_count": 517,
   "metadata": {},
   "outputs": [],
   "source": [
    "tweets.extend([\"Can't believe it's Monday already  Dragging myself out of bed  Need more coffee to survive  Anyone else feeling this way?  This weather is so depressing  Sunshine, please come back  Currently debating whether to order takeout or cook something healthy  Decisions, decisions  Netflix or a good book?  Send help  Need a new hobby  Any suggestions?  Just bought a new plant  Hoping it survives  This bed is calling my name  Goodnight world  Dreaming of a tropical vacation  #wanderlust  Feeling grateful for this cozy night in  #blessed\"])\n",
    "\n",
    "tweets.extend([\"So excited for the weekend!  Plans?  Hit me up  This weather is perfect for outdoor activities  Sunshine and good vibes  Anyone else obsessed with true crime podcasts?  Recommendations please  Just finished a really good book  Bookworm life  Need to hit the gym tomorrow  Motivation anyone?  Currently craving sushi  Food coma incoming  Netflix and chill tonight  Anyone wanna join?  Need a new outfit  Any suggestions?  This bed is so comfy  Goodnight world  Dreaming of winning the lottery  #daydreaming  Feeling grateful for my amazing friends  #blessed\"])\n"
   ]
  },
  {
   "cell_type": "code",
   "execution_count": 518,
   "metadata": {},
   "outputs": [],
   "source": [
    "tweets.extend([\"Ugh, Monday blues are hitting hard  Need more coffee to function  This weather is so depressing  Sunshine, please come back  Currently debating whether to order takeout or cook something healthy  Decisions, decisions  Netflix or a good book?  Send help  Need a new hobby  Any suggestions?  Just bought a new plant  Hoping it survives  This bed is calling my name  Goodnight world  Dreaming of a tropical vacation  #wanderlust  Feeling grateful for this cozy night in  #blessed\"])\n",
    "\n",
    "tweets.extend([\"So excited for the weekend!  Plans?  Hit me up  This weather is perfect for outdoor activities  Sunshine and good vibes  Anyone else obsessed with true crime podcasts?  Recommendations please  Just finished a really good book  Bookworm life  Need to hit the gym tomorrow  Motivation anyone?  Currently craving sushi  Food coma incoming  Netflix and chill tonight  Anyone wanna join?  Need a new outfit  Any suggestions?  This bed is so comfy  Goodnight world  Dreaming of winning the lottery  #daydreaming  Feeling grateful for my amazing friends  #blessed\"])\n"
   ]
  },
  {
   "cell_type": "code",
   "execution_count": 519,
   "metadata": {},
   "outputs": [],
   "source": [
    "tweets.extend([\"Can't believe it's Monday already  Dragging myself out of bed  Need more coffee to survive  Anyone else feeling this way?  This weather is so depressing  Sunshine, please come back  Currently debating whether to order takeout or cook something healthy  Decisions, decisions  Netflix or a good book?  Send help  Need a new hobby  Any suggestions?  Just bought a new plant  Hoping it survives  This bed is calling my name  Goodnight world  Dreaming of a tropical vacation  #wanderlust  Feeling grateful for this cozy night in  #blessed\"])\n",
    "\n",
    "tweets.extend([\"So excited for the weekend!  Plans?  Hit me up  This weather is perfect for outdoor activities  Sunshine and good vibes  Anyone else obsessed with true crime podcasts?  Recommendations please  Just finished a really good book  Bookworm life  Need to hit the gym tomorrow  Motivation anyone?  Currently craving sushi  Food coma incoming  Netflix and chill tonight  Anyone wanna join?  Need a new outfit  Any suggestions?  This bed is so comfy  Goodnight world  Dreaming of winning the lottery  #daydreaming  Feeling grateful for my amazing friends  #blessed\"])\n"
   ]
  },
  {
   "cell_type": "code",
   "execution_count": 520,
   "metadata": {},
   "outputs": [],
   "source": [
    "tweets.extend([\"Ugh, Monday blues are hitting hard  Need more coffee to function  This weather is so depressing  Sunshine, please come back  Currently debating whether to order takeout or cook something healthy  Decisions, decisions  Netflix or a good book?  Send help  Need a new hobby  Any suggestions?  Just bought a new plant  Hoping it survives  This bed is calling my name  Goodnight world  Dreaming of a tropical vacation  #wanderlust  Feeling grateful for this cozy night in  #blessed\"])\n",
    "\n",
    "tweets.extend([\"So excited for the weekend!  Plans?  Hit me up  This weather is perfect for outdoor activities  Sunshine and good vibes  Anyone else obsessed with true crime podcasts?  Recommendations please  Just finished a really good book  Bookworm life  Need to hit the gym tomorrow  Motivation anyone?  Currently craving sushi  Food coma incoming  Netflix and chill tonight  Anyone wanna join?  Need a new outfit  Any suggestions?  This bed is so comfy  Goodnight world  Dreaming of winning the lottery  #daydreaming  Feeling grateful for my amazing friends  #blessed\"])\n"
   ]
  },
  {
   "cell_type": "code",
   "execution_count": 521,
   "metadata": {},
   "outputs": [],
   "source": [
    "tweets.extend([\"Can't believe it's Monday already  Dragging myself out of bed  Need more coffee to survive  Anyone else feeling this way?  This weather is so depressing  Sunshine, please come back  Currently debating whether to order takeout or cook something healthy  Decisions, decisions  Netflix or a good book?  Send help  Need a new hobby  Any suggestions?  Just bought a new plant  Hoping it survives  This bed is calling my name  Goodnight world  Dreaming of a tropical vacation  #wanderlust  Feeling grateful for this cozy night in  #blessed\"])\n",
    "\n",
    "tweets.extend([\"So excited for the weekend!  Plans?  Hit me up  This weather is perfect for outdoor activities  Sunshine and good vibes  Anyone else obsessed with true crime podcasts?  Recommendations please  Just finished a really good book  Bookworm life  Need to hit the gym tomorrow  Motivation anyone?  Currently craving sushi  Food coma incoming  Netflix and chill tonight  Anyone wanna join?  Need a new outfit  Any suggestions?  This bed is so comfy  Goodnight world  Dreaming of winning the lottery  #daydreaming  Feeling grateful for my amazing friends  #blessed\"])\n"
   ]
  },
  {
   "cell_type": "code",
   "execution_count": 522,
   "metadata": {},
   "outputs": [],
   "source": [
    "tweets.extend([\"Ugh, Monday blues are hitting hard  Need more coffee to function  This weather is so depressing  Sunshine, please come back  Currently debating whether to order takeout or cook something healthy  Decisions, decisions  Netflix or a good book?  Send help  Need a new hobby  Any suggestions?  Just bought a new plant  Hoping it survives  This bed is calling my name  Goodnight world  Dreaming of a tropical vacation  #wanderlust  Feeling grateful for this cozy night in  #blessed\"])\n",
    "\n",
    "tweets.extend([\"So excited for the weekend!  Plans?  Hit me up  This weather is perfect for outdoor activities  Sunshine and good vibes  Anyone else obsessed with true crime podcasts?  Recommendations please  Just finished a really good book  Bookworm life  Need to hit the gym tomorrow  Motivation anyone?  Currently craving sushi  Food coma incoming  Netflix and chill tonight  Anyone wanna join?  Need a new outfit  Any suggestions?  This bed is so comfy  Goodnight world  Dreaming of winning the lottery  #daydreaming  Feeling grateful for my amazing friends  #blessed\"])\n"
   ]
  },
  {
   "cell_type": "code",
   "execution_count": 523,
   "metadata": {},
   "outputs": [],
   "source": [
    "tweets.extend([\"Can't believe it's Monday already  Dragging myself out of bed  Need more coffee to survive  Anyone else feeling this way?  This weather is so depressing  Sunshine, please come back  Currently debating whether to order takeout or cook something healthy  Decisions, decisions  Netflix or a good book?  Send help  Need a new hobby  Any suggestions?  Just bought a new plant  Hoping it survives  This bed is calling my name  Goodnight world  Dreaming of a tropical vacation  #wanderlust  Feeling grateful for this cozy night in  #blessed\"])\n",
    "\n",
    "tweets.extend([\"So excited for the weekend!  Plans?  Hit me up  This weather is perfect for outdoor activities  Sunshine and good vibes  Anyone else obsessed with true crime podcasts?  Recommendations please  Just finished a really good book  Bookworm life  Need to hit the gym tomorrow  Motivation anyone?  Currently craving sushi  Food coma incoming  Netflix and chill tonight  Anyone wanna join?  Need a new outfit  Any suggestions?  This bed is so comfy  Goodnight world  Dreaming of winning the lottery  #daydreaming  Feeling grateful for my amazing friends  #blessed\"])\n"
   ]
  },
  {
   "cell_type": "code",
   "execution_count": 524,
   "metadata": {},
   "outputs": [],
   "source": [
    "tweets.extend([\"Ugh, Monday blues are hitting hard  Need more coffee to function  This weather is so depressing  Sunshine, please come back  Currently debating whether to order takeout or cook something healthy  Decisions, decisions  Netflix or a good book?  Send help  Need a new hobby  Any suggestions?  Just bought a new plant  Hoping it survives  This bed is calling my name  Goodnight world  Dreaming of a tropical vacation  #wanderlust  Feeling grateful for this cozy night in  #blessed\"])\n",
    "\n",
    "tweets.extend([\"So excited for the weekend!  Plans?  Hit me up  This weather is perfect for outdoor activities  Sunshine and good vibes  Anyone else obsessed with true crime podcasts?  Recommendations please  Just finished a really good book  Bookworm life  Need to hit the gym tomorrow  Motivation anyone?  Currently craving sushi  Food coma incoming  Netflix and chill tonight  Anyone wanna join?  Need a new outfit  Any suggestions?  This bed is so comfy  Goodnight world  Dreaming of winning the lottery  #daydreaming  Feeling grateful for my amazing friends  #blessed\"])\n"
   ]
  },
  {
   "cell_type": "code",
   "execution_count": 525,
   "metadata": {},
   "outputs": [],
   "source": [
    "tweets.extend([\"Can't believe it's Monday already  Dragging myself out of bed  Need more coffee to survive  Anyone else feeling this way?  This weather is so depressing  Sunshine, please come back  Currently debating whether to order takeout or cook something healthy  Decisions, decisions  Netflix or a good book?  Send help  Need a new hobby  Any suggestions?  Just bought a new plant  Hoping it survives  This bed is calling my name  Goodnight world  Dreaming of a tropical vacation  #wanderlust  Feeling grateful for this cozy night in  #blessed\"])\n",
    "\n",
    "tweets.extend([\"So excited for the weekend!  Plans?  Hit me up  This weather is perfect for outdoor activities  Sunshine and good vibes  Anyone else obsessed with true crime podcasts?  Recommendations please  Just finished a really good book  Bookworm life  Need to hit the gym tomorrow  Motivation anyone?  Currently craving sushi  Food coma incoming  Netflix and chill tonight  Anyone wanna join?  Need a new outfit  Any suggestions?  This bed is so comfy  Goodnight world  Dreaming of winning the lottery  #daydreaming  Feeling grateful for my amazing friends  #blessed\"])\n"
   ]
  },
  {
   "cell_type": "code",
   "execution_count": 526,
   "metadata": {},
   "outputs": [],
   "source": [
    "tweets.extend([\"Ugh, Monday blues are hitting hard  Need more coffee to function  This weather is so depressing  Sunshine, please come back  Currently debating whether to order takeout or cook something healthy  Decisions, decisions  Netflix or a good book?  Send help  Need a new hobby  Any suggestions?  Just bought a new plant  Hoping it survives  This bed is calling my name  Goodnight world  Dreaming of a tropical vacation  #wanderlust  Feeling grateful for this cozy night in  #blessed\"])\n",
    "\n",
    "tweets.extend([\"So excited for the weekend!  Plans?  Hit me up  This weather is perfect for outdoor activities  Sunshine and good vibes  Anyone else obsessed with true crime podcasts?  Recommendations please  Just finished a really good book  Bookworm life  Need to hit the gym tomorrow  Motivation anyone?  Currently craving sushi  Food coma incoming  Netflix and chill tonight  Anyone wanna join?  Need a new outfit  Any suggestions?  This bed is so comfy  Goodnight world  Dreaming of winning the lottery  #daydreaming  Feeling grateful for my amazing friends  #blessed\"])\n"
   ]
  },
  {
   "cell_type": "code",
   "execution_count": 527,
   "metadata": {},
   "outputs": [
    {
     "data": {
      "text/plain": [
       "55"
      ]
     },
     "execution_count": 527,
     "metadata": {},
     "output_type": "execute_result"
    }
   ],
   "source": [
    "len(tweets)"
   ]
  },
  {
   "cell_type": "markdown",
   "metadata": {},
   "source": [
    "## 35-49"
   ]
  },
  {
   "cell_type": "markdown",
   "metadata": {},
   "source": [
    "https://gemini.google.com/u/2/app/19e31ba31e67c30d"
   ]
  },
  {
   "cell_type": "code",
   "execution_count": 528,
   "metadata": {},
   "outputs": [],
   "source": [
    "tweets = [\"Can't believe it's Monday again Ugh, coffee and patience levels are low This week is gonna be a rollercoaster I hope Not looking forward to that meeting though At least the weekend is coming up fast Anyone else dreading their inbox? Work, work, work... when's happy hour? Need a vacation day STAT! This weather is killing me Send help or chocolate Preferably both Brain fog is real Struggling to adult today Anyone else feeling this way? Low energy levels but high coffee consumption Multitasking champion or just overwhelmed? Need a nap and a massage ASAP Anyone else's kids driving them crazy? Parenting is hard but rewarding Thank goodness for wine Friday plans anyone? Need to unwind and recharge Netflix and chill, anyone? Anyone? Bueller? This week has been a marathon, I need a medal or at least a long nap Weekends are for sleeping in and binge-watching\" ]\n"
   ]
  },
  {
   "cell_type": "code",
   "execution_count": 529,
   "metadata": {},
   "outputs": [],
   "source": [
    "tweets.extend([\"Ugh, Monday blues hitting hard Coffee is my only friend today This week is gonna be a long one Need more coffee and less meetings Anyone else's inbox looking like a war zone? Send help or chocolate, I'll take either Work mode: activated Can't wait to clock out and unwind Netflix and chill, anyone? This weather is everything Need a vacation day ASAP Feeling so unproductive today Brain fog is real Anyone else feeling this way? Low energy levels but high caffeine intake Multitasking champion or just overwhelmed? Need a nap and a massage STAT! This week has been a rollercoaster Can't wait for the weekend to recharge Anyone else's kids driving them crazy? Parenting is hard but rewarding Thank goodness for wine Friday plans anyone? Need to unwind and recharge\"])\n",
    "\n",
    "tweets.extend([\"Monday motivation? More like Monday meditation Trying to stay positive but the struggle is real Coffee, check. Patience, pending Need a do-over for this week Anyone else's inbox is a never-ending story? Send help or chocolate, I'm desperate Work mode: activated but barely Surviving on coffee and willpower Can't wait to clock out and binge-watch Netflix and chill, anyone? This weather is perfect for a picnic Need a vacation day to recharge Feeling so unproductive, send help Brain fog is real, anyone else? Low energy levels but high caffeine intake Multitasking champion or just overwhelmed? Need a nap and a massage ASAP This week has been a rollercoaster Can't wait to hit the weekend and recharge Anyone else's kids are their mini-me's? Parenting is hard but rewarding Thank goodness for wine Friday plans anyone? Need to unwind and recharge\"])\n"
   ]
  },
  {
   "cell_type": "code",
   "execution_count": 530,
   "metadata": {},
   "outputs": [],
   "source": [
    "tweets.extend([\"Monday blues hitting hard, anyone? Coffee is my lifeline today This week is gonna be a long one, send help Need more coffee and less meetings, ugh Anyone else's inbox is a never-ending story? Send chocolate or wine, I'll take either Work mode: activated but barely surviving Can't wait to clock out and unwind Netflix and chill, anyone? This weather is everything Need a vacation day ASAP Feeling unproductive, send motivation Brain fog is real, any tips? Low energy levels but high caffeine intake Multitasking champion or just overwhelmed? Need a nap and a massage STAT! This week has been a rollercoaster, can't wait for the weekend Anyone else's kids are driving them crazy? Parenting is hard but rewarding Thank goodness for wine, it's a lifesaver Friday plans anyone? Need to unwind and recharge\"])\n",
    "\n",
    "tweets.extend([\"Ugh, Monday, why? Coffee is my only friend today This week is looking rough, send positive vibes Need more coffee and less adulting, please Anyone else's inbox is out of control? Send chocolate or wine, stat Work mode: activated but barely functioning Can't wait to clock out and relax Netflix and chill, anyone? This weather is perfect for a cozy day Need a vacation day to recharge Feeling unproductive, send help Brain fog is real, any remedies? Low energy levels but high caffeine intake Multitasking champion or just overwhelmed? Need a nap and a massage ASAP This week has been a rollercoaster, can't wait for the weekend Anyone else's kids are their mini-me's? Parenting is hard but rewarding Thank goodness for wine, it's a lifesaver Friday plans anyone? Need to unwind and recharge\"])\n"
   ]
  },
  {
   "cell_type": "code",
   "execution_count": 531,
   "metadata": {},
   "outputs": [],
   "source": [
    "tweets.extend([\"Monday blues hitting hard, coffee is my life support This week is gonna be a rollercoaster, hold on tight Need more coffee and less adulting, anyone relate? Inbox is a disaster area, send help or chocolate Work mode: activated but brain is on vacation Can't wait to clock out and binge-watch something good This weather is everything, need to soak it up Need a vacation day, STAT! Feeling unproductive, send motivation Brain fog is real, anyone else struggling? Low energy levels but high caffeine intake Multitasking champion or just overwhelmed? Need a nap and a massage, ASAP This week has been a whirlwind, need to recharge Anyone else's kids are their mini-me's? Parenting is hard but rewarding Thank goodness for wine, it's therapy in a glass Friday plans? Need to unwind and recharge\"])\n",
    "\n",
    "tweets.extend([\"Monday motivation? More like Monday meditation This week is gonna be a long one, send positive vibes Need more coffee and less meetings, please Inbox is overflowing, send help or chocolate Work mode: activated, but barely Surviving on coffee and willpower Can't wait to clock out and relax This weather is perfect for a cozy day Need a vacation day to recharge Feeling unproductive, send motivation Brain fog is real, any remedies? Low energy levels but high caffeine intake Multitasking champion or just overwhelmed? Need a nap and a massage, ASAP This week has been a rollercoaster, need to recharge Anyone else's kids are their mini-me's? Parenting is hard but rewarding Thank goodness for wine, it's a lifesaver Friday plans? Need to unwind and recharge\"])\n"
   ]
  },
  {
   "cell_type": "code",
   "execution_count": 532,
   "metadata": {},
   "outputs": [],
   "source": [
    "tweets.extend([\"Monday blues hitting hard, coffee is my best friend This week is looking long, send good vibes Need more coffee and less adulting, anyone relate? Inbox is a disaster, send help or chocolate Work mode: activated but brain is on vacation Can't wait to clock out and relax This weather is perfect, need to enjoy it Need a vacation day, ASAP Feeling unproductive, send motivation Brain fog is real, any tips? Low energy levels but high caffeine intake Multitasking champion or just overwhelmed? Need a nap and a massage, STAT! This week has been crazy, need to recharge Anyone else's kids are their mini-me's? Parenting is hard but rewarding Thank goodness for wine, it's a lifesaver Friday plans? Need to unwind and recharge\"])\n",
    "\n",
    "tweets.extend([\"Monday motivation? More like Monday meditation This week is gonna be a grind, send positive vibes Need more coffee and less work, please Inbox is out of control, send help or chocolate Work mode: activated but barely functioning Can't wait to clock out and relax This weather is calling my name, need to enjoy it Need a vacation day to recharge Feeling unproductive, send motivation Brain fog is real, any remedies? Low energy levels but high caffeine intake Multitasking champion or just overwhelmed? Need a nap and a massage, ASAP This week has been a rollercoaster, need to recharge Anyone else's kids are their mini-me's? Parenting is hard but rewarding Thank goodness for wine, it's a lifesaver Friday plans? Need to unwind and recharge\"])\n"
   ]
  },
  {
   "cell_type": "code",
   "execution_count": 533,
   "metadata": {},
   "outputs": [],
   "source": [
    "tweets.extend([\"Monday blues hitting hard, coffee is my lifeline This week is gonna be a test, send good vibes Need more coffee and less adulting, anyone relate? Inbox is a disaster, send help or chocolate Work mode: activated but brain is on vacation Can't wait to clock out and relax This weather is perfect, need to enjoy it Need a vacation day, ASAP Feeling unproductive, send motivation Brain fog is real, any tips? Low energy levels but high caffeine intake Multitasking champion or just overwhelmed? Need a nap and a massage, STAT! This week has been crazy, need to recharge Anyone else's kids are their mini-me's? Parenting is hard but rewarding Thank goodness for wine, it's a lifesaver Friday plans? Need to unwind and recharge\"])\n",
    "\n",
    "tweets.extend([\"Monday motivation? More like Monday meditation This week is gonna be a grind, send positive vibes Need more coffee and less work, please Inbox is out of control, send help or chocolate Work mode: activated but barely functioning Can't wait to clock out and relax This weather is calling my name, need to enjoy it Need a vacation day to recharge Feeling unproductive, send motivation Brain fog is real, any remedies? Low energy levels but high caffeine intake Multitasking champion or just overwhelmed? Need a nap and a massage, ASAP This week has been a rollercoaster, need to recharge Anyone else's kids are their mini-me's? Parenting is hard but rewarding Thank goodness for wine, it's a lifesaver Friday plans? Need to unwind and recharge\"])\n"
   ]
  },
  {
   "cell_type": "code",
   "execution_count": 534,
   "metadata": {},
   "outputs": [],
   "source": [
    "tweets.extend([\"Monday blues hitting hard, coffee is my lifeline This week is gonna be a challenge, send good vibes Need more coffee and less adulting, anyone relate? Inbox is a disaster, send help or chocolate Work mode: activated but brain is on vacation Can't wait to clock out and relax This weather is perfect, need to enjoy it Need a vacation day, ASAP Feeling unproductive, send motivation Brain fog is real, any tips? Low energy levels but high caffeine intake Multitasking champion or just overwhelmed? Need a nap and a massage, STAT! This week has been crazy, need to recharge Anyone else's kids are their mini-me's? Parenting is hard but rewarding Thank goodness for wine, it's a lifesaver Friday plans? Need to unwind and recharge\"])\n",
    "\n",
    "tweets.extend([\"Monday motivation? More like Monday meditation This week is gonna be a test, send positive vibes Need more coffee and less work, please Inbox is out of control, send help or chocolate Work mode: activated but barely functioning Can't wait to clock out and relax This weather is calling my name, need to enjoy it Need a vacation day to recharge Feeling unproductive, send motivation Brain fog is real, any remedies? Low energy levels but high caffeine intake Multitasking champion or just overwhelmed? Need a nap and a massage, ASAP This week has been a rollercoaster, need to recharge Anyone else's kids are their mini-me's? Parenting is hard but rewarding Thank goodness for wine, it's a lifesaver Friday plans? Need to unwind and recharge\"])\n"
   ]
  },
  {
   "cell_type": "code",
   "execution_count": 535,
   "metadata": {},
   "outputs": [],
   "source": [
    "tweets.extend([\"Monday blues hitting hard, coffee is my lifeline This week is gonna be a grind, send good vibes Need more coffee and less adulting, anyone relate? Inbox is a disaster, send help or chocolate Work mode: activated but brain is on vacation Can't wait to clock out and relax This weather is perfect, need to enjoy it Need a vacation day, ASAP Feeling unproductive, send motivation Brain fog is real, any tips? Low energy levels but high caffeine intake Multitasking champion or just overwhelmed? Need a nap and a massage, STAT! This week has been crazy, need to recharge Anyone else's kids are their mini-me's? Parenting is hard but rewarding Thank goodness for wine, it's a lifesaver Friday plans? Need to unwind and recharge\"])\n",
    "\n",
    "tweets.extend([\"Monday motivation? More like Monday meditation This week is gonna be a challenge, send positive vibes Need more coffee and less work, please Inbox is out of control, send help or chocolate Work mode: activated but barely functioning Can't wait to clock out and relax This weather is calling my name, need to enjoy it Need a vacation day to recharge Feeling unproductive, send motivation Brain fog is real, any remedies? Low energy levels but high caffeine intake Multitasking champion or just overwhelmed? Need a nap and a massage, ASAP This week has been a rollercoaster, need to recharge Anyone else's kids are their mini-me's? Parenting is hard but rewarding Thank goodness for wine, it's a lifesaver Friday plans? Need to unwind and recharge\"])\n"
   ]
  },
  {
   "cell_type": "code",
   "execution_count": 536,
   "metadata": {},
   "outputs": [],
   "source": [
    "tweets.extend([\"Another Monday, another week Ugh, coffee and patience levels are low This week is gonna be a long one I hope Not looking forward to that meeting though At least the weekend is coming up fast Can't believe how fast time flies by Anyone else feeling overwhelmed? Work, work, work... when's happy hour? Need a vacation day STAT! This weather is killing me Send help or chocolate Preferably both Brain fog is real Struggling to adult today Anyone else feeling this way? Low energy levels but high coffee consumption Multitasking champion or just overwhelmed? Need a nap and a massage ASAP Anyone else's kids driving them crazy? Parenting is hard but rewarding Thank goodness for wine Friday plans anyone? Need to unwind and recharge Netflix and chill, anyone? Anyone? Bueller? This week has been a marathon, I need a medal or at least a long nap Weekends are for sleeping in and binge-watching\" ])\n",
    "\n",
    "tweets.extend([\"Can't believe it's Monday again Ugh, coffee and patience levels are low This week is gonna be a rollercoaster I hope Not looking forward to that meeting though At least the weekend is coming up fast Anyone else dreading their inbox? Work, work, work... when's happy hour? Need a vacation day STAT! This weather is killing me Send help or chocolate Preferably both Brain fog is real Struggling to adult today Anyone else feeling this way? Low energy levels but high coffee consumption Multitasking champion or just overwhelmed? Need a nap and a massage ASAP Anyone else's kids driving them crazy? Parenting is hard but rewarding Thank goodness for wine Friday plans anyone? Need to unwind and recharge Netflix and chill, anyone? Anyone? Bueller? This week has been a marathon, I need a medal or at least a long nap Weekends are for sleeping in and binge-watching\" ])\n"
   ]
  },
  {
   "cell_type": "code",
   "execution_count": 537,
   "metadata": {},
   "outputs": [],
   "source": [
    "tweets.extend([\"Another Monday, another week Ugh, coffee and patience levels are low This week is gonna be a long one I hope Not looking forward to that meeting though At least the weekend is coming up fast Can't believe how fast time flies by Anyone else feeling overwhelmed? Work, work, work... when's happy hour? Need a vacation day STAT! This weather is killing me Send help or chocolate Preferably both Brain fog is real Struggling to adult today Anyone else feeling this way? Low energy levels but high coffee consumption Multitasking champion or just overwhelmed? Need a nap and a massage ASAP Anyone else's kids driving them crazy? Parenting is hard but rewarding Thank goodness for wine Friday plans anyone? Need to unwind and recharge Netflix and chill, anyone? Anyone? Bueller? This week has been a marathon, I need a medal or at least a long nap Weekends are for sleeping in and binge-watching\" ])\n",
    "\n",
    "tweets.extend([\"Can't believe it's Monday again Ugh, coffee and patience levels are low This week is gonna be a rollercoaster I hope Not looking forward to that meeting though At least the weekend is coming up fast Anyone else dreading their inbox? Work, work, work... when's happy hour? Need a vacation day STAT! This weather is killing me Send help or chocolate Preferably both Brain fog is real Struggling to adult today Anyone else feeling this way? Low energy levels but high coffee consumption Multitasking champion or just overwhelmed? Need a nap and a massage ASAP Anyone else's kids driving them crazy? Parenting is hard but rewarding Thank goodness for wine Friday plans anyone? Need to unwind and recharge Netflix and chill, anyone? Anyone? Bueller? This week has been a marathon, I need a medal or at least a long nap Weekends are for sleeping in and binge-watching\" ])\n"
   ]
  },
  {
   "cell_type": "code",
   "execution_count": 538,
   "metadata": {},
   "outputs": [],
   "source": [
    "tweets.extend([\"Another Monday, another grind Coffee is my lifeline today This week feels like a marathon I hope Not looking forward to that meeting though At least the weekend is coming up fast Feeling overwhelmed and underappreciated Work, work, work... when's happy hour? Need a vacation day STAT! This weather is a mood killer Send help or chocolate Preferably both Brain fog is real Struggling to adult today Anyone else feeling this way? Low energy levels but high coffee consumption Multitasking champion or just overwhelmed? Need a nap and a massage ASAP Anyone else's kids driving them crazy? Parenting is hard but rewarding Thank goodness for wine Friday plans anyone? Need to unwind and recharge Netflix and chill, anyone? Anyone? Bueller? This week has been a rollercoaster, I need a medal or at least a long nap Weekends are for sleeping in and binge-watching\" ])\n",
    "\n",
    "tweets.extend([\"Can't believe it's Monday again Ugh, coffee and patience levels are low This week is gonna be a test I hope Not looking forward to that meeting though At least the weekend is coming up fast Feeling burnt out and stressed Anyone else feeling overwhelmed? Work, work, work... when's happy hour? Need a vacation day STAT! This weather is a mood killer Send help or chocolate Preferably both Brain fog is real Struggling to adult today Anyone else feeling this way? Low energy levels but high coffee consumption Multitasking champion or just overwhelmed? Need a nap and a massage ASAP Anyone else's kids driving them crazy? Parenting is hard but rewarding Thank goodness for wine Friday plans anyone? Need to unwind and recharge Netflix and chill, anyone? Anyone? Bueller? This week has been a rollercoaster, I need a medal or at least a long nap Weekends are for sleeping in and binge-watching\" ])\n"
   ]
  },
  {
   "cell_type": "code",
   "execution_count": 539,
   "metadata": {},
   "outputs": [],
   "source": [
    "tweets.extend([\"Another Monday, another grind Coffee is my lifeline today This week feels like a marathon I hope Not looking forward to that meeting though At least the weekend is coming up fast Feeling overwhelmed and underappreciated Work, work, work... when's happy hour? Need a vacation day STAT! This weather is a mood killer Send help or chocolate Preferably both Brain fog is real Struggling to adult today Anyone else feeling this way? Low energy levels but high coffee consumption Multitasking champion or just overwhelmed? Need a nap and a massage ASAP Anyone else's kids driving them crazy? Parenting is hard but rewarding Thank goodness for wine Friday plans anyone? Need to unwind and recharge Netflix and chill, anyone? Anyone? Bueller? This week has been a rollercoaster, I need a medal or at least a long nap Weekends are for sleeping in and binge-watching\" ])\n",
    "\n",
    "tweets.extend([\"Can't believe it's Monday again Ugh, coffee and patience levels are low This week is gonna be a test I hope Not looking forward to that meeting though At least the weekend is coming up fast Feeling burnt out and stressed Anyone else feeling overwhelmed? Work, work, work... when's happy hour? Need a vacation day STAT! This weather is a mood killer Send help or chocolate Preferably both Brain fog is real Struggling to adult today Anyone else feeling this way? Low energy levels but high coffee consumption Multitasking champion or just overwhelmed? Need a nap and a massage ASAP Anyone else's kids driving them crazy? Parenting is hard but rewarding Thank goodness for wine Friday plans anyone? Need to unwind and recharge Netflix and chill, anyone? Anyone? Bueller? This week has been a rollercoaster, I need a medal or at least a long nap Weekends are for sleeping in and binge-watching\" ])\n"
   ]
  },
  {
   "cell_type": "code",
   "execution_count": 540,
   "metadata": {},
   "outputs": [],
   "source": [
    "tweets.extend([\"Another Monday, another day older Coffee is my lifeline today This week feels like a marathon I hope Not looking forward to that meeting though At least the weekend is coming up fast Feeling overwhelmed and underappreciated Work, work, work... when's happy hour? Need a vacation day STAT! This weather is a mood killer Send help or chocolate Preferably both Brain fog is real Struggling to adult today Anyone else feeling this way? Low energy levels but high coffee consumption Multitasking champion or just overwhelmed? Need a nap and a massage ASAP Anyone else's kids driving them crazy? Parenting is hard but rewarding Thank goodness for wine Friday plans anyone? Need to unwind and recharge Netflix and chill, anyone? Anyone? Bueller? This week has been a rollercoaster, I need a medal or at least a long nap Weekends are for sleeping in and binge-watching\" ])\n",
    "\n",
    "tweets.extend([\"Can't believe it's Monday again Ugh, coffee and patience levels are low This week is gonna be a test I hope Not looking forward to that meeting though At least the weekend is coming up fast Feeling burnt out and stressed Anyone else feeling overwhelmed? Work, work, work... when's happy hour? Need a vacation day STAT! This weather is a mood killer Send help or chocolate Preferably both Brain fog is real Struggling to adult today Anyone else feeling this way? Low energy levels but high coffee consumption Multitasking champion or just overwhelmed? Need a nap and a massage ASAP Anyone else's kids driving them crazy? Parenting is hard but rewarding Thank goodness for wine Friday plans anyone? Need to unwind and recharge Netflix and chill, anyone? Anyone? Bueller? This week has been a rollercoaster, I need a medal or at least a long nap Weekends are for sleeping in and binge-watching\" ])\n"
   ]
  },
  {
   "cell_type": "code",
   "execution_count": 541,
   "metadata": {},
   "outputs": [],
   "source": [
    "\n",
    "tweets.extend([\"Another Monday, can't believe it's here already Coffee is my lifeline, can't function without it This week is looking long and grueling I hope Not looking forward to that meeting though At least the weekend is coming up fast Feeling overwhelmed and underappreciated Work, work, work... when's happy hour? Need a vacation day STAT! This weather is a mood killer Send help or chocolate Preferably both Brain fog is real Struggling to adult today Anyone else feeling this way? Low energy levels but high coffee consumption Multitasking champion or just overwhelmed? Need a nap and a massage ASAP Anyone else's kids driving them crazy? Parenting is hard but rewarding Thank goodness for wine Friday plans anyone? Need to unwind and recharge Netflix and chill, anyone? Anyone? Bueller? This week has been a rollercoaster, I need a medal or at least a long nap Weekends are for sleeping in and binge-watching\" ])\n",
    "\n",
    "tweets.extend([\"Can't believe it's Monday again, feeling the blues Coffee is my only friend today This week is gonna be a challenge I hope Not looking forward to that meeting though At least the weekend is coming up fast Feeling burnt out and stressed Anyone else feeling overwhelmed? Work, work, work... when's happy hour? Need a vacation day STAT! This weather is a mood killer Send help or chocolate Preferably both Brain fog is real Struggling to adult today Anyone else feeling this way? Low energy levels but high coffee consumption Multitasking champion or just overwhelmed? Need a nap and a massage ASAP Anyone else's kids driving them crazy? Parenting is hard but rewarding Thank goodness for wine Friday plans anyone? Need to unwind and recharge Netflix and chill, anyone? Anyone? Bueller? This week has been a rollercoaster, I need a medal or at least a long nap Weekends are for sleeping in and binge-watching\" ])\n",
    "\n"
   ]
  },
  {
   "cell_type": "code",
   "execution_count": 542,
   "metadata": {},
   "outputs": [],
   "source": [
    "\n",
    "tweets.extend([\"Another Monday, another week to conquer Coffee is my lifeline, can't function without it This week feels like a marathon, I hope I can endure Not looking forward to that meeting though, dreaded At least the weekend is coming up fast, something to look forward to Feeling overwhelmed and underappreciated, need a break Work, work, work... when's happy hour? Need a vacation day STAT! This weather is a mood killer, send sunshine Send help or chocolate, preferably both Brain fog is real, struggling to focus Struggling to adult today, anyone else? Anyone else feeling this way? Low energy levels but high coffee consumption Multitasking champion or just overwhelmed? Need a nap and a massage ASAP Anyone else's kids driving them crazy? Parenting is hard but rewarding Thank goodness for wine, a lifesaver Friday plans anyone? Need to unwind and recharge Netflix and chill, anyone? Anyone? Bueller? This week has been a rollercoaster, I need a medal or at least a long nap Weekends are for sleeping in and binge-watching\" ])\n",
    "\n",
    "tweets.extend([\"Can't believe it's Monday again, feeling the blues Coffee is my only friend today, can't survive without it This week is gonna be a test, I hope I can handle it Not looking forward to that meeting though, dreaded At least the weekend is coming up fast, something to look forward to Feeling burnt out and stressed, need a recharge Work, work, work... when's happy hour? Need a vacation day STAT! This weather is a mood killer, send sunshine Send help or chocolate, preferably both Brain fog is real, struggling to focus Struggling to adult today, anyone else? Anyone else feeling this way? Low energy levels but high coffee consumption Multitasking champion or just overwhelmed? Need a nap and a massage ASAP Anyone else's kids driving them crazy? Parenting is hard but rewarding Thank goodness for wine, a lifesaver Friday plans anyone? Need to unwind and recharge Netflix and chill, anyone? Anyone? Bueller? This week has been a rollercoaster, I need a medal or at least a long nap Weekends are for sleeping in and binge-watching\" ])\n",
    "\n",
    "\n"
   ]
  },
  {
   "cell_type": "code",
   "execution_count": 543,
   "metadata": {},
   "outputs": [],
   "source": [
    "\n",
    "tweets.extend([\"Another Monday, another week to tackle Coffee is my fuel, can't function without it This week is a marathon, wish me luck Not looking forward to that meeting though, dreaded At least the weekend is coming up fast, something to look forward to Feeling overwhelmed and underappreciated, need a break Work, work, work... when's happy hour? Need a vacation day STAT! This weather is a mood killer, send sunshine Send help or chocolate, preferably both Brain fog is real, struggling to focus Struggling to adult today, anyone else? Anyone else feeling this way? Low energy levels but high coffee consumption Multitasking champion or just overwhelmed? Need a nap and a massage ASAP Anyone else's kids driving them crazy? Parenting is hard but rewarding Thank goodness for wine, a lifesaver Friday plans anyone? Need to unwind and recharge Netflix and chill, anyone? Anyone? Bueller? This week has been a rollercoaster, I need a medal or at least a long nap Weekends are for sleeping in and binge-watching\" ])\n",
    "\n",
    "tweets.extend([\"Can't believe it's Monday again, feeling the blues Coffee is my only friend today, can't survive without it This week is gonna be a test, I hope I can handle it Not looking forward to that meeting though, dreaded At least the weekend is coming up fast, something to look forward to Feeling burnt out and stressed, need a recharge Work, work, work... when's happy hour? Need a vacation day STAT! This weather is a mood killer, send sunshine Send help or chocolate, preferably both Brain fog is real, struggling to focus Struggling to adult today, anyone else? Anyone else feeling this way? Low energy levels but high coffee consumption Multitasking champion or just overwhelmed? Need a nap and a massage ASAP Anyone else's kids driving them crazy? Parenting is hard but rewarding Thank goodness for wine, a lifesaver Friday plans anyone? Need to unwind and recharge Netflix and chill, anyone? Anyone? Bueller? This week has been a rollercoaster, I need a medal or at least a long nap Weekends are for sleeping in and binge-watching\" ])\n",
    "\n"
   ]
  },
  {
   "cell_type": "code",
   "execution_count": 544,
   "metadata": {},
   "outputs": [],
   "source": [
    "tweets.extend([\"Another Monday, another week to tackle Coffee is my fuel, can't function without it This week is a marathon, wish me luck Not looking forward to that meeting though, dreaded At least the weekend is coming up fast, something to look forward to Feeling overwhelmed and underappreciated, need a break Work, work, work... when's happy hour? Need a vacation day STAT! This weather is a mood killer, send sunshine Send help or chocolate, preferably both Brain fog is real, struggling to focus Struggling to adult today, anyone else? Anyone else feeling this way? Low energy levels but high coffee consumption Multitasking champion or just overwhelmed? Need a nap and a massage ASAP Anyone else's kids driving them crazy? Parenting is hard but rewarding Thank goodness for wine, a lifesaver Friday plans anyone? Need to unwind and recharge Netflix and chill, anyone? Anyone? Bueller? This week has been a rollercoaster, I need a medal or at least a long nap Weekends are for sleeping in and binge-watching\" ])\n",
    "\n",
    "tweets.extend([\"Can't believe it's Monday again, feeling the blues Coffee is my only friend today, can't survive without it This week is gonna be a test, I hope I can handle it Not looking forward to that meeting though, dreaded At least the weekend is coming up fast, something to look forward to Feeling burnt out and stressed, need a recharge Work, work, work... when's happy hour? Need a vacation day STAT! This weather is a mood killer, send sunshine Send help or chocolate, preferably both Brain fog is real, struggling to focus Struggling to adult today, anyone else? Anyone else feeling this way? Low energy levels but high coffee consumption Multitasking champion or just overwhelmed? Need a nap and a massage ASAP Anyone else's kids driving them crazy? Parenting is hard but rewarding Thank goodness for wine, a lifesaver Friday plans anyone? Need to unwind and recharge Netflix and chill, anyone? Anyone? Bueller? This week has been a rollercoaster, I need a medal or at least a long nap Weekends are for sleeping in and binge-watching\" ])"
   ]
  },
  {
   "cell_type": "code",
   "execution_count": 545,
   "metadata": {},
   "outputs": [],
   "source": [
    "tweets.extend([\"Another Monday, another week to conquer Coffee is my fuel, can't function without it This week is a marathon, wish me luck Not looking forward to that meeting though, dreaded At least the weekend is coming up fast, something to look forward to Feeling overwhelmed and underappreciated, need a break Work, work, work... when's happy hour? Need a vacation day STAT! This weather is a mood killer, send sunshine Send help or chocolate, preferably both Brain fog is real, struggling to focus Struggling to adult today, anyone else? Anyone else feeling this way? Low energy levels but high coffee consumption Multitasking champion or just overwhelmed? Need a nap and a massage ASAP Anyone else's kids driving them crazy? Parenting is hard but rewarding Thank goodness for wine, a lifesaver Friday plans anyone? Need to unwind and recharge Netflix and chill, anyone? Anyone? Bueller? This week has been a rollercoaster, I need a medal or at least a long nap Weekends are for sleeping in and binge-watching\" ])\n",
    "\n",
    "tweets.extend([\"Can't believe it's Monday again, feeling the blues Coffee is my only friend today, can't survive without it This week is gonna be a test, I hope I can handle it Not looking forward to that meeting though, dreaded At least the weekend is coming up fast, something to look forward to Feeling burnt out and stressed, need a recharge Work, work, work... when's happy hour? Need a vacation day STAT! This weather is a mood killer, send sunshine Send help or chocolate, preferably both Brain fog is real, struggling to focus Struggling to adult today, anyone else? Anyone else feeling this way? Low energy levels but high coffee consumption Multitasking champion or just overwhelmed? Need a nap and a massage ASAP Anyone else's kids driving them crazy? Parenting is hard but rewarding Thank goodness for wine, a lifesaver Friday plans anyone? Need to unwind and recharge Netflix and chill, anyone? Anyone? Bueller? This week has been a rollercoaster, I need a medal or at least a long nap Weekends are for sleeping in and binge-watching\" ])\n"
   ]
  },
  {
   "cell_type": "code",
   "execution_count": 546,
   "metadata": {},
   "outputs": [],
   "source": [
    "tweets.extend([\"Another Monday, another week to conquer Coffee is my fuel, can't function without it This week is a marathon, wish me luck Not looking forward to that meeting though, dreaded At least the weekend is coming up fast, something to look forward to Feeling overwhelmed and underappreciated, need a break Work, work, work... when's happy hour? Need a vacation day STAT! This weather is a mood killer, send sunshine Send help or chocolate, preferably both Brain fog is real, struggling to focus Struggling to adult today, anyone else? Anyone else feeling this way? Low energy levels but high coffee consumption Multitasking champion or just overwhelmed? Need a nap and a massage ASAP Anyone else's kids driving them crazy? Parenting is hard but rewarding Thank goodness for wine, a lifesaver Friday plans anyone? Need to unwind and recharge Netflix and chill, anyone? Anyone? Bueller? This week has been a rollercoaster, I need a medal or at least a long nap Weekends are for sleeping in and binge-watching\" ])\n",
    "\n",
    "tweets.extend([\"Can't believe it's Monday again, feeling the blues Coffee is my only friend today, can't survive without it This week is gonna be a test, I hope I can handle it Not looking forward to that meeting though, dreaded At least the weekend is coming up fast, something to look forward to Feeling burnt out and stressed, need a recharge Work, work, work... when's happy hour? Need a vacation day STAT! This weather is a mood killer, send sunshine Send help or chocolate, preferably both Brain fog is real, struggling to focus Struggling to adult today, anyone else? Anyone else feeling this way? Low energy levels but high coffee consumption Multitasking champion or just overwhelmed? Need a nap and a massage ASAP Anyone else's kids driving them crazy? Parenting is hard but rewarding Thank goodness for wine, a lifesaver Friday plans anyone? Need to unwind and recharge Netflix and chill, anyone? Anyone? Bueller? This week has been a rollercoaster, I need a medal or at least a long nap Weekends are for sleeping in and binge-watching\" ])\n"
   ]
  },
  {
   "cell_type": "code",
   "execution_count": 547,
   "metadata": {},
   "outputs": [],
   "source": [
    "tweets.extend([\"Another Monday, another week to conquer Coffee is my fuel, can't function without it This week is a marathon, wish me luck Not looking forward to that meeting though, dreaded At least the weekend is coming up fast, something to look forward to Feeling overwhelmed and underappreciated, need a break Work, work, work... when's happy hour? Need a vacation day STAT! This weather is a mood killer, send sunshine Send help or chocolate, preferably both Brain fog is real, struggling to focus Struggling to adult today, anyone else? Anyone else feeling this way? Low energy levels but high coffee consumption Multitasking champion or just overwhelmed? Need a nap and a massage ASAP Anyone else's kids driving them crazy? Parenting is hard but rewarding Thank goodness for wine, a lifesaver Friday plans anyone? Need to unwind and recharge Netflix and chill, anyone? Anyone? Bueller? This week has been a rollercoaster, I need a medal or at least a long nap Weekends are for sleeping in and binge-watching\" ])\n",
    "\n",
    "tweets.extend([\"Can't believe it's Monday again, feeling the blues Coffee is my only friend today, can't survive without it This week is gonna be a test, I hope I can handle it Not looking forward to that meeting though, dreaded At least the weekend is coming up fast, something to look forward to Feeling burnt out and stressed, need a recharge Work, work, work... when's happy hour? Need a vacation day STAT! This weather is a mood killer, send sunshine Send help or chocolate, preferably both Brain fog is real, struggling to focus Struggling to adult today, anyone else? Anyone else feeling this way? Low energy levels but high coffee consumption Multitasking champion or just overwhelmed? Need a nap and a massage ASAP Anyone else's kids driving them crazy? Parenting is hard but rewarding Thank goodness for wine, a lifesaver Friday plans anyone? Need to unwind and recharge Netflix and chill, anyone? Anyone? Bueller? This week has been a rollercoaster, I need a medal or at least a long nap Weekends are for sleeping in and binge-watching\" ])\n"
   ]
  },
  {
   "cell_type": "code",
   "execution_count": 548,
   "metadata": {},
   "outputs": [],
   "source": [
    "tweets.extend([\"Another Monday, another week to conquer Coffee is my fuel, can't function without it This week is a marathon, wish me luck Not looking forward to that meeting though, dreaded At least the weekend is coming up fast, something to look forward to Feeling overwhelmed and underappreciated, need a break Work, work, work... when's happy hour? Need a vacation day STAT! This weather is a mood killer, send sunshine Send help or chocolate, preferably both Brain fog is real, struggling to focus Struggling to adult today, anyone else? Anyone else feeling this way? Low energy levels but high coffee consumption Multitasking champion or just overwhelmed? Need a nap and a massage ASAP Anyone else's kids driving them crazy? Parenting is hard but rewarding Thank goodness for wine, a lifesaver Friday plans anyone? Need to unwind and recharge Netflix and chill, anyone? Anyone? Bueller? This week has been a rollercoaster, I need a medal or at least a long nap Weekends are for sleeping in and binge-watching\" ])\n",
    "\n",
    "tweets.extend([\"Can't believe it's Monday again, feeling the blues Coffee is my only friend today, can't survive without it This week is gonna be a test, I hope I can handle it Not looking forward to that meeting though, dreaded At least the weekend is coming up fast, something to look forward to Feeling burnt out and stressed, need a recharge Work, work, work... when's happy hour? Need a vacation day STAT! This weather is a mood killer, send sunshine Send help or chocolate, preferably both Brain fog is real, struggling to focus Struggling to adult today, anyone else? Anyone else feeling this way? Low energy levels but high coffee consumption Multitasking champion or just overwhelmed? Need a nap and a massage ASAP Anyone else's kids driving them crazy? Parenting is hard but rewarding Thank goodness for wine, a lifesaver Friday plans anyone? Need to unwind and recharge Netflix and chill, anyone? Anyone? Bueller? This week has been a rollercoaster, I need a medal or at least a long nap Weekends are for sleeping in and binge-watching\" ])\n"
   ]
  },
  {
   "cell_type": "code",
   "execution_count": 549,
   "metadata": {},
   "outputs": [],
   "source": [
    "tweets.extend([\"Another Monday, another week to conquer Feeling the Monday blues, need more coffee This week is already looking long and stressful Not looking forward to that meeting though, dreaded At least the weekend is coming up fast, something to look forward to Feeling overwhelmed and underappreciated, need a break Work, work, work... when's happy hour? Need a vacation day STAT! This weather is a mood killer, send sunshine Send help or chocolate, preferably both Brain fog is real, struggling to focus Struggling to adult today, anyone else? Anyone else feeling this way? Low energy levels but high coffee consumption Multitasking champion or just overwhelmed? Need a nap and a massage ASAP Anyone else's kids driving them crazy? Parenting is hard but rewarding Thank goodness for wine, a lifesaver Friday plans anyone? Need to unwind and recharge Netflix and chill, anyone? Anyone? Bueller? This week has been a rollercoaster, I need a medal or at least a long nap Weekends are for sleeping in and binge-watching\" ])\n",
    "\n",
    "tweets.extend([\"Can't believe it's Monday again, feeling the blues Coffee is my only friend today, can't survive without it This week is gonna be a test, I hope I can handle it Not looking forward to that meeting though, dreaded At least the weekend is coming up fast, something to look forward to Feeling burnt out and stressed, need a recharge Work, work, work... when's happy hour? Need a vacation day STAT! This weather is a mood killer, send sunshine Send help or chocolate, preferably both Brain fog is real, struggling to focus Struggling to adult today, anyone else? Anyone else feeling this way? Low energy levels but high coffee consumption Multitasking champion or just overwhelmed? Need a nap and a massage ASAP Anyone else's kids driving them crazy? Parenting is hard but rewarding Thank goodness for wine, a lifesaver Friday plans anyone? Need to unwind and recharge Netflix and chill, anyone? Anyone? Bueller? This week has been a rollercoaster, I need a medal or at least a long nap Weekends are for sleeping in and binge-watching\" ])\n"
   ]
  },
  {
   "cell_type": "code",
   "execution_count": 550,
   "metadata": {},
   "outputs": [],
   "source": [
    "tweets.extend([\"Another Monday, another week to conquer Feeling the Monday blues, need more coffee This week is already looking long and stressful Not looking forward to that meeting though, dreaded At least the weekend is coming up fast, something to look forward to Feeling overwhelmed and underappreciated, need a break Work, work, work... when's happy hour? Need a vacation day STAT! This weather is a mood killer, send sunshine Send help or chocolate, preferably both Brain fog is real, struggling to focus Struggling to adult today, anyone else? Anyone else feeling this way? Low energy levels but high coffee consumption Multitasking champion or just overwhelmed? Need a nap and a massage ASAP Anyone else's kids driving them crazy? Parenting is hard but rewarding Thank goodness for wine, a lifesaver Friday plans anyone? Need to unwind and recharge Netflix and chill, anyone? Anyone? Bueller? This week has been a rollercoaster, I need a medal or at least a long nap Weekends are for sleeping in and binge-watching\" ])\n",
    "\n",
    "tweets.extend([\"Can't believe it's Monday again, feeling the blues Coffee is my only friend today, can't survive without it This week is gonna be a test, I hope I can handle it Not looking forward to that meeting though, dreaded At least the weekend is coming up fast, something to look forward to Feeling burnt out and stressed, need a recharge Work, work, work... when's happy hour? Need a vacation day STAT! This weather is a mood killer, send sunshine Send help or chocolate, preferably both Brain fog is real, struggling to focus Struggling to adult today, anyone else? Anyone else feeling this way? Low energy levels but high coffee consumption Multitasking champion or just overwhelmed? Need a nap and a massage ASAP Anyone else's kids driving them crazy? Parenting is hard but rewarding Thank goodness for wine, a lifesaver Friday plans anyone? Need to unwind and recharge Netflix and chill, anyone? Anyone? Bueller? This week has been a rollercoaster, I need a medal or at least a long nap Weekends are for sleeping in and binge-watching\" ])\n"
   ]
  },
  {
   "cell_type": "code",
   "execution_count": 551,
   "metadata": {},
   "outputs": [],
   "source": [
    "tweets.extend([\"Another Monday, another week to conquer Feeling the Monday blues, need more coffee This week is already looking long and stressful Not looking forward to that meeting though, dreaded At least the weekend is coming up fast, something to look forward to Feeling overwhelmed and underappreciated, need a break Work, work, work... when's happy hour? Need a vacation day STAT! This weather is a mood killer, send sunshine Send help or chocolate, preferably both Brain fog is real, struggling to focus Struggling to adult today, anyone else? Anyone else feeling this way? Low energy levels but high coffee consumption Multitasking champion or just overwhelmed? Need a nap and a massage ASAP Anyone else's kids driving them crazy? Parenting is hard but rewarding Thank goodness for wine, a lifesaver Friday plans anyone? Need to unwind and recharge Netflix and chill, anyone? Anyone? Bueller? This week has been a rollercoaster, I need a medal or at least a long nap Weekends are for sleeping in and binge-watching\" ])\n",
    "\n",
    "tweets.extend([\"Can't believe it's Monday again, feeling the blues Coffee is my only friend today, can't survive without it This week is gonna be a test, I hope I can handle it Not looking forward to that meeting though, dreaded At least the weekend is coming up fast, something to look forward to Feeling burnt out and stressed, need a recharge Work, work, work... when's happy hour? Need a vacation day STAT! This weather is a mood killer, send sunshine Send help or chocolate, preferably both Brain fog is real, struggling to focus Struggling to adult today, anyone else? Anyone else feeling this way? Low energy levels but high coffee consumption Multitasking champion or just overwhelmed? Need a nap and a massage ASAP Anyone else's kids driving them crazy? Parenting is hard but rewarding Thank goodness for wine, a lifesaver Friday plans anyone? Need to unwind and recharge Netflix and chill, anyone? Anyone? Bueller? This week has been a rollercoaster, I need a medal or at least a long nap Weekends are for sleeping in and binge-watching\" ])\n"
   ]
  },
  {
   "cell_type": "code",
   "execution_count": 552,
   "metadata": {},
   "outputs": [],
   "source": [
    "tweets.extend([\"Can't believe it's Monday already! Feeling that Monday blues kicking in hard. Coffee is my only friend right now. #MondayMood #CoffeeLover #WorkLifeBalance Ugh, traffic is the worst! Stuck in this metal box for what feels like forever. Send help (or at least a good playlist). #TrafficJam #CommuteNightmare #Carmageddon This weather is everything! Sun is shining, birds are singing, and I'm just soaking it all in. #SunshineStateOfMind #VitaminD #GoodVibes Dinner time! What's everyone cooking tonight? I'm thinking something quick and easy. Any suggestions? #DinnerTime #Foodie #RecipeInspiration Just finished a binge-worthy show! Can't stop thinking about the plot twists. Anyone else obsessed? #BingeWatching #TVAddict #SeriesRecommendation This bed is calling my name. It's been a long day and I need some serious relaxation time. #BedTime #SleepIsTheBestMedicine #SelfCare Daydreaming about vacation. Where should I go next? Beach? Mountains? City? Help me decide! #TravelGoals #VacationMode #Wanderlust Missing my friends like crazy! Need a girls' night out ASAP. Who's in? #FriendshipGoals #GirlsNightOut #GoodTimes This coffee shop is my happy place. Great music, even better coffee. #CoffeeShopVibes #GoodMorning #MeTime Can't wait to try this new restaurant everyone's talking about. Any recommendations on what to order? #Foodie #FoodPorn #RestaurantReview Online shopping therapy is the best kind of therapy. Just saying. #ShoppingTherapy #RetailTherapy #TreatYourself Feeling so grateful for all the good things in my life. Counting my blessings today. #GratefulHeart #PositiveVibes #Blessed Life update: Still trying to figure out adulting. Send help! #AdultingIsHard #Struggling #AdultProblems Can't stop listening to this new song. It's so catchy! #NewMusic #MusicLover #Earworm This workout was killer! Feeling accomplished and sore. Worth it though. #FitnessGoals #WorkoutMotivation #StrongerTogether Anyone else obsessed with plants? My green thumb is questionable though. #PlantLady #Gardening #GreenThumb This book is amazing! Can't put it down. Perfect escape from reality. #Bookworm #ReadingIsMyTherapy #LostInABook Need a weekend getaway. Any suggestions for a quick escape? #WeekendVibes #TravelGram #ExploreMore This weather is depressing. Bring on the sunshine! #RainyDayBlues #SunshinePlease #Mood So excited for this new season of my favorite show! Can't wait to see what happens next. #TVShowObsessed #NewSeason #BingeWorthy Just had the best pizza ever! Seriously, life-changing. #PizzaLover #Foodie #FoodGoals This is my happy place. Blankets, books, and a cup of tea. Perfect. #CozyVibes #RelaxationMode #SelfCare Sunday Scaries are real. Anyone else dreading tomorrow? #SundayFunday #SundayBlues #MondayMotivation\"])\n",
    "\n",
    "tweets.extend([\"Can't believe it's Monday again! Feeling sluggish and unmotivated. Coffee, please. #MondayBlues #CoffeeAddict #WorkMode Ugh, traffic is killing me. Need a teleportation device ASAP. #TrafficJam #CommuteNightmare #Carmageddon This weather is a mood booster! Sunshine and good vibes only. #SunnyDay #VitaminD #HappyPlace Dinner time dilemma! Craving something healthy but also delicious. Any ideas? #DinnerTime #Foodie #HealthyEating Just finished a book that blew my mind! Highly recommend. #Bookworm #ReadingIsMyTherapy #BookRecommendation This bed is calling my name. Need to recharge before facing the world tomorrow. #Bedtime #SleepIsKey #SelfCare Daydreaming about vacation. Beach or mountains? Decisions, decisions. #TravelGoals #VacationMode #Wanderlust Missing my besties! Need a girls' night out to catch up. #FriendshipGoals #GirlsNight #FunTimes This coffee shop is my happy place. Perfect ambiance for some solo time. #CoffeeShopVibes #MeTime #RelaxationMode Can't wait to try that new restaurant downtown. Any recommendations? #Foodie #FoodPorn #RestaurantReview Retail therapy saved my day. New outfit, who dis? #ShoppingTherapy #RetailTherapy #TreatYourself Feeling grateful for this beautiful life. Small wins and big blessings. #GratefulHeart #PositiveVibes #Blessed Adulting is hard. Send wine and chocolate. #AdultingIsHard #Struggling #NeedHelp Can't stop listening to this new artist. Obsessed! #NewMusic #MusicLover #GoodVibes This workout kicked my butt! But feeling strong and energized. #FitnessGoals #WorkoutMotivation #StrongerTogether My plants are thriving! Feeling like a plant parent pro. #PlantLady #Gardening #GreenThumb This book is a page-turner! Can't put it down. #Bookworm #ReadingAddict #LostInABook Need a weekend getaway to clear my head. Any suggestions? #WeekendVibes #Travel #Escape This weather is perfect for cozying up with a good movie. #MovieNight #ChillMode #RelaxationTime So excited for the new season of my favorite show! #TVShowObsessed #BingeWatching #CantWait This pizza is everything! Cheesy, saucy perfection. #PizzaLover #Foodie #FoodGoals This is my happy place. Blankets, books, and a cup of tea. Pure bliss. #CozyVibes #Relaxation #SelfCare Sunday Scaries are hitting hard. Need motivation for the week ahead. #SundayFunday #SundayBlues #MondayMotivation\"]\n",
    ")\n",
    "\n",
    "tweets.extend([\"Ugh, Monday morning blues are real. Coffee, please! #MondayMotivation #CoffeeLover #NeedCaffeine This traffic is a nightmare! Car horns and road rage. Send help. #TrafficJam #CommuteNightmare #StressfulMorning Sun is shining but my mood is cloudy. Need a pick-me-up. #RainyDayInside #NeedSunshine #FeelingDown Dinner time! Craving something spicy. Any suggestions? #DinnerTime #Foodie #SpicyFood Craving a good book. Any recommendations? Looking for something to escape reality. #Bookworm #ReadingIsMyTherapy #BookLover This bed is so comfy! Might just stay here all day. #LazyDay #RelaxationMode #SelfCare Daydreaming about traveling. Where to next? Beach, mountains, or city? #TravelGoals #VacationMode #Wanderlust Missing my friends. Need a girls' night out to recharge. #FriendshipGoals #GirlsNight #FunTimes This coffee shop is my happy place. Perfect for people watching. #CoffeeShopVibes #MeTime #RelaxationMode Can't wait to try that new sushi place downtown. So excited! #Foodie #SushiLover #FoodPorn Retail therapy fixed my mood. New clothes, who dis? #ShoppingTherapy #RetailTherapy #TreatYourself Feeling grateful for everything I have. Counting my blessings. #GratefulHeart #PositiveVibes #Blessed Adulting is hard. Send wine and chocolate. #AdultingIsHard #NeedHelp #Struggling Can't stop listening to this new song. It's on repeat. #NewMusic #MusicLover #Obsessed This workout was tough but worth it. Feeling strong! #FitnessGoals #WorkoutMotivation #StrongerTogether My plants are growing! Feeling like a proud plant parent. #PlantLady #Gardening #GreenThumb This book is so good! Can't put it down. #Bookworm #ReadingAddict #LostInABook Need a weekend getaway to relax and recharge. #WeekendVibes #Travel #Escape This weather is perfect for a cozy night in. #RainyDay #CozyVibes #RelaxationMode So excited for the new season of my favorite show! #TVShowObsessed #BingeWatching #CantWait This pizza is the perfect comfort food. #PizzaLover #Foodie #FoodGoals This is my happy place. Blankets, books, and a cup of tea. #CozyVibes #Relaxation #SelfCare Sunday Scaries are kicking in. Need to plan my week. #SundayFunday #SundayBlues #MondayMotivation\"]\n",
    ")"
   ]
  },
  {
   "cell_type": "code",
   "execution_count": 553,
   "metadata": {},
   "outputs": [
    {
     "data": {
      "text/plain": [
       "50"
      ]
     },
     "execution_count": 553,
     "metadata": {},
     "output_type": "execute_result"
    }
   ],
   "source": [
    "len(tweets)"
   ]
  },
  {
   "cell_type": "markdown",
   "metadata": {},
   "source": [
    "## 50+"
   ]
  },
  {
   "cell_type": "code",
   "execution_count": 554,
   "metadata": {},
   "outputs": [],
   "source": [
    "tweets = [\"Can't believe it's Monday already! This week is going to be a long one. Coffee, anyone? #MondayBlues #WorkMode #CoffeeLover Another beautiful day! Enjoying the sunshine and a good book. Perfect way to relax. #Sunshine #Reading #RelaxTime So tired of the news. Can't we all just get along? World peace, anyone? #TiredOfTheNews #WorldPeace #Humanity Dinner time! What's everyone cooking tonight? I'm thinking pasta. #DinnerTime #PastaNight #Foodie Missing my grandkids like crazy! Can't wait to see them again. #Grandkids #FamilyTime #Love This weather is perfect for a walk. Getting some fresh air and exercise. #WalkInThePark #Exercise #FreshAir So grateful for another day. Let's make it count! #Grateful #NewDay #PositiveVibes Can't stop thinking about that amazing concert last night. Still buzzing! #Concert #Music #GoodTimes Need a vacation! Beach, sun, and cocktails. That's the dream. #VacationMode #BeachLife #Dreaming Big fan of this new show. Binge-watching all weekend! #NewShow #BingeWatching #TVTime Anyone else obsessed with their plants? My little green friends are thriving. #Plants #Gardening #GreenThumb Feeling under the weather today. Need all the tissues and soup. #SickDay #SoupAndTissues #RestUp This is my happy place. Cozy blanket, warm drink, and a good book. #CozyVibes #Bookworm #RelaxTime Can't wait for the weekend! Time to recharge and relax. #WeekendVibes #Recharge #Relaxation So excited about this new project! Can't wait to see it come to life. #NewProject #Excited #WorkMode Had the best dinner with friends last night. Good food, good company, and lots of laughs. #Friends #Dinner #GoodTimes Need to declutter my house. Any tips? Feeling overwhelmed. #Declutter #Organization #Help This weather is making me crave comfort food. Anyone else? #ComfortFood #Cravings #RainyDay Missing my dog so much. Can't wait to see that furry face again. #DogLover #MissingMyPet #PuppyLove Time to catch up on my sleep. Exhausted! #Sleep #Tired #Recharge\"]"
   ]
  },
  {
   "cell_type": "code",
   "execution_count": 555,
   "metadata": {},
   "outputs": [],
   "source": [
    "tweets.extend([\"Can't believe how fast this year is flying by! Where did the time go? #TimeFlying #GettingOlder #WhereDidTheTimeGo Looking forward to the weekend! Need to relax and recharge. #WeekendVibes #Relaxation #RechargeTime Anyone else struggling with this heat? I'm melting! #HotWeather #SummerStruggle #ACPlease This new recipe was a hit! So delicious and easy to make. #NewRecipe #Cooking #Foodie Feeling nostalgic today. Listening to old music and remembering good times. #Nostalgia #OldMusic #Memories Gardening is my therapy. Love spending time in the dirt. #Gardening #Therapy #NatureLover Can't wait to see this new movie everyone is talking about. #NewMovie #MovieNight #PopcornTime So grateful for my friends and family. They make life so much better. #Grateful #FriendsAndFamily #Blessed Missing my vacation already. Back to reality with a thud. #VacationOver #BackToWork #MissingTheBeach Trying to learn a new skill. Wish me luck! #NewSkill #LearningNewThings #ChallengeAccepted Need a good book recommendation. Any suggestions? #BookWorm #Reading #Recommendations This house is a mess! Time for a deep clean. #CleaningDay #MessyHouse #Organization This weather is perfect for a picnic. Anyone up for it? #Picnic #Outdoor #Sunshine Love trying new restaurants. Any recommendations? #Foodie #NewRestaurant #FoodLover Can't stop thinking about retirement. Is it too early to plan? #Retirement #Dreaming #FuturePlans Need to get more exercise. Any workout buddies? #Exercise #HealthyLiving #WorkoutPartner So tired of the news. Can't we all just get along? #WorldPeace #TiredOfTheNews #Humanity\"])\n",
    "\n",
    "tweets.extend([\"Had the best sleep in ages! Feeling refreshed and ready to take on the day. #GoodSleep #Refreshed #NewDay Craving something sweet. Any dessert ideas? #SweetTooth #Cravings #DessertTime This plant I bought is dying. Any green thumb tips? #PlantParentFail #Gardening #Help This show is addicting! Can't stop watching. #NewShow #BingeWatching #TVTime Need to declutter my closet. Any tips? #Declutter #Organization #Fashion So excited for the holidays! Can't wait to spend time with family. #Holidays #FamilyTime #ChristmasTime This cold weather is making me lazy. Anyone else? #ColdWeather #LazyDay #CouchPotato Feeling stressed. Need to find a way to relax. #Stress #Relaxation #SelfCare Missing my dog like crazy. #DogLover #MissingMyPet #PuppyLove This coffee is exactly what I needed. #CoffeeLover #CaffeineFix #MorningRoutine Can't wait for the weekend to start! Any fun plans? #WeekendVibes #Plans #FunTime Need to learn how to cook something new. Any suggestions? #Cooking #NewRecipe #Foodie This house is too quiet. Need some noise! #QuietHouse #NoisyNeighbors #Boredom Feeling grateful for all the good things in my life. #Grateful #PositiveVibes #Blessed\"])\n"
   ]
  },
  {
   "cell_type": "code",
   "execution_count": 556,
   "metadata": {},
   "outputs": [],
   "source": [
    "tweets.extend([\"Can't believe how quickly the year is flying by! Feels like just yesterday it was summer. #TimeFlying #GettingOlder #WhereDidTheTimeGo This weather is perfect for a cozy night in. Blanket, book, and hot chocolate, anyone? #CozyNight #Reading #HotChocolate Craving pizza tonight! Any recommendations for the best local spot? #PizzaNight #Foodie #FoodCravings So tired of the news. Need a break from all the negativity. #TiredOfTheNews #NeedABreak #MentalHealth So grateful for good health. It's something we often take for granted. #Grateful #HealthyLiving #Blessed Missing my adult children. Wish they lived closer. #MissingMyKids #FamilyLove #LongDistance This house is a mess! Need to tackle the clutter. Any tips? #ClutterFree #Organization #Help This new hobby is so relaxing. It's a great way to unwind. #NewHobby #Relaxation #StressRelief Can't wait to travel again. Any dream destinations? #TravelGoals #Wanderlust #BucketList This coffee is just what I needed to start the day. #CoffeeLover #CaffeineFix #MorningRoutine Feeling nostalgic today. Listening to old music brings back memories. #Nostalgia #OldMusic #Memories Need to get more active. Any exercise ideas? #Exercise #HealthyLiving #GetFit Can't stop thinking about retirement. Dreaming of sunny beaches and relaxation. #RetirementDreams #BeachLife #FuturePlans This garden is starting to look beautiful. So rewarding to watch it grow. #Gardening #Nature #Hobby This show is addictive! Can't wait for the next episode. #NewShow #BingeWatching #TVTime Feeling overwhelmed. Need to simplify my life. #Overwhelmed #Simplify #LessIsMore So excited for the weekend! Time to relax and recharge. #WeekendVibes #Relaxation #RechargeTime Need a new haircut. Any recommendations for a good stylist? #HairCut #NewLook #SelfCare\"])\n",
    "\n",
    "tweets.extend([\"This weather is making me crave comfort food. Any suggestions? #ComfortFood #Cravings #RainyDay Can't believe Christmas is almost here! Time to start planning. #Christmas #Holidays #FamilyTime Feeling stressed about holiday shopping. Any tips? #HolidayShopping #Stress #Budgeting This new year is going to be my best yet! Setting goals and making plans. #NewYear #NewBeginnings #Goals This book is amazing! Can't put it down. #BookWorm #Reading #NewBook So tired of winter! Bring on spring! #WinterBlues #SpringFever #WaitingForWarmth Need to learn how to cook something new. Any recipe ideas? #Cooking #NewRecipe #Foodie This house is too quiet. Need some company! #Lonely #Friends #SocialLife So grateful for my furry friend. They always know how to cheer me up. #DogLover #PetLove #Companionship Can't wait to try this new restaurant. Heard great things about it. #NewRestaurant #Foodie #DinnerPlans This plant is finally thriving! Feeling like a plant parent pro. #Gardening #Plants #GreenThumb Need to declutter my digital life. So many unused apps! #Declutter #DigitalMinimalism #Organization Feeling inspired to start a new project. Any ideas? #NewProject #Creative #DIY This weather is perfect for a walk in the park. #Outdoor #Exercise #FreshAir Can't stop thinking about vacation. Need to start planning! #Vacation #Travel #Dreaming\"])\n"
   ]
  },
  {
   "cell_type": "code",
   "execution_count": 557,
   "metadata": {},
   "outputs": [],
   "source": [
    "tweets.extend([\"Can't believe how fast the kids are growing up! Feels like just yesterday they were babies. #TimeFlying #Grandkids #ProudGrandma This new recipe was a total hit! Everyone loved it. #Cooking #NewRecipe #Foodie Feeling nostalgic for simpler times. Life was less complicated back then. #Nostalgia #Memories #GoodOldDays This house is freezing! Need to find that extra blanket. #ColdHouse #Winter #CozyUp Can't wait to see this new movie everyone's talking about. #NewMovie #MovieNight #PopcornTime Need a good book to escape reality. Any recommendations? #BookWorm #Reading #Recommendations This plant is looking a bit sad. Any green thumb tips? #PlantParent #Gardening #Help So tired of winter! Ready for spring flowers. #WinterBlues #SpringFever #WaitingForWarmth Missing my travel buddies. Can't wait to explore new places together. #Travel #Friends #Adventure This coffee is just what I needed to start the day. #CoffeeLover #CaffeineFix #MorningRoutine Feeling stressed about work. Need a vacation! #Stress #Work #VacationMode This show is so addictive! Can't stop watching. #NewShow #BingeWatching #TVTime Need to get more organized. This house is a mess! #Organization #Clutter #CleanUp This weather is perfect for a long walk. #Outdoor #Exercise #FreshAir Can't believe how lucky I am. So grateful for my family and friends. #Grateful #Blessed #FamilyAndFriends This new hobby is so relaxing. It's a great way to unwind. #Hobby #Relaxation #StressRelief Need a haircut! Any recommendations for a good salon? #HairCut #NewLook #SelfCare Missing my dog like crazy. #DogLover #MissingMyPet #PuppyLove This meal was delicious! Best restaurant ever. #Foodie #Dinner #Restaurant\"])\n",
    "\n",
    "tweets.extend([\"Can't wait for the weekend! Time to relax and recharge. #WeekendVibes #Relaxation #RechargeTime Feeling under the weather. Need soup and a good book. #SickDay #ComfortFood #Reading This garden is starting to bloom! So beautiful. #Gardening #Nature #Flowers This new phone is driving me crazy! Can't figure it out. #Technology #Frustrated #Help This show is so funny! I can't stop laughing. #Comedy #TV #Laughter This house is too quiet. Need some noise! #Quiet #Lonely #Companionship Can't believe how expensive everything is! Need a budget. #Money #Budgeting #Saving This weather is perfect for a picnic. #Outdoor #Picnic #Sunshine Need to learn how to cook something new. Any easy recipes? #Cooking #NewRecipe #Foodie This movie was so disappointing. Waste of time. #Movie #Disappointed #BadMovie This plant is thriving! Feeling like a plant parent pro. #Gardening #Plants #GreenThumb Can't wait to try this new recipe. Sounds delicious! #Cooking #NewRecipe #FoodCravings Need to declutter my closet. So many clothes, so little space. #Clutter #Organization #Fashion This book is so inspiring. It's changing my perspective. #Book #Inspiration #PersonalGrowth Can't believe Christmas is almost here! Time to start decorating. #Christmas #Holidays #Decorations\"])\n"
   ]
  },
  {
   "cell_type": "code",
   "execution_count": 558,
   "metadata": {},
   "outputs": [],
   "source": [
    "tweets.extend([\"Can't believe how fast the kids are growing up! Feels like just yesterday they were babies. #TimeFlying #Grandkids #ProudGrandma This new recipe was a total hit! Everyone loved it. #Cooking #NewRecipe #Foodie Feeling nostalgic for simpler times. Life was less complicated back then. #Nostalgia #Memories #GoodOldDays This house is freezing! Need to find that extra blanket. #ColdHouse #Winter #CozyUp Can't wait to see this new movie everyone's talking about. #NewMovie #MovieNight #PopcornTime Need a good book to escape reality. Any recommendations? #BookWorm #Reading #Recommendations This plant is looking a bit sad. Any green thumb tips? #PlantParent #Gardening #Help So tired of winter! Ready for spring flowers. #WinterBlues #SpringFever #WaitingForWarmth Missing my travel buddies. Can't wait to explore new places together. #Travel #Friends #Adventure This coffee is just what I needed to start the day. #CoffeeLover #CaffeineFix #MorningRoutine Feeling stressed about work. Need a vacation! #Stress #Work #VacationMode This show is so addictive! Can't stop watching. #NewShow #BingeWatching #TVTime Need to get more organized. This house is a mess! #Organization #Clutter #CleanUp This weather is perfect for a long walk. #Outdoor #Exercise #FreshAir Can't believe how lucky I am. So grateful for my family and friends. #Grateful #Blessed #FamilyAndFriends This new hobby is so relaxing. It's a great way to unwind. #Hobby #Relaxation #StressRelief Need a haircut! Any recommendations for a good salon? #HairCut #NewLook #SelfCare Missing my dog like crazy. #DogLover #MissingMyPet #PuppyLove This meal was delicious! Best restaurant ever. #Foodie #Dinner #Restaurant\"])\n",
    "\n",
    "tweets.extend([\"Can't wait for the weekend! Time to relax and recharge. #WeekendVibes #Relaxation #RechargeTime Feeling under the weather. Need soup and a good book. #SickDay #ComfortFood #Reading This garden is starting to bloom! So beautiful. #Gardening #Nature #Flowers This new phone is driving me crazy! Can't figure it out. #Technology #Frustrated #Help This show is so funny! I can't stop laughing. #Comedy #TV #Laughter This house is too quiet. Need some noise! #Quiet #Lonely #Companionship Can't believe how expensive everything is! Need a budget. #Money #Budgeting #Saving This weather is perfect for a picnic. #Outdoor #Picnic #Sunshine Need to learn how to cook something new. Any easy recipes? #Cooking #NewRecipe #Foodie This movie was so disappointing. Waste of time. #Movie #Disappointed #BadMovie This plant is thriving! Feeling like a plant parent pro. #Gardening #Plants #GreenThumb Can't wait to try this new recipe. Sounds delicious! #Cooking #NewRecipe #FoodCravings Need to declutter my closet. So many clothes, so little space. #Clutter #Organization #Fashion This book is so inspiring. It's changing my perspective. #Book #Inspiration #PersonalGrowth Can't believe Christmas is almost here! Time to start decorating. #Christmas #Holidays #Decorations\"])\n"
   ]
  },
  {
   "cell_type": "code",
   "execution_count": 559,
   "metadata": {},
   "outputs": [],
   "source": [
    "tweets.extend([\"Can't believe how quickly the seasons change! It feels like summer just started. #TimeFlying #SeasonsChanging #WeatherChange This new show is so addictive! I can't stop binge-watching. #NewShow #BingeWatching #TVTime Feeling stressed about work. Need a vacation day! #Stress #Work #VacationMode This house is a mess! Need to do a deep clean. #Clutter #Cleaning #Organization So tired of the news. It's all negative. #News #Negative #MentalHealth This garden is starting to look beautiful. So rewarding to watch it grow. #Gardening #Nature #Hobby Can't wait to try this new restaurant. Heard great things about it. #NewRestaurant #Foodie #DinnerPlans Missing my adult children. Wish they lived closer. #MissingMyKids #FamilyLove #LongDistance This book is so inspiring. It's changing my perspective. #Book #Inspiration #PersonalGrowth Need a new haircut! Any recommendations for a good stylist? #HairCut #NewLook #SelfCare This weather is perfect for a cozy night in. #CozyNight #Weather #Relaxation Can't believe how lucky I am. So grateful for my health. #Grateful #Health #Blessed This coffee is just what I needed to start the day. #CoffeeLover #CaffeineFix #MorningRoutine Feeling nostalgic for simpler times. #Nostalgia #Memories #GoodOldDays Need to get more active. Any exercise ideas? #Exercise #HealthyLiving #GetFit Can't wait to travel again. Dreaming of exotic destinations. #Travel #Wanderlust #DreamVacation This meal was delicious! Best restaurant ever. #Foodie #Dinner #Restaurant\"])\n",
    "\n",
    "tweets.extend([\"Can't believe how expensive everything is! Need to cut back on spending. #Money #Budgeting #Saving This show is so funny! I can't stop laughing. #Comedy #TV #Laughter Feeling overwhelmed. Need to simplify my life. #Overwhelmed #Simplify #LessIsMore This plant is looking a bit sad. Any green thumb tips? #PlantParent #Gardening #Help Can't wait for the weekend! Time to relax and recharge. #WeekendVibes #Relaxation #RechargeTime Need to learn how to cook something new. Any easy recipes? #Cooking #NewRecipe #Foodie This house is too quiet. Need some company! #Quiet #Lonely #Companionship So excited for the holidays! Can't wait to spend time with family. #Holidays #FamilyTime #ChristmasTime This weather is perfect for a long walk. #Outdoor #Exercise #FreshAir Missing my dog like crazy. #DogLover #MissingMyPet #PuppyLove Can't believe how fast the year is flying by! Where did the time go? #TimeFlying #GettingOlder #WhereDidTheTimeGo This new hobby is so relaxing. It's a great way to unwind. #Hobby #Relaxation #StressRelief Need a good book to escape reality. Any recommendations? #BookWorm #Reading #Recommendations Can't wait to see this new movie everyone's talking about. #NewMovie #MovieNight #PopcornTime Feeling stressed about holiday shopping. Any tips? #HolidayShopping #Stress #Budgeting\"])\n"
   ]
  },
  {
   "cell_type": "code",
   "execution_count": 560,
   "metadata": {},
   "outputs": [],
   "source": [
    "tweets.extend([\"Can't believe how fast the year is flying by! It feels like just yesterday it was summer. #TimeFlying #GettingOlder #WhereDidTheTimeGo This weather is perfect for a cozy night in. Blanket, book, and hot chocolate, anyone? #CozyNight #Reading #HotChocolate Craving pizza tonight! Any recommendations for the best local spot? #PizzaNight #Foodie #FoodCravings So tired of the news. Need a break from all the negativity. #TiredOfTheNews #NeedABreak #MentalHealth So grateful for good health. It's something we often take for granted. #Grateful #HealthyLiving #Blessed Missing my adult children. Wish they lived closer. #MissingMyKids #FamilyLove #LongDistance This house is a mess! Need to tackle the clutter. Any tips? #ClutterFree #Organization #Help This new hobby is so relaxing. It's a great way to unwind. #NewHobby #Relaxation #StressRelief Can't wait to travel again. Any dream destinations? #TravelGoals #Wanderlust #BucketList This coffee is just what I needed to start the day. #CoffeeLover #CaffeineFix #MorningRoutine Feeling nostalgic today. Listening to old music brings back memories. #Nostalgia #OldMusic #Memories Need to get more active. Any exercise ideas? #Exercise #HealthyLiving #GetFit Can't stop thinking about retirement. Dreaming of sunny beaches and relaxation. #RetirementDreams #BeachLife #FuturePlans This garden is starting to look beautiful. So rewarding to watch it grow. #Gardening #Nature #Hobby This show is addicting! Can't wait for the next episode. #NewShow #BingeWatching #TVTime Feeling overwhelmed. Need to find a way to relax. #Stress #Relaxation #SelfCare So excited for the weekend! Time to relax and recharge. #WeekendVibes #Relaxation #RechargeTime Need to learn how to cook something new. Any suggestions? #Cooking #NewRecipe #Foodie This house is too quiet. Need some noise! #QuietHouse #NoisyNeighbors #Boredom Feeling grateful for all the good things in my life. #Grateful #PositiveVibes #Blessed\"])\n",
    "\n",
    "tweets.extend([\"This weather is making me crave comfort food. Any suggestions? #ComfortFood #Cravings #RainyDay Can't believe Christmas is almost here! Time to start planning. #Christmas #Holidays #FamilyTime Feeling stressed about holiday shopping. Any tips? #HolidayShopping #Stress #Budgeting This new year is going to be my best yet! Setting goals and making plans. #NewYear #NewBeginnings #Goals This book is amazing! Can't put it down. #BookWorm #Reading #NewBook So tired of winter! Bring on spring! #WinterBlues #SpringFever #WaitingForWarmth Need to learn how to cook something new. Any recipe ideas? #Cooking #NewRecipe #Foodie This house is too quiet. Need some company! #Lonely #Friends #SocialLife So grateful for my furry friend. They always know how to cheer me up. #DogLover #PetLove #Companionship Can't wait to try this new restaurant. Heard great things about it. #NewRestaurant #Foodie #DinnerPlans This plant is finally thriving! Feeling like a plant parent pro. #Gardening #Plants #GreenThumb Need to declutter my digital life. So many unused apps! #Declutter #DigitalMinimalism #Organization Feeling inspired to start a new project. Any ideas? #NewProject #Creative #DIY This weather is perfect for a walk in the park. #Outdoor #Exercise #FreshAir Can't stop thinking about vacation. Need to start planning! #Vacation #Travel #Dreaming\"])\n"
   ]
  },
  {
   "cell_type": "code",
   "execution_count": 561,
   "metadata": {},
   "outputs": [],
   "source": [
    "tweets.extend([\"Can't believe how fast the kids are growing up! Feels like just yesterday they were babies. #TimeFlying #Grandkids #ProudGrandma This new recipe was a total hit! Everyone loved it. #Cooking #NewRecipe #Foodie Feeling nostalgic for simpler times. Life was less complicated back then. #Nostalgia #Memories #GoodOldDays This house is freezing! Need to find that extra blanket. #ColdHouse #Winter #CozyUp Can't wait to see this new movie everyone's talking about. #NewMovie #MovieNight #PopcornTime Need a good book to escape reality. Any recommendations? #BookWorm #Reading #Recommendations This plant is looking a bit sad. Any green thumb tips? #PlantParent #Gardening #Help So tired of winter! Ready for spring flowers. #WinterBlues #SpringFever #WaitingForWarmth Missing my travel buddies. Can't wait to explore new places together. #Travel #Friends #Adventure This coffee is just what I needed to start the day. #CoffeeLover #CaffeineFix #MorningRoutine Feeling stressed about work. Need a vacation! #Stress #Work #VacationMode This show is so addictive! Can't stop watching. #NewShow #BingeWatching #TVTime Need to get more organized. This house is a mess! #Organization #Clutter #CleanUp This weather is perfect for a long walk. #Outdoor #Exercise #FreshAir Can't believe how lucky I am. So grateful for my family and friends. #Grateful #Blessed #FamilyAndFriends This new hobby is so relaxing. It's a great way to unwind. #Hobby #Relaxation #StressRelief Need a haircut! Any recommendations for a good salon? #HairCut #NewLook #SelfCare Missing my dog like crazy. #DogLover #MissingMyPet #PuppyLove This meal was delicious! Best restaurant ever. #Foodie #Dinner #Restaurant\"])\n",
    "\n",
    "tweets.extend([\"Can't wait for the weekend! Time to relax and recharge. #WeekendVibes #Relaxation #RechargeTime Feeling under the weather. Need soup and a good book. #SickDay #ComfortFood #Reading This garden is starting to bloom! So beautiful. #Gardening #Nature #Flowers This new phone is driving me crazy! Can't figure it out. #Technology #Frustrated #Help This show is so funny! I can't stop laughing. #Comedy #TV #Laughter This house is too quiet. Need some noise! #Quiet #Lonely #Companionship Can't believe how expensive everything is! Need a budget. #Money #Budgeting #Saving This weather is perfect for a picnic. #Outdoor #Picnic #Sunshine Need to learn how to cook something new. Any easy recipes? #Cooking #NewRecipe #Foodie This movie was so disappointing. Waste of time. #Movie #Disappointed #BadMovie This plant is thriving! Feeling like a plant parent pro. #Gardening #Plants #GreenThumb Can't wait to try this new recipe. Sounds delicious! #Cooking #NewRecipe #FoodCravings Need to declutter my closet. So many clothes, so little space. #Clutter #Organization #Fashion This book is so inspiring. It's changing my perspective. #Book #Inspiration #PersonalGrowth Can't believe Christmas is almost here! Time to start decorating. #Christmas #Holidays #Decorations\"])\n"
   ]
  },
  {
   "cell_type": "code",
   "execution_count": 562,
   "metadata": {},
   "outputs": [],
   "source": [
    "tweets.extend([\"Can't believe how fast the kids are growing up! Feels like just yesterday they were babies. #TimeFlying #Grandkids #ProudGrandma This new recipe was a total hit! Everyone loved it. #Cooking #NewRecipe #Foodie Feeling nostalgic for simpler times. Life was less complicated back then. #Nostalgia #Memories #GoodOldDays This house is freezing! Need to find that extra blanket. #ColdHouse #Winter #CozyUp Can't wait to see this new movie everyone's talking about. #NewMovie #MovieNight #PopcornTime Need a good book to escape reality. Any recommendations? #BookWorm #Reading #Recommendations This plant is looking a bit sad. Any green thumb tips? #PlantParent #Gardening #Help So tired of winter! Ready for spring flowers. #WinterBlues #SpringFever #WaitingForWarmth Missing my travel buddies. Can't wait to explore new places together. #Travel #Friends #Adventure This coffee is just what I needed to start the day. #CoffeeLover #CaffeineFix #MorningRoutine Feeling stressed about work. Need a vacation! #Stress #Work #VacationMode This show is so addictive! Can't stop watching. #NewShow #BingeWatching #TVTime Need to get more organized. This house is a mess! #Organization #Clutter #CleanUp This weather is perfect for a long walk. #Outdoor #Exercise #FreshAir Can't believe how lucky I am. So grateful for my family and friends. #Grateful #Blessed #FamilyAndFriends This new hobby is so relaxing. It's a great way to unwind. #Hobby #Relaxation #StressRelief Need a haircut! Any recommendations for a good salon? #HairCut #NewLook #SelfCare Missing my dog like crazy. #DogLover #MissingMyPet #PuppyLove This meal was delicious! Best restaurant ever. #Foodie #Dinner #Restaurant\"])\n",
    "\n",
    "tweets.extend([\"Can't wait for the weekend! Time to relax and recharge. #WeekendVibes #Relaxation #RechargeTime Feeling under the weather. Need soup and a good book. #SickDay #ComfortFood #Reading This garden is starting to bloom! So beautiful. #Gardening #Nature #Flowers This new phone is driving me crazy! Can't figure it out. #Technology #Frustrated #Help This show is so funny! I can't stop laughing. #Comedy #TV #Laughter This house is too quiet. Need some noise! #Quiet #Lonely #Companionship Can't believe how expensive everything is! Need a budget. #Money #Budgeting #Saving This weather is perfect for a picnic. #Outdoor #Picnic #Sunshine Need to learn how to cook something new. Any easy recipes? #Cooking #NewRecipe #Foodie This movie was so disappointing. Waste of time. #Movie #Disappointed #BadMovie This plant is thriving! Feeling like a plant parent pro. #Gardening #Plants #GreenThumb Can't wait to try this new recipe. Sounds delicious! #Cooking #NewRecipe #FoodCravings Need to declutter my closet. So many clothes, so little space. #Clutter #Organization #Fashion This book is so inspiring. It's changing my perspective. #Book #Inspiration #PersonalGrowth Can't believe Christmas is almost here! Time to start decorating. #Christmas #Holidays #Decorations\"])\n"
   ]
  },
  {
   "cell_type": "code",
   "execution_count": 563,
   "metadata": {},
   "outputs": [],
   "source": [
    "tweets.extend([\"Can't believe how fast the kids are growing up! Feels like just yesterday they were babies. #TimeFlying #Grandkids #ProudGrandma This new recipe was a total hit! Everyone loved it. #Cooking #NewRecipe #Foodie Feeling nostalgic for simpler times. Life was less complicated back then. #Nostalgia #Memories #GoodOldDays This house is freezing! Need to find that extra blanket. #ColdHouse #Winter #CozyUp Can't wait to see this new movie everyone's talking about. #NewMovie #MovieNight #PopcornTime Need a good book to escape reality. Any recommendations? #BookWorm #Reading #Recommendations This plant is looking a bit sad. Any green thumb tips? #PlantParent #Gardening #Help So tired of winter! Ready for spring flowers. #WinterBlues #SpringFever #WaitingForWarmth Missing my travel buddies. Can't wait to explore new places together. #Travel #Friends #Adventure This coffee is just what I needed to start the day. #CoffeeLover #CaffeineFix #MorningRoutine Feeling stressed about work. Need a vacation! #Stress #Work #VacationMode This show is so addictive! Can't stop watching. #NewShow #BingeWatching #TVTime Need to get more organized. This house is a mess! #Organization #Clutter #CleanUp This weather is perfect for a long walk. #Outdoor #Exercise #FreshAir Can't believe how lucky I am. So grateful for my family and friends. #Grateful #Blessed #FamilyAndFriends This new hobby is so relaxing. It's a great way to unwind. #Hobby #Relaxation #StressRelief Need a haircut! Any recommendations for a good salon? #HairCut #NewLook #SelfCare Missing my dog like crazy. #DogLover #MissingMyPet #PuppyLove This meal was delicious! Best restaurant ever. #Foodie #Dinner #Restaurant\"])\n",
    "\n",
    "tweets.extend([\"Can't wait for the weekend! Time to relax and recharge. #WeekendVibes #Relaxation #RechargeTime Feeling under the weather. Need soup and a good book. #SickDay #ComfortFood #Reading This garden is starting to bloom! So beautiful. #Gardening #Nature #Flowers This new phone is driving me crazy! Can't figure it out. #Technology #Frustrated #Help This show is so funny! I can't stop laughing. #Comedy #TV #Laughter This house is too quiet. Need some noise! #Quiet #Lonely #Companionship Can't believe how expensive everything is! Need a budget. #Money #Budgeting #Saving This weather is perfect for a picnic. #Outdoor #Picnic #Sunshine Need to learn how to cook something new. Any easy recipes? #Cooking #NewRecipe #Foodie This movie was so disappointing. Waste of time. #Movie #Disappointed #BadMovie This plant is thriving! Feeling like a plant parent pro. #Gardening #Plants #GreenThumb Can't wait to try this new recipe. Sounds delicious! #Cooking #NewRecipe #FoodCravings Need to declutter my closet. So many clothes, so little space. #Clutter #Organization #Fashion This book is so inspiring. It's changing my perspective. #Book #Inspiration #PersonalGrowth Can't believe Christmas is almost here! Time to start decorating. #Christmas #Holidays #Decorations\"])\n"
   ]
  },
  {
   "cell_type": "code",
   "execution_count": 564,
   "metadata": {},
   "outputs": [],
   "source": [
    "tweets.extend([\"Can't believe how fast the kids are growing up! Feels like just yesterday they were babies. #TimeFlying #Grandkids #ProudGrandma This new recipe was a total hit! Everyone loved it. #Cooking #NewRecipe #Foodie Feeling nostalgic for simpler times. Life was less complicated back then. #Nostalgia #Memories #GoodOldDays This house is freezing! Need to find that extra blanket. #ColdHouse #Winter #CozyUp Can't wait to see this new movie everyone's talking about. #NewMovie #MovieNight #PopcornTime Need a good book to escape reality. Any recommendations? #BookWorm #Reading #Recommendations This plant is looking a bit sad. Any green thumb tips? #PlantParent #Gardening #Help So tired of winter! Ready for spring flowers. #WinterBlues #SpringFever #WaitingForWarmth Missing my travel buddies. Can't wait to explore new places together. #Travel #Friends #Adventure This coffee is just what I needed to start the day. #CoffeeLover #CaffeineFix #MorningRoutine Feeling stressed about work. Need a vacation! #Stress #Work #VacationMode This show is so addictive! Can't stop watching. #NewShow #BingeWatching #TVTime Need to get more organized. This house is a mess! #Organization #Clutter #CleanUp This weather is perfect for a long walk. #Outdoor #Exercise #FreshAir Can't believe how lucky I am. So grateful for my family and friends. #Grateful #Blessed #FamilyAndFriends This new hobby is so relaxing. It's a great way to unwind. #Hobby #Relaxation #StressRelief Need a haircut! Any recommendations for a good salon? #HairCut #NewLook #SelfCare Missing my dog like crazy. #DogLover #MissingMyPet #PuppyLove This meal was delicious! Best restaurant ever. #Foodie #Dinner #Restaurant\"])\n",
    "\n",
    "tweets.extend([\"Can't wait for the weekend! Time to relax and recharge. #WeekendVibes #Relaxation #RechargeTime Feeling under the weather. Need soup and a good book. #SickDay #ComfortFood #Reading This garden is starting to bloom! So beautiful. #Gardening #Nature #Flowers This new phone is driving me crazy! Can't figure it out. #Technology #Frustrated #Help This show is so funny! I can't stop laughing. #Comedy #TV #Laughter This house is too quiet. Need some noise! #Quiet #Lonely #Companionship Can't believe how expensive everything is! Need a budget. #Money #Budgeting #Saving This weather is perfect for a picnic. #Outdoor #Picnic #Sunshine Need to learn how to cook something new. Any easy recipes? #Cooking #NewRecipe #Foodie This movie was so disappointing. Waste of time. #Movie #Disappointed #BadMovie This plant is thriving! Feeling like a plant parent pro. #Gardening #Plants #GreenThumb Can't wait to try this new recipe. Sounds delicious! #Cooking #NewRecipe #FoodCravings Need to declutter my closet. So many clothes, so little space. #Clutter #Organization #Fashion This book is so inspiring. It's changing my perspective. #Book #Inspiration #PersonalGrowth Can't believe Christmas is almost here! Time to start decorating. #Christmas #Holidays #Decorations\"])\n"
   ]
  },
  {
   "cell_type": "code",
   "execution_count": 565,
   "metadata": {},
   "outputs": [],
   "source": [
    "tweets.extend([\"Can't believe how fast the year is flying by! Feels like just yesterday it was summer. #TimeFlying #GettingOlder #WhereDidTheTimeGo This weather is perfect for a cozy night in. Blanket, book, and hot chocolate, anyone? #CozyNight #Reading #HotChocolate Craving pizza tonight! Any recommendations for the best local spot? #PizzaNight #Foodie #FoodCravings So tired of the news. Need a break from all the negativity. #TiredOfTheNews #NeedABreak #MentalHealth So grateful for good health. It's something we often take for granted. #Grateful #HealthyLiving #Blessed Missing my adult children. Wish they lived closer. #MissingMyKids #FamilyLove #LongDistance This house is a mess! Need to tackle the clutter. Any tips? #ClutterFree #Organization #Help This new hobby is so relaxing. It's a great way to unwind. #NewHobby #Relaxation #StressRelief Can't wait to travel again. Any dream destinations? #TravelGoals #Wanderlust #BucketList This coffee is just what I needed to start the day. #CoffeeLover #CaffeineFix #MorningRoutine Feeling nostalgic today. Listening to old music brings back memories. #Nostalgia #OldMusic #Memories Need to get more active. Any exercise ideas? #Exercise #HealthyLiving #GetFit Can't stop thinking about retirement. Dreaming of sunny beaches and relaxation. #RetirementDreams #BeachLife #FuturePlans This garden is starting to look beautiful. So rewarding to watch it grow. #Gardening #Nature #Hobby This show is addicting! Can't wait for the next episode. #NewShow #BingeWatching #TVTime Feeling overwhelmed. Need to find a way to relax. #Stress #Relaxation #SelfCare So excited for the weekend! Time to relax and recharge. #WeekendVibes #Relaxation #RechargeTime Need to learn how to cook something new. Any suggestions? #Cooking #NewRecipe #Foodie This house is too quiet. Need some noise! #QuietHouse #NoisyNeighbors #Boredom Feeling grateful for all the good things in my life. #Grateful #PositiveVibes #Blessed\"])\n",
    "\n",
    "tweets.extend([\"This weather is making me crave comfort food. Any suggestions? #ComfortFood #Cravings #RainyDay Can't believe Christmas is almost here! Time to start planning. #Christmas #Holidays #FamilyTime Feeling stressed about holiday shopping. Any tips? #HolidayShopping #Stress #Budgeting This new year is going to be my best yet! Setting goals and making plans. #NewYear #NewBeginnings #Goals This book is amazing! Can't put it down. #BookWorm #Reading #NewBook So tired of winter! Bring on spring! #WinterBlues #SpringFever #WaitingForWarmth Need to learn how to cook something new. Any recipe ideas? #Cooking #NewRecipe #Foodie This house is too quiet. Need some company! #Lonely #Friends #SocialLife So grateful for my furry friend. They always know how to cheer me up. #DogLover #PetLove #Companionship Can't wait to try this new restaurant. Heard great things about it. #NewRestaurant #Foodie #DinnerPlans This plant is finally thriving! Feeling like a plant parent pro. #Gardening #Plants #GreenThumb Need to declutter my digital life. So many unused apps! #Declutter #DigitalMinimalism #Organization Feeling inspired to start a new project. Any ideas? #NewProject #Creative #DIY This weather is perfect for a walk in the park. #Outdoor #Exercise #FreshAir Can't stop thinking about vacation. Need to start planning! #Vacation #Travel #Dreaming\"])\n"
   ]
  },
  {
   "cell_type": "code",
   "execution_count": 566,
   "metadata": {},
   "outputs": [],
   "source": [
    "tweets.extend([\"Can't believe how fast the year is flying by! Feels like just yesterday it was summer. #TimeFlying #GettingOlder #WhereDidTheTimeGo This weather is perfect for a cozy night in. Blanket, book, and hot chocolate, anyone? #CozyNight #Reading #HotChocolate Craving pizza tonight! Any recommendations for the best local spot? #PizzaNight #Foodie #FoodCravings So tired of the news. Need a break from all the negativity. #TiredOfTheNews #NeedABreak #MentalHealth So grateful for good health. It's something we often take for granted. #Grateful #HealthyLiving #Blessed Missing my adult children. Wish they lived closer. #MissingMyKids #FamilyLove #LongDistance This house is a mess! Need to tackle the clutter. Any tips? #ClutterFree #Organization #Help This new hobby is so relaxing. It's a great way to unwind. #NewHobby #Relaxation #StressRelief Can't wait to travel again. Any dream destinations? #TravelGoals #Wanderlust #BucketList This coffee is just what I needed to start the day. #CoffeeLover #CaffeineFix #MorningRoutine Feeling nostalgic today. Listening to old music brings back memories. #Nostalgia #OldMusic #Memories Need to get more active. Any exercise ideas? #Exercise #HealthyLiving #GetFit Can't stop thinking about retirement. Dreaming of sunny beaches and relaxation. #RetirementDreams #BeachLife #FuturePlans This garden is starting to look beautiful. So rewarding to watch it grow. #Gardening #Nature #Hobby This show is addicting! Can't wait for the next episode. #NewShow #BingeWatching #TVTime Feeling overwhelmed. Need to find a way to relax. #Stress #Relaxation #SelfCare So excited for the weekend! Time to relax and recharge. #WeekendVibes #Relaxation #RechargeTime Need to learn how to cook something new. Any suggestions? #Cooking #NewRecipe #Foodie This house is too quiet. Need some noise! #QuietHouse #NoisyNeighbors #Boredom Feeling grateful for all the good things in my life. #Grateful #PositiveVibes #Blessed\"])\n",
    "\n",
    "tweets.extend([\"This weather is making me crave comfort food. Any suggestions? #ComfortFood #Cravings #RainyDay Can't believe Christmas is almost here! Time to start planning. #Christmas #Holidays #FamilyTime Feeling stressed about holiday shopping. Any tips? #HolidayShopping #Stress #Budgeting This new year is going to be my best yet! Setting goals and making plans. #NewYear #NewBeginnings #Goals This book is amazing! Can't put it down. #BookWorm #Reading #NewBook So tired of winter! Bring on spring! #WinterBlues #SpringFever #WaitingForWarmth Need to learn how to cook something new. Any recipe ideas? #Cooking #NewRecipe #Foodie This house is too quiet. Need some company! #Lonely #Friends #SocialLife So grateful for my furry friend. They always know how to cheer me up. #DogLover #PetLove #Companionship Can't wait to try this new restaurant. Heard great things about it. #NewRestaurant #Foodie #DinnerPlans This plant is finally thriving! Feeling like a plant parent pro. #Gardening #Plants #GreenThumb Need to declutter my digital life. So many unused apps! #Declutter #DigitalMinimalism #Organization Feeling inspired to start a new project. Any ideas? #NewProject #Creative #DIY This weather is perfect for a walk in the park. #Outdoor #Exercise #FreshAir Can't stop thinking about vacation. Need to start planning! #Vacation #Travel #Dreaming\"])\n"
   ]
  },
  {
   "cell_type": "code",
   "execution_count": 567,
   "metadata": {},
   "outputs": [],
   "source": [
    "tweets.extend([\"Can't believe how fast the year is flying by! Feels like just yesterday it was summer. #timeflies #gettingold #wheredidthetimego This weather is perfect for a cozy night in. Blanket, book, and hot chocolate, anyone? #cozytime #reading #hotchocolate Craving pizza tonight! Any recommendations for the best local spot? #pizzanight #foodie #foodcravings So tired of the news. Need a break from all the negativity. #tiredofthenews #needabreak #mentalhealth So grateful for good health. It's something we often take for granted. #grateful #healthyliving #blessed Missing my adult children. Wish they lived closer. #missingmykids #familylove #longdistance This house is a mess! Need to tackle the clutter. Any tips? #clutterfree #organization #help This new hobby is so relaxing. It's a great way to unwind. #newhobby #relaxation #stressrelief Can't wait to travel again. Any dream destinations? #travelgoals #wanderlust #bucketlist This coffee is just what I needed to start the day. #coffeelover #caffeinefix #morningroutine Feeling nostalgic today. Listening to old music brings back memories. #nostalgia #oldmusic #memories Need to get more active. Any exercise ideas? #exercise #healthyliving #getfit Can't stop thinking about retirement. Dreaming of sunny beaches and relaxation. #retirementdreams #beachlife #futureplans This garden is starting to look beautiful. So rewarding to watch it grow. #gardening #nature #hobby This show is addicting! Can't wait for the next episode. #newshow #bingewatching #tvtime Feeling overwhelmed. Need to find a way to relax. #stress #relaxation #selfcare So excited for the weekend! Time to relax and recharge. #weekendvibes #relaxation #rechargetime Need to learn how to cook something new. Any suggestions? #cooking #newrecipe #foodie This house is too quiet. Need some noise! #quiethouse #noisyneighbors #boredom Feeling grateful for all the good things in my life. #grateful #positivevibes #blessed\"])\n",
    "\n",
    "tweets.extend([\"This weather is making me crave comfort food. Any suggestions? #comfortfood #cravings #rainyday Can't believe Christmas is almost here! Time to start planning. #christmas #holidays #familytime Feeling stressed about holiday shopping. Any tips? #holidayshopping #stress #budgeting This new year is going to be my best yet! Setting goals and making plans. #newyear #newbeginnings #goals This book is amazing! Can't put it down. #bookworm #reading #newbook So tired of winter! Bring on spring! #winterblues #springfever #waitingforwarmth Need to learn how to cook something new. Any recipe ideas? #cooking #newrecipe #foodie This house is too quiet. Need some company! #lonely #friends #sociallife So grateful for my furry friend. They always know how to cheer me up. #doglover #petlove #companionship Can't wait to try this new restaurant. Heard great things about it. #newrestaurant #foodie #dinnerplans This plant is finally thriving! Feeling like a plant parent pro. #gardening #plants #greenthumb Need to declutter my digital life. So many unused apps! #declutter #digitalminimalism #organization Feeling inspired to start a new project. Any ideas? #newproject #creative #diy This weather is perfect for a walk in the park. #outdoor #exercise #freshair Can't stop thinking about vacation. Need to start planning! #vacation #travel #dreaming\"])\n"
   ]
  },
  {
   "cell_type": "code",
   "execution_count": 568,
   "metadata": {},
   "outputs": [],
   "source": [
    "tweets.extend([\"Can't believe how fast the year is flying by! Feels like just yesterday it was summer. #timeflies #gettingold #wheredidthetimego This weather is perfect for a cozy night in. Blanket, book, and hot chocolate, anyone? #cozytime #reading #hotchocolate Craving pizza tonight! Any recommendations for the best local spot? #pizzanight #foodie #foodcravings So tired of the news. Need a break from all the negativity. #tiredofthenews #needabreak #mentalhealth So grateful for good health. It's something we often take for granted. #grateful #healthyliving #blessed Missing my adult children. Wish they lived closer. #missingmykids #familylove #longdistance This house is a mess! Need to tackle the clutter. Any tips? #clutterfree #organization #help This new hobby is so relaxing. It's a great way to unwind. #newhobby #relaxation #stressrelief Can't wait to travel again. Any dream destinations? #travelgoals #wanderlust #bucketlist This coffee is just what I needed to start the day. #coffeelover #caffeinefix #morningroutine Feeling nostalgic today. Listening to old music brings back memories. #nostalgia #oldmusic #memories Need to get more active. Any exercise ideas? #exercise #healthyliving #getfit Can't stop thinking about retirement. Dreaming of sunny beaches and relaxation. #retirementdreams #beachlife #futureplans This garden is starting to look beautiful. So rewarding to watch it grow. #gardening #nature #hobby This show is addicting! Can't wait for the next episode. #newshow #bingewatching #tvtime Feeling overwhelmed. Need to find a way to relax. #stress #relaxation #selfcare So excited for the weekend! Time to relax and recharge. #weekendvibes #relaxation #rechargetime Need to learn how to cook something new. Any suggestions? #cooking #newrecipe #foodie This house is too quiet. Need some noise! #quiethouse #noisyneighbors #boredom Feeling grateful for all the good things in my life. #grateful #positivevibes #blessed\"])\n",
    "\n",
    "tweets.extend([\"This weather is making me crave comfort food. Any suggestions? #comfortfood #cravings #rainyday Can't believe Christmas is almost here! Time to start planning. #christmas #holidays #familytime Feeling stressed about holiday shopping. Any tips? #holidayshopping #stress #budgeting This new year is going to be my best yet! Setting goals and making plans. #newyear #newbeginnings #goals This book is amazing! Can't put it down. #bookworm #reading #newbook So tired of winter! Bring on spring! #winterblues #springfever #waitingforwarmth Need to learn how to cook something new. Any recipe ideas? #cooking #newrecipe #foodie This house is too quiet. Need some company! #lonely #friends #sociallife So grateful for my furry friend. They always know how to cheer me up. #doglover #petlove #companionship Can't wait to try this new restaurant. Heard great things about it. #newrestaurant #foodie #dinnerplans This plant is finally thriving! Feeling like a plant parent pro. #gardening #plants #greenthumb Need to declutter my digital life. So many unused apps! #declutter #digitalminimalism #organization Feeling inspired to start a new project. Any ideas? #newproject #creative #diy This weather is perfect for a walk in the park. #outdoor #exercise #freshair Can't stop thinking about vacation. Need to start planning! #vacation #travel #dreaming\"])\n"
   ]
  },
  {
   "cell_type": "code",
   "execution_count": 569,
   "metadata": {},
   "outputs": [
    {
     "data": {
      "text/plain": [
       "[\"Can't believe how fast this year is flying by! Where did the time go? #TimeFlying #GettingOlder #WhereDidTheTimeGo Looking forward to the weekend! Need to relax and recharge. #WeekendVibes #Relaxation #RechargeTime Anyone else struggling with this heat? I'm melting! #HotWeather #SummerStruggle #ACPlease This new recipe was a hit! So delicious and easy to make. #NewRecipe #Cooking #Foodie Feeling nostalgic today. Listening to old music and remembering good times. #Nostalgia #OldMusic #Memories Gardening is my therapy. Love spending time in the dirt. #Gardening #Therapy #NatureLover Can't wait to see this new movie everyone is talking about. #NewMovie #MovieNight #PopcornTime So grateful for my friends and family. They make life so much better. #Grateful #FriendsAndFamily #Blessed Missing my vacation already. Back to reality with a thud. #VacationOver #BackToWork #MissingTheBeach Trying to learn a new skill. Wish me luck! #NewSkill #LearningNewThings #ChallengeAccepted Need a good book recommendation. Any suggestions? #BookWorm #Reading #Recommendations This house is a mess! Time for a deep clean. #CleaningDay #MessyHouse #Organization This weather is perfect for a picnic. Anyone up for it? #Picnic #Outdoor #Sunshine Love trying new restaurants. Any recommendations? #Foodie #NewRestaurant #FoodLover Can't stop thinking about retirement. Is it too early to plan? #Retirement #Dreaming #FuturePlans Need to get more exercise. Any workout buddies? #Exercise #HealthyLiving #WorkoutPartner So tired of the news. Can't we all just get along? #WorldPeace #TiredOfTheNews #Humanity\"]"
      ]
     },
     "execution_count": 569,
     "metadata": {},
     "output_type": "execute_result"
    }
   ],
   "source": [
    "[\"Can't believe how fast this year is flying by! Where did the time go? #TimeFlying #GettingOlder #WhereDidTheTimeGo Looking forward to the weekend! Need to relax and recharge. #WeekendVibes #Relaxation #RechargeTime Anyone else struggling with this heat? I'm melting! #HotWeather #SummerStruggle #ACPlease This new recipe was a hit! So delicious and easy to make. #NewRecipe #Cooking #Foodie Feeling nostalgic today. Listening to old music and remembering good times. #Nostalgia #OldMusic #Memories Gardening is my therapy. Love spending time in the dirt. #Gardening #Therapy #NatureLover Can't wait to see this new movie everyone is talking about. #NewMovie #MovieNight #PopcornTime So grateful for my friends and family. They make life so much better. #Grateful #FriendsAndFamily #Blessed Missing my vacation already. Back to reality with a thud. #VacationOver #BackToWork #MissingTheBeach Trying to learn a new skill. Wish me luck! #NewSkill #LearningNewThings #ChallengeAccepted Need a good book recommendation. Any suggestions? #BookWorm #Reading #Recommendations This house is a mess! Time for a deep clean. #CleaningDay #MessyHouse #Organization This weather is perfect for a picnic. Anyone up for it? #Picnic #Outdoor #Sunshine Love trying new restaurants. Any recommendations? #Foodie #NewRestaurant #FoodLover Can't stop thinking about retirement. Is it too early to plan? #Retirement #Dreaming #FuturePlans Need to get more exercise. Any workout buddies? #Exercise #HealthyLiving #WorkoutPartner So tired of the news. Can't we all just get along? #WorldPeace #TiredOfTheNews #Humanity\"]\n"
   ]
  },
  {
   "cell_type": "code",
   "execution_count": 570,
   "metadata": {},
   "outputs": [],
   "source": [
    "tweets.extend([\"Had the best sleep in ages! Feeling refreshed and ready to take on the day. #GoodSleep #Refreshed #NewDay Craving something sweet. Any dessert ideas? #SweetTooth #Cravings #DessertTime This plant I bought is dying. Any green thumb tips? #PlantParentFail #Gardening #Help This show is addicting! Can't stop watching. #NewShow #BingeWatching #TVTime Need to declutter my closet. Any tips? #Declutter #Organization #Fashion So excited for the holidays! Can't wait to spend time with family. #Holidays #FamilyTime #ChristmasTime This cold weather is making me lazy. Anyone else? #ColdWeather #LazyDay #CouchPotato Feeling stressed. Need to find a way to relax. #Stress #Relaxation #SelfCare Missing my dog so much. Can't wait to see that furry face again. #DogLover #MissingMyPet #PuppyLove This coffee is exactly what I needed. #CoffeeLover #CaffeineFix #MorningRoutine Can't wait for the weekend to start! Any fun plans? #WeekendVibes #Plans #FunTime Need to learn how to cook something new. Any suggestions? #Cooking #NewRecipe #Foodie This house is too quiet. Need some noise! #QuietHouse #NoisyNeighbors #Boredom Feeling grateful for all the good things in my life. #Grateful #PositiveVibes #Blessed\"])\n",
    "\n",
    "tweets.extend([\"This weather is making me crave comfort food. Any suggestions? #ComfortFood #Cravings #RainyDay Can't believe Christmas is almost here! Time to start planning. #Christmas #Holidays #FamilyTime Feeling stressed about holiday shopping. Any tips? #HolidayShopping #Stress #Budgeting This new year is going to be my best yet! Setting goals and making plans. #NewYear #NewBeginnings #Goals This book is amazing! Can't put it down. #BookWorm #Reading #NewBook So tired of winter! Bring on spring! #WinterBlues #SpringFever #WaitingForWarmth Need to learn how to cook something new. Any recipe ideas? #Cooking #NewRecipe #Foodie This house is too quiet. Need some company! #Lonely #Friends #SocialLife So grateful for my furry friend. They always know how to cheer me up. #DogLover #PetLove #Companionship Can't wait to try this new restaurant. Heard great things about it. #NewRestaurant #Foodie #DinnerPlans This plant is finally thriving! Feeling like a plant parent pro. #Gardening #Plants #GreenThumb Need to declutter my digital life. So many unused apps! #Declutter #DigitalMinimalism #Organization Feeling inspired to start a new project. Any ideas? #NewProject #Creative #DIY This weather is perfect for a walk in the park. #Outdoor #Exercise #FreshAir Can't stop thinking about vacation. Need to start planning! #Vacation #Travel #Dreaming\"])\n"
   ]
  },
  {
   "cell_type": "code",
   "execution_count": 571,
   "metadata": {},
   "outputs": [],
   "source": [
    "tweets.extend([\"Can't believe how fast the year is flying by! Feels like just yesterday it was summer. #timeflies #gettingold #wheredidthetimego This weather is perfect for a cozy night in. Blanket, book, and hot chocolate, anyone? #cozytime #reading #hotchocolate Craving pizza tonight! Any recommendations for the best local spot? #pizzanight #foodie #foodcravings So tired of the news. Need a break from all the negativity. #tiredofthenews #needabreak #mentalhealth So grateful for good health. It's something we often take for granted. #grateful #healthyliving #blessed Missing my adult children. Wish they lived closer. #missingmykids #familylove #longdistance This house is a mess! Need to tackle the clutter. Any tips? #clutterfree #organization #help This new hobby is so relaxing. It's a great way to unwind. #newhobby #relaxation #stressrelief Can't wait to travel again. Any dream destinations? #travelgoals #wanderlust #bucketlist This coffee is just what I needed to start the day. #coffeelover #caffeinefix #morningroutine Feeling nostalgic today. Listening to old music brings back memories. #nostalgia #oldmusic #memories Need to get more active. Any exercise ideas? #exercise #healthyliving #getfit Can't stop thinking about retirement. Dreaming of sunny beaches and relaxation. #retirementdreams #beachlife #futureplans This garden is starting to look beautiful. So rewarding to watch it grow. #gardening #nature #hobby This show is addicting! Can't wait for the next episode. #newshow #bingewatching #tvtime Feeling overwhelmed. Need to find a way to relax. #stress #relaxation #selfcare So excited for the weekend! Time to relax and recharge. #weekendvibes #relaxation #rechargetime Need to learn how to cook something new. Any suggestions? #cooking #newrecipe #foodie This house is too quiet. Need some noise! #quiethouse #noisyneighbors #boredom Feeling grateful for all the good things in my life. #grateful #positivevibes #blessed\"])\n",
    "\n",
    "tweets.extend([\"This weather is making me crave comfort food. Any suggestions? #comfortfood #cravings #rainyday Can't believe Christmas is almost here! Time to start planning. #christmas #holidays #familytime Feeling stressed about holiday shopping. Any tips? #holidayshopping #stress #budgeting This new year is going to be my best yet! Setting goals and making plans. #newyear #newbeginnings #goals This book is amazing! Can't put it down. #bookworm #reading #newbook So tired of winter! Bring on spring! #winterblues #springfever #waitingforwarmth Need to learn how to cook something new. Any recipe ideas? #cooking #newrecipe #foodie This house is too quiet. Need some company! #lonely #friends #sociallife So grateful for my furry friend. They always know how to cheer me up. #doglover #petlove #companionship Can't wait to try this new restaurant. Heard great things about it. #newrestaurant #foodie #dinnerplans This plant is finally thriving! Feeling like a plant parent pro. #gardening #plants #greenthumb Need to declutter my digital life. So many unused apps! #declutter #digitalminimalism #organization Feeling inspired to start a new project. Any ideas? #newproject #creative #diy This weather is perfect for a walk in the park. #outdoor #exercise #freshair Can't stop thinking about vacation. Need to start planning! #vacation #travel #dreaming\"])\n"
   ]
  },
  {
   "cell_type": "code",
   "execution_count": 572,
   "metadata": {},
   "outputs": [
    {
     "data": {
      "text/plain": [
       "[\"Can't believe how fast this year is flying by! Where did the time go? #TimeFlying #GettingOlder #WhereDidTheTimeGo Looking forward to the weekend! Need to relax and recharge. #WeekendVibes #Relaxation #RechargeTime Anyone else struggling with this heat? I'm melting! #HotWeather #SummerStruggle #ACPlease This new recipe was a hit! So delicious and easy to make. #NewRecipe #Cooking #Foodie Feeling nostalgic today. Listening to old music and remembering good times. #Nostalgia #OldMusic #Memories Gardening is my therapy. Love spending time in the dirt. #Gardening #Therapy #NatureLover Can't wait to see this new movie everyone is talking about. #NewMovie #MovieNight #PopcornTime So grateful for my friends and family. They make life so much better. #Grateful #FriendsAndFamily #Blessed Missing my vacation already. Back to reality with a thud. #VacationOver #BackToWork #MissingTheBeach Trying to learn a new skill. Wish me luck! #NewSkill #LearningNewThings #ChallengeAccepted Need a good book recommendation. Any suggestions? #BookWorm #Reading #Recommendations This house is a mess! Time for a deep clean. #CleaningDay #MessyHouse #Organization This weather is perfect for a picnic. Anyone up for it? #Picnic #Outdoor #Sunshine Love trying new restaurants. Any recommendations? #Foodie #NewRestaurant #FoodLover Can't stop thinking about retirement. Is it too early to plan? #Retirement #Dreaming #FuturePlans Need to get more exercise. Any workout buddies? #Exercise #HealthyLiving #WorkoutPartner So tired of the news. Can't we all just get along? #WorldPeace #TiredOfTheNews #Humanity\"]"
      ]
     },
     "execution_count": 572,
     "metadata": {},
     "output_type": "execute_result"
    }
   ],
   "source": [
    "[\"Can't believe how fast this year is flying by! Where did the time go? #TimeFlying #GettingOlder #WhereDidTheTimeGo Looking forward to the weekend! Need to relax and recharge. #WeekendVibes #Relaxation #RechargeTime Anyone else struggling with this heat? I'm melting! #HotWeather #SummerStruggle #ACPlease This new recipe was a hit! So delicious and easy to make. #NewRecipe #Cooking #Foodie Feeling nostalgic today. Listening to old music and remembering good times. #Nostalgia #OldMusic #Memories Gardening is my therapy. Love spending time in the dirt. #Gardening #Therapy #NatureLover Can't wait to see this new movie everyone is talking about. #NewMovie #MovieNight #PopcornTime So grateful for my friends and family. They make life so much better. #Grateful #FriendsAndFamily #Blessed Missing my vacation already. Back to reality with a thud. #VacationOver #BackToWork #MissingTheBeach Trying to learn a new skill. Wish me luck! #NewSkill #LearningNewThings #ChallengeAccepted Need a good book recommendation. Any suggestions? #BookWorm #Reading #Recommendations This house is a mess! Time for a deep clean. #CleaningDay #MessyHouse #Organization This weather is perfect for a picnic. Anyone up for it? #Picnic #Outdoor #Sunshine Love trying new restaurants. Any recommendations? #Foodie #NewRestaurant #FoodLover Can't stop thinking about retirement. Is it too early to plan? #Retirement #Dreaming #FuturePlans Need to get more exercise. Any workout buddies? #Exercise #HealthyLiving #WorkoutPartner So tired of the news. Can't we all just get along? #WorldPeace #TiredOfTheNews #Humanity\"]\n"
   ]
  },
  {
   "cell_type": "code",
   "execution_count": 573,
   "metadata": {},
   "outputs": [],
   "source": [
    "tweets.extend([\"Had the best sleep in ages! Feeling refreshed and ready to take on the day. #GoodSleep #Refreshed #NewDay Craving something sweet. Any dessert ideas? #SweetTooth #Cravings #DessertTime This plant I bought is dying. Any green thumb tips? #PlantParentFail #Gardening #Help This new show is addicting! Can't stop watching. #NewShow #BingeWatching #TVTime Need to declutter my closet. Any tips? #Declutter #Organization #Fashion So excited for the holidays! Can't wait to spend time with family. #Holidays #FamilyTime #ChristmasTime This cold weather is making me lazy. Anyone else? #ColdWeather #LazyDay #CouchPotato Feeling stressed. Need to find a way to relax. #Stress #Relaxation #SelfCare Missing my dog so much. Can't wait to see that furry face again. #DogLover #MissingMyPet #PuppyLove This coffee is exactly what I needed. #CoffeeLover #CaffeineFix #MorningRoutine Can't wait for the weekend to start! Any fun plans? #WeekendVibes #Plans #FunTime Need to learn how to cook something new. Any suggestions? #Cooking #NewRecipe #Foodie This house is too quiet. Need some noise! #QuietHouse #NoisyNeighbors #Boredom Feeling grateful for all the good things in my life. #Grateful #PositiveVibes #Blessed\"])\n",
    "\n",
    "tweets.extend([\"This weather is making me crave comfort food. Any suggestions? #ComfortFood #Cravings #RainyDay Can't believe Christmas is almost here! Time to start planning. #Christmas #Holidays #FamilyTime Feeling stressed about holiday shopping. Any tips? #HolidayShopping #Stress #Budgeting This new year is going to be my best yet! Setting goals and making plans. #NewYear #NewBeginnings #Goals This book is amazing! Can't put it down. #BookWorm #Reading #NewBook So tired of winter! Bring on spring! #WinterBlues #SpringFever #WaitingForWarmth Need to learn how to cook something new. Any recipe ideas? #Cooking #NewRecipe #Foodie This house is too quiet. Need some company! #Lonely #Friends #SocialLife So grateful for my furry friend. They always know how to cheer me up. #DogLover #PetLove #Companionship Can't wait to try this new restaurant. Heard great things about it. #NewRestaurant #Foodie #DinnerPlans This plant is finally thriving! Feeling like a plant parent pro. #Gardening #Plants #GreenThumb Need to declutter my digital life. So many unused apps! #Declutter #DigitalMinimalism #Organization Feeling inspired to start a new project. Any ideas? #NewProject #Creative #DIY This weather is perfect for a walk in the park. #Outdoor #Exercise #FreshAir Can't stop thinking about vacation. Need to start planning! #Vacation #Travel #Dreaming\"])\n"
   ]
  },
  {
   "cell_type": "code",
   "execution_count": 574,
   "metadata": {},
   "outputs": [],
   "source": [
    "tweets.extend([\"Can't believe how fast the year is flying by! Feels like just yesterday it was summer. #timeflies #gettingold #wheredidthetimego This weather is perfect for a cozy night in. Blanket, book, and hot chocolate, anyone? #cozytime #reading #hotchocolate Craving pizza tonight! Any recommendations for the best local spot? #pizzanight #foodie #foodcravings So tired of the news. Need a break from all the negativity. #tiredofthenews #needabreak #mentalhealth So grateful for good health. It's something we often take for granted. #grateful #healthyliving #blessed Missing my adult children. Wish they lived closer. #missingmykids #familylove #longdistance This house is a mess! Need to tackle the clutter. Any tips? #clutterfree #organization #help This new hobby is so relaxing. It's a great way to unwind. #newhobby #relaxation #stressrelief Can't wait to travel again. Any dream destinations? #travelgoals #wanderlust #bucketlist This coffee is just what I needed to start the day. #coffeelover #caffeinefix #morningroutine Feeling nostalgic today. Listening to old music brings back memories. #nostalgia #oldmusic #memories Need to get more active. Any exercise ideas? #exercise #healthyliving #getfit Can't stop thinking about retirement. Dreaming of sunny beaches and relaxation. #retirementdreams #beachlife #futureplans This garden is starting to look beautiful. So rewarding to watch it grow. #gardening #nature #hobby This show is addicting! Can't wait for the next episode. #newshow #bingewatching #tvtime Feeling overwhelmed. Need to find a way to relax. #stress #relaxation #selfcare So excited for the weekend! Time to relax and recharge. #weekendvibes #relaxation #rechargetime Need to learn how to cook something new. Any suggestions? #cooking #newrecipe #foodie This house is too quiet. Need some noise! #quiethouse #noisyneighbors #boredom Feeling grateful for all the good things in my life. #grateful #positivevibes #blessed\"])\n",
    "\n",
    "tweets.extend([\"This weather is making me crave comfort food. Any suggestions? #comfortfood #cravings #rainyday Can't believe Christmas is almost here! Time to start planning. #christmas #holidays #familytime Feeling stressed about holiday shopping. Any tips? #holidayshopping #stress #budgeting This new year is going to be my best yet! Setting goals and making plans. #newyear #newbeginnings #goals This book is amazing! Can't put it down. #bookworm #reading #newbook So tired of winter! Bring on spring! #winterblues #springfever #waitingforwarmth Need to learn how to cook something new. Any recipe ideas? #cooking #newrecipe #foodie This house is too quiet. Need some company! #lonely #friends #sociallife So grateful for my furry friend. They always know how to cheer me up. #doglover #petlove #companionship Can't wait to try this new restaurant. Heard great things about it. #newrestaurant #foodie #dinnerplans This plant is finally thriving! Feeling like a plant parent pro. #gardening #plants #greenthumb Need to declutter my digital life. So many unused apps! #declutter #digitalminimalism #organization Feeling inspired to start a new project. Any ideas? #newproject #creative #diy This weather is perfect for a walk in the park. #outdoor #exercise #freshair Can't stop thinking about vacation. Need to start planning! #vacation #travel #dreaming\"])\n"
   ]
  },
  {
   "cell_type": "code",
   "execution_count": 575,
   "metadata": {},
   "outputs": [
    {
     "data": {
      "text/plain": [
       "[\"Can't believe it's Monday already! This week is going to be a long one. Coffee, anyone? #MondayBlues #WorkMode #CoffeeLover Another beautiful day! Enjoying the sunshine and a good book. Perfect way to relax. #Sunshine #Reading #RelaxTime So tired of the news. Can't we all just get along? World peace, anyone? #TiredOfTheNews #WorldPeace #Humanity Dinner time! What's everyone cooking tonight? I'm thinking pasta. #DinnerTime #PastaNight #Foodie Missing my grandkids like crazy! Can't wait to see them again. #Grandkids #FamilyTime #Love This weather is perfect for a walk. Getting some fresh air and exercise. #WalkInThePark #Exercise #FreshAir So grateful for another day. Let's make it count! #Grateful #NewDay #PositiveVibes Can't stop thinking about that amazing concert last night. Still buzzing! #Concert #Music #GoodTimes Need a vacation! Beach, sun, and cocktails. That's the dream. #VacationMode #BeachLife #Dreaming Big fan of this new show. Binge-watching all weekend! #NewShow #BingeWatching #TVTime Anyone else obsessed with their plants? My little green friends are thriving. #Plants #Gardening #GreenThumb Feeling under the weather today. Need all the tissues and soup. #SickDay #SoupAndTissues #RestUp This is my happy place. Cozy blanket, warm drink, and a good book. #CozyVibes #Bookworm #RelaxTime Can't wait for the weekend! Time to recharge and relax. #WeekendVibes #Recharge #Relaxation So excited about this new project! Can't wait to see it come to life. #NewProject #Excited #WorkMode Had the best dinner with friends last night. Good food, good company, and lots of laughs. #Friends #Dinner #GoodTimes Need to declutter my house. Any tips? Feeling overwhelmed. #Declutter #Organization #Help This weather is making me crave comfort food. Anyone else? #ComfortFood #Cravings #RainyDay Missing my dog so much. Can't wait to see that furry face again. #DogLover #MissingMyPet #PuppyLove Time to catch up on my sleep. Exhausted! #Sleep #Tired #Recharge\"]"
      ]
     },
     "execution_count": 575,
     "metadata": {},
     "output_type": "execute_result"
    }
   ],
   "source": [
    "tweets.extend([\"Can't believe it's Monday already! This week is going to be a long one. Coffee, anyone? #MondayBlues #WorkMode #CoffeeLover Another beautiful day! Enjoying the sunshine and a good book. Perfect way to relax. #Sunshine #Reading #RelaxTime So tired of the news. Can't we all just get along? World peace, anyone? #TiredOfTheNews #WorldPeace #Humanity Dinner time! What's everyone cooking tonight? I'm thinking pasta. #DinnerTime #PastaNight #Foodie Missing my grandkids like crazy! Can't wait to see them again. #Grandkids #FamilyTime #Love This weather is perfect for a walk. Getting some fresh air and exercise. #WalkInThePark #Exercise #FreshAir So grateful for another day. Let's make it count! #Grateful #NewDay #PositiveVibes Can't stop thinking about that amazing concert last night. Still buzzing! #Concert #Music #GoodTimes Need a vacation! Beach, sun, and cocktails. That's the dream. #VacationMode #BeachLife #Dreaming Big fan of this new show. Binge-watching all weekend! #NewShow #BingeWatching #TVTime Anyone else obsessed with their plants? My little green friends are thriving. #Plants #Gardening #GreenThumb Feeling under the weather today. Need all the tissues and soup. #SickDay #SoupAndTissues #RestUp This is my happy place. Cozy blanket, warm drink, and a good book. #CozyVibes #Bookworm #RelaxTime Can't wait for the weekend! Time to recharge and relax. #WeekendVibes #Recharge #Relaxation So excited about this new project! Can't wait to see it come to life. #NewProject #Excited #WorkMode Had the best dinner with friends last night. Good food, good company, and lots of laughs. #Friends #Dinner #GoodTimes Need to declutter my house. Any tips? Feeling overwhelmed. #Declutter #Organization #Help This weather is making me crave comfort food. Anyone else? #ComfortFood #Cravings #RainyDay Missing my dog so much. Can't wait to see that furry face again. #DogLover #MissingMyPet #PuppyLove Time to catch up on my sleep. Exhausted! #Sleep #Tired #Recharge\"])\n"
   ]
  },
  {
   "cell_type": "code",
   "execution_count": 576,
   "metadata": {},
   "outputs": [],
   "source": [
    "tweets.extend([\"Can't believe how fast this year is flying by! Where did the time go? #TimeFlying #GettingOlder #WhereDidTheTimeGo Looking forward to the weekend! Need to relax and recharge. #WeekendVibes #Relaxation #RechargeTime Anyone else struggling with this heat? I'm melting! #HotWeather #SummerStruggle #ACPlease This new recipe was a hit! So delicious and easy to make. #NewRecipe #Cooking #Foodie Feeling nostalgic today. Listening to old music and remembering good times. #Nostalgia #OldMusic #Memories Gardening is my therapy. Love spending time in the dirt. #Gardening #Therapy #NatureLover Can't wait to see this new movie everyone is talking about. #NewMovie #MovieNight #PopcornTime So grateful for my friends and family. They make life so much better. #Grateful #FriendsAndFamily #Blessed Missing my vacation already. Back to reality with a thud. #VacationOver #BackToWork #MissingTheBeach Trying to learn a new skill. Wish me luck! #NewSkill #LearningNewThings #ChallengeAccepted Need a good book recommendation. Any suggestions? #BookWorm #Reading #Recommendations This house is a mess! Time for a deep clean. #CleaningDay #MessyHouse #Organization This weather is perfect for a picnic. Anyone up for it? #Picnic #Outdoor #Sunshine Love trying new restaurants. Any recommendations? #Foodie #NewRestaurant #FoodLover Can't stop thinking about retirement. Is it too early to plan? #Retirement #Dreaming #FuturePlans Need to get more exercise. Any workout buddies? #Exercise #HealthyLiving #WorkoutPartner So tired of the news. Can't we all just get along? #WorldPeace #TiredOfTheNews #Humanity\"])\n",
    "\n",
    "tweets.extend([\"Had the best sleep in ages! Feeling refreshed and ready to take on the day. #GoodSleep #Refreshed #NewDay Craving something sweet. Any dessert ideas? #SweetTooth #Cravings #DessertTime This plant I bought is dying. Any green thumb tips? #PlantParentFail #Gardening #Help This new show is addicting! Can't stop watching. #NewShow #BingeWatching #TVTime Need to declutter my closet. Any tips? #Declutter #Organization #Fashion So excited for the holidays! Can't wait to spend time with family. #Holidays #FamilyTime #ChristmasTime This cold weather is making me lazy. Anyone else? #ColdWeather #LazyDay #CouchPotato Feeling stressed. Need to find a way to relax. #Stress #Relaxation #SelfCare Missing my dog so much. Can't wait to see that furry face again. #DogLover #MissingMyPet #PuppyLove This coffee is exactly what I needed. #CoffeeLover #CaffeineFix #MorningRoutine Can't wait for the weekend to start! Any fun plans? #WeekendVibes #Plans #FunTime Need to learn how to cook something new. Any suggestions? #Cooking #NewRecipe #Foodie This house is too quiet. Need some noise! #QuietHouse #NoisyNeighbors #Boredom Feeling grateful for all the good things in my life. #Grateful #PositiveVibes #Blessed\"])\n"
   ]
  },
  {
   "cell_type": "code",
   "execution_count": 577,
   "metadata": {},
   "outputs": [],
   "source": [
    "tweets.extend([\"Can't believe how fast this year is flying by! Where did the time go? #TimeFlying #GettingOlder #WhereDidTheTimeGo Looking forward to the weekend! Need to relax and recharge. #WeekendVibes #Relaxation #RechargeTime Anyone else struggling with this heat? I'm melting! #HotWeather #SummerStruggle #ACPlease This new recipe was a hit! So delicious and easy to make. #NewRecipe #Cooking #Foodie Feeling nostalgic today. Listening to old music and remembering good times. #Nostalgia #OldMusic #Memories Gardening is my therapy. Love spending time in the dirt. #Gardening #Therapy #NatureLover Can't wait to see this new movie everyone is talking about. #NewMovie #MovieNight #PopcornTime So grateful for my friends and family. They make life so much better. #Grateful #FriendsAndFamily #Blessed Missing my vacation already. Back to reality with a thud. #VacationOver #BackToWork #MissingTheBeach Trying to learn a new skill. Wish me luck! #NewSkill #LearningNewThings #ChallengeAccepted Need a good book recommendation. Any suggestions? #BookWorm #Reading #Recommendations This house is a mess! Time for a deep clean. #CleaningDay #MessyHouse #Organization This weather is perfect for a picnic. Anyone up for it? #Picnic #Outdoor #Sunshine Love trying new restaurants. Any recommendations? #Foodie #NewRestaurant #FoodLover Can't stop thinking about retirement. Is it too early to plan? #Retirement #Dreaming #FuturePlans Need to get more exercise. Any workout buddies? #Exercise #HealthyLiving #WorkoutPartner So tired of the news. Can't we all just get along? #WorldPeace #TiredOfTheNews #Humanity\"])\n",
    "\n",
    "tweets.extend([\"Had the best sleep in ages! Feeling refreshed and ready to take on the day. #GoodSleep #Refreshed #NewDay Craving something sweet. Any dessert ideas? #SweetTooth #Cravings #DessertTime This plant I bought is dying. Any green thumb tips? #PlantParentFail #Gardening #Help This new show is addicting! Can't stop watching. #NewShow #BingeWatching #TVTime Need to declutter my closet. Any tips? #Declutter #Organization #Fashion So excited for the holidays! Can't wait to spend time with family. #Holidays #FamilyTime #ChristmasTime This cold weather is making me lazy. Anyone else? #ColdWeather #LazyDay #CouchPotato Feeling stressed. Need to find a way to relax. #Stress #Relaxation #SelfCare Missing my dog so much. Can't wait to see that furry face again. #DogLover #MissingMyPet #PuppyLove This coffee is exactly what I needed. #CoffeeLover #CaffeineFix #MorningRoutine Can't wait for the weekend to start! Any fun plans? #WeekendVibes #Plans #FunTime Need to learn how to cook something new. Any suggestions? #Cooking #NewRecipe #Foodie This house is too quiet. Need some noise! #QuietHouse #NoisyNeighbors #Boredom Feeling grateful for all the good things in my life. #Grateful #PositiveVibes #Blessed\"])\n"
   ]
  },
  {
   "cell_type": "code",
   "execution_count": 578,
   "metadata": {},
   "outputs": [],
   "source": [
    "tweets.extend([\"Can't believe how fast this year is flying by! Feels like just yesterday it was summer. #timeflies #gettingold #wheredidthetimego This weather is perfect for a cozy night in. Blanket, book, and hot chocolate, anyone? #cozytime #reading #hotchocolate Craving pizza tonight! Any recommendations for the best local spot? #pizzanight #foodie #foodcravings So tired of the news. Need a break from all the negativity. #tiredofthenews #needabreak #mentalhealth So grateful for good health. It's something we often take for granted. #grateful #healthyliving #blessed Missing my adult children. Wish they lived closer. #missingmykids #familylove #longdistance This house is a mess! Need to tackle the clutter. Any tips? #clutterfree #organization #help This new hobby is so relaxing. It's a great way to unwind. #newhobby #relaxation #stressrelief Can't wait to travel again. Any dream destinations? #travelgoals #wanderlust #bucketlist This coffee is just what I needed to start the day. #coffeelover #caffeinefix #morningroutine Feeling nostalgic today. Listening to old music brings back memories. #nostalgia #oldmusic #memories Need to get more active. Any exercise ideas? #exercise #healthyliving #getfit Can't stop thinking about retirement. Dreaming of sunny beaches and relaxation. #retirementdreams #beachlife #futureplans This garden is starting to look beautiful. So rewarding to watch it grow. #gardening #nature #hobby This show is addicting! Can't wait for the next episode. #newshow #bingewatching #tvtime Feeling overwhelmed. Need to find a way to relax. #stress #relaxation #selfcare So excited for the weekend! Time to relax and recharge. #weekendvibes #relaxation #rechargetime Need to learn how to cook something new. Any suggestions? #cooking #newrecipe #foodie This house is too quiet. Need some noise! #quiethouse #noisyneighbors #boredom Feeling grateful for all the good things in my life. #grateful #positivevibes #blessed\"])\n",
    "\n",
    "tweets.extend([\"This weather is making me crave comfort food. Any suggestions? #comfortfood #cravings #rainyday Can't believe Christmas is almost here! Time to start planning. #christmas #holidays #familytime Feeling stressed about holiday shopping. Any tips? #holidayshopping #stress #budgeting This new year is going to be my best yet! Setting goals and making plans. #newyear #newbeginnings #goals This book is amazing! Can't put it down. #bookworm #reading #newbook So tired of winter! Bring on spring! #winterblues #springfever #waitingforwarmth Need to learn how to cook something new. Any recipe ideas? #cooking #newrecipe #foodie This house is too quiet. Need some company! #lonely #friends #sociallife So grateful for my furry friend. They always know how to cheer me up. #doglover #petlove #companionship Can't wait to try this new restaurant. Heard great things about it. #newrestaurant #foodie #dinnerplans This plant is finally thriving! Feeling like a plant parent pro. #gardening #plants #greenthumb Need to declutter my digital life. So many unused apps! #declutter #digitalminimalism #organization Feeling inspired to start a new project. Any ideas? #newproject #creative #diy This weather is perfect for a walk in the park. #outdoor #exercise #freshair Can't stop thinking about vacation. Need to start planning! #vacation #travel #dreaming\"])\n"
   ]
  },
  {
   "cell_type": "code",
   "execution_count": 579,
   "metadata": {},
   "outputs": [],
   "source": [
    "tweets.extend([\"Can't believe how fast this year is flying by! Feels like just yesterday it was summer. #timeflies #gettingold #wheredidthetimego This weather is perfect for a cozy night in. Blanket, book, and hot chocolate, anyone? #cozytime #reading #hotchocolate Craving pizza tonight! Any recommendations for the best local spot? #pizzanight #foodie #foodcravings So tired of the news. Need a break from all the negativity. #tiredofthenews #needabreak #mentalhealth So grateful for good health. It's something we often take for granted. #grateful #healthyliving #blessed Missing my adult children. Wish they lived closer. #missingmykids #familylove #longdistance This house is a mess! Need to tackle the clutter. Any tips? #clutterfree #organization #help This new hobby is so relaxing. It's a great way to unwind. #newhobby #relaxation #stressrelief Can't wait to travel again. Any dream destinations? #travelgoals #wanderlust #bucketlist This coffee is just what I needed to start the day. #coffeelover #caffeinefix #morningroutine Feeling nostalgic today. Listening to old music brings back memories. #nostalgia #oldmusic #memories Need to get more active. Any exercise ideas? #exercise #healthyliving #getfit Can't stop thinking about retirement. Dreaming of sunny beaches and relaxation. #retirementdreams #beachlife #futureplans This garden is starting to look beautiful. So rewarding to watch it grow. #gardening #nature #hobby This show is addicting! Can't wait for the next episode. #newshow #bingewatching #tvtime Feeling overwhelmed. Need to find a way to relax. #stress #relaxation #selfcare So excited for the weekend! Time to relax and recharge. #weekendvibes #relaxation #rechargetime Need to learn how to cook something new. Any suggestions? #cooking #newrecipe #foodie This house is too quiet. Need some noise! #quiethouse #noisyneighbors #boredom Feeling grateful for all the good things in my life. #grateful #positivevibes #blessed\"])\n",
    "\n",
    "tweets.extend([\"This weather is making me crave comfort food. Any suggestions? #comfortfood #cravings #rainyday Can't believe Christmas is almost here! Time to start planning. #christmas #holidays #familytime Feeling stressed about holiday shopping. Any tips? #holidayshopping #stress #budgeting This new year is going to be my best yet! Setting goals and making plans. #newyear #newbeginnings #goals This book is amazing! Can't put it down. #bookworm #reading #newbook So tired of winter! Bring on spring! #winterblues #springfever #waitingforwarmth Need to learn how to cook something new. Any recipe ideas? #cooking #newrecipe #foodie This house is too quiet. Need some company! #lonely #friends #sociallife So grateful for my furry friend. They always know how to cheer me up. #doglover #petlove #companionship Can't wait to try this new restaurant. Heard great things about it. #newrestaurant #foodie #dinnerplans This plant is finally thriving! Feeling like a plant parent pro. #gardening #plants #greenthumb Need to declutter my digital life. So many unused apps! #declutter #digitalminimalism #organization Feeling inspired to start a new project. Any ideas? #newproject #creative #diy This weather is perfect for a walk in the park. #outdoor #exercise #freshair Can't stop thinking about vacation. Need to start planning! #vacation #travel #dreaming\"])\n"
   ]
  },
  {
   "cell_type": "code",
   "execution_count": 580,
   "metadata": {},
   "outputs": [],
   "source": [
    "tweets.extend([\"Can't believe it's Monday already! This week is going to be a long one. Coffee, anyone? #MondayBlues #WorkMode #CoffeeLover Another beautiful day! Enjoying the sunshine and a good book. Perfect way to relax. #Sunshine #Reading #RelaxTime So tired of the news. Can't we all just get along? World peace, anyone? #TiredOfTheNews #WorldPeace #Humanity Dinner time! What's everyone cooking tonight? I'm thinking pasta. #DinnerTime #PastaNight #Foodie Missing my grandkids like crazy! Can't wait to see them again. #Grandkids #FamilyTime #Love This weather is perfect for a walk. Getting some fresh air and exercise. #WalkInThePark #Exercise #FreshAir So grateful for another day. Let's make it count! #Grateful #NewDay #PositiveVibes Can't stop thinking about that amazing concert last night. Still buzzing! #Concert #Music #GoodTimes Need a vacation! Beach, sun, and cocktails. That's the dream. #VacationMode #BeachLife #Dreaming Big fan of this new show. Binge-watching all weekend! #NewShow #BingeWatching #TVTime Anyone else obsessed with their plants? My little green friends are thriving. #Plants #Gardening #GreenThumb Feeling under the weather today. Need all the tissues and soup. #SickDay #SoupAndTissues #RestUp This is my happy place. Cozy blanket, warm drink, and a good book. #CozyVibes #Bookworm #RelaxTime Can't wait for the weekend! Time to recharge and relax. #WeekendVibes #Recharge #Relaxation So excited about this new project! Can't wait to see it come to life. #NewProject #Excited #WorkMode Had the best dinner with friends last night. Good food, good company, and lots of laughs. #Friends #Dinner #GoodTimes Need to declutter my house. Any tips? Feeling overwhelmed. #Declutter #Organization #Help This weather is making me crave comfort food. Anyone else? #ComfortFood #Cravings #RainyDay Missing my dog so much. Can't wait to see that furry face again. #DogLover #MissingMyPet #PuppyLove Time to catch up on my sleep. Exhausted! #Sleep #Tired #Recharge\"])\n",
    "tweets.extend([[\"Can't believe how fast this year is flying by! Where did the time go? #TimeFlying #GettingOlder #WhereDidTheTimeGo Looking forward to the weekend! Need to relax and recharge. #WeekendVibes #Relaxation #RechargeTime Anyone else struggling with this heat? I'm melting! #HotWeather #SummerStruggle #ACPlease This new recipe was a hit! So delicious and easy to make. #NewRecipe #Cooking #Foodie Feeling nostalgic today. Listening to old music and remembering good times. #Nostalgia #OldMusic #Memories Gardening is my therapy. Love spending time in the dirt. #Gardening #Therapy #NatureLover Can't wait to see this new movie everyone is talking about. #NewMovie #MovieNight #PopcornTime So grateful for my friends and family. They make life so much better. #Grateful #FriendsAndFamily #Blessed Missing my vacation already. Back to reality with a thud. #VacationOver #BackToWork #MissingTheBeach Trying to learn a new skill. Wish me luck! #NewSkill #LearningNewThings #ChallengeAccepted Need a good book recommendation. Any suggestions? #BookWorm #Reading #Recommendations This house is a mess! Time for a deep clean. #CleaningDay #MessyHouse #Organization This weather is perfect for a picnic. Anyone up for it? #Picnic #Outdoor #Sunshine Love trying new restaurants. Any recommendations? #Foodie #NewRestaurant #FoodLover Can't stop thinking about retirement. Is it too early to plan? #Retirement #Dreaming #FuturePlans Need to get more exercise. Any workout buddies? #Exercise #HealthyLiving #WorkoutPartner So tired of the news. Can't we all just get along? #WorldPeace #TiredOfTheNews #Humanity\"]\n",
    "])\n",
    "tweets.extend([\"Can't believe it's Monday already! This week is going to be a long one. Coffee, anyone? #MondayMoods #CoffeeLover #WorkWeekStartsNow Another beautiful day to be alive! Grateful for this sunshine and the little things in life. Enjoy your day! #SunshineStateOfMind #GratefulHeart #GoodVibesOnly Just finished a great book! Highly recommend it to anyone who loves a good mystery. Can't wait to start the next one. #Bookworm #MysteryLover #ReadingIsFun This weather is perfect for a walk in the park. Fresh air and sunshine always do wonders for the soul. #NatureLover #WalkInThePark #VitaminD Time to catch up on my favorite TV show! Anyone else addicted to this series? Let me know your thoughts! #TVAddict #BingeWatching #SeriesLover Dinner is ready! Smells amazing! Can't wait to dig in. What's your favorite home-cooked meal? #Foodie #HomeCooked #DinnerTime Feeling a bit nostalgic today. Looking back at old photos brings back so many memories. #Nostalgia #Memories #ThrowbackThursday Missing my grandkids like crazy! Can't wait to see them again soon. #Grandkids #FamilyTime #LoveThem So tired but so happy! Had a wonderful day with friends. Feeling blessed. #Friendship #GoodTimes #Blessed Life is too short to stress about small things. Focus on the positive and enjoy the ride! #PositiveVibes #GoodEnergy #LiveLifeToTheFullest Just had the best cup of coffee! This is how mornings should start. #CoffeeAddict #MorningRoutine #CoffeeLover Can't wait for the weekend! Any fun plans? I'm thinking of trying a new restaurant. #WeekendVibes #FoodLover #NewAdventures This is my happy place. Surrounded by nature and peace. Feeling grateful. #NatureLover #PeaceAndQuiet #GratefulHeart Need to declutter my house! Any tips? I'm feeling overwhelmed. #Declutter #Organization #HelpMe This song is stuck in my head! Anyone else loving this tune? #MusicLover #Earworm #GoodMusic Is it just me or are days getting shorter? I'm not ready for fall yet! #SeasonsChanging #FallIsComing #SummerLovin' Had a really productive day! Feeling accomplished. Time to relax and enjoy the evening. #Productivity #Accomplishment #RelaxTime Looking forward to trying a new recipe this weekend. Any suggestions? #Foodie #Cooking #NewRecipes This weather is perfect for a cozy night in with a good book and a cup of tea. #CozyNights #Bookworm #TeaTime Missing my adult children. Wish they would visit more often. #Family #MissingMyKids #LoveThem So excited for the holidays! Can't wait to spend time with family and friends. #Holidays #FamilyTime #Friends\"]\n",
    ")\n",
    "tweets.extend([\"Well, isn't this just lovely weather we're having? Perfect for a spot of gardening. Anyone else's hands covered in dirt? #GardeningLife #Springtime #VitaminD Who else is struggling with this new technology? I just want to make a simple phone call! #OldSchool #TechnologyProblems #Frustrated Grandma duties in full swing! Baking cookies and playing board games. Life is sweet. #GrandmaLife #Baking #FamilyTime Can't believe another year has flown by. Birthday celebrations in order! Feeling grateful for another trip around the sun. #BirthdayGirl #GratefulHeart #NewYearNewMe Looking forward to a quiet evening in with a good book and a cup of tea. Perfect way to unwind. #CozyNights #Bookworm #TeaTime Missing my old neighborhood. So many memories there. Times were simpler then, weren't they? #Nostalgia #GoodOldDays #Memories Made a delicious soup today! Perfect for this chilly weather. Comfort food at its finest. #SoupLover #ComfortFood #HomeCooked Dinner with the kids always ends up in laughter and chaos. Wouldn't trade it for the world! #FamilyTime #LaughterIsTheBestMedicine #LoveThem Still trying to figure out this whole social media thing. Is it just me or is it confusing? #SocialMediaStruggles #SeniorCitizen #LearningNewThings Can't wait to see the grandkids this weekend! They're growing up too fast! #Grandkids #FamilyTime #LoveThem I swear, the older I get, the faster time flies. Where does it go? #GettingOlder #TimeFlies #CherishTheMoments Feeling a bit under the weather today. Soup and a good movie sound perfect. #SickDay #ComfortFood #MovieMarathon So grateful for good health. It's something we often take for granted. #GratefulHeart #GoodHealth #Blessed Another day, another adventure. Let's make it count! #NewDayNewBeginnings #AdventureAwaits #SeizeTheDay\"])\n",
    "tweets.extend([\"I'm starting to think my plants like me more than some people. At least they don't talk back! #PlantParent #GardeningLife #NatureLover This morning's walk was just what I needed. Fresh air and sunshine always clear my head. #MorningWalk #FreshAir #SunshineStateOfMind Anyone else obsessed with their new favorite TV show? I can't stop watching! #TVAddict #BingeWatching #NewSeries It's amazing how a little kindness can go a long way. Let's spread some joy today! #BeKind #RandomActsOfKindness #PositiveVibes Had a lovely visit with an old friend today. It's important to reconnect. #Friendship #Reunion #GoodTimes Feeling a bit lost in a good book. This author is a genius! #Bookworm #LostInABook #ReadingIsFun Need to declutter my wardrobe. Any tips for what to keep and what to donate? #Declutter #WardrobeOverhaul #SpringCleaning Looking forward to trying a new restaurant this weekend. Any recommendations? #Foodie #NewRestaurant #FoodLover Can't believe how fast the kids are growing up! They were just babies yesterday. #ProudParent #TimeFlies #GrowingUpFast Sunday mornings are for pancakes and coffee. Perfect way to start the day. #SundayMorning #Pancakes #CoffeeLover Missing my travel days. Anywhere warm and sunny sounds good right now. #TravelBug #Wanderlust #DreamingOfVacation Just finished a really good puzzle! Feeling accomplished. #Puzzles #BrainTeaser #Accomplishment Another day, another opportunity to learn something new. Let's embrace it! #LifelongLearner #NewThings #PersonalGrowth\"])"
   ]
  },
  {
   "cell_type": "code",
   "execution_count": 581,
   "metadata": {},
   "outputs": [
    {
     "data": {
      "text/plain": [
       "50"
      ]
     },
     "execution_count": 581,
     "metadata": {},
     "output_type": "execute_result"
    }
   ],
   "source": [
    "len(tweets)"
   ]
  }
 ],
 "metadata": {
  "kernelspec": {
   "display_name": "Python 3",
   "language": "python",
   "name": "python3"
  },
  "language_info": {
   "codemirror_mode": {
    "name": "ipython",
    "version": 3
   },
   "file_extension": ".py",
   "mimetype": "text/x-python",
   "name": "python",
   "nbconvert_exporter": "python",
   "pygments_lexer": "ipython3",
   "version": "3.9.16"
  }
 },
 "nbformat": 4,
 "nbformat_minor": 2
}
