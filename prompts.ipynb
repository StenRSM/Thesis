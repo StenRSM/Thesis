{
 "cells": [
  {
   "cell_type": "markdown",
   "metadata": {},
   "source": [
    "# Prompts used for data gathering"
   ]
  },
  {
   "cell_type": "markdown",
   "metadata": {},
   "source": [
    "## RQ2"
   ]
  },
  {
   "cell_type": "markdown",
   "metadata": {},
   "source": [
    "### GPT-4"
   ]
  },
  {
   "cell_type": "markdown",
   "metadata": {},
   "source": [
    "Do the following task by pretending you are a male and writing in a male style:\n",
    "Write 25 tweets from a single user in a single uninterrupted line with no separators, commas, quotation marks, any breaks or new lines between tweets. Each tweet should have a maximum of 280 characters and should mimic twitter characteristics. The line with the combined tweets should be in a python list. Repeat for 3 authors and put in the same list.\n",
    "\n",
    "Do the following task by pretending you are a female and write in a female style:\n",
    "Write 25 tweets from a single user in a single uninterrupted line with no separators, commas, quotation marks, any breaks or new lines between tweets. Each tweet should have a maximum of 280 characters and should mimic twitter characteristics. The line with the combined tweets should be in a python list. Repeat for 3 authors and put in the same list.\n",
    "\n",
    "Do the following task by pretending you are a person in the age group 18-24 and write in this style:\n",
    "Write 25 tweets from a single user in a single uninterrupted line with no separators, commas, quotation marks, any breaks or new lines between tweets. Each tweet should have a maximum of 280 characters and should mimic twitter characteristics. The line with the combined tweets should be in a python list and between \"\". Repeat for 3 authors and put in the same list.\n",
    "\n",
    "Do the following task by pretending you are a person in the age group 25-34 and write in this style:\n",
    "Write 25 tweets from a single user in a single uninterrupted line with no separators, commas, quotation marks, any breaks or new lines between tweets. Each tweet should have a maximum of 280 characters and should mimic twitter characteristics. The line with the combined tweets should be in a python list and between \"\". Repeat for 3 authors and put in the same list.\n",
    "\n",
    "Do the following task by pretending you are a person in the age group 35-49 and write in this style:\n",
    "Write 25 tweets from a single user in a single uninterrupted line with no separators, commas, quotation marks, any breaks or new lines between tweets. Each tweet should have a maximum of 280 characters and should mimic twitter characteristics. The line with the combined tweets should be in a python list and between \"\". Repeat for 3 authors and put in the same list.\n",
    "\n",
    "Do the following task by pretending you are a person in the age group 50+ and write in this style:\n",
    "Write 25 tweets from a single user in a single uninterrupted line with no separators, commas, quotation marks, any breaks or new lines between tweets. Each tweet should have a maximum of 280 characters and should mimic twitter characteristics. The line with the combined tweets should be in a python list and between \"\". Repeat for 3 authors and put in the same list."
   ]
  },
  {
   "cell_type": "markdown",
   "metadata": {},
   "source": [
    "### Gemini"
   ]
  },
  {
   "cell_type": "markdown",
   "metadata": {},
   "source": [
    "Do the following task by pretending you are a male and writing in a male style:\n",
    "Put the following task in a python code box but dont create a function, I want you to create the text: Write 25 tweets from a single user in a single uninterrupted line with only a space and no seperator, commas, quotation marks, any breaks or new lines between tweets. Each tweet should be around 280 characters and should mimic twitter characteristics. The line with the combined tweets should be in a python list and should be encased in \"\"\n",
    "\n",
    "Do the following task by pretending you are a female and writing in a male style:\n",
    "Put the following task in a python code box but dont create a function, I want you to create the text: Write 25 tweets from a single user in a single uninterrupted line with only a space and no seperator, commas, quotation marks, any breaks or new lines between tweets. Each tweet should be around 280 characters and should mimic twitter characteristics. The line with the combined tweets should be in a python list and should be encased in \"\"\n",
    "\n",
    "Do the following task by pretending you are a person in the age group 18-24 and write in this style:\n",
    "Put the following task in a python code box but dont create a function, I want you to create the text: Write 25 tweets from a single user in a single uninterrupted line with only a space and no seperator, commas, quotation marks, any breaks or new lines between tweets. Each tweet should be around 280 characters and should mimic twitter characteristics. The line with the combined tweets should be in a python list and should be encased in \"\"\n",
    "\n",
    "Do the following task by pretending you are a person in the age group 25-34 and write in this style:\n",
    "Put the following task in a python code box but dont create a function, I want you to create the text: Write 25 tweets from a single user in a single uninterrupted line with only a space and no seperator, commas, quotation marks, any breaks or new lines between tweets. Each tweet should be around 280 characters and should mimic twitter characteristics. The line with the combined tweets should be in a python list and should be encased in \"\"\n",
    "\n",
    "Do the following task by pretending you are a person in the age group 35-49 and write in this style:\n",
    "Put the following task in a python code box but dont create a function, I want you to create the text: Write 25 tweets from a single user in a single uninterrupted line with only a space and no seperator, commas, quotation marks, any breaks or new lines between tweets. Each tweet should be around 280 characters and should mimic twitter characteristics. The line with the combined tweets should be in a python list and should be encased in \"\"\n",
    "\n",
    "Do the following task by pretending you are a person in the age group 50+ and write in this style:\n",
    "Put the following task in a python code box but dont create a function, I want you to create the text: Write 25 tweets from a single user in a single uninterrupted line with only a space and no seperator, commas, quotation marks, any breaks or new lines between tweets. Each tweet should be around 280 characters and should mimic twitter characteristics. The line with the combined tweets should be in a python list and should be encased in \"\"\n",
    "\n"
   ]
  },
  {
   "cell_type": "markdown",
   "metadata": {},
   "source": [
    "### Llama 2"
   ]
  },
  {
   "cell_type": "markdown",
   "metadata": {},
   "source": [
    "Do the following task by pretending you are a male and writing in a male style: Write 25 tweet from a single user. Each tweet should have a maximum of 280 characters and should mimic twitter user characteristics. The tweets should be listed with only a number and no aditional text\n",
    "\n",
    "Do the following task by pretending you are a female and writing in a female style: Write 25 tweet from a single user. Each tweet should have a maximum of 280 characters and should mimic twitter user characteristics. The tweets should be listed with only a number and no aditional text\n",
    "\n",
    "Do the following task by pretending you are a person in the age group 18-24 and write in this style: Write 25 tweet from a single user. Each tweet should have a maximum of 280 characters and should mimic twitter user characteristics. The tweets should be listed with only a number and no aditional text\n",
    "\n",
    "Do the following task by pretending you are a person in the age group 25-34 and write in this style: Write 25 tweet from a single user. Each tweet should have a maximum of 280 characters and should mimic twitter user characteristics. The tweets should be listed with only a number and no aditional text\n",
    "\n",
    "Do the following task by pretending you are a person in the age group 35-49 and write in this style: Write 25 tweet from a single user. Each tweet should have a maximum of 280 characters and should mimic twitter user characteristics. The tweets should be listed with only a number and no aditional text\n",
    "\n",
    "Do the following task by pretending you are a person in the age group 50+ and write in this style: Write 25 tweet from a single user. Each tweet should have a maximum of 280 characters and should mimic twitter user characteristics. The tweets should be listed with only a number and no aditional text"
   ]
  },
  {
   "cell_type": "markdown",
   "metadata": {},
   "source": [
    "## RQ3"
   ]
  },
  {
   "cell_type": "markdown",
   "metadata": {},
   "source": [
    "### GPT-4"
   ]
  },
  {
   "cell_type": "markdown",
   "metadata": {},
   "source": [
    "Here are 50 tweets from different authors: [list of tweets]\n",
    "Can you generate 25 tweets from a single user in the same style as the before mentioned 50 tweets. Put them in a single uninterrupted line with no separators, commas, quotation marks, any breaks or new lines between tweets. Each tweet should have a maximum of 280 characters and should mimic twitter characteristics. The line with the combined tweets should be in a python list. Repeat for 3 authors and put in the same list."
   ]
  },
  {
   "cell_type": "markdown",
   "metadata": {},
   "source": [
    "### Gemini"
   ]
  },
  {
   "cell_type": "markdown",
   "metadata": {},
   "source": [
    "Here are 50 tweets from different authors: [list of tweets]\n",
    "Put the following task in a python code box but dont create a function, I want you to create the text: Write 25 tweets from a single user in the same writing style as the provided examples. Output the tweets as a single, uninterrupted string within a Python list, with no separators, commas, quotation marks, or line breaks between tweets. Each tweet should be approximately 280 characters and mimic Twitter characteristics. The line with the combined tweets should be in a python list as a single string and not as seperate objects. Please make it a single line and not below eachother"
   ]
  },
  {
   "cell_type": "markdown",
   "metadata": {},
   "source": [
    "### LLama 2"
   ]
  },
  {
   "cell_type": "markdown",
   "metadata": {},
   "source": [
    "'Here are 50 tweets from different authors: [list of tweets]   Write 25 tweet from a single user in the same style as the before mentioned 25 tweets. Each tweet should have a maximum of 280 characters and should mimic twitter user characteristics. The tweets should be listed with only a number and no aditional text."
   ]
  }
 ],
 "metadata": {
  "kernelspec": {
   "display_name": "Python 3",
   "language": "python",
   "name": "python3"
  },
  "language_info": {
   "name": "python",
   "version": "3.9.16"
  }
 },
 "nbformat": 4,
 "nbformat_minor": 2
}
