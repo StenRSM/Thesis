{
 "cells": [
  {
   "cell_type": "markdown",
   "metadata": {},
   "source": [
    "# Exploring data files"
   ]
  },
  {
   "cell_type": "code",
   "execution_count": 2,
   "metadata": {},
   "outputs": [],
   "source": [
    "import pandas as pd\n",
    "import xml.etree.ElementTree as et\n",
    "import html\n",
    "import os\n",
    "import numpy as np\n",
    "import textstat"
   ]
  },
  {
   "cell_type": "markdown",
   "metadata": {},
   "source": [
    "## Loading data"
   ]
  },
  {
   "cell_type": "code",
   "execution_count": 3,
   "metadata": {},
   "outputs": [],
   "source": [
    "items = os.listdir(r'C:\\Users\\Sten\\Documents\\EUR BIM\\thesis\\data\\PAN 17\\training')\n",
    "documents = [item for item in items if item.endswith('.xml')]"
   ]
  },
  {
   "cell_type": "code",
   "execution_count": 5,
   "metadata": {},
   "outputs": [
    {
     "data": {
      "text/plain": [
       "3600"
      ]
     },
     "execution_count": 5,
     "metadata": {},
     "output_type": "execute_result"
    }
   ],
   "source": [
    "len(documents)"
   ]
  },
  {
   "cell_type": "code",
   "execution_count": 6,
   "metadata": {},
   "outputs": [],
   "source": [
    "data_pan17 = pd.DataFrame(columns=['author', 'text'])"
   ]
  },
  {
   "cell_type": "code",
   "execution_count": 7,
   "metadata": {},
   "outputs": [],
   "source": [
    "for file in documents:\n",
    "    xtree = et.parse(r\"C:\\Users\\Sten\\Documents\\EUR BIM\\thesis\\data\\PAN 17\\training\" + \"\\\\\" + file)\n",
    "    xroot = xtree.getroot()\n",
    "    documents_texts = [html.unescape(doc.text) for doc in xroot.findall(\".//document\")]\n",
    "    temp_frame = pd.DataFrame(documents_texts, columns=['text'])\n",
    "    temp_frame['author'] = file.replace('.xml', '')\n",
    "    data_pan17 = pd.concat([data_pan17, temp_frame], axis=0).reset_index(drop=True)    "
   ]
  },
  {
   "cell_type": "code",
   "execution_count": 8,
   "metadata": {},
   "outputs": [
    {
     "data": {
      "text/html": [
       "<div>\n",
       "<style scoped>\n",
       "    .dataframe tbody tr th:only-of-type {\n",
       "        vertical-align: middle;\n",
       "    }\n",
       "\n",
       "    .dataframe tbody tr th {\n",
       "        vertical-align: top;\n",
       "    }\n",
       "\n",
       "    .dataframe thead th {\n",
       "        text-align: right;\n",
       "    }\n",
       "</style>\n",
       "<table border=\"1\" class=\"dataframe\">\n",
       "  <thead>\n",
       "    <tr style=\"text-align: right;\">\n",
       "      <th></th>\n",
       "      <th>author</th>\n",
       "      <th>text</th>\n",
       "    </tr>\n",
       "  </thead>\n",
       "  <tbody>\n",
       "    <tr>\n",
       "      <th>0</th>\n",
       "      <td>1003de26f870d27f79887272a1eb3612</td>\n",
       "      <td>One to watch … \\nAvailable on 10th Feb. https:...</td>\n",
       "    </tr>\n",
       "    <tr>\n",
       "      <th>1</th>\n",
       "      <td>1003de26f870d27f79887272a1eb3612</td>\n",
       "      <td>@kirkj @deleifd There are 3 complete sets in e...</td>\n",
       "    </tr>\n",
       "    <tr>\n",
       "      <th>2</th>\n",
       "      <td>1003de26f870d27f79887272a1eb3612</td>\n",
       "      <td>@deleifd If you have 1, 3, (maybe 5), 10 or 14...</td>\n",
       "    </tr>\n",
       "    <tr>\n",
       "      <th>3</th>\n",
       "      <td>1003de26f870d27f79887272a1eb3612</td>\n",
       "      <td>@deleifd I've heard that numerous other toywor...</td>\n",
       "    </tr>\n",
       "    <tr>\n",
       "      <th>4</th>\n",
       "      <td>1003de26f870d27f79887272a1eb3612</td>\n",
       "      <td>Just heard about a new Web Dev meetup in The H...</td>\n",
       "    </tr>\n",
       "    <tr>\n",
       "      <th>...</th>\n",
       "      <td>...</td>\n",
       "      <td>...</td>\n",
       "    </tr>\n",
       "    <tr>\n",
       "      <th>359995</th>\n",
       "      <td>fff1359e0dc1eba31a10120bf16834b7</td>\n",
       "      <td>@thehitsnz @MadMaclegend @richmaori. Hey! Is @...</td>\n",
       "    </tr>\n",
       "    <tr>\n",
       "      <th>359996</th>\n",
       "      <td>fff1359e0dc1eba31a10120bf16834b7</td>\n",
       "      <td>@MadMaclegend @richmaori - God @nzherald - let...</td>\n",
       "    </tr>\n",
       "    <tr>\n",
       "      <th>359997</th>\n",
       "      <td>fff1359e0dc1eba31a10120bf16834b7</td>\n",
       "      <td>@MadMaclegend @PonekeFC Next week it's #Hottie...</td>\n",
       "    </tr>\n",
       "    <tr>\n",
       "      <th>359998</th>\n",
       "      <td>fff1359e0dc1eba31a10120bf16834b7</td>\n",
       "      <td>@MadMaclegend @nzherald Story is relevant cos ...</td>\n",
       "    </tr>\n",
       "    <tr>\n",
       "      <th>359999</th>\n",
       "      <td>fff1359e0dc1eba31a10120bf16834b7</td>\n",
       "      <td>@PonekeFC #SilverFox rating system is GO FOR L...</td>\n",
       "    </tr>\n",
       "  </tbody>\n",
       "</table>\n",
       "<p>360000 rows × 2 columns</p>\n",
       "</div>"
      ],
      "text/plain": [
       "                                  author  \\\n",
       "0       1003de26f870d27f79887272a1eb3612   \n",
       "1       1003de26f870d27f79887272a1eb3612   \n",
       "2       1003de26f870d27f79887272a1eb3612   \n",
       "3       1003de26f870d27f79887272a1eb3612   \n",
       "4       1003de26f870d27f79887272a1eb3612   \n",
       "...                                  ...   \n",
       "359995  fff1359e0dc1eba31a10120bf16834b7   \n",
       "359996  fff1359e0dc1eba31a10120bf16834b7   \n",
       "359997  fff1359e0dc1eba31a10120bf16834b7   \n",
       "359998  fff1359e0dc1eba31a10120bf16834b7   \n",
       "359999  fff1359e0dc1eba31a10120bf16834b7   \n",
       "\n",
       "                                                     text  \n",
       "0       One to watch … \\nAvailable on 10th Feb. https:...  \n",
       "1       @kirkj @deleifd There are 3 complete sets in e...  \n",
       "2       @deleifd If you have 1, 3, (maybe 5), 10 or 14...  \n",
       "3       @deleifd I've heard that numerous other toywor...  \n",
       "4       Just heard about a new Web Dev meetup in The H...  \n",
       "...                                                   ...  \n",
       "359995  @thehitsnz @MadMaclegend @richmaori. Hey! Is @...  \n",
       "359996  @MadMaclegend @richmaori - God @nzherald - let...  \n",
       "359997  @MadMaclegend @PonekeFC Next week it's #Hottie...  \n",
       "359998  @MadMaclegend @nzherald Story is relevant cos ...  \n",
       "359999  @PonekeFC #SilverFox rating system is GO FOR L...  \n",
       "\n",
       "[360000 rows x 2 columns]"
      ]
     },
     "execution_count": 8,
     "metadata": {},
     "output_type": "execute_result"
    }
   ],
   "source": [
    "data_pan17"
   ]
  },
  {
   "cell_type": "code",
   "execution_count": 9,
   "metadata": {},
   "outputs": [],
   "source": [
    "truth_pan17 = pd.read_csv(r\"C:\\Users\\Sten\\Documents\\EUR BIM\\thesis\\data\\PAN 17\\training\\truth.txt\",\n",
    "                          delimiter=':::', engine='python', header=None)\n",
    "truth_pan17.columns = ['author', 'gender', 'country']"
   ]
  },
  {
   "cell_type": "code",
   "execution_count": 10,
   "metadata": {},
   "outputs": [],
   "source": [
    "data_pan17 = pd.merge(data_pan17, truth_pan17[['author', 'gender', 'country']], on='author', how='left')"
   ]
  },
  {
   "cell_type": "code",
   "execution_count": 11,
   "metadata": {},
   "outputs": [
    {
     "data": {
      "text/html": [
       "<div>\n",
       "<style scoped>\n",
       "    .dataframe tbody tr th:only-of-type {\n",
       "        vertical-align: middle;\n",
       "    }\n",
       "\n",
       "    .dataframe tbody tr th {\n",
       "        vertical-align: top;\n",
       "    }\n",
       "\n",
       "    .dataframe thead th {\n",
       "        text-align: right;\n",
       "    }\n",
       "</style>\n",
       "<table border=\"1\" class=\"dataframe\">\n",
       "  <thead>\n",
       "    <tr style=\"text-align: right;\">\n",
       "      <th></th>\n",
       "      <th>author</th>\n",
       "      <th>text</th>\n",
       "      <th>gender</th>\n",
       "      <th>country</th>\n",
       "    </tr>\n",
       "  </thead>\n",
       "  <tbody>\n",
       "    <tr>\n",
       "      <th>0</th>\n",
       "      <td>1003de26f870d27f79887272a1eb3612</td>\n",
       "      <td>One to watch … \\nAvailable on 10th Feb. https:...</td>\n",
       "      <td>male</td>\n",
       "      <td>new zealand</td>\n",
       "    </tr>\n",
       "    <tr>\n",
       "      <th>1</th>\n",
       "      <td>1003de26f870d27f79887272a1eb3612</td>\n",
       "      <td>@kirkj @deleifd There are 3 complete sets in e...</td>\n",
       "      <td>male</td>\n",
       "      <td>new zealand</td>\n",
       "    </tr>\n",
       "    <tr>\n",
       "      <th>2</th>\n",
       "      <td>1003de26f870d27f79887272a1eb3612</td>\n",
       "      <td>@deleifd If you have 1, 3, (maybe 5), 10 or 14...</td>\n",
       "      <td>male</td>\n",
       "      <td>new zealand</td>\n",
       "    </tr>\n",
       "    <tr>\n",
       "      <th>3</th>\n",
       "      <td>1003de26f870d27f79887272a1eb3612</td>\n",
       "      <td>@deleifd I've heard that numerous other toywor...</td>\n",
       "      <td>male</td>\n",
       "      <td>new zealand</td>\n",
       "    </tr>\n",
       "    <tr>\n",
       "      <th>4</th>\n",
       "      <td>1003de26f870d27f79887272a1eb3612</td>\n",
       "      <td>Just heard about a new Web Dev meetup in The H...</td>\n",
       "      <td>male</td>\n",
       "      <td>new zealand</td>\n",
       "    </tr>\n",
       "    <tr>\n",
       "      <th>...</th>\n",
       "      <td>...</td>\n",
       "      <td>...</td>\n",
       "      <td>...</td>\n",
       "      <td>...</td>\n",
       "    </tr>\n",
       "    <tr>\n",
       "      <th>359995</th>\n",
       "      <td>fff1359e0dc1eba31a10120bf16834b7</td>\n",
       "      <td>@thehitsnz @MadMaclegend @richmaori. Hey! Is @...</td>\n",
       "      <td>female</td>\n",
       "      <td>new zealand</td>\n",
       "    </tr>\n",
       "    <tr>\n",
       "      <th>359996</th>\n",
       "      <td>fff1359e0dc1eba31a10120bf16834b7</td>\n",
       "      <td>@MadMaclegend @richmaori - God @nzherald - let...</td>\n",
       "      <td>female</td>\n",
       "      <td>new zealand</td>\n",
       "    </tr>\n",
       "    <tr>\n",
       "      <th>359997</th>\n",
       "      <td>fff1359e0dc1eba31a10120bf16834b7</td>\n",
       "      <td>@MadMaclegend @PonekeFC Next week it's #Hottie...</td>\n",
       "      <td>female</td>\n",
       "      <td>new zealand</td>\n",
       "    </tr>\n",
       "    <tr>\n",
       "      <th>359998</th>\n",
       "      <td>fff1359e0dc1eba31a10120bf16834b7</td>\n",
       "      <td>@MadMaclegend @nzherald Story is relevant cos ...</td>\n",
       "      <td>female</td>\n",
       "      <td>new zealand</td>\n",
       "    </tr>\n",
       "    <tr>\n",
       "      <th>359999</th>\n",
       "      <td>fff1359e0dc1eba31a10120bf16834b7</td>\n",
       "      <td>@PonekeFC #SilverFox rating system is GO FOR L...</td>\n",
       "      <td>female</td>\n",
       "      <td>new zealand</td>\n",
       "    </tr>\n",
       "  </tbody>\n",
       "</table>\n",
       "<p>360000 rows × 4 columns</p>\n",
       "</div>"
      ],
      "text/plain": [
       "                                  author  \\\n",
       "0       1003de26f870d27f79887272a1eb3612   \n",
       "1       1003de26f870d27f79887272a1eb3612   \n",
       "2       1003de26f870d27f79887272a1eb3612   \n",
       "3       1003de26f870d27f79887272a1eb3612   \n",
       "4       1003de26f870d27f79887272a1eb3612   \n",
       "...                                  ...   \n",
       "359995  fff1359e0dc1eba31a10120bf16834b7   \n",
       "359996  fff1359e0dc1eba31a10120bf16834b7   \n",
       "359997  fff1359e0dc1eba31a10120bf16834b7   \n",
       "359998  fff1359e0dc1eba31a10120bf16834b7   \n",
       "359999  fff1359e0dc1eba31a10120bf16834b7   \n",
       "\n",
       "                                                     text  gender      country  \n",
       "0       One to watch … \\nAvailable on 10th Feb. https:...    male  new zealand  \n",
       "1       @kirkj @deleifd There are 3 complete sets in e...    male  new zealand  \n",
       "2       @deleifd If you have 1, 3, (maybe 5), 10 or 14...    male  new zealand  \n",
       "3       @deleifd I've heard that numerous other toywor...    male  new zealand  \n",
       "4       Just heard about a new Web Dev meetup in The H...    male  new zealand  \n",
       "...                                                   ...     ...          ...  \n",
       "359995  @thehitsnz @MadMaclegend @richmaori. Hey! Is @...  female  new zealand  \n",
       "359996  @MadMaclegend @richmaori - God @nzherald - let...  female  new zealand  \n",
       "359997  @MadMaclegend @PonekeFC Next week it's #Hottie...  female  new zealand  \n",
       "359998  @MadMaclegend @nzherald Story is relevant cos ...  female  new zealand  \n",
       "359999  @PonekeFC #SilverFox rating system is GO FOR L...  female  new zealand  \n",
       "\n",
       "[360000 rows x 4 columns]"
      ]
     },
     "execution_count": 11,
     "metadata": {},
     "output_type": "execute_result"
    }
   ],
   "source": [
    "data_pan17"
   ]
  },
  {
   "cell_type": "markdown",
   "metadata": {},
   "source": [
    "## Statistics"
   ]
  },
  {
   "cell_type": "code",
   "execution_count": 8,
   "metadata": {},
   "outputs": [],
   "source": [
    "data_pan15_stats = pd.DataFrame()\n",
    "data_pan15_stats['total_word_count'] = data_pan15['text'].apply(lambda x: len(x.split()))\n",
    "data_pan15_stats['unique_word_count'] = data_pan15['text'].apply(lambda x: len(set(x.split())))\n",
    "data_pan15_stats['average_word_length'] = data_pan15['text'].apply(lambda x: np.mean([len(word) for word in x.split()]))\n",
    "data_pan15_stats['flesh_readability'] = data_pan15['text'].apply(textstat.flesch_reading_ease)"
   ]
  },
  {
   "cell_type": "code",
   "execution_count": 9,
   "metadata": {},
   "outputs": [
    {
     "name": "stderr",
     "output_type": "stream",
     "text": [
      "C:\\Users\\Sten\\AppData\\Local\\Temp\\ipykernel_13220\\2100109009.py:1: FutureWarning: In future versions `DataFrame.to_latex` is expected to utilise the base implementation of `Styler.to_latex` for formatting and rendering. The arguments signature may therefore change. It is recommended instead to use `DataFrame.style.to_latex` which also contains additional functionality.\n",
      "  data_pan15_stats.describe().T.round(3).to_latex( caption=\"PAN 15 AP task descriptive statistics\", label=\"tab:your_label\")\n"
     ]
    },
    {
     "data": {
      "text/plain": [
       "'\\\\begin{table}\\n\\\\centering\\n\\\\caption{PAN 15 AP task descriptive statistics}\\n\\\\label{tab:your_label}\\n\\\\begin{tabular}{lrrrrrrrr}\\n\\\\toprule\\n{} &    count &    mean &     std &      min &     25\\\\% &    50\\\\% &     75\\\\% &     max \\\\\\\\\\n\\\\midrule\\ntotal\\\\_word\\\\_count    &  14166.0 &  11.854 &   5.921 &     1.00 &   7.000 &  11.00 &  16.000 &   33.00 \\\\\\\\\\nunique\\\\_word\\\\_count   &  14166.0 &  11.305 &   5.481 &     1.00 &   7.000 &  11.00 &  15.000 &   30.00 \\\\\\\\\\naverage\\\\_word\\\\_length &  14166.0 &   5.925 &   2.133 &     1.00 &   4.529 &   5.60 &   6.889 &   90.00 \\\\\\\\\\nflesh\\\\_readability   &  14166.0 &  66.038 &  36.361 & -1147.79 &  49.480 &  72.16 &  89.040 &  121.22 \\\\\\\\\\n\\\\bottomrule\\n\\\\end{tabular}\\n\\\\end{table}\\n'"
      ]
     },
     "execution_count": 9,
     "metadata": {},
     "output_type": "execute_result"
    }
   ],
   "source": [
    "data_pan15_stats.describe().T.round(3).to_latex( caption=\"PAN 15 AP task descriptive statistics\", label=\"tab:your_label\")"
   ]
  },
  {
   "cell_type": "code",
   "execution_count": 10,
   "metadata": {},
   "outputs": [
    {
     "data": {
      "text/html": [
       "<div>\n",
       "<style scoped>\n",
       "    .dataframe tbody tr th:only-of-type {\n",
       "        vertical-align: middle;\n",
       "    }\n",
       "\n",
       "    .dataframe tbody tr th {\n",
       "        vertical-align: top;\n",
       "    }\n",
       "\n",
       "    .dataframe thead th {\n",
       "        text-align: right;\n",
       "    }\n",
       "</style>\n",
       "<table border=\"1\" class=\"dataframe\">\n",
       "  <thead>\n",
       "    <tr style=\"text-align: right;\">\n",
       "      <th></th>\n",
       "      <th>count</th>\n",
       "      <th>mean</th>\n",
       "      <th>std</th>\n",
       "      <th>min</th>\n",
       "      <th>25%</th>\n",
       "      <th>50%</th>\n",
       "      <th>75%</th>\n",
       "      <th>max</th>\n",
       "    </tr>\n",
       "  </thead>\n",
       "  <tbody>\n",
       "    <tr>\n",
       "      <th>total_word_count</th>\n",
       "      <td>14166.0</td>\n",
       "      <td>11.854</td>\n",
       "      <td>5.921</td>\n",
       "      <td>1.00</td>\n",
       "      <td>7.000</td>\n",
       "      <td>11.00</td>\n",
       "      <td>16.000</td>\n",
       "      <td>33.00</td>\n",
       "    </tr>\n",
       "    <tr>\n",
       "      <th>unique_word_count</th>\n",
       "      <td>14166.0</td>\n",
       "      <td>11.305</td>\n",
       "      <td>5.481</td>\n",
       "      <td>1.00</td>\n",
       "      <td>7.000</td>\n",
       "      <td>11.00</td>\n",
       "      <td>15.000</td>\n",
       "      <td>30.00</td>\n",
       "    </tr>\n",
       "    <tr>\n",
       "      <th>average_word_length</th>\n",
       "      <td>14166.0</td>\n",
       "      <td>5.925</td>\n",
       "      <td>2.133</td>\n",
       "      <td>1.00</td>\n",
       "      <td>4.529</td>\n",
       "      <td>5.60</td>\n",
       "      <td>6.889</td>\n",
       "      <td>90.00</td>\n",
       "    </tr>\n",
       "    <tr>\n",
       "      <th>flesh_readability</th>\n",
       "      <td>14166.0</td>\n",
       "      <td>66.038</td>\n",
       "      <td>36.361</td>\n",
       "      <td>-1147.79</td>\n",
       "      <td>49.480</td>\n",
       "      <td>72.16</td>\n",
       "      <td>89.040</td>\n",
       "      <td>121.22</td>\n",
       "    </tr>\n",
       "  </tbody>\n",
       "</table>\n",
       "</div>"
      ],
      "text/plain": [
       "                       count    mean     std      min     25%    50%     75%  \\\n",
       "total_word_count     14166.0  11.854   5.921     1.00   7.000  11.00  16.000   \n",
       "unique_word_count    14166.0  11.305   5.481     1.00   7.000  11.00  15.000   \n",
       "average_word_length  14166.0   5.925   2.133     1.00   4.529   5.60   6.889   \n",
       "flesh_readability    14166.0  66.038  36.361 -1147.79  49.480  72.16  89.040   \n",
       "\n",
       "                        max  \n",
       "total_word_count      33.00  \n",
       "unique_word_count     30.00  \n",
       "average_word_length   90.00  \n",
       "flesh_readability    121.22  "
      ]
     },
     "execution_count": 10,
     "metadata": {},
     "output_type": "execute_result"
    }
   ],
   "source": [
    "data_pan15_stats.describe().T.round(3)"
   ]
  },
  {
   "cell_type": "code",
   "execution_count": 11,
   "metadata": {},
   "outputs": [
    {
     "data": {
      "text/plain": [
       "F    7180\n",
       "M    6986\n",
       "Name: gender, dtype: int64"
      ]
     },
     "execution_count": 11,
     "metadata": {},
     "output_type": "execute_result"
    }
   ],
   "source": [
    "data_pan15['gender'].value_counts()"
   ]
  },
  {
   "cell_type": "code",
   "execution_count": 12,
   "metadata": {},
   "outputs": [
    {
     "data": {
      "text/plain": [
       "M    76\n",
       "F    76\n",
       "Name: gender, dtype: int64"
      ]
     },
     "execution_count": 12,
     "metadata": {},
     "output_type": "execute_result"
    }
   ],
   "source": [
    "truth_pan15['gender'].value_counts()"
   ]
  },
  {
   "cell_type": "code",
   "execution_count": 13,
   "metadata": {},
   "outputs": [
    {
     "data": {
      "text/plain": [
       "25-34    5624\n",
       "18-24    5588\n",
       "35-49    1865\n",
       "50-XX    1089\n",
       "Name: age, dtype: int64"
      ]
     },
     "execution_count": 13,
     "metadata": {},
     "output_type": "execute_result"
    }
   ],
   "source": [
    "data_pan15['age'].value_counts()"
   ]
  },
  {
   "cell_type": "code",
   "execution_count": 14,
   "metadata": {},
   "outputs": [
    {
     "data": {
      "text/plain": [
       "25-34    60\n",
       "18-24    58\n",
       "35-49    22\n",
       "50-XX    12\n",
       "Name: age, dtype: int64"
      ]
     },
     "execution_count": 14,
     "metadata": {},
     "output_type": "execute_result"
    }
   ],
   "source": [
    "truth_pan15['age'].value_counts()"
   ]
  },
  {
   "cell_type": "markdown",
   "metadata": {},
   "source": [
    "## Loading test dataset"
   ]
  },
  {
   "cell_type": "code",
   "execution_count": 14,
   "metadata": {},
   "outputs": [],
   "source": [
    "items_test = os.listdir(r'C:\\Users\\Sten\\Documents\\EUR BIM\\thesis\\data\\PAN 17\\test')\n",
    "documents_test = [item for item in items_test if item.endswith('.xml')]"
   ]
  },
  {
   "cell_type": "code",
   "execution_count": 15,
   "metadata": {},
   "outputs": [],
   "source": [
    "data_pan17_test = pd.DataFrame(columns=['author', 'text'])\n",
    "\n",
    "for file in documents_test:\n",
    "    xtree = et.parse(r'C:\\Users\\Sten\\Documents\\EUR BIM\\thesis\\data\\PAN 17\\test' + \"\\\\\" + file)\n",
    "    xroot = xtree.getroot()\n",
    "    documents_texts = [html.unescape(doc.text) for doc in xroot.findall(\".//document\")]\n",
    "    temp_frame = pd.DataFrame(documents_texts, columns=['text'])\n",
    "    temp_frame['author'] = file.replace('.xml', '')\n",
    "    data_pan17_test = pd.concat([data_pan17_test, temp_frame], axis=0).reset_index(drop=True)    "
   ]
  },
  {
   "cell_type": "code",
   "execution_count": 16,
   "metadata": {},
   "outputs": [],
   "source": [
    "truth_pan17_test = pd.read_csv(r'C:\\Users\\Sten\\Documents\\EUR BIM\\thesis\\data\\PAN 17\\test\\truth.txt',\n",
    "                          delimiter=':::', engine='python', header=None)\n",
    "truth_pan17_test.columns = ['author', 'gender', 'country']"
   ]
  },
  {
   "cell_type": "code",
   "execution_count": 17,
   "metadata": {},
   "outputs": [],
   "source": [
    "data_pan17_test = pd.merge(data_pan17_test, truth_pan17_test[['author', 'gender', 'country']], on='author', how='left')"
   ]
  },
  {
   "cell_type": "markdown",
   "metadata": {},
   "source": [
    "## Creating data files"
   ]
  },
  {
   "cell_type": "code",
   "execution_count": 19,
   "metadata": {},
   "outputs": [
    {
     "data": {
      "text/html": [
       "<div>\n",
       "<style scoped>\n",
       "    .dataframe tbody tr th:only-of-type {\n",
       "        vertical-align: middle;\n",
       "    }\n",
       "\n",
       "    .dataframe tbody tr th {\n",
       "        vertical-align: top;\n",
       "    }\n",
       "\n",
       "    .dataframe thead th {\n",
       "        text-align: right;\n",
       "    }\n",
       "</style>\n",
       "<table border=\"1\" class=\"dataframe\">\n",
       "  <thead>\n",
       "    <tr style=\"text-align: right;\">\n",
       "      <th></th>\n",
       "      <th>author</th>\n",
       "      <th>text</th>\n",
       "      <th>gender</th>\n",
       "      <th>country</th>\n",
       "    </tr>\n",
       "  </thead>\n",
       "  <tbody>\n",
       "    <tr>\n",
       "      <th>0</th>\n",
       "      <td>100c885443c4d2a32075e10cbca9a27e</td>\n",
       "      <td>Less than 2 weeks until Valentine's Day https:...</td>\n",
       "      <td>female</td>\n",
       "      <td>australia</td>\n",
       "    </tr>\n",
       "    <tr>\n",
       "      <th>1</th>\n",
       "      <td>100c885443c4d2a32075e10cbca9a27e</td>\n",
       "      <td>Omg now I remember, that photo was from when I...</td>\n",
       "      <td>female</td>\n",
       "      <td>australia</td>\n",
       "    </tr>\n",
       "    <tr>\n",
       "      <th>2</th>\n",
       "      <td>100c885443c4d2a32075e10cbca9a27e</td>\n",
       "      <td>when you eat an entire bag of popcorn and fami...</td>\n",
       "      <td>female</td>\n",
       "      <td>australia</td>\n",
       "    </tr>\n",
       "    <tr>\n",
       "      <th>3</th>\n",
       "      <td>100c885443c4d2a32075e10cbca9a27e</td>\n",
       "      <td>@tartecosmetics my fav shade has gone 😭😭😭😭 htt...</td>\n",
       "      <td>female</td>\n",
       "      <td>australia</td>\n",
       "    </tr>\n",
       "    <tr>\n",
       "      <th>4</th>\n",
       "      <td>100c885443c4d2a32075e10cbca9a27e</td>\n",
       "      <td>OMFG this is happening to me rn!!!!!!!! https:...</td>\n",
       "      <td>female</td>\n",
       "      <td>australia</td>\n",
       "    </tr>\n",
       "    <tr>\n",
       "      <th>...</th>\n",
       "      <td>...</td>\n",
       "      <td>...</td>\n",
       "      <td>...</td>\n",
       "      <td>...</td>\n",
       "    </tr>\n",
       "    <tr>\n",
       "      <th>239995</th>\n",
       "      <td>fff5a17288a8ab173e493c90bf4b39a4</td>\n",
       "      <td>Saw a seal in the wild, can you tell I'm happy...</td>\n",
       "      <td>male</td>\n",
       "      <td>australia</td>\n",
       "    </tr>\n",
       "    <tr>\n",
       "      <th>239996</th>\n",
       "      <td>fff5a17288a8ab173e493c90bf4b39a4</td>\n",
       "      <td>Note: everyone is up getting ready and he has ...</td>\n",
       "      <td>male</td>\n",
       "      <td>australia</td>\n",
       "    </tr>\n",
       "    <tr>\n",
       "      <th>239997</th>\n",
       "      <td>fff5a17288a8ab173e493c90bf4b39a4</td>\n",
       "      <td>@dorkfaceblog Just happy to be here 😂✌🏻#thegir...</td>\n",
       "      <td>male</td>\n",
       "      <td>australia</td>\n",
       "    </tr>\n",
       "    <tr>\n",
       "      <th>239998</th>\n",
       "      <td>fff5a17288a8ab173e493c90bf4b39a4</td>\n",
       "      <td>@Step2Adulthood @dorkfaceblog It was but thank...</td>\n",
       "      <td>male</td>\n",
       "      <td>australia</td>\n",
       "    </tr>\n",
       "    <tr>\n",
       "      <th>239999</th>\n",
       "      <td>fff5a17288a8ab173e493c90bf4b39a4</td>\n",
       "      <td>@dorkfaceblog A4: for 2017? I'm traveling &amp; pu...</td>\n",
       "      <td>male</td>\n",
       "      <td>australia</td>\n",
       "    </tr>\n",
       "  </tbody>\n",
       "</table>\n",
       "<p>240000 rows × 4 columns</p>\n",
       "</div>"
      ],
      "text/plain": [
       "                                  author  \\\n",
       "0       100c885443c4d2a32075e10cbca9a27e   \n",
       "1       100c885443c4d2a32075e10cbca9a27e   \n",
       "2       100c885443c4d2a32075e10cbca9a27e   \n",
       "3       100c885443c4d2a32075e10cbca9a27e   \n",
       "4       100c885443c4d2a32075e10cbca9a27e   \n",
       "...                                  ...   \n",
       "239995  fff5a17288a8ab173e493c90bf4b39a4   \n",
       "239996  fff5a17288a8ab173e493c90bf4b39a4   \n",
       "239997  fff5a17288a8ab173e493c90bf4b39a4   \n",
       "239998  fff5a17288a8ab173e493c90bf4b39a4   \n",
       "239999  fff5a17288a8ab173e493c90bf4b39a4   \n",
       "\n",
       "                                                     text  gender    country  \n",
       "0       Less than 2 weeks until Valentine's Day https:...  female  australia  \n",
       "1       Omg now I remember, that photo was from when I...  female  australia  \n",
       "2       when you eat an entire bag of popcorn and fami...  female  australia  \n",
       "3       @tartecosmetics my fav shade has gone 😭😭😭😭 htt...  female  australia  \n",
       "4       OMFG this is happening to me rn!!!!!!!! https:...  female  australia  \n",
       "...                                                   ...     ...        ...  \n",
       "239995  Saw a seal in the wild, can you tell I'm happy...    male  australia  \n",
       "239996  Note: everyone is up getting ready and he has ...    male  australia  \n",
       "239997  @dorkfaceblog Just happy to be here 😂✌🏻#thegir...    male  australia  \n",
       "239998  @Step2Adulthood @dorkfaceblog It was but thank...    male  australia  \n",
       "239999  @dorkfaceblog A4: for 2017? I'm traveling & pu...    male  australia  \n",
       "\n",
       "[240000 rows x 4 columns]"
      ]
     },
     "execution_count": 19,
     "metadata": {},
     "output_type": "execute_result"
    }
   ],
   "source": [
    "data_pan17_test"
   ]
  },
  {
   "cell_type": "code",
   "execution_count": 23,
   "metadata": {},
   "outputs": [],
   "source": [
    "data_pan17.to_csv('data/raw_data/PAN_17_training.csv')"
   ]
  },
  {
   "cell_type": "code",
   "execution_count": 24,
   "metadata": {},
   "outputs": [],
   "source": [
    "data_pan17_test.to_csv('data/raw_data/PAN_17_test.csv')"
   ]
  }
 ],
 "metadata": {
  "kernelspec": {
   "display_name": "Python 3",
   "language": "python",
   "name": "python3"
  },
  "language_info": {
   "codemirror_mode": {
    "name": "ipython",
    "version": 3
   },
   "file_extension": ".py",
   "mimetype": "text/x-python",
   "name": "python",
   "nbconvert_exporter": "python",
   "pygments_lexer": "ipython3",
   "version": "3.9.16"
  }
 },
 "nbformat": 4,
 "nbformat_minor": 2
}
