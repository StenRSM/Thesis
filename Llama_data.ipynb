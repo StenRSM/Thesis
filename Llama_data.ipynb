{
 "cells": [
  {
   "cell_type": "markdown",
   "metadata": {},
   "source": [
    "# The processing of Llama data"
   ]
  },
  {
   "cell_type": "code",
   "execution_count": 2,
   "metadata": {},
   "outputs": [],
   "source": [
    "import pandas as pd"
   ]
  },
  {
   "cell_type": "markdown",
   "metadata": {},
   "source": [
    "## Data for RQ1"
   ]
  },
  {
   "cell_type": "code",
   "execution_count": 20,
   "metadata": {},
   "outputs": [],
   "source": [
    "df_llama_rq1 = pd.read_csv(r'C:\\Users\\Sten\\Documents\\EUR BIM\\thesis\\data\\data\\llama1_raw.csv', header=None, names=['text'])"
   ]
  },
  {
   "cell_type": "code",
   "execution_count": 22,
   "metadata": {},
   "outputs": [],
   "source": [
    "df_llama_rq1['text'] = df_llama_rq1['text'].str.replace(r'^\\d+\\.\\s*', '', regex=True)"
   ]
  },
  {
   "cell_type": "code",
   "execution_count": 23,
   "metadata": {},
   "outputs": [],
   "source": [
    "df_llama_rq1 = df_llama_rq1[df_llama_rq1['text'] != '---'].reset_index()"
   ]
  },
  {
   "cell_type": "code",
   "execution_count": 31,
   "metadata": {},
   "outputs": [],
   "source": [
    "df_llama_rq1 =  df_llama_rq1.groupby(df_llama_rq1.index // 25)['text'].apply(lambda x: ' '.join(x)).reset_index()"
   ]
  },
  {
   "cell_type": "code",
   "execution_count": 34,
   "metadata": {},
   "outputs": [],
   "source": [
    "df_llama_rq1.columns = ['author', 'text']"
   ]
  },
  {
   "cell_type": "code",
   "execution_count": 40,
   "metadata": {},
   "outputs": [
    {
     "data": {
      "text/html": [
       "<div>\n",
       "<style scoped>\n",
       "    .dataframe tbody tr th:only-of-type {\n",
       "        vertical-align: middle;\n",
       "    }\n",
       "\n",
       "    .dataframe tbody tr th {\n",
       "        vertical-align: top;\n",
       "    }\n",
       "\n",
       "    .dataframe thead th {\n",
       "        text-align: right;\n",
       "    }\n",
       "</style>\n",
       "<table border=\"1\" class=\"dataframe\">\n",
       "  <thead>\n",
       "    <tr style=\"text-align: right;\">\n",
       "      <th></th>\n",
       "      <th>author</th>\n",
       "      <th>text</th>\n",
       "    </tr>\n",
       "  </thead>\n",
       "  <tbody>\n",
       "    <tr>\n",
       "      <th>0</th>\n",
       "      <td>0</td>\n",
       "      <td>#LoveMyDog 🐶💕 Just had the best breakfast ever...</td>\n",
       "    </tr>\n",
       "    <tr>\n",
       "      <th>1</th>\n",
       "      <td>1</td>\n",
       "      <td>🤔 Thinking about getting a dog. Has anyone els...</td>\n",
       "    </tr>\n",
       "    <tr>\n",
       "      <th>2</th>\n",
       "      <td>2</td>\n",
       "      <td>🤔 Just realized I've been watching the same TV...</td>\n",
       "    </tr>\n",
       "    <tr>\n",
       "      <th>3</th>\n",
       "      <td>3</td>\n",
       "      <td>Loving the new Starbucks summer drinks! 🍵☀️ Ju...</td>\n",
       "    </tr>\n",
       "    <tr>\n",
       "      <th>4</th>\n",
       "      <td>4</td>\n",
       "      <td>Just ate a whole pizza by myself 🍕👀 #foodcoma ...</td>\n",
       "    </tr>\n",
       "    <tr>\n",
       "      <th>...</th>\n",
       "      <td>...</td>\n",
       "      <td>...</td>\n",
       "    </tr>\n",
       "    <tr>\n",
       "      <th>184</th>\n",
       "      <td>184</td>\n",
       "      <td>Loving the new season of #OrangeIsTheNewBlack ...</td>\n",
       "    </tr>\n",
       "    <tr>\n",
       "      <th>185</th>\n",
       "      <td>185</td>\n",
       "      <td>🚨 New study finds that eating too much pizza c...</td>\n",
       "    </tr>\n",
       "    <tr>\n",
       "      <th>186</th>\n",
       "      <td>186</td>\n",
       "      <td>🚨Just had the best coffee of my life! 😍👌 #coff...</td>\n",
       "    </tr>\n",
       "    <tr>\n",
       "      <th>187</th>\n",
       "      <td>187</td>\n",
       "      <td>Just had the best breakfast! 🥐🍳 #breakfastgoal...</td>\n",
       "    </tr>\n",
       "    <tr>\n",
       "      <th>188</th>\n",
       "      <td>188</td>\n",
       "      <td>#FridayFeeling 😎 Just had the best coffee 👌 Ca...</td>\n",
       "    </tr>\n",
       "  </tbody>\n",
       "</table>\n",
       "<p>189 rows × 2 columns</p>\n",
       "</div>"
      ],
      "text/plain": [
       "     author                                               text\n",
       "0         0  #LoveMyDog 🐶💕 Just had the best breakfast ever...\n",
       "1         1  🤔 Thinking about getting a dog. Has anyone els...\n",
       "2         2  🤔 Just realized I've been watching the same TV...\n",
       "3         3  Loving the new Starbucks summer drinks! 🍵☀️ Ju...\n",
       "4         4  Just ate a whole pizza by myself 🍕👀 #foodcoma ...\n",
       "..      ...                                                ...\n",
       "184     184  Loving the new season of #OrangeIsTheNewBlack ...\n",
       "185     185  🚨 New study finds that eating too much pizza c...\n",
       "186     186  🚨Just had the best coffee of my life! 😍👌 #coff...\n",
       "187     187  Just had the best breakfast! 🥐🍳 #breakfastgoal...\n",
       "188     188  #FridayFeeling 😎 Just had the best coffee 👌 Ca...\n",
       "\n",
       "[189 rows x 2 columns]"
      ]
     },
     "execution_count": 40,
     "metadata": {},
     "output_type": "execute_result"
    }
   ],
   "source": [
    "df_llama_rq1"
   ]
  },
  {
   "cell_type": "code",
   "execution_count": 46,
   "metadata": {},
   "outputs": [],
   "source": [
    "df_llama_rq1 =  df_llama_rq1.drop(columns=['author'])"
   ]
  },
  {
   "cell_type": "code",
   "execution_count": 49,
   "metadata": {},
   "outputs": [],
   "source": [
    "df_llama_rq1.to_csv(r'C:\\Users\\Sten\\Documents\\EUR BIM\\thesis\\data\\data\\llama1.csv', index=False)"
   ]
  },
  {
   "cell_type": "markdown",
   "metadata": {},
   "source": [
    "## RQ2"
   ]
  },
  {
   "cell_type": "code",
   "execution_count": 11,
   "metadata": {},
   "outputs": [],
   "source": [
    "df_llama_rq2_male = pd.read_csv(\n",
    "    r'C:\\Users\\Sten\\Documents\\EUR BIM\\thesis\\data\\data\\llama2_texts_2_male_raw.csv',\n",
    "    header=None,\n",
    "    names=['text'],\n",
    "    delimiter=';'\n",
    ")\n",
    "\n",
    "df_llama_rq2_male['text'] = df_llama_rq2_male['text'].str.replace(r'^\\d+\\.\\s*', '', regex=True)\n",
    "df_llama_rq2_male = df_llama_rq2_male[df_llama_rq2_male['text'] != '---'].reset_index()\n",
    "df_llama_rq2_male =  df_llama_rq2_male.groupby(df_llama_rq2_male.index // 25)['text'].apply(lambda x: ' '.join(x)).reset_index()\n",
    "df_llama_rq2_male.columns = ['author', 'text']\n",
    "df_llama_rq2_male =  df_llama_rq2_male.drop(columns=['author'])"
   ]
  },
  {
   "cell_type": "code",
   "execution_count": 31,
   "metadata": {},
   "outputs": [],
   "source": [
    "df_llama_rq2_male.to_csv(r'C:\\Users\\Sten\\Documents\\EUR BIM\\thesis\\data\\data\\llama2_male.csv', index=False)"
   ]
  },
  {
   "cell_type": "code",
   "execution_count": 13,
   "metadata": {},
   "outputs": [],
   "source": [
    "df_llama_rq2_female = pd.read_csv(\n",
    "    r'C:\\Users\\Sten\\Documents\\EUR BIM\\thesis\\data\\data\\llama2_texts_2_female_raw.csv',\n",
    "    header=None,\n",
    "    names=['text'],\n",
    "    delimiter=';'\n",
    ")\n",
    "\n",
    "df_llama_rq2_female['text'] = df_llama_rq2_female['text'].str.replace(r'^\\d+\\.\\s*', '', regex=True)\n",
    "df_llama_rq2_female = df_llama_rq2_female[df_llama_rq2_female['text'] != '---'].reset_index()\n",
    "df_llama_rq2_female =  df_llama_rq2_female.groupby(df_llama_rq2_female.index // 25)['text'].apply(lambda x: ' '.join(x)).reset_index()\n",
    "df_llama_rq2_female.columns = ['author', 'text']\n",
    "df_llama_rq2_female =  df_llama_rq2_female.drop(columns=['author'])"
   ]
  },
  {
   "cell_type": "code",
   "execution_count": 32,
   "metadata": {},
   "outputs": [],
   "source": [
    "df_llama_rq2_female.to_csv(r'C:\\Users\\Sten\\Documents\\EUR BIM\\thesis\\data\\data\\llama2_female.csv', index=False)"
   ]
  },
  {
   "cell_type": "code",
   "execution_count": 19,
   "metadata": {},
   "outputs": [],
   "source": [
    "df_llama_rq2_18_24 = pd.read_csv(\n",
    "    r'C:\\Users\\Sten\\Documents\\EUR BIM\\thesis\\data\\data\\llama2_texts_2_18_24_raw.csv',\n",
    "    header=None,\n",
    "    names=['text'],\n",
    "    delimiter=';'\n",
    ")\n",
    "\n",
    "df_llama_rq2_18_24['text'] = df_llama_rq2_18_24['text'].str.replace(r'^\\d+\\.\\s*', '', regex=True)\n",
    "df_llama_rq2_18_24 = df_llama_rq2_18_24[df_llama_rq2_18_24['text'] != '---'].reset_index()\n",
    "df_llama_rq2_18_24 =  df_llama_rq2_18_24.groupby(df_llama_rq2_18_24.index // 25)['text'].apply(lambda x: ' '.join(x)).reset_index()\n",
    "df_llama_rq2_18_24.columns = ['author', 'text']\n",
    "df_llama_rq2_18_24 =  df_llama_rq2_18_24.drop(columns=['author'])"
   ]
  },
  {
   "cell_type": "code",
   "execution_count": 33,
   "metadata": {},
   "outputs": [],
   "source": [
    "df_llama_rq2_18_24.to_csv(r'C:\\Users\\Sten\\Documents\\EUR BIM\\thesis\\data\\data\\llama2_18_24.csv', index=False)"
   ]
  },
  {
   "cell_type": "code",
   "execution_count": 22,
   "metadata": {},
   "outputs": [],
   "source": [
    "df_llama_rq2_25_34 = pd.read_csv(\n",
    "    r'C:\\Users\\Sten\\Documents\\EUR BIM\\thesis\\data\\data\\llama2_texts_2_25_34_raw.csv',\n",
    "    header=None,\n",
    "    names=['text'],\n",
    "    delimiter=';'\n",
    ")\n",
    "\n",
    "df_llama_rq2_25_34['text'] = df_llama_rq2_25_34['text'].str.replace(r'^\\d+\\.\\s*', '', regex=True)\n",
    "df_llama_rq2_25_34 = df_llama_rq2_25_34[df_llama_rq2_25_34['text'] != '---'].reset_index()\n",
    "df_llama_rq2_25_34 =  df_llama_rq2_25_34.groupby(df_llama_rq2_25_34.index // 25)['text'].apply(lambda x: ' '.join(x)).reset_index()\n",
    "df_llama_rq2_25_34.columns = ['author', 'text']\n",
    "df_llama_rq2_25_34 =  df_llama_rq2_25_34.drop(columns=['author'])"
   ]
  },
  {
   "cell_type": "code",
   "execution_count": 34,
   "metadata": {},
   "outputs": [],
   "source": [
    "df_llama_rq2_25_34.to_csv(r'C:\\Users\\Sten\\Documents\\EUR BIM\\thesis\\data\\data\\llama2_25_34.csv', index=False)"
   ]
  },
  {
   "cell_type": "code",
   "execution_count": 25,
   "metadata": {},
   "outputs": [],
   "source": [
    "df_llama_rq2_35_49 = pd.read_csv(\n",
    "    r'C:\\Users\\Sten\\Documents\\EUR BIM\\thesis\\data\\data\\llama2_texts_2_35_49_raw.csv',\n",
    "    header=None,\n",
    "    names=['text'],\n",
    "    delimiter=';'\n",
    ")\n",
    "\n",
    "df_llama_rq2_35_49['text'] = df_llama_rq2_35_49['text'].str.replace(r'^\\d+\\.\\s*', '', regex=True)\n",
    "df_llama_rq2_35_49 = df_llama_rq2_35_49[df_llama_rq2_35_49['text'] != '---'].reset_index()\n",
    "df_llama_rq2_35_49 =  df_llama_rq2_35_49.groupby(df_llama_rq2_35_49.index // 25)['text'].apply(lambda x: ' '.join(x)).reset_index()\n",
    "df_llama_rq2_35_49.columns = ['author', 'text']\n",
    "df_llama_rq2_35_49 =  df_llama_rq2_35_49.drop(columns=['author'])"
   ]
  },
  {
   "cell_type": "code",
   "execution_count": 35,
   "metadata": {},
   "outputs": [],
   "source": [
    "df_llama_rq2_35_49.to_csv(r'C:\\Users\\Sten\\Documents\\EUR BIM\\thesis\\data\\data\\llama2_35_49.csv', index=False)"
   ]
  },
  {
   "cell_type": "code",
   "execution_count": 28,
   "metadata": {},
   "outputs": [],
   "source": [
    "df_llama_rq2_50 = pd.read_csv(\n",
    "    r'C:\\Users\\Sten\\Documents\\EUR BIM\\thesis\\data\\data\\llama2_texts_2_50_raw.csv',\n",
    "    header=None,\n",
    "    names=['text'],\n",
    "    delimiter=';'\n",
    ")\n",
    "\n",
    "df_llama_rq2_50['text'] = df_llama_rq2_50['text'].str.replace(r'^\\d+\\.\\s*', '', regex=True)\n",
    "df_llama_rq2_50 = df_llama_rq2_50[df_llama_rq2_50['text'] != '---'].reset_index()\n",
    "df_llama_rq2_50 =  df_llama_rq2_50.groupby(df_llama_rq2_50.index // 25)['text'].apply(lambda x: ' '.join(x)).reset_index()\n",
    "df_llama_rq2_50.columns = ['author', 'text']\n",
    "df_llama_rq2_50 =  df_llama_rq2_50.drop(columns=['author'])"
   ]
  },
  {
   "cell_type": "code",
   "execution_count": 36,
   "metadata": {},
   "outputs": [],
   "source": [
    "df_llama_rq2_50.to_csv(r'C:\\Users\\Sten\\Documents\\EUR BIM\\thesis\\data\\data\\llama2_50.csv', index=False)"
   ]
  },
  {
   "cell_type": "markdown",
   "metadata": {},
   "source": [
    "## RQ3"
   ]
  },
  {
   "cell_type": "code",
   "execution_count": 46,
   "metadata": {},
   "outputs": [],
   "source": [
    "df_llama_rq3_male = pd.read_csv(\n",
    "    r'C:\\Users\\Sten\\Documents\\EUR BIM\\thesis\\data\\data\\llama3_male_raw.csv',\n",
    "    header=None,\n",
    "    names=['text'],\n",
    "    delimiter=';'\n",
    ")\n",
    "\n",
    "df_llama_rq3_male['text'] = df_llama_rq3_male['text'].str.replace(r'^\\d+\\.\\s*', '', regex=True)\n",
    "df_llama_rq3_male = df_llama_rq3_male[df_llama_rq3_male['text'] != '---'].reset_index()\n",
    "df_llama_rq3_male =  df_llama_rq3_male.groupby(df_llama_rq3_male.index // 25)['text'].apply(lambda x: ' '.join(x)).reset_index()\n",
    "df_llama_rq3_male.columns = ['author', 'text']\n",
    "df_llama_rq3_male =  df_llama_rq3_male.drop(columns=['author'])"
   ]
  },
  {
   "cell_type": "code",
   "execution_count": 47,
   "metadata": {},
   "outputs": [],
   "source": [
    "df_llama_rq3_male.to_csv(r'C:\\Users\\Sten\\Documents\\EUR BIM\\thesis\\data\\data\\llama3_male.csv', index=False)"
   ]
  },
  {
   "cell_type": "code",
   "execution_count": 48,
   "metadata": {},
   "outputs": [],
   "source": [
    "df_llama_rq3_female = pd.read_csv(\n",
    "    r'C:\\Users\\Sten\\Documents\\EUR BIM\\thesis\\data\\data\\llama3_female_raw.csv',\n",
    "    header=None,\n",
    "    names=['text'],\n",
    "    delimiter=';'\n",
    ")\n",
    "\n",
    "df_llama_rq3_female['text'] = df_llama_rq3_female['text'].str.replace(r'^\\d+\\.\\s*', '', regex=True)\n",
    "df_llama_rq3_female = df_llama_rq3_female[df_llama_rq3_female['text'] != '---'].reset_index()\n",
    "df_llama_rq3_female =  df_llama_rq3_female.groupby(df_llama_rq3_female.index // 25)['text'].apply(lambda x: ' '.join(x)).reset_index()\n",
    "df_llama_rq3_female.columns = ['author', 'text']\n",
    "df_llama_rq3_female =  df_llama_rq3_female.drop(columns=['author'])"
   ]
  },
  {
   "cell_type": "code",
   "execution_count": 49,
   "metadata": {},
   "outputs": [],
   "source": [
    "df_llama_rq3_female.to_csv(r'C:\\Users\\Sten\\Documents\\EUR BIM\\thesis\\data\\data\\llama3_female.csv', index=False)"
   ]
  },
  {
   "cell_type": "code",
   "execution_count": 44,
   "metadata": {},
   "outputs": [],
   "source": [
    "df_llama_rq3_18_24 = pd.read_csv(\n",
    "    r'C:\\Users\\Sten\\Documents\\EUR BIM\\thesis\\data\\data\\llama3_18_24_raw.csv',\n",
    "    header=None,\n",
    "    names=['text'],\n",
    "    delimiter=';'\n",
    ")\n",
    "\n",
    "df_llama_rq3_18_24['text'] = df_llama_rq3_18_24['text'].str.replace(r'^\\d+\\.\\s*', '', regex=True)\n",
    "df_llama_rq3_18_24 = df_llama_rq3_18_24[df_llama_rq3_18_24['text'] != '---'].reset_index()\n",
    "df_llama_rq3_18_24 =  df_llama_rq3_18_24.groupby(df_llama_rq3_18_24.index // 25)['text'].apply(lambda x: ' '.join(x)).reset_index()\n",
    "df_llama_rq3_18_24.columns = ['author', 'text']\n",
    "df_llama_rq3_18_24 =  df_llama_rq3_18_24.drop(columns=['author'])"
   ]
  },
  {
   "cell_type": "code",
   "execution_count": 54,
   "metadata": {},
   "outputs": [],
   "source": [
    "df_llama_rq3_18_24.to_csv(r'C:\\Users\\Sten\\Documents\\EUR BIM\\thesis\\data\\data\\llama3_18_24.csv', index=False)"
   ]
  },
  {
   "cell_type": "code",
   "execution_count": 59,
   "metadata": {},
   "outputs": [],
   "source": [
    "df_llama_rq3_25_34 = pd.read_csv(\n",
    "    r'C:\\Users\\Sten\\Documents\\EUR BIM\\thesis\\data\\data\\llama3_25_34_raw.csv',\n",
    "    header=None,\n",
    "    names=['text'],\n",
    "    delimiter=';'\n",
    ")\n",
    "\n",
    "df_llama_rq3_25_34['text'] = df_llama_rq3_25_34['text'].str.replace(r'^\\d+\\.\\s*', '', regex=True)\n",
    "df_llama_rq3_25_34 = df_llama_rq3_25_34[df_llama_rq3_25_34['text'] != '---'].reset_index()\n",
    "df_llama_rq3_25_34 =  df_llama_rq3_25_34.groupby(df_llama_rq3_25_34.index // 25)['text'].apply(lambda x: ' '.join(x)).reset_index()\n",
    "df_llama_rq3_25_34.columns = ['author', 'text']\n",
    "df_llama_rq3_25_34 =  df_llama_rq3_25_34.drop(columns=['author'])"
   ]
  },
  {
   "cell_type": "code",
   "execution_count": 61,
   "metadata": {},
   "outputs": [],
   "source": [
    "df_llama_rq3_25_34.to_csv(r'C:\\Users\\Sten\\Documents\\EUR BIM\\thesis\\data\\data\\llama3_25_34.csv', index=False)"
   ]
  },
  {
   "cell_type": "code",
   "execution_count": 62,
   "metadata": {},
   "outputs": [],
   "source": [
    "df_llama_rq3_35_49 = pd.read_csv(\n",
    "    r'C:\\Users\\Sten\\Documents\\EUR BIM\\thesis\\data\\data\\llama3_35_49_raw.csv',\n",
    "    header=None,\n",
    "    names=['text'],\n",
    "    delimiter=';'\n",
    ")\n",
    "\n",
    "df_llama_rq3_35_49['text'] = df_llama_rq3_35_49['text'].str.replace(r'^\\d+\\.\\s*', '', regex=True)\n",
    "df_llama_rq3_35_49 = df_llama_rq3_35_49[df_llama_rq3_35_49['text'] != '---'].reset_index()\n",
    "df_llama_rq3_35_49 =  df_llama_rq3_35_49.groupby(df_llama_rq3_35_49.index // 25)['text'].apply(lambda x: ' '.join(x)).reset_index()\n",
    "df_llama_rq3_35_49.columns = ['author', 'text']\n",
    "df_llama_rq3_35_49 =  df_llama_rq3_35_49.drop(columns=['author'])"
   ]
  },
  {
   "cell_type": "code",
   "execution_count": 65,
   "metadata": {},
   "outputs": [],
   "source": [
    "df_llama_rq3_35_49.to_csv(r'C:\\Users\\Sten\\Documents\\EUR BIM\\thesis\\data\\data\\llama3_35_49.csv', index=False)"
   ]
  },
  {
   "cell_type": "code",
   "execution_count": 66,
   "metadata": {},
   "outputs": [],
   "source": [
    "df_llama_rq3_50 = pd.read_csv(\n",
    "    r'C:\\Users\\Sten\\Documents\\EUR BIM\\thesis\\data\\data\\llama3_50_raw.csv',\n",
    "    header=None,\n",
    "    names=['text'],\n",
    "    delimiter=';'\n",
    ")\n",
    "\n",
    "df_llama_rq3_50['text'] = df_llama_rq3_50['text'].str.replace(r'^\\d+\\.\\s*', '', regex=True)\n",
    "df_llama_rq3_50 = df_llama_rq3_50[df_llama_rq3_50['text'] != '---'].reset_index()\n",
    "df_llama_rq3_50 =  df_llama_rq3_50.groupby(df_llama_rq3_50.index // 25)['text'].apply(lambda x: ' '.join(x)).reset_index()\n",
    "df_llama_rq3_50.columns = ['author', 'text']\n",
    "df_llama_rq3_50 =  df_llama_rq3_50.drop(columns=['author'])"
   ]
  },
  {
   "cell_type": "code",
   "execution_count": 68,
   "metadata": {},
   "outputs": [],
   "source": [
    "df_llama_rq3_50.to_csv(r'C:\\Users\\Sten\\Documents\\EUR BIM\\thesis\\data\\data\\llama3_50.csv', index=False)"
   ]
  }
 ],
 "metadata": {
  "kernelspec": {
   "display_name": "Python 3",
   "language": "python",
   "name": "python3"
  },
  "language_info": {
   "codemirror_mode": {
    "name": "ipython",
    "version": 3
   },
   "file_extension": ".py",
   "mimetype": "text/x-python",
   "name": "python",
   "nbconvert_exporter": "python",
   "pygments_lexer": "ipython3",
   "version": "3.9.16"
  }
 },
 "nbformat": 4,
 "nbformat_minor": 2
}
